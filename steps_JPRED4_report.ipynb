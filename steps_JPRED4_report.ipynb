{
 "cells": [
  {
   "cell_type": "markdown",
   "metadata": {},
   "source": [
    "# Generating the Blind Set\n",
    "\n",
    "### 1. Downloading Data from the PDB\n",
    "\n",
    "Checked the boxes \"Entry ID\",\"Sequence\",\"Entity Polymer Type\",\"Chain ID\",\"Entry Id (Polymer Entity Identifiers)\".\n",
    "\n",
    "[here the link to my search](https://www.rcsb.org/search?request=%7B%22query%22%3A%7B%22type%22%3A%22group%22%2C%22logical_operator%22%3A%22and%22%2C%22nodes%22%3A%5B%7B%22type%22%3A%22group%22%2C%22logical_operator%22%3A%22and%22%2C%22nodes%22%3A%5B%7B%22type%22%3A%22group%22%2C%22logical_operator%22%3A%22and%22%2C%22nodes%22%3A%5B%7B%22type%22%3A%22terminal%22%2C%22service%22%3A%22text%22%2C%22parameters%22%3A%7B%22operator%22%3A%22greater%22%2C%22negation%22%3Afalse%2C%22value%22%3A%222015-01-31T00%3A00%3A00Z%22%2C%22attribute%22%3A%22rcsb_accession_info.deposit_date%22%7D%2C%22node_id%22%3A0%7D%2C%7B%22type%22%3A%22terminal%22%2C%22service%22%3A%22text%22%2C%22parameters%22%3A%7B%22operator%22%3A%22exact_match%22%2C%22negation%22%3Afalse%2C%22value%22%3A%22X-RAY%20DIFFRACTION%22%2C%22attribute%22%3A%22exptl.method%22%7D%2C%22node_id%22%3A1%7D%2C%7B%22type%22%3A%22terminal%22%2C%22service%22%3A%22text%22%2C%22parameters%22%3A%7B%22operator%22%3A%22less_or_equal%22%2C%22negation%22%3Afalse%2C%22value%22%3A2.5%2C%22attribute%22%3A%22rcsb_entry_info.resolution_combined%22%7D%2C%22node_id%22%3A2%7D%2C%7B%22type%22%3A%22group%22%2C%22logical_operator%22%3A%22or%22%2C%22nodes%22%3A%5B%7B%22type%22%3A%22terminal%22%2C%22service%22%3A%22text%22%2C%22parameters%22%3A%7B%22operator%22%3A%22exact_match%22%2C%22negation%22%3Afalse%2C%22value%22%3A%22Protein%20(only)%22%2C%22attribute%22%3A%22rcsb_entry_info.selected_polymer_entity_types%22%7D%2C%22node_id%22%3A3%7D%2C%7B%22type%22%3A%22terminal%22%2C%22service%22%3A%22text%22%2C%22parameters%22%3A%7B%22operator%22%3A%22exact_match%22%2C%22negation%22%3Afalse%2C%22value%22%3A%22Protein%2FNA%22%2C%22attribute%22%3A%22rcsb_entry_info.selected_polymer_entity_types%22%7D%2C%22node_id%22%3A4%7D%5D%7D%2C%7B%22type%22%3A%22terminal%22%2C%22service%22%3A%22text%22%2C%22parameters%22%3A%7B%22operator%22%3A%22range_closed%22%2C%22negation%22%3Afalse%2C%22value%22%3A%5B50%2C300%5D%2C%22attribute%22%3A%22entity_poly.rcsb_sample_sequence_length%22%7D%2C%22node_id%22%3A5%7D%5D%7D%5D%2C%22label%22%3A%22text%22%7D%5D%2C%22label%22%3A%22query-builder%22%7D%2C%22return_type%22%3A%22entry%22%2C%22request_options%22%3A%7B%22pager%22%3A%7B%22start%22%3A0%2C%22rows%22%3A100%7D%2C%22scoring_strategy%22%3A%22combined%22%2C%22sort%22%3A%5B%7B%22sort_by%22%3A%22score%22%2C%22direction%22%3A%22desc%22%7D%5D%7D%2C%22request_info%22%3A%7B%22src%22%3A%22ui%22%2C%22query_id%22%3A%22dc19df09287d4c5a80018000a03e2a6d%22%7D%7D)\n",
    "\n",
    "* Downloaded as CSV \n",
    "\n",
    "For some reason it automatically adds \"Entry ID\" as column 1. Whenever there is another chain of the same ID the first line of col 1 will be empty --> removed it using awk:"
   ]
  },
  {
   "cell_type": "code",
   "execution_count": 3,
   "metadata": {},
   "outputs": [
    {
     "name": "stdout",
     "output_type": "stream",
     "text": [
      "\"Entry ID\",\"Sequence\",\"Entity Polymer Type\",\"Chain ID\",\"Entry Id (Polymer Entity Identifiers)\",\n",
      "\"5EV3\",\"GSQMTRQARRLYVGNIPFGITEEAMMDFFNAQMRLGGLTQAPGNPVLAVQINQDKNFAFLEFRSVDETTQAMAFDGIIFQGQSLKIRRPHDYQPLPGMSENPSVYVPGVVSTVVPDSAHKLFIGGLPNYLNDDQVKELLTSFGPLKAFNLVKDSATGLSKGYAFCEYVDINVTDQAIAGLNGMQLGDKKLLVQRASVGAKN\",\"Protein\",\"A\",\"5EV3\",\n",
      ",\"UUUUUUUU\",\"NA-hybrid\",\"B\",\"5EV3\",\n",
      "\"5EV2\",\"GSQMTRQARRLYVGNIPFGITEEAMMDFFNAQMRLGGLTQAPGNPVLAVQINQDKNFAFLEFRSVDETTQAMAFDGIIFQGQSLKIRRPHDYQPLPGMSENPSVYVPGVVSTVVPDSAHKLFIGGLPNYLNDDQVKELLTSFGPLKAFNLVKDSATGLSKGYAFCEYVDINVTDQAIAGLNGMQLGDKKLLVQRASVGAKN\",\"Protein\",\"A\",\"5EV2\",\n",
      ",\"UUUUUUUU\",\"NA-hybrid\",\"B\",\"5EV2\",\n",
      "\"5EV4\",\"GSQMTRQARRLYVGNIPFGITEEAMMDFFNAQMRLGGLTQAPGNPVLAVQINQDKNFAFLEFRSVDETTQAMAFDGIIFQGQSLKIRRPHDYQPLPGMSENPSVYVPGVVSTVVPDSAHKLFIGGLPNYLNDDQVKELLTSFGPLKAFNLVKDSATGLSKGYAFCEYVDINVTDQAIAGLNGMQLGDKKLLVQRASVGAKN\",\"Protein\",\"A\",\"5EV4\",\n"
     ]
    }
   ],
   "source": [
    "head -6 1.csv "
   ]
  },
  {
   "cell_type": "code",
   "execution_count": 5,
   "metadata": {},
   "outputs": [],
   "source": [
    "for i in {1..5}\n",
    "do\n",
    "    cat ${i}.csv | awk '{sub(/[^,]*/,\"\");sub(/,/,\"\")} 1' > ${i}new.csv \n",
    "done"
   ]
  },
  {
   "cell_type": "code",
   "execution_count": 8,
   "metadata": {},
   "outputs": [
    {
     "name": "stdout",
     "output_type": "stream",
     "text": [
      "\"Sequence\",\"Entity Polymer Type\",\"Chain ID\",\"Entry Id (Polymer Entity Identifiers)\",\n",
      "\"MALVDGFLELERSSGKLEWSAILQKMASDLGFSKILFGLLPKDSQDYENAFIVGNYPAAWREHYDRAGYARVDPTVSHCTQSVLPIFWEPSIYQTRKQHEFFEEASAAGLVYGLTMPLHGARGELGALSLSVEAENRAEANRFMESVLPTLWMLKDYALQSGAGLAFEHPVSKPVVLTSREKEVLQWCAIGKTSWEISVICNCSEANVNFHMGNIRRKFGVTSRRVAAIMAVNLGLITL\",\"Protein\",\"A, B\",\"6MWL\",\n",
      "\"SVAHGLAWSYYIGYLRLILPELQARIRTYNQHYNNLLRGAVSQRLYILLPLDCGVPDNLSMADPNIRFLDKLPQQTADRAGIKDRVYSNSIYELLENGQRAGTCVLEYATPLQTLFAMSQYSQAGFSREDRLEQAKLFCQTLEDILADAPESQNNCRLIAYQEPADDSSFSLSQEVLRHLRQEEKEEV\",\"Protein\",\"A, B\",\"6MX0\",\n",
      "\"MKLVWTLSSWDDYEFWQRTDARMVEKINDLIRNAKRTPFAGLGKPEPLKGDMAGYWSRRITAEHRFVYRVSGSGSEQRLEVIQCRFHYQLEVLFQ\",\"Protein\",\"A, B\",\"6N90\",\n",
      "\"MDYKDDDDKGSLVPRGSHMYLRITNIVESSFFTKFIIYLIVLNGITMGLETSKTFMQSFGVYTTLFNQIVITIFTIEIILRIYVHRISFFKDPWSLFDFFVVAISLVPTSSGFEILRVLRVLRLFRLVTAVPQMRKIVSALISVIPGMLSVIALMTLFFYIFAIMATQLFGERFPEWFGTLGESFYTLFQVMTLESWSMGIVRPLMEVYPYAWVFFIPFIFVVTFVMINLVVAIIVDAMAILNQKEEQHIIDEVQSH\",\"Protein\",\"B\",\"6MWA\",\n"
     ]
    }
   ],
   "source": [
    "head -5 4new.csv #now it looks like this"
   ]
  },
  {
   "cell_type": "markdown",
   "metadata": {},
   "source": [
    "### 2. Generating the FASTA\n",
    "\n",
    "First I need to be aware that some of the chains are nucleic acids (\"NA-hybrid\").\n",
    "\n",
    "Remove all lines containing\n",
    "*  \"NA-hybrid\" \n",
    "*  \"DNA\"\n",
    "*  \"RNA\"\n",
    "\n",
    "to obtain protein sequences only!\n",
    "\n",
    "```  sed -n '/Protein/p' ./filename \n"
   ]
  },
  {
   "cell_type": "code",
   "execution_count": 10,
   "metadata": {},
   "outputs": [],
   "source": [
    "# Removing all lines that do NOT contain \"Protein\" --> this removes the header too!\n",
    "head -1 1new.csv > aa_only.csv # Adding correct header to top of file that will be appended all \"Protein\" lines\n",
    "\n",
    "for i in {1..5} # Appending only lines containing word \"Protein\"\n",
    "do\n",
    "    sed -n '/Protein/p' ${i}new.csv >> aa_only.csv \n",
    "done"
   ]
  },
  {
   "cell_type": "code",
   "execution_count": 11,
   "metadata": {},
   "outputs": [
    {
     "name": "stdout",
     "output_type": "stream",
     "text": [
      "\"Sequence\",\"Entity Polymer Type\",\"Chain ID\",\"Entry Id (Polymer Entity Identifiers)\",\n",
      "\"GSQMTRQARRLYVGNIPFGITEEAMMDFFNAQMRLGGLTQAPGNPVLAVQINQDKNFAFLEFRSVDETTQAMAFDGIIFQGQSLKIRRPHDYQPLPGMSENPSVYVPGVVSTVVPDSAHKLFIGGLPNYLNDDQVKELLTSFGPLKAFNLVKDSATGLSKGYAFCEYVDINVTDQAIAGLNGMQLGDKKLLVQRASVGAKN\",\"Protein\",\"A\",\"5EV3\",\n",
      "\"GSQMTRQARRLYVGNIPFGITEEAMMDFFNAQMRLGGLTQAPGNPVLAVQINQDKNFAFLEFRSVDETTQAMAFDGIIFQGQSLKIRRPHDYQPLPGMSENPSVYVPGVVSTVVPDSAHKLFIGGLPNYLNDDQVKELLTSFGPLKAFNLVKDSATGLSKGYAFCEYVDINVTDQAIAGLNGMQLGDKKLLVQRASVGAKN\",\"Protein\",\"A\",\"5EV2\",\n",
      "\"GSQMTRQARRLYVGNIPFGITEEAMMDFFNAQMRLGGLTQAPGNPVLAVQINQDKNFAFLEFRSVDETTQAMAFDGIIFQGQSLKIRRPHDYQPLPGMSENPSVYVPGVVSTVVPDSAHKLFIGGLPNYLNDDQVKELLTSFGPLKAFNLVKDSATGLSKGYAFCEYVDINVTDQAIAGLNGMQLGDKKLLVQRASVGAKN\",\"Protein\",\"A\",\"5EV4\",\n",
      "\"SLRSDLINALYDENQKYDVCGIISAEGKIYPLGSDTKVLSTIFELFSRPIINKIAEKHGYIVEEPKQQNHYPDFTLYKPSEPNKKIAIDIKTTYTNKENEKIKFTLGGYTSFIRNNTKNIVYPFDQYIAHWIIGYVYTRVATRKSSLKTYNINELNEIPKPYKGVKVFLQDKWVIAGDLAGSGNTTNIGSIHAHYKDFVEGKGIFDSEDEFLDYWRNYERTSQLRNDKYNNISEYRNWIYRGRK\",\"Protein\",\"A, B\",\"5F8A\",\n",
      "\"MAVLAESELGSEAQRERRKRILDATMAIASKGGYEAVQMRAVADRADVAVGTLYRYFPSKVHLLVSALGREFSRIDAKTDRSAVAGATPFQRLNFMVGKLNRAMQRNPLLTEAMTRAYVFADASAASEVDQVEKLIDSMFARAMANGEPTEDQYHIARVISDVWLSNLLAWLTRRASATDVSKRLDLAVRLLIGDQDSAHHHHHH\",\"Protein\",\"A, B\",\"5FMP\",\n",
      "\"GAASMDKKYSIGLAIGTNSVGWAVITDEYKVPSKKFKVLGNTDRHSIKKNLIGALLFDSGETAEATRLKRTARRRYTRRKNRICYLQEIFSNEMAKVDDSFFHRLEESFLVEEDKKHERHPIFGNIVDEVAYHEKYPTIYHLRKKLVDSTDKADLRLIYLALAHMIKFRGHFLIEGDLNPDNSDVDKLFIQLVQTYNQLFEENPINASGVDAKAILSARLSKSRRLENLIAQLPGEKKNGLFGNLIALSLGLTPNFKSNFDLAEDAKLQLSKDTYDDDLDNLLAQIGDQYADLFLAAKNLSDAILLSDILRVNTEITKAPLSASMIKRYDEHHQDLTLLKALVRQQLPEKYKEIFFDQSKNGYAGYIDGGASQEEFYKFIKPILEKMDGTEELLVKLNREDLLRKQRTFDNGSIPHQIHLGELHAILRRQEDFYPFLKDNREKIEKILTFRIPYYVGPLARGNSRFAWMTRKSEETITPWNFEEVVDKGASAQSFIERMTNFDKNLPNEKVLPKHSLLYEYFTVYNELTKVKYVTEGMRKPAFLSGEQKKAIVDLLFKTNRKVTVKQLKEDYFKKIECFDSVEISGVEDRFNASLGTYHDLLKIIKDKDFLDNEENEDILEDIVLTLTLFEDREMIEERLKTYAHLFDDKVMKQLKRRRYTGWGRLSRKLINGIRDKQSGKTILDFLKSDGFANRNFMQLIHDDSLTFKEDIQKAQVSGQGDSLHEHIANLAGSPAIKKGILQTVKVVDELVKVMGRHKPENIVIEMARENQTTQKGQKNSRERMKRIEEGIKELGSQILKEHPVENTQLQNEKLYLYYLQNGRDMYVDQELDINRLSDYDVDAIVPQSFLKDDSIDNKVLTRSDKNRGKSDNVPSEEVVKKMKNYWRQLLNAKLITQRKFDNLTKAERGGLSELDKAGFIKRQLVETRQITKHVAQILDSRMNTKYDENDKLIREVKVITLKSKLVSDFRKDFQFYKVREINNYHHAHDAYLNAVVGTALIKKYPKLESEFVYGDYKVYDVRKMIAKSEQEIGKATAKYFFYSNIMNFFKTEITLANGEIRKRPLIETNGETGEIVWDKGRDFATVRKVLSMPQVNIVKKTEVQTGGFSKESILPKRNSDKLIARKKDWDPKKYGGFDSPTVAYSVLVVAKVEKGKSKKLKSVKELLGITIMERSSFEKNPIDFLEAKGYKEVKKDLIIKLPKYSLFELENGRKRMLASAGELQKGNELALPSKYVNFLYLASHYEKLKGSPEDNEQKQLFVEQHKHYLDEIIEQISEFSKRVILADANLDKVLSAYNKHRDKPIREQAENIIHLFTLTNLGAPAAFKYFDTTIDRKRYTSTKEVLDATLIHQSITGLYETRIDLSQLGGD\",\"Protein\",\"B\",\"5FQ5\",\n",
      "\"MAPKCIECHINIEMDPVLHDVFKLQVCKQCSKEHPEKYALLTKTECKEDYFLTDPELNDEDLFHRLEKPNPHSGTFARMQLFVRCEVEAFAFKKWGGEEGLDEEWQRREEGKAHRREKKYGSAWSHPQFEK\",\"Protein\",\"A, B\",\"5G32\",\n",
      "\"MAPKCIECHINIEMDPVLHDVFKLQVCKQCSKEHPEKYALLTKTECKEDYFLTDPELNDEDLFHRLEKPNPHSGTFARMQLFVRCEVEAFAFKKWGGEEGLDEEWQRREEGKAHRREKKYGSAWSHPQFEK\",\"Protein\",\"A, B\",\"5G34\",\n",
      "\"MAPKCIECHINIEMDPVLHDVFKLQVCKQCSKEHPEKYALLTKTECKEDYFLTDPELNDEDLFHRLEKPNPHSGTFARMQLFVRCEVEAFAFKKWGGEEGLDEEWQRREEGKAHRREKKYGSAWSHPQFEK\",\"Protein\",\"A, B\",\"5G33\",\n"
     ]
    }
   ],
   "source": [
    "head aa_only.csv"
   ]
  },
  {
   "cell_type": "code",
   "execution_count": 12,
   "metadata": {},
   "outputs": [
    {
     "name": "stdout",
     "output_type": "stream",
     "text": [
      "   29638\n"
     ]
    }
   ],
   "source": [
    "grep \"Protein\" aa_only.csv | wc -l"
   ]
  },
  {
   "cell_type": "markdown",
   "metadata": {},
   "source": [
    "### Switched to python 3 kernel:"
   ]
  },
  {
   "cell_type": "code",
   "execution_count": 1,
   "metadata": {},
   "outputs": [],
   "source": [
    "# Loading relevant packages:\n",
    "\n",
    "import pandas as pd\n",
    "import numpy as np\n",
    "import seaborn as sns\n",
    "# sns.set() #do we really need that\n"
   ]
  },
  {
   "cell_type": "code",
   "execution_count": 4,
   "metadata": {},
   "outputs": [
    {
     "data": {
      "text/html": [
       "<div>\n",
       "<style scoped>\n",
       "    .dataframe tbody tr th:only-of-type {\n",
       "        vertical-align: middle;\n",
       "    }\n",
       "\n",
       "    .dataframe tbody tr th {\n",
       "        vertical-align: top;\n",
       "    }\n",
       "\n",
       "    .dataframe thead th {\n",
       "        text-align: right;\n",
       "    }\n",
       "</style>\n",
       "<table border=\"1\" class=\"dataframe\">\n",
       "  <thead>\n",
       "    <tr style=\"text-align: right;\">\n",
       "      <th></th>\n",
       "      <th>Sequence</th>\n",
       "      <th>Entity Polymer Type</th>\n",
       "      <th>Chain ID</th>\n",
       "      <th>Entry Id (Polymer Entity Identifiers)</th>\n",
       "      <th>Unnamed: 4</th>\n",
       "    </tr>\n",
       "  </thead>\n",
       "  <tbody>\n",
       "    <tr>\n",
       "      <th>0</th>\n",
       "      <td>GSQMTRQARRLYVGNIPFGITEEAMMDFFNAQMRLGGLTQAPGNPV...</td>\n",
       "      <td>Protein</td>\n",
       "      <td>A</td>\n",
       "      <td>5EV3</td>\n",
       "      <td>NaN</td>\n",
       "    </tr>\n",
       "    <tr>\n",
       "      <th>1</th>\n",
       "      <td>GSQMTRQARRLYVGNIPFGITEEAMMDFFNAQMRLGGLTQAPGNPV...</td>\n",
       "      <td>Protein</td>\n",
       "      <td>A</td>\n",
       "      <td>5EV2</td>\n",
       "      <td>NaN</td>\n",
       "    </tr>\n",
       "    <tr>\n",
       "      <th>2</th>\n",
       "      <td>GSQMTRQARRLYVGNIPFGITEEAMMDFFNAQMRLGGLTQAPGNPV...</td>\n",
       "      <td>Protein</td>\n",
       "      <td>A</td>\n",
       "      <td>5EV4</td>\n",
       "      <td>NaN</td>\n",
       "    </tr>\n",
       "    <tr>\n",
       "      <th>3</th>\n",
       "      <td>SLRSDLINALYDENQKYDVCGIISAEGKIYPLGSDTKVLSTIFELF...</td>\n",
       "      <td>Protein</td>\n",
       "      <td>A, B</td>\n",
       "      <td>5F8A</td>\n",
       "      <td>NaN</td>\n",
       "    </tr>\n",
       "    <tr>\n",
       "      <th>4</th>\n",
       "      <td>MAVLAESELGSEAQRERRKRILDATMAIASKGGYEAVQMRAVADRA...</td>\n",
       "      <td>Protein</td>\n",
       "      <td>A, B</td>\n",
       "      <td>5FMP</td>\n",
       "      <td>NaN</td>\n",
       "    </tr>\n",
       "    <tr>\n",
       "      <th>...</th>\n",
       "      <td>...</td>\n",
       "      <td>...</td>\n",
       "      <td>...</td>\n",
       "      <td>...</td>\n",
       "      <td>...</td>\n",
       "    </tr>\n",
       "    <tr>\n",
       "      <th>29633</th>\n",
       "      <td>DVLMTQIPLSLPVSLGDQASISCRSSQNIVHSNGNTYLEWYLQKPG...</td>\n",
       "      <td>Protein</td>\n",
       "      <td>B, L</td>\n",
       "      <td>6SF6</td>\n",
       "      <td>NaN</td>\n",
       "    </tr>\n",
       "    <tr>\n",
       "      <th>29634</th>\n",
       "      <td>PSPCHEKADCILERDGSRS</td>\n",
       "      <td>Protein</td>\n",
       "      <td>C, D</td>\n",
       "      <td>6SF6</td>\n",
       "      <td>NaN</td>\n",
       "    </tr>\n",
       "    <tr>\n",
       "      <th>29635</th>\n",
       "      <td>KVFGRCELAAAMKRHGLDNYRGYSLGNWVCAAKFESNFNTQATNRN...</td>\n",
       "      <td>Protein</td>\n",
       "      <td>A</td>\n",
       "      <td>6SET</td>\n",
       "      <td>NaN</td>\n",
       "    </tr>\n",
       "    <tr>\n",
       "      <th>29636</th>\n",
       "      <td>KVFGRCELAAAMKRHGLDNYRGYSLGNWVCAAKFESNFNTQATNRN...</td>\n",
       "      <td>Protein</td>\n",
       "      <td>A</td>\n",
       "      <td>6SEW</td>\n",
       "      <td>NaN</td>\n",
       "    </tr>\n",
       "    <tr>\n",
       "      <th>29637</th>\n",
       "      <td>VDTKEFLNHQVANLNVFTVKIHQIHWYMRGHNFFTLHEKMDDLYSE...</td>\n",
       "      <td>Protein</td>\n",
       "      <td>A, B, C, D, E, F</td>\n",
       "      <td>6SEV</td>\n",
       "      <td>NaN</td>\n",
       "    </tr>\n",
       "  </tbody>\n",
       "</table>\n",
       "<p>29638 rows × 5 columns</p>\n",
       "</div>"
      ],
      "text/plain": [
       "                                                Sequence Entity Polymer Type  \\\n",
       "0      GSQMTRQARRLYVGNIPFGITEEAMMDFFNAQMRLGGLTQAPGNPV...             Protein   \n",
       "1      GSQMTRQARRLYVGNIPFGITEEAMMDFFNAQMRLGGLTQAPGNPV...             Protein   \n",
       "2      GSQMTRQARRLYVGNIPFGITEEAMMDFFNAQMRLGGLTQAPGNPV...             Protein   \n",
       "3      SLRSDLINALYDENQKYDVCGIISAEGKIYPLGSDTKVLSTIFELF...             Protein   \n",
       "4      MAVLAESELGSEAQRERRKRILDATMAIASKGGYEAVQMRAVADRA...             Protein   \n",
       "...                                                  ...                 ...   \n",
       "29633  DVLMTQIPLSLPVSLGDQASISCRSSQNIVHSNGNTYLEWYLQKPG...             Protein   \n",
       "29634                                PSPCHEKADCILERDGSRS             Protein   \n",
       "29635  KVFGRCELAAAMKRHGLDNYRGYSLGNWVCAAKFESNFNTQATNRN...             Protein   \n",
       "29636  KVFGRCELAAAMKRHGLDNYRGYSLGNWVCAAKFESNFNTQATNRN...             Protein   \n",
       "29637  VDTKEFLNHQVANLNVFTVKIHQIHWYMRGHNFFTLHEKMDDLYSE...             Protein   \n",
       "\n",
       "               Chain ID Entry Id (Polymer Entity Identifiers)  Unnamed: 4  \n",
       "0                     A                                  5EV3         NaN  \n",
       "1                     A                                  5EV2         NaN  \n",
       "2                     A                                  5EV4         NaN  \n",
       "3                  A, B                                  5F8A         NaN  \n",
       "4                  A, B                                  5FMP         NaN  \n",
       "...                 ...                                   ...         ...  \n",
       "29633              B, L                                  6SF6         NaN  \n",
       "29634              C, D                                  6SF6         NaN  \n",
       "29635                 A                                  6SET         NaN  \n",
       "29636                 A                                  6SEW         NaN  \n",
       "29637  A, B, C, D, E, F                                  6SEV         NaN  \n",
       "\n",
       "[29638 rows x 5 columns]"
      ]
     },
     "execution_count": 4,
     "metadata": {},
     "output_type": "execute_result"
    }
   ],
   "source": [
    "df_aa = pd.read_csv(\"aa_only.csv\")\n",
    "df_aa"
   ]
  },
  {
   "cell_type": "code",
   "execution_count": 5,
   "metadata": {},
   "outputs": [
    {
     "data": {
      "text/plain": [
       "array([nan])"
      ]
     },
     "execution_count": 5,
     "metadata": {},
     "output_type": "execute_result"
    }
   ],
   "source": [
    "# Where did the unnamed come from??\n",
    "unnamed = df_aa[\"Unnamed: 4\"] # Maybe trailing comma?\n",
    "unnamed.unique()"
   ]
  },
  {
   "cell_type": "markdown",
   "metadata": {},
   "source": [
    "### Finding unique values in cloumn \"Entity Polymer Type\"\n",
    "I want to find unique values as described [here](https://chrisalbon.com/python/data_wrangling/pandas_list_unique_values_in_column/)\n",
    "\n",
    "This way I can be sure that my cleaning was successful"
   ]
  },
  {
   "cell_type": "code",
   "execution_count": 6,
   "metadata": {},
   "outputs": [
    {
     "data": {
      "text/plain": [
       "array(['Protein'], dtype=object)"
      ]
     },
     "execution_count": 6,
     "metadata": {},
     "output_type": "execute_result"
    }
   ],
   "source": [
    "# Finding unique names in cols\n",
    "pol_type = df_aa['Entity Polymer Type']\n",
    "pol_type.unique() # I am now sure that all DNA and RNA and Protein/NA lines have been removed."
   ]
  },
  {
   "cell_type": "markdown",
   "metadata": {},
   "source": [
    "### Fingin unique values in column \"Chain ID\"\n",
    "\n",
    "This helps me deciding how I will generate the header of my FASTA file.\n",
    "I want to know how long the field of the column might be to include the right ammount of characters after the PDB ID."
   ]
  },
  {
   "cell_type": "code",
   "execution_count": 7,
   "metadata": {},
   "outputs": [
    {
     "data": {
      "text/plain": [
       "array(['A', 'A, B', 'B', 'A, C', 'B, D', 'A, D', 'A, B, C, D, E, F', 'C',\n",
       "       '1D, 2D', '1E, 2E', '1F, 2F', '1G, 2G', '1I, 2I', '1N, 2N',\n",
       "       '1O, 2O', '1P, 2P', '1Q, 2Q', '1R, 2R', '1S, 2S', '1T, 2T',\n",
       "       '1U, 2U', '1V, 2V', '1W, 2W', '1X, 2X', '1Y, 2Y', '1Z, 2Z',\n",
       "       '10, 20', '11, 21', '12, 22', '13, 23', '14, 24', '15, 25',\n",
       "       '16, 26', '17, 27', '18, 28', '19, 29', '1b, 2b', '1c, 2c',\n",
       "       '1d, 2d', '1e, 2e', '1f, 2f', '1g, 2g', '1h, 2h', '1i, 2i',\n",
       "       '1j, 2j', '1k, 2k', '1l, 2l', '1m, 2m', '1n, 2n', '1o, 2o',\n",
       "       '1p, 2p', '1q, 2q', '1r, 2r', '1s, 2s', '1t, 2t', '1u, 2u',\n",
       "       '1y, 2y', '1H, 2H', 'B, F', 'C, G', 'D, H', 'A, E', 'A, D, G',\n",
       "       'A, F, K', 'A, B, C, D', 'J', 'H, I, J', 'B, E', 'B, D, F, H',\n",
       "       'C, D', 'H', 'L', 'P', 'AB, BB', 'AC, BC', 'AD, BD', 'AE, BE',\n",
       "       'AF, BF', 'AG, BG', 'AH, BH', 'AI, BI', 'AJ, BJ', 'AK, BK',\n",
       "       'AL, BL', 'AM, BM', 'AN, BN', 'AO, BO', 'AP, BP', 'AQ, BQ',\n",
       "       'AR, BR', 'AT, BT', 'AU, BU', 'CC, DC', 'CD', 'CE, DE', 'CF, DF',\n",
       "       'CG, DG', 'CH, DH', 'CJ, DJ', 'CK, DK', 'CL, DL', 'CM, DM',\n",
       "       'CN, DN', 'CO, DO', 'CP, DP', 'CQ, DQ', 'CR, DR', 'CT, DT',\n",
       "       'CU, DU', 'CV, DV', 'CW, DW', 'CX, DX', 'CY, DY', 'CZ, DZ',\n",
       "       'C0, D0', 'C1, D1', 'C2, D2', 'C4, D4', 'C5, D5', 'DD', 'DI',\n",
       "       'AS, BS', 'CS, DS', 'C3, D3', 'A, B, C', 'A, C, E', 'A, E, I', 'G',\n",
       "       'A, B, W, X', 'A, B, E, F', 'E, F, I, J, M, N', 'L, l', 'H, h',\n",
       "       'C, F, I', 'B, E, H', 'D', 'A, B, C, D, E, F, G, H, I, J',\n",
       "       'A, B, G, H', 'A, B, E, F, G, H, I, J', 'B, C', 'D, E, F, G, H, I',\n",
       "       'K', 'K, L', 'E, F', 'C, F', 'A, B, D, E',\n",
       "       'A, B, E, G, I, K, M, O', 'Q', 'A, B, C, D, E, F, G, H', 'B, G',\n",
       "       'A, B, C, D, E, F, G, H, I, J, K, L, M, N, O, P, Q, R, S, T, U, V',\n",
       "       'A, B, G, J', 'F', 'A, B, E', 'A, D, H, K', 'B, C, I, J',\n",
       "       'A, D, G, J', 'B, C, H, I', 'A, B, C, D, I, J', 'M, N, O',\n",
       "       'A, B, C, D, E, F, G, H, I', 'E',\n",
       "       'A, B, C, D, E, F, G, H, I, J, K, L, M, N, O, P', 'A, B, C, D, E',\n",
       "       'B, J', 'C, K', 'E, M', 'F, N', 'G, O', 'D, L', 'H, P',\n",
       "       'A, B, C, E, F, G', 'A, B, C, D, I, J, K, L', 'E, F, M, N', 'X',\n",
       "       'B, C, D', 'AAA, BBB, CCC', 'E, F, G, H', 'A, O', 'B, P', 'C, Q',\n",
       "       'D, R', 'E, S', 'F, T', 'G, U', 'H, V', 'I, W', 'J, X', 'K, Y',\n",
       "       'L, Z', 'M, a', 'N, b', 'E, G', 'F, H', 'I, J', 'S, T', 'C, E',\n",
       "       'D, F', 'M', 'E, F, H, L', 'I, J, K, L, M, N, O, P', 'F, G', 'S',\n",
       "       'A, B, C, D, E, F, G',\n",
       "       'A, B, C, D, E, F, G, H, I, J, K, L, M, N, O, P, Q, R, S, T, U',\n",
       "       'A, C, E, G, I, K, M, O', 'B, D, F, H, J, L, N, P',\n",
       "       'A, B, C, D, E, F, G, H, I, J, K, L',\n",
       "       'M, N, O, P, Q, R, S, T, U, V, W, X', 'I', 'A, C, E, G, I', 'D, E',\n",
       "       'P, Q, R, S', 'A, G', 'B, O', 'C, P', 'D, Q', 'E, R', 'F, S',\n",
       "       'H, U', 'I, V', 'J, W', 'K, X', 'L, Y', 'M, Z', '1, 2', 'A, N',\n",
       "       'G, T', 'A, B, D', 'Z', 'A, C, E, G', 'B, D, F', 'Y', 'A, D, I',\n",
       "       'B, C, E', 'C, D, E', 'A, B, E, G', 'C, D, F, H', 'A, F', 'C, H',\n",
       "       'D, I', 'E, J', 'A, C, D', 'F, K, L, M', 'G, H, I, J',\n",
       "       'G, H, I, J, K, L', 'G, H', 'F, G, H, I',\n",
       "       'A, B, C, D, E, F, G, H, I, J, K, L, M, N, O, P, Q, R, S, T, U, V, W, X',\n",
       "       'A, C, E, H', 'B, D, F, L', 'A, E, L, M', 'B, F, H, V', 'A, H',\n",
       "       'B, L', 'A, C, H', 'e, f, g, h', 'c, d, e, f, g, h', 'c, d, e, f',\n",
       "       'c, d', 'W, X, Y, Z', 'L, M', 'B, E, H, K', 'C, F, I, L', 'C, J',\n",
       "       'E, I, X', 'D, E, F', 'H, I', 'P, Q', 'A, C, E, G, I, J, K, L',\n",
       "       'C, D, E, F',\n",
       "       'A1, A2, A3, A4, B1, B2, B3, B4, C1, C2, C3, C4, D1, D2, D3, D4, E1, E2, E3, E4, F1, F2, F3, F4, G1, G2, G3, G4',\n",
       "       'A, B, C, D, E, F, G, H, I, J, K, L, M, N', 'C, D, F', 'I, J, K',\n",
       "       'L, Q', 'E, G, J, L', 'A, C, E, I, K, M, O', 'B, D, F, H, L, N, P',\n",
       "       'E, F, G', 'O', 'a, b', 'A, I', 'G, P', 'E, O', 'G, I', 'H, J',\n",
       "       'M, N',\n",
       "       '1, 2, A, B, C, D, E, F, G, H, I, J, K, L, M, N, O, P, Q, R, S, T, U, V, W, X, Y, Z',\n",
       "       'A, B, C, D, F, G', 'A, B, C, G, I, M', 'D, E, F, H, J, N',\n",
       "       'C, D, G, H', 'B, I', 'A, B, C, D, E, F, G, I, J, K, L',\n",
       "       'A, B, C, E, F, H', 'E, F, G, H, M, N, O, P', 'A, L', 'B, H',\n",
       "       'a, b, c, d', 'A, C, E, G, I, K, M, O, Q',\n",
       "       'B, D, F, H, J, L, N, P, R',\n",
       "       'A, B, C, D, E, F, G, H, I, J, K, L, M, N, O, P, Q, R, S, T, U, V, W, X, Y, Z, a, b, c, d',\n",
       "       'Y, Z', 'A, E, F, I', 'A, a', 'B, b', 'C, c', 'D, d', 'E, e',\n",
       "       'F, f', 'K, k', 'O, o', 'T, t', 'U, u', 'V, v', 'Y, y', 'X, x',\n",
       "       'Z, z', 'I, i', 'J, j', 'A, M, O, Q', 'B, N, P, R',\n",
       "       'C, D, E, F, G, H, I, J, K, L', 'R', 'M, m',\n",
       "       'A, B, C, D, E, F, G, H, I, J, K, L, M, N, O, P, Q, R, T, U, V, W, X, Y, Z, a, b, c, d, e',\n",
       "       'X, Y', 'A, B, E, F, H, K, M, O', 'C, D, G, I, J, L, N, P',\n",
       "       'A, B, D, F, H, K, M, O', 'C, E, G, I, J, L, N, P', 'U, V',\n",
       "       'A, B, D, G, I, K, M, O, Q, S, U, Y',\n",
       "       'C, E, F, H, J, L, N, P, R, T, V, X', 'R, r', 'A1', 'B1',\n",
       "       'A, B, D, F', 'E, O, P', 'N', 'A, B, D, G', 'C, E, F, H',\n",
       "       'E, F, H', 'F, G, H, M', '1', '2', '3', '4', 'T', 'B, C, D, E, F',\n",
       "       'C, D, E, F, G, H', 'A, C, D, G', 'F, K', 'U', 'C, L', 'b',\n",
       "       'A, B, M, N', 'C, D, P, R', 'A, C, E, F', 'B, D, G, H',\n",
       "       'E, F, G, I', 'D, F, H, P', 'A, B, C, D, E, K, L, M, N, O',\n",
       "       'A, B, D, E, F, G', 'A, B, C, D, E, F, G, J',\n",
       "       'A, C, E, G, I, K, M, O, Q, S, U, W',\n",
       "       'B, D, F, H, J, L, N, P, R, T, V, X', 'A, C, E, G, I, K',\n",
       "       'B, D, F, H, J, L', 'e, f',\n",
       "       'A, B, C, D, E, F, G, H, I, J, K, L, M, N, O, P, Q, R',\n",
       "       'A, B, D, G, I', 'C, E, F, H, J', 'A, D, E, J', 'B, F, G, K',\n",
       "       'C, H, I, L', 'E, H', 'L, M, N, P', 'M, N, O, P, R, T',\n",
       "       'A, C, D, E, F', 'A2', 'AAA, BBB, CCC, DDD',\n",
       "       'AAA, BBB, CCC, DDD, EEE', 'AAA, BBB', 'AAA',\n",
       "       'AAA, BBB, CCC, DDD, EEE, FFF, GGG, HHH, III, JJJ', 'BBB',\n",
       "       'B, C, D, E', 'AAA, FFF', 'EEE', 'FFF', 'A, Z', 'H, X', 'CCC',\n",
       "       'DDD', 'A, B, C, D, E, F, H, J, L', 'G, I, K, M, N, O, P, Q, T',\n",
       "       'A, B, C, D, E, F, G, H, I, J, K, L, M, N, O', 'F, H, J, L',\n",
       "       'P, Q, R', 'B, D, L', 'A, E, F, G, K, L', 'B, C, D, H, I, J',\n",
       "       'A, E, K, P', 'B, F, L, N', 'C, H, I, M', 'D, J, O, Q', 'P, R',\n",
       "       'G, K', 'A, C, H, O', 'B, D, I, P', 'E, J, M, N', 'F, G, K, L',\n",
       "       'E, K', 'A, C, L', 'B, D, H', 'A, B, E, F, I, J, M, N',\n",
       "       'B, C, D, E, F, G', 'A, B, C, E', 'T, U', 'F, L', 'Q, S',\n",
       "       'C, F, L', 'D, G, J', 'V', 'A, B, C, M', 'Q, R, S, T',\n",
       "       'J, K, L, M', 'P, Z', 'I, J, K, L', 'A, b',\n",
       "       'B, C, E, F, G, H, I, J, K, L, c, d, g, h, i, j, k, l, m', 'D, e',\n",
       "       'f', 'P, Q, R, Z', 'P, Q, R, Y', 'A, C, D, E', 'I, L',\n",
       "       'G, I, J, K', 'E, H, K', 'G, J', 'A, B, C, H', 'B, C, E, F',\n",
       "       'A, J', 'X, Y, Z', 'U, V, W', 'A, B, G, H, M, N, S, T',\n",
       "       'A, B, C, D, E, F, G, H, I, J, L',\n",
       "       'A, D, G, J, M, P, S, V, Y, b, e, h, k, n, q, t', 'E, G, I, K',\n",
       "       'C, D, F, H, J, L', 'I, K', 'F, I', 'V, W', 'A, B, C, J',\n",
       "       'B, D, E, H, I, J, M, N', 'D, X', 'A, X', 'E, L', 'A, B, C, U',\n",
       "       'A, I, P, V', 'C, K, R, X', 'D, L, S, Y', 'E, M, T, Z',\n",
       "       'B, C, E, F, H, I, K, L', 'F, G, H, J', 'A, B, C, E, I, K, L',\n",
       "       'A, B, C, F, G, H', 'L, N', 'D, P', 'P, R, T, V', 'Q, S, U, W',\n",
       "       '1, 3, 5, 7, 9, A, D, F, I, K, O, Q, S, U, W, Y',\n",
       "       '0, 2, 4, 6, 8, B, E, G, J, N, P, R, T, V, X, Z',\n",
       "       'D, F, G, H, I, J, L', 'A, B, C, E, K', 'A, B, D, E, F, G, H',\n",
       "       'A, C, F, I', 'B, D, G, J', 'E, H, K, P', 'A, R', 'A, C, E, L',\n",
       "       'B, D, E, F, G, H', 'A, B, C, D, G, H, I, J', 'E, F, K, L, M, N',\n",
       "       'A, B, C, D, E, F, G, H, I, J, K', 'B, D, E', 'A, D, E, H, I, L',\n",
       "       'B, C, F, G, J, K',\n",
       "       'A, B, C, D, E, F, G, H, I, J, K, L, M, N, a, b, c, d, e, f, g, h, i, j, k, l, m, n',\n",
       "       '0, 1, 2, 3, O, P, Q, R, S, T, U, V, W, X, Y, Z, o, p, q, r, s, t, u, v, w, x, y, z',\n",
       "       'C, E, H', 'D, F, L', 'P, X, Z', 'M, N, P, Q', 'L, M, N, P, Q, R',\n",
       "       'L, M, N, O',\n",
       "       'A, B, C, D, E, F, G, H, I, J, K, L, M, N, O, P, Q, R, S, T',\n",
       "       'B, E, F', 'C, D, H', 'F, G, H, I, J', 'a, b, c, d, e, f',\n",
       "       'I, J, K, L, M, N', 'A, B, C, D, F', 'H, I, J, K, L, M, N',\n",
       "       'A, B, C, D, E, H', 'A, B, C, D, E, F, H, I', 'A, E, I, M',\n",
       "       'B, C, D, F, G, H, J, K, L, N, O, P', 'QQQ', 'I, J, K, P',\n",
       "       'B, D, I, L', 'A, C, H, J', 'E, F, G, K', 'A, C, D, G, I, K',\n",
       "       'B, E, F, H, J, L', 'M, N, O, P, Q, R', 'B, E, F, H', 'D, G',\n",
       "       'AA, AC, BA, BC, CA, CC, DA, DC, EA, EC, FA, FC, GA, GC, HA, HC, IA, IC, JA, JC, KA, KC, LA, LC, MA, MC, NA, NC, OA, OC',\n",
       "       'A, B, C, D, E, F, G, H, I, J, K, L, M, N, O, P, Q, R, S, T, V, Y, Z, a, b, c, d, e, f, g',\n",
       "       'A, C, E, F, H, J, M, O', 'B, D, G, I, K, L, N, P', 'AAA, CCC',\n",
       "       'BBB, DDD', 'E, G, H', 'A, C, E, G, I, P',\n",
       "       'A, B, C, D, E, F, G, H, I, J, K, L, M, N, O, P, Q, R, S, T, V, W, X, Y',\n",
       "       'G, N, Q, U', 'A, B, I, J', 'D, K, N, Q', 'A, P, X',\n",
       "       'A, B, C, D, E, F, G, H, I, J, K, L, M, N, O, P, Q, R, S, T, U, V, W, X, Y, Z, a, b',\n",
       "       'A, C, H, K', 'B, D, J, L', 'H, K', 'M, N, O, P',\n",
       "       'A, B, C, D, E, F, G, I, K, L, M, N, S, T', 'B, G, K, L',\n",
       "       'E, I, M, S', 'A, F, H, J', 'C, S', 'J, K, L', 'AA, BA',\n",
       "       'B, C, D, O', 'F, G, H', 'D, J', 'C, I', 'A, C, F, H',\n",
       "       'B, D, E, G', 'A, D, F', 'A, C, D, F, G, H', 'H, M, O', 'L, N, P',\n",
       "       'A, C, E, G, S', 'B, D, F, H, T', 'C, F, G', 'A, B, D, E, H',\n",
       "       'A, C, D, F', 'A, C, G, J', 'B, D, H, K', 'E, F, I, L',\n",
       "       'D, E, F, H, J, L, N, P, Q, R, U, V, X, Z, a, b, c, d, f, g, h, i, j, k',\n",
       "       'A, B, C, G, I, K, M, O, T, W, Y, e', 'E, I',\n",
       "       'H, J, O, P, Q, R, U, V, X, Y, Z, a, b, c',\n",
       "       'H, J, O, P, Q, R, U, V, X, Y, Z', 'A, B, F, J', 'A, B, I, M',\n",
       "       'B, F, H', 'A, B, D, E, G, H, J, K', 'C, F, P, Q', 'S, U, W, Y',\n",
       "       'A, C, G', 'B, D, I', 'H, I, J, K', 'A, D, E, H', 'B, C, F, G',\n",
       "       'J, M, N, O, P, R, T, U', 'A, E, F', 'D, E, J, K', 'A, D, E',\n",
       "       'B, C, F', 'A, F, K, P', 'C, H, M, R', 'D, I, N, S', 'B, G, L, Q',\n",
       "       'E, J, O, T', 'A, C, E, G, I, K, M, O, Q, S',\n",
       "       'B, D, F, H, J, L, N, P, R, T', 'HHH', 'LLL', 'B, F, G, H, I, J',\n",
       "       'A, D, P, Q, R, T', 'C, K, L, M, N, O', 'E, U, V, W, X, Y',\n",
       "       'A, E, H, K', 'B, F, I, L', 'C, D, G, J', 'B, T', 'B, D, F, T',\n",
       "       'A, C, E, R', 'L, M, O, T', 'A, C, E, G, H, J', 'B, D, F, I, K, L',\n",
       "       'W', 'A, T', 'B, D, F, H, J', 'G, g', 'Q, R', 'A, H, L',\n",
       "       '1, 2, 3, 4', 'A, D, F, G, I, K, M, O, Q, S, U, W', 'A, B, C, V',\n",
       "       'D, E, H, I',\n",
       "       'A, B, C, D, E, F, G, H, I, J, K, L, M, N, O, P, Q, R, S, T, U, V, W, X, Y, Z, a, b, c, d, e, f, g, h, i, j',\n",
       "       'A, C, E, G, J, L', 'A, B, E, F, I, J', 'HHH, III', 'LLL, MMM',\n",
       "       'A, B, C, D, E, F, I, J, K, M, N, O', 'AA, BB, CC, DD, EE, FF',\n",
       "       'A, D, G, H, K, O', 'B, E, I, L, M, P', 'C, F, J, N, Q, R', 'DAA',\n",
       "       'CAA', 'A, K', 'D, H, K, U', 'A, B, C, D, F, G, H, I', 'B, R',\n",
       "       'A, M', 'L, M, N', 'A, U', 'B, D, E, F, G, H, I, K, L'],\n",
       "      dtype=object)"
      ]
     },
     "execution_count": 7,
     "metadata": {},
     "output_type": "execute_result"
    }
   ],
   "source": [
    "chainID = df_aa['Chain ID']\n",
    "chainID.unique()"
   ]
  },
  {
   "cell_type": "code",
   "execution_count": 12,
   "metadata": {},
   "outputs": [
    {
     "name": "stdout",
     "output_type": "stream",
     "text": [
      "\"Sequence\",\"Entity Polymer Type\",\"Chain ID\",\"Entry Id (Polymer Entity Identifiers)\",\n",
      "\"GSQMTRQARRLYVGNIPFGITEEAMMDFFNAQMRLGGLTQAPGNPVLAVQINQDKNFAFLEFRSVDETTQAMAFDGIIFQGQSLKIRRPHDYQPLPGMSENPSVYVPGVVSTVVPDSAHKLFIGGLPNYLNDDQVKELLTSFGPLKAFNLVKDSATGLSKGYAFCEYVDINVTDQAIAGLNGMQLGDKKLLVQRASVGAKN\",\"Protein\",\"A\",\"5EV3\",\n",
      "\"GSQMTRQARRLYVGNIPFGITEEAMMDFFNAQMRLGGLTQAPGNPVLAVQINQDKNFAFLEFRSVDETTQAMAFDGIIFQGQSLKIRRPHDYQPLPGMSENPSVYVPGVVSTVVPDSAHKLFIGGLPNYLNDDQVKELLTSFGPLKAFNLVKDSATGLSKGYAFCEYVDINVTDQAIAGLNGMQLGDKKLLVQRASVGAKN\",\"Protein\",\"A\",\"5EV2\",\n"
     ]
    }
   ],
   "source": [
    "!head -3 aa_only.csv"
   ]
  },
  {
   "cell_type": "code",
   "execution_count": 13,
   "metadata": {},
   "outputs": [],
   "source": [
    "!sed '1d' aa_only.csv > noheader_aa_only.csv # removing header before generating fasta\n"
   ]
  },
  {
   "cell_type": "code",
   "execution_count": 17,
   "metadata": {},
   "outputs": [
    {
     "name": "stdout",
     "output_type": "stream",
     "text": [
      "   29639 aa_only.csv\n"
     ]
    }
   ],
   "source": [
    "!wc -l aa_only.csv"
   ]
  },
  {
   "cell_type": "code",
   "execution_count": 18,
   "metadata": {},
   "outputs": [
    {
     "name": "stdout",
     "output_type": "stream",
     "text": [
      "   29638 noheader_aa_only.csv\n"
     ]
    }
   ],
   "source": [
    "!wc -l noheader_aa_only.csv # value matches file is ok proceeding to make fasta"
   ]
  },
  {
   "cell_type": "markdown",
   "metadata": {},
   "source": [
    "#### I want to consider the comma as a field sepparator \n",
    "but since there are several chains per entry denoted as e.g.:\n",
    "\n",
    "``` \"CAGTTTCAAACTC\",\"D, I\",\"5FD3\",```\n",
    "\n",
    "I need to remove the comma between the chains first and replace it with a space:\n",
    "*  ``` sed 's/\\, / /g' $i.csv ```\n",
    "\n",
    "Then pipe it to awk and define the comma as field sepparator\n",
    "\n",
    "* ``` awk -F ',' 'length($1) > 50 {print \">\"$3\":\" substr($2,1,2) \"\\n\"$1}' ```"
   ]
  },
  {
   "cell_type": "code",
   "execution_count": 14,
   "metadata": {},
   "outputs": [],
   "source": [
    "!sed 's/\\, / /g' noheader_aa_only.csv | awk -F ',' '{print \">\"$4\":\"$3\"\\n\"$1}' | sed 's/\\\"//g'  > all.fasta"
   ]
  },
  {
   "cell_type": "code",
   "execution_count": 15,
   "metadata": {},
   "outputs": [
    {
     "name": "stdout",
     "output_type": "stream",
     "text": [
      ">5EV3:A\n",
      "GSQMTRQARRLYVGNIPFGITEEAMMDFFNAQMRLGGLTQAPGNPVLAVQINQDKNFAFLEFRSVDETTQAMAFDGIIFQGQSLKIRRPHDYQPLPGMSENPSVYVPGVVSTVVPDSAHKLFIGGLPNYLNDDQVKELLTSFGPLKAFNLVKDSATGLSKGYAFCEYVDINVTDQAIAGLNGMQLGDKKLLVQRASVGAKN\n",
      ">5EV2:A\n",
      "GSQMTRQARRLYVGNIPFGITEEAMMDFFNAQMRLGGLTQAPGNPVLAVQINQDKNFAFLEFRSVDETTQAMAFDGIIFQGQSLKIRRPHDYQPLPGMSENPSVYVPGVVSTVVPDSAHKLFIGGLPNYLNDDQVKELLTSFGPLKAFNLVKDSATGLSKGYAFCEYVDINVTDQAIAGLNGMQLGDKKLLVQRASVGAKN\n",
      ">5EV4:A\n",
      "GSQMTRQARRLYVGNIPFGITEEAMMDFFNAQMRLGGLTQAPGNPVLAVQINQDKNFAFLEFRSVDETTQAMAFDGIIFQGQSLKIRRPHDYQPLPGMSENPSVYVPGVVSTVVPDSAHKLFIGGLPNYLNDDQVKELLTSFGPLKAFNLVKDSATGLSKGYAFCEYVDINVTDQAIAGLNGMQLGDKKLLVQRASVGAKN\n",
      ">5F8A:A B\n",
      "SLRSDLINALYDENQKYDVCGIISAEGKIYPLGSDTKVLSTIFELFSRPIINKIAEKHGYIVEEPKQQNHYPDFTLYKPSEPNKKIAIDIKTTYTNKENEKIKFTLGGYTSFIRNNTKNIVYPFDQYIAHWIIGYVYTRVATRKSSLKTYNINELNEIPKPYKGVKVFLQDKWVIAGDLAGSGNTTNIGSIHAHYKDFVEGKGIFDSEDEFLDYWRNYERTSQLRNDKYNNISEYRNWIYRGRK\n",
      ">5FMP:A B\n",
      "MAVLAESELGSEAQRERRKRILDATMAIASKGGYEAVQMRAVADRADVAVGTLYRYFPSKVHLLVSALGREFSRIDAKTDRSAVAGATPFQRLNFMVGKLNRAMQRNPLLTEAMTRAYVFADASAASEVDQVEKLIDSMFARAMANGEPTEDQYHIARVISDVWLSNLLAWLTRRASATDVSKRLDLAVRLLIGDQDSAHHHHHH\n"
     ]
    }
   ],
   "source": [
    "!head all.fasta"
   ]
  },
  {
   "cell_type": "code",
   "execution_count": 21,
   "metadata": {},
   "outputs": [
    {
     "name": "stdout",
     "output_type": "stream",
     "text": [
      "   29638\n"
     ]
    }
   ],
   "source": [
    "!grep '>' all.fasta | wc -l # Got 29638 chains"
   ]
  },
  {
   "cell_type": "code",
   "execution_count": null,
   "metadata": {},
   "outputs": [],
   "source": []
  },
  {
   "cell_type": "code",
   "execution_count": null,
   "metadata": {},
   "outputs": [],
   "source": []
  },
  {
   "cell_type": "code",
   "execution_count": 20,
   "metadata": {},
   "outputs": [],
   "source": []
  },
  {
   "cell_type": "code",
   "execution_count": 18,
   "metadata": {},
   "outputs": [],
   "source": []
  },
  {
   "cell_type": "code",
   "execution_count": 21,
   "metadata": {},
   "outputs": [],
   "source": []
  },
  {
   "cell_type": "code",
   "execution_count": 12,
   "metadata": {},
   "outputs": [],
   "source": []
  },
  {
   "cell_type": "code",
   "execution_count": null,
   "metadata": {},
   "outputs": [],
   "source": []
  },
  {
   "cell_type": "code",
   "execution_count": null,
   "metadata": {},
   "outputs": [],
   "source": []
  }
 ],
 "metadata": {
  "kernelspec": {
   "display_name": "Python 3",
   "language": "python",
   "name": "python3"
  },
  "language_info": {
   "codemirror_mode": {
    "name": "ipython",
    "version": 3
   },
   "file_extension": ".py",
   "mimetype": "text/x-python",
   "name": "python",
   "nbconvert_exporter": "python",
   "pygments_lexer": "ipython3",
   "version": "3.7.2"
  }
 },
 "nbformat": 4,
 "nbformat_minor": 4
}
