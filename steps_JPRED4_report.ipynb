{
 "cells": [
  {
   "cell_type": "markdown",
   "metadata": {},
   "source": [
    "# Generating the Blind Set\n",
    "\n",
    "### 1. Downloading Data from the PDB\n",
    "\n",
    "Checked the boxes \"Entry ID\",\"Sequence\",\"Entity Polymer Type\",\"Chain ID\",\"Entry Id (Polymer Entity Identifiers)\".\n",
    "\n",
    "[here the link to my search](https://www.rcsb.org/search?request=%7B%22query%22%3A%7B%22type%22%3A%22group%22%2C%22logical_operator%22%3A%22and%22%2C%22nodes%22%3A%5B%7B%22type%22%3A%22group%22%2C%22logical_operator%22%3A%22and%22%2C%22nodes%22%3A%5B%7B%22type%22%3A%22group%22%2C%22logical_operator%22%3A%22and%22%2C%22nodes%22%3A%5B%7B%22type%22%3A%22terminal%22%2C%22service%22%3A%22text%22%2C%22parameters%22%3A%7B%22operator%22%3A%22greater%22%2C%22negation%22%3Afalse%2C%22value%22%3A%222015-01-31T00%3A00%3A00Z%22%2C%22attribute%22%3A%22rcsb_accession_info.deposit_date%22%7D%2C%22node_id%22%3A0%7D%2C%7B%22type%22%3A%22terminal%22%2C%22service%22%3A%22text%22%2C%22parameters%22%3A%7B%22operator%22%3A%22exact_match%22%2C%22negation%22%3Afalse%2C%22value%22%3A%22X-RAY%20DIFFRACTION%22%2C%22attribute%22%3A%22exptl.method%22%7D%2C%22node_id%22%3A1%7D%2C%7B%22type%22%3A%22terminal%22%2C%22service%22%3A%22text%22%2C%22parameters%22%3A%7B%22operator%22%3A%22less_or_equal%22%2C%22negation%22%3Afalse%2C%22value%22%3A2.5%2C%22attribute%22%3A%22rcsb_entry_info.resolution_combined%22%7D%2C%22node_id%22%3A2%7D%2C%7B%22type%22%3A%22group%22%2C%22logical_operator%22%3A%22or%22%2C%22nodes%22%3A%5B%7B%22type%22%3A%22terminal%22%2C%22service%22%3A%22text%22%2C%22parameters%22%3A%7B%22operator%22%3A%22exact_match%22%2C%22negation%22%3Afalse%2C%22value%22%3A%22Protein%20(only)%22%2C%22attribute%22%3A%22rcsb_entry_info.selected_polymer_entity_types%22%7D%2C%22node_id%22%3A3%7D%2C%7B%22type%22%3A%22terminal%22%2C%22service%22%3A%22text%22%2C%22parameters%22%3A%7B%22operator%22%3A%22exact_match%22%2C%22negation%22%3Afalse%2C%22value%22%3A%22Protein%2FNA%22%2C%22attribute%22%3A%22rcsb_entry_info.selected_polymer_entity_types%22%7D%2C%22node_id%22%3A4%7D%5D%7D%2C%7B%22type%22%3A%22terminal%22%2C%22service%22%3A%22text%22%2C%22parameters%22%3A%7B%22operator%22%3A%22range_closed%22%2C%22negation%22%3Afalse%2C%22value%22%3A%5B50%2C300%5D%2C%22attribute%22%3A%22entity_poly.rcsb_sample_sequence_length%22%7D%2C%22node_id%22%3A5%7D%5D%7D%5D%2C%22label%22%3A%22text%22%7D%5D%2C%22label%22%3A%22query-builder%22%7D%2C%22return_type%22%3A%22entry%22%2C%22request_options%22%3A%7B%22pager%22%3A%7B%22start%22%3A0%2C%22rows%22%3A100%7D%2C%22scoring_strategy%22%3A%22combined%22%2C%22sort%22%3A%5B%7B%22sort_by%22%3A%22score%22%2C%22direction%22%3A%22desc%22%7D%5D%7D%2C%22request_info%22%3A%7B%22src%22%3A%22ui%22%2C%22query_id%22%3A%22dc19df09287d4c5a80018000a03e2a6d%22%7D%7D)\n",
    "\n",
    "* Downloaded as CSV \n",
    "\n",
    "For some reason it automatically adds \"Entry ID\" as column 1. Whenever there is another chain of the same ID the first line of col 1 will be empty --> removed it using awk:"
   ]
  },
  {
   "cell_type": "code",
   "execution_count": 3,
   "metadata": {},
   "outputs": [
    {
     "name": "stdout",
     "output_type": "stream",
     "text": [
      "\"Entry ID\",\"Sequence\",\"Entity Polymer Type\",\"Chain ID\",\"Entry Id (Polymer Entity Identifiers)\",\n",
      "\"5EV3\",\"GSQMTRQARRLYVGNIPFGITEEAMMDFFNAQMRLGGLTQAPGNPVLAVQINQDKNFAFLEFRSVDETTQAMAFDGIIFQGQSLKIRRPHDYQPLPGMSENPSVYVPGVVSTVVPDSAHKLFIGGLPNYLNDDQVKELLTSFGPLKAFNLVKDSATGLSKGYAFCEYVDINVTDQAIAGLNGMQLGDKKLLVQRASVGAKN\",\"Protein\",\"A\",\"5EV3\",\n",
      ",\"UUUUUUUU\",\"NA-hybrid\",\"B\",\"5EV3\",\n",
      "\"5EV2\",\"GSQMTRQARRLYVGNIPFGITEEAMMDFFNAQMRLGGLTQAPGNPVLAVQINQDKNFAFLEFRSVDETTQAMAFDGIIFQGQSLKIRRPHDYQPLPGMSENPSVYVPGVVSTVVPDSAHKLFIGGLPNYLNDDQVKELLTSFGPLKAFNLVKDSATGLSKGYAFCEYVDINVTDQAIAGLNGMQLGDKKLLVQRASVGAKN\",\"Protein\",\"A\",\"5EV2\",\n",
      ",\"UUUUUUUU\",\"NA-hybrid\",\"B\",\"5EV2\",\n",
      "\"5EV4\",\"GSQMTRQARRLYVGNIPFGITEEAMMDFFNAQMRLGGLTQAPGNPVLAVQINQDKNFAFLEFRSVDETTQAMAFDGIIFQGQSLKIRRPHDYQPLPGMSENPSVYVPGVVSTVVPDSAHKLFIGGLPNYLNDDQVKELLTSFGPLKAFNLVKDSATGLSKGYAFCEYVDINVTDQAIAGLNGMQLGDKKLLVQRASVGAKN\",\"Protein\",\"A\",\"5EV4\",\n"
     ]
    }
   ],
   "source": [
    "head -6 1.csv "
   ]
  },
  {
   "cell_type": "code",
   "execution_count": 5,
   "metadata": {},
   "outputs": [],
   "source": [
    "for i in {1..5}\n",
    "do\n",
    "    cat ${i}.csv | awk '{sub(/[^,]*/,\"\");sub(/,/,\"\")} 1' > ${i}new.csv \n",
    "done"
   ]
  },
  {
   "cell_type": "code",
   "execution_count": 1,
   "metadata": {},
   "outputs": [
    {
     "name": "stdout",
     "output_type": "stream",
     "text": [
      "\"Sequence\",\"Entity Polymer Type\",\"Chain ID\",\"Entry Id (Polymer Entity Identifiers)\",\n",
      "\"MALVDGFLELERSSGKLEWSAILQKMASDLGFSKILFGLLPKDSQDYENAFIVGNYPAAWREHYDRAGYARVDPTVSHCTQSVLPIFWEPSIYQTRKQHEFFEEASAAGLVYGLTMPLHGARGELGALSLSVEAENRAEANRFMESVLPTLWMLKDYALQSGAGLAFEHPVSKPVVLTSREKEVLQWCAIGKTSWEISVICNCSEANVNFHMGNIRRKFGVTSRRVAAIMAVNLGLITL\",\"Protein\",\"A, B\",\"6MWL\",\n",
      "\"SVAHGLAWSYYIGYLRLILPELQARIRTYNQHYNNLLRGAVSQRLYILLPLDCGVPDNLSMADPNIRFLDKLPQQTADRAGIKDRVYSNSIYELLENGQRAGTCVLEYATPLQTLFAMSQYSQAGFSREDRLEQAKLFCQTLEDILADAPESQNNCRLIAYQEPADDSSFSLSQEVLRHLRQEEKEEV\",\"Protein\",\"A, B\",\"6MX0\",\n",
      "\"MKLVWTLSSWDDYEFWQRTDARMVEKINDLIRNAKRTPFAGLGKPEPLKGDMAGYWSRRITAEHRFVYRVSGSGSEQRLEVIQCRFHYQLEVLFQ\",\"Protein\",\"A, B\",\"6N90\",\n",
      "\"MDYKDDDDKGSLVPRGSHMYLRITNIVESSFFTKFIIYLIVLNGITMGLETSKTFMQSFGVYTTLFNQIVITIFTIEIILRIYVHRISFFKDPWSLFDFFVVAISLVPTSSGFEILRVLRVLRLFRLVTAVPQMRKIVSALISVIPGMLSVIALMTLFFYIFAIMATQLFGERFPEWFGTLGESFYTLFQVMTLESWSMGIVRPLMEVYPYAWVFFIPFIFVVTFVMINLVVAIIVDAMAILNQKEEQHIIDEVQSH\",\"Protein\",\"B\",\"6MWA\",\n"
     ]
    }
   ],
   "source": [
    "head -5 4new.csv #now it looks like this"
   ]
  },
  {
   "cell_type": "markdown",
   "metadata": {},
   "source": [
    "### 2. Parsing and Filtering\n",
    "\n",
    "First I need to be aware that some of the chains are nucleic acids (\"NA-hybrid\").\n",
    "\n",
    "Remove all lines containing\n",
    "*  \"NA-hybrid\" \n",
    "*  \"DNA\"\n",
    "*  \"RNA\"\n",
    "\n",
    "to obtain protein sequences only!\n",
    "\n",
    "```  sed -n '/Protein/p' ./filename \n"
   ]
  },
  {
   "cell_type": "code",
   "execution_count": 10,
   "metadata": {},
   "outputs": [],
   "source": [
    "# Removing all lines that do NOT contain \"Protein\" --> this removes the header too!\n",
    "head -1 1new.csv > aa_only.csv # Adding correct header to top of file that will be appended all \"Protein\" lines\n",
    "\n",
    "for i in {1..5} # Appending only lines containing word \"Protein\"\n",
    "do\n",
    "    sed -n '/Protein/p' ${i}new.csv >> aa_only.csv \n",
    "done"
   ]
  },
  {
   "cell_type": "code",
   "execution_count": 11,
   "metadata": {},
   "outputs": [
    {
     "name": "stdout",
     "output_type": "stream",
     "text": [
      "\"Sequence\",\"Entity Polymer Type\",\"Chain ID\",\"Entry Id (Polymer Entity Identifiers)\",\n",
      "\"GSQMTRQARRLYVGNIPFGITEEAMMDFFNAQMRLGGLTQAPGNPVLAVQINQDKNFAFLEFRSVDETTQAMAFDGIIFQGQSLKIRRPHDYQPLPGMSENPSVYVPGVVSTVVPDSAHKLFIGGLPNYLNDDQVKELLTSFGPLKAFNLVKDSATGLSKGYAFCEYVDINVTDQAIAGLNGMQLGDKKLLVQRASVGAKN\",\"Protein\",\"A\",\"5EV3\",\n",
      "\"GSQMTRQARRLYVGNIPFGITEEAMMDFFNAQMRLGGLTQAPGNPVLAVQINQDKNFAFLEFRSVDETTQAMAFDGIIFQGQSLKIRRPHDYQPLPGMSENPSVYVPGVVSTVVPDSAHKLFIGGLPNYLNDDQVKELLTSFGPLKAFNLVKDSATGLSKGYAFCEYVDINVTDQAIAGLNGMQLGDKKLLVQRASVGAKN\",\"Protein\",\"A\",\"5EV2\",\n",
      "\"GSQMTRQARRLYVGNIPFGITEEAMMDFFNAQMRLGGLTQAPGNPVLAVQINQDKNFAFLEFRSVDETTQAMAFDGIIFQGQSLKIRRPHDYQPLPGMSENPSVYVPGVVSTVVPDSAHKLFIGGLPNYLNDDQVKELLTSFGPLKAFNLVKDSATGLSKGYAFCEYVDINVTDQAIAGLNGMQLGDKKLLVQRASVGAKN\",\"Protein\",\"A\",\"5EV4\",\n",
      "\"SLRSDLINALYDENQKYDVCGIISAEGKIYPLGSDTKVLSTIFELFSRPIINKIAEKHGYIVEEPKQQNHYPDFTLYKPSEPNKKIAIDIKTTYTNKENEKIKFTLGGYTSFIRNNTKNIVYPFDQYIAHWIIGYVYTRVATRKSSLKTYNINELNEIPKPYKGVKVFLQDKWVIAGDLAGSGNTTNIGSIHAHYKDFVEGKGIFDSEDEFLDYWRNYERTSQLRNDKYNNISEYRNWIYRGRK\",\"Protein\",\"A, B\",\"5F8A\",\n",
      "\"MAVLAESELGSEAQRERRKRILDATMAIASKGGYEAVQMRAVADRADVAVGTLYRYFPSKVHLLVSALGREFSRIDAKTDRSAVAGATPFQRLNFMVGKLNRAMQRNPLLTEAMTRAYVFADASAASEVDQVEKLIDSMFARAMANGEPTEDQYHIARVISDVWLSNLLAWLTRRASATDVSKRLDLAVRLLIGDQDSAHHHHHH\",\"Protein\",\"A, B\",\"5FMP\",\n",
      "\"GAASMDKKYSIGLAIGTNSVGWAVITDEYKVPSKKFKVLGNTDRHSIKKNLIGALLFDSGETAEATRLKRTARRRYTRRKNRICYLQEIFSNEMAKVDDSFFHRLEESFLVEEDKKHERHPIFGNIVDEVAYHEKYPTIYHLRKKLVDSTDKADLRLIYLALAHMIKFRGHFLIEGDLNPDNSDVDKLFIQLVQTYNQLFEENPINASGVDAKAILSARLSKSRRLENLIAQLPGEKKNGLFGNLIALSLGLTPNFKSNFDLAEDAKLQLSKDTYDDDLDNLLAQIGDQYADLFLAAKNLSDAILLSDILRVNTEITKAPLSASMIKRYDEHHQDLTLLKALVRQQLPEKYKEIFFDQSKNGYAGYIDGGASQEEFYKFIKPILEKMDGTEELLVKLNREDLLRKQRTFDNGSIPHQIHLGELHAILRRQEDFYPFLKDNREKIEKILTFRIPYYVGPLARGNSRFAWMTRKSEETITPWNFEEVVDKGASAQSFIERMTNFDKNLPNEKVLPKHSLLYEYFTVYNELTKVKYVTEGMRKPAFLSGEQKKAIVDLLFKTNRKVTVKQLKEDYFKKIECFDSVEISGVEDRFNASLGTYHDLLKIIKDKDFLDNEENEDILEDIVLTLTLFEDREMIEERLKTYAHLFDDKVMKQLKRRRYTGWGRLSRKLINGIRDKQSGKTILDFLKSDGFANRNFMQLIHDDSLTFKEDIQKAQVSGQGDSLHEHIANLAGSPAIKKGILQTVKVVDELVKVMGRHKPENIVIEMARENQTTQKGQKNSRERMKRIEEGIKELGSQILKEHPVENTQLQNEKLYLYYLQNGRDMYVDQELDINRLSDYDVDAIVPQSFLKDDSIDNKVLTRSDKNRGKSDNVPSEEVVKKMKNYWRQLLNAKLITQRKFDNLTKAERGGLSELDKAGFIKRQLVETRQITKHVAQILDSRMNTKYDENDKLIREVKVITLKSKLVSDFRKDFQFYKVREINNYHHAHDAYLNAVVGTALIKKYPKLESEFVYGDYKVYDVRKMIAKSEQEIGKATAKYFFYSNIMNFFKTEITLANGEIRKRPLIETNGETGEIVWDKGRDFATVRKVLSMPQVNIVKKTEVQTGGFSKESILPKRNSDKLIARKKDWDPKKYGGFDSPTVAYSVLVVAKVEKGKSKKLKSVKELLGITIMERSSFEKNPIDFLEAKGYKEVKKDLIIKLPKYSLFELENGRKRMLASAGELQKGNELALPSKYVNFLYLASHYEKLKGSPEDNEQKQLFVEQHKHYLDEIIEQISEFSKRVILADANLDKVLSAYNKHRDKPIREQAENIIHLFTLTNLGAPAAFKYFDTTIDRKRYTSTKEVLDATLIHQSITGLYETRIDLSQLGGD\",\"Protein\",\"B\",\"5FQ5\",\n",
      "\"MAPKCIECHINIEMDPVLHDVFKLQVCKQCSKEHPEKYALLTKTECKEDYFLTDPELNDEDLFHRLEKPNPHSGTFARMQLFVRCEVEAFAFKKWGGEEGLDEEWQRREEGKAHRREKKYGSAWSHPQFEK\",\"Protein\",\"A, B\",\"5G32\",\n",
      "\"MAPKCIECHINIEMDPVLHDVFKLQVCKQCSKEHPEKYALLTKTECKEDYFLTDPELNDEDLFHRLEKPNPHSGTFARMQLFVRCEVEAFAFKKWGGEEGLDEEWQRREEGKAHRREKKYGSAWSHPQFEK\",\"Protein\",\"A, B\",\"5G34\",\n",
      "\"MAPKCIECHINIEMDPVLHDVFKLQVCKQCSKEHPEKYALLTKTECKEDYFLTDPELNDEDLFHRLEKPNPHSGTFARMQLFVRCEVEAFAFKKWGGEEGLDEEWQRREEGKAHRREKKYGSAWSHPQFEK\",\"Protein\",\"A, B\",\"5G33\",\n"
     ]
    }
   ],
   "source": [
    "head aa_only.csv"
   ]
  },
  {
   "cell_type": "code",
   "execution_count": 2,
   "metadata": {},
   "outputs": [
    {
     "name": "stdout",
     "output_type": "stream",
     "text": [
      "   29638\n"
     ]
    }
   ],
   "source": [
    "grep \"Protein\" aa_only.csv | wc -l #  29638 Protein chains in the set"
   ]
  },
  {
   "cell_type": "markdown",
   "metadata": {},
   "source": [
    "### Switched to python 3 kernel:"
   ]
  },
  {
   "cell_type": "code",
   "execution_count": 1,
   "metadata": {},
   "outputs": [],
   "source": [
    "# Loading relevant packages:\n",
    "\n",
    "import pandas as pd\n",
    "import numpy as np\n",
    "import seaborn as sns\n",
    "# sns.set() #do we really need that\n"
   ]
  },
  {
   "cell_type": "code",
   "execution_count": 4,
   "metadata": {},
   "outputs": [
    {
     "data": {
      "text/html": [
       "<div>\n",
       "<style scoped>\n",
       "    .dataframe tbody tr th:only-of-type {\n",
       "        vertical-align: middle;\n",
       "    }\n",
       "\n",
       "    .dataframe tbody tr th {\n",
       "        vertical-align: top;\n",
       "    }\n",
       "\n",
       "    .dataframe thead th {\n",
       "        text-align: right;\n",
       "    }\n",
       "</style>\n",
       "<table border=\"1\" class=\"dataframe\">\n",
       "  <thead>\n",
       "    <tr style=\"text-align: right;\">\n",
       "      <th></th>\n",
       "      <th>Sequence</th>\n",
       "      <th>Entity Polymer Type</th>\n",
       "      <th>Chain ID</th>\n",
       "      <th>Entry Id (Polymer Entity Identifiers)</th>\n",
       "      <th>Unnamed: 4</th>\n",
       "    </tr>\n",
       "  </thead>\n",
       "  <tbody>\n",
       "    <tr>\n",
       "      <th>0</th>\n",
       "      <td>GSQMTRQARRLYVGNIPFGITEEAMMDFFNAQMRLGGLTQAPGNPV...</td>\n",
       "      <td>Protein</td>\n",
       "      <td>A</td>\n",
       "      <td>5EV3</td>\n",
       "      <td>NaN</td>\n",
       "    </tr>\n",
       "    <tr>\n",
       "      <th>1</th>\n",
       "      <td>GSQMTRQARRLYVGNIPFGITEEAMMDFFNAQMRLGGLTQAPGNPV...</td>\n",
       "      <td>Protein</td>\n",
       "      <td>A</td>\n",
       "      <td>5EV2</td>\n",
       "      <td>NaN</td>\n",
       "    </tr>\n",
       "    <tr>\n",
       "      <th>2</th>\n",
       "      <td>GSQMTRQARRLYVGNIPFGITEEAMMDFFNAQMRLGGLTQAPGNPV...</td>\n",
       "      <td>Protein</td>\n",
       "      <td>A</td>\n",
       "      <td>5EV4</td>\n",
       "      <td>NaN</td>\n",
       "    </tr>\n",
       "    <tr>\n",
       "      <th>3</th>\n",
       "      <td>SLRSDLINALYDENQKYDVCGIISAEGKIYPLGSDTKVLSTIFELF...</td>\n",
       "      <td>Protein</td>\n",
       "      <td>A, B</td>\n",
       "      <td>5F8A</td>\n",
       "      <td>NaN</td>\n",
       "    </tr>\n",
       "    <tr>\n",
       "      <th>4</th>\n",
       "      <td>MAVLAESELGSEAQRERRKRILDATMAIASKGGYEAVQMRAVADRA...</td>\n",
       "      <td>Protein</td>\n",
       "      <td>A, B</td>\n",
       "      <td>5FMP</td>\n",
       "      <td>NaN</td>\n",
       "    </tr>\n",
       "    <tr>\n",
       "      <th>...</th>\n",
       "      <td>...</td>\n",
       "      <td>...</td>\n",
       "      <td>...</td>\n",
       "      <td>...</td>\n",
       "      <td>...</td>\n",
       "    </tr>\n",
       "    <tr>\n",
       "      <th>29633</th>\n",
       "      <td>DVLMTQIPLSLPVSLGDQASISCRSSQNIVHSNGNTYLEWYLQKPG...</td>\n",
       "      <td>Protein</td>\n",
       "      <td>B, L</td>\n",
       "      <td>6SF6</td>\n",
       "      <td>NaN</td>\n",
       "    </tr>\n",
       "    <tr>\n",
       "      <th>29634</th>\n",
       "      <td>PSPCHEKADCILERDGSRS</td>\n",
       "      <td>Protein</td>\n",
       "      <td>C, D</td>\n",
       "      <td>6SF6</td>\n",
       "      <td>NaN</td>\n",
       "    </tr>\n",
       "    <tr>\n",
       "      <th>29635</th>\n",
       "      <td>KVFGRCELAAAMKRHGLDNYRGYSLGNWVCAAKFESNFNTQATNRN...</td>\n",
       "      <td>Protein</td>\n",
       "      <td>A</td>\n",
       "      <td>6SET</td>\n",
       "      <td>NaN</td>\n",
       "    </tr>\n",
       "    <tr>\n",
       "      <th>29636</th>\n",
       "      <td>KVFGRCELAAAMKRHGLDNYRGYSLGNWVCAAKFESNFNTQATNRN...</td>\n",
       "      <td>Protein</td>\n",
       "      <td>A</td>\n",
       "      <td>6SEW</td>\n",
       "      <td>NaN</td>\n",
       "    </tr>\n",
       "    <tr>\n",
       "      <th>29637</th>\n",
       "      <td>VDTKEFLNHQVANLNVFTVKIHQIHWYMRGHNFFTLHEKMDDLYSE...</td>\n",
       "      <td>Protein</td>\n",
       "      <td>A, B, C, D, E, F</td>\n",
       "      <td>6SEV</td>\n",
       "      <td>NaN</td>\n",
       "    </tr>\n",
       "  </tbody>\n",
       "</table>\n",
       "<p>29638 rows × 5 columns</p>\n",
       "</div>"
      ],
      "text/plain": [
       "                                                Sequence Entity Polymer Type  \\\n",
       "0      GSQMTRQARRLYVGNIPFGITEEAMMDFFNAQMRLGGLTQAPGNPV...             Protein   \n",
       "1      GSQMTRQARRLYVGNIPFGITEEAMMDFFNAQMRLGGLTQAPGNPV...             Protein   \n",
       "2      GSQMTRQARRLYVGNIPFGITEEAMMDFFNAQMRLGGLTQAPGNPV...             Protein   \n",
       "3      SLRSDLINALYDENQKYDVCGIISAEGKIYPLGSDTKVLSTIFELF...             Protein   \n",
       "4      MAVLAESELGSEAQRERRKRILDATMAIASKGGYEAVQMRAVADRA...             Protein   \n",
       "...                                                  ...                 ...   \n",
       "29633  DVLMTQIPLSLPVSLGDQASISCRSSQNIVHSNGNTYLEWYLQKPG...             Protein   \n",
       "29634                                PSPCHEKADCILERDGSRS             Protein   \n",
       "29635  KVFGRCELAAAMKRHGLDNYRGYSLGNWVCAAKFESNFNTQATNRN...             Protein   \n",
       "29636  KVFGRCELAAAMKRHGLDNYRGYSLGNWVCAAKFESNFNTQATNRN...             Protein   \n",
       "29637  VDTKEFLNHQVANLNVFTVKIHQIHWYMRGHNFFTLHEKMDDLYSE...             Protein   \n",
       "\n",
       "               Chain ID Entry Id (Polymer Entity Identifiers)  Unnamed: 4  \n",
       "0                     A                                  5EV3         NaN  \n",
       "1                     A                                  5EV2         NaN  \n",
       "2                     A                                  5EV4         NaN  \n",
       "3                  A, B                                  5F8A         NaN  \n",
       "4                  A, B                                  5FMP         NaN  \n",
       "...                 ...                                   ...         ...  \n",
       "29633              B, L                                  6SF6         NaN  \n",
       "29634              C, D                                  6SF6         NaN  \n",
       "29635                 A                                  6SET         NaN  \n",
       "29636                 A                                  6SEW         NaN  \n",
       "29637  A, B, C, D, E, F                                  6SEV         NaN  \n",
       "\n",
       "[29638 rows x 5 columns]"
      ]
     },
     "execution_count": 4,
     "metadata": {},
     "output_type": "execute_result"
    }
   ],
   "source": [
    "df_aa = pd.read_csv(\"aa_only.csv\")\n",
    "df_aa"
   ]
  },
  {
   "cell_type": "code",
   "execution_count": 5,
   "metadata": {},
   "outputs": [
    {
     "data": {
      "text/plain": [
       "array([nan])"
      ]
     },
     "execution_count": 5,
     "metadata": {},
     "output_type": "execute_result"
    }
   ],
   "source": [
    "# Where did the unnamed come from??\n",
    "unnamed = df_aa[\"Unnamed: 4\"] # Maybe trailing comma?\n",
    "unnamed.unique()"
   ]
  },
  {
   "cell_type": "markdown",
   "metadata": {},
   "source": [
    "#### Finding unique values in cloumn \"Entity Polymer Type\"\n",
    "I want to find unique values as described [here](https://chrisalbon.com/python/data_wrangling/pandas_list_unique_values_in_column/)\n",
    "\n",
    "This way I can be sure that my cleaning was successful"
   ]
  },
  {
   "cell_type": "code",
   "execution_count": 6,
   "metadata": {},
   "outputs": [
    {
     "data": {
      "text/plain": [
       "array(['Protein'], dtype=object)"
      ]
     },
     "execution_count": 6,
     "metadata": {},
     "output_type": "execute_result"
    }
   ],
   "source": [
    "# Finding unique names in cols\n",
    "pol_type = df_aa['Entity Polymer Type']\n",
    "pol_type.unique() # I am now sure that all DNA and RNA and Protein/NA lines have been removed."
   ]
  },
  {
   "cell_type": "code",
   "execution_count": 12,
   "metadata": {},
   "outputs": [
    {
     "name": "stdout",
     "output_type": "stream",
     "text": [
      "\"Sequence\",\"Entity Polymer Type\",\"Chain ID\",\"Entry Id (Polymer Entity Identifiers)\",\n",
      "\"GSQMTRQARRLYVGNIPFGITEEAMMDFFNAQMRLGGLTQAPGNPVLAVQINQDKNFAFLEFRSVDETTQAMAFDGIIFQGQSLKIRRPHDYQPLPGMSENPSVYVPGVVSTVVPDSAHKLFIGGLPNYLNDDQVKELLTSFGPLKAFNLVKDSATGLSKGYAFCEYVDINVTDQAIAGLNGMQLGDKKLLVQRASVGAKN\",\"Protein\",\"A\",\"5EV3\",\n",
      "\"GSQMTRQARRLYVGNIPFGITEEAMMDFFNAQMRLGGLTQAPGNPVLAVQINQDKNFAFLEFRSVDETTQAMAFDGIIFQGQSLKIRRPHDYQPLPGMSENPSVYVPGVVSTVVPDSAHKLFIGGLPNYLNDDQVKELLTSFGPLKAFNLVKDSATGLSKGYAFCEYVDINVTDQAIAGLNGMQLGDKKLLVQRASVGAKN\",\"Protein\",\"A\",\"5EV2\",\n"
     ]
    }
   ],
   "source": [
    "!head -3 aa_only.csv"
   ]
  },
  {
   "cell_type": "code",
   "execution_count": 13,
   "metadata": {},
   "outputs": [],
   "source": [
    "!sed '1d' aa_only.csv > noheader_aa_only.csv # removing header before generating fasta\n"
   ]
  },
  {
   "cell_type": "code",
   "execution_count": 17,
   "metadata": {},
   "outputs": [
    {
     "name": "stdout",
     "output_type": "stream",
     "text": [
      "   29639 aa_only.csv\n"
     ]
    }
   ],
   "source": [
    "!wc -l aa_only.csv"
   ]
  },
  {
   "cell_type": "code",
   "execution_count": 18,
   "metadata": {},
   "outputs": [
    {
     "name": "stdout",
     "output_type": "stream",
     "text": [
      "   29638 noheader_aa_only.csv\n"
     ]
    }
   ],
   "source": [
    "!wc -l noheader_aa_only.csv # value matches file is ok proceeding to make fasta"
   ]
  },
  {
   "cell_type": "markdown",
   "metadata": {},
   "source": [
    "#### I want to consider the comma as a field sepparator \n",
    "\n",
    "Since there are several chains per entry denoted as e.g.:\n",
    "\n",
    "``` \"CAGTTTCAAACTC\",\"D, I\",\"5FD3\",```\n",
    "\n",
    "I need to remove the comma between the chains first and replace it with a space:\n",
    "*  ``` sed 's/\\, / /g' $i.csv ```"
   ]
  },
  {
   "cell_type": "code",
   "execution_count": 12,
   "metadata": {},
   "outputs": [
    {
     "name": "stdout",
     "output_type": "stream",
     "text": [
      "\"Sequence\",\"Entity Polymer Type\",\"Chain ID\",\"Entry Id (Polymer Entity Identifiers)\",\n",
      "\"GSQMTRQARRLYVGNIPFGITEEAMMDFFNAQMRLGGLTQAPGNPVLAVQINQDKNFAFLEFRSVDETTQAMAFDGIIFQGQSLKIRRPHDYQPLPGMSENPSVYVPGVVSTVVPDSAHKLFIGGLPNYLNDDQVKELLTSFGPLKAFNLVKDSATGLSKGYAFCEYVDINVTDQAIAGLNGMQLGDKKLLVQRASVGAKN\",\"Protein\",\"A\",\"5EV3\",\n",
      "\"GSQMTRQARRLYVGNIPFGITEEAMMDFFNAQMRLGGLTQAPGNPVLAVQINQDKNFAFLEFRSVDETTQAMAFDGIIFQGQSLKIRRPHDYQPLPGMSENPSVYVPGVVSTVVPDSAHKLFIGGLPNYLNDDQVKELLTSFGPLKAFNLVKDSATGLSKGYAFCEYVDINVTDQAIAGLNGMQLGDKKLLVQRASVGAKN\",\"Protein\",\"A\",\"5EV2\",\n",
      "\"GSQMTRQARRLYVGNIPFGITEEAMMDFFNAQMRLGGLTQAPGNPVLAVQINQDKNFAFLEFRSVDETTQAMAFDGIIFQGQSLKIRRPHDYQPLPGMSENPSVYVPGVVSTVVPDSAHKLFIGGLPNYLNDDQVKELLTSFGPLKAFNLVKDSATGLSKGYAFCEYVDINVTDQAIAGLNGMQLGDKKLLVQRASVGAKN\",\"Protein\",\"A\",\"5EV4\",\n",
      "\"SLRSDLINALYDENQKYDVCGIISAEGKIYPLGSDTKVLSTIFELFSRPIINKIAEKHGYIVEEPKQQNHYPDFTLYKPSEPNKKIAIDIKTTYTNKENEKIKFTLGGYTSFIRNNTKNIVYPFDQYIAHWIIGYVYTRVATRKSSLKTYNINELNEIPKPYKGVKVFLQDKWVIAGDLAGSGNTTNIGSIHAHYKDFVEGKGIFDSEDEFLDYWRNYERTSQLRNDKYNNISEYRNWIYRGRK\",\"Protein\",\"AB\",\"5F8A\",\n",
      "\"MAVLAESELGSEAQRERRKRILDATMAIASKGGYEAVQMRAVADRADVAVGTLYRYFPSKVHLLVSALGREFSRIDAKTDRSAVAGATPFQRLNFMVGKLNRAMQRNPLLTEAMTRAYVFADASAASEVDQVEKLIDSMFARAMANGEPTEDQYHIARVISDVWLSNLLAWLTRRASATDVSKRLDLAVRLLIGDQDSAHHHHHH\",\"Protein\",\"AB\",\"5FMP\",\n",
      "\"GAASMDKKYSIGLAIGTNSVGWAVITDEYKVPSKKFKVLGNTDRHSIKKNLIGALLFDSGETAEATRLKRTARRRYTRRKNRICYLQEIFSNEMAKVDDSFFHRLEESFLVEEDKKHERHPIFGNIVDEVAYHEKYPTIYHLRKKLVDSTDKADLRLIYLALAHMIKFRGHFLIEGDLNPDNSDVDKLFIQLVQTYNQLFEENPINASGVDAKAILSARLSKSRRLENLIAQLPGEKKNGLFGNLIALSLGLTPNFKSNFDLAEDAKLQLSKDTYDDDLDNLLAQIGDQYADLFLAAKNLSDAILLSDILRVNTEITKAPLSASMIKRYDEHHQDLTLLKALVRQQLPEKYKEIFFDQSKNGYAGYIDGGASQEEFYKFIKPILEKMDGTEELLVKLNREDLLRKQRTFDNGSIPHQIHLGELHAILRRQEDFYPFLKDNREKIEKILTFRIPYYVGPLARGNSRFAWMTRKSEETITPWNFEEVVDKGASAQSFIERMTNFDKNLPNEKVLPKHSLLYEYFTVYNELTKVKYVTEGMRKPAFLSGEQKKAIVDLLFKTNRKVTVKQLKEDYFKKIECFDSVEISGVEDRFNASLGTYHDLLKIIKDKDFLDNEENEDILEDIVLTLTLFEDREMIEERLKTYAHLFDDKVMKQLKRRRYTGWGRLSRKLINGIRDKQSGKTILDFLKSDGFANRNFMQLIHDDSLTFKEDIQKAQVSGQGDSLHEHIANLAGSPAIKKGILQTVKVVDELVKVMGRHKPENIVIEMARENQTTQKGQKNSRERMKRIEEGIKELGSQILKEHPVENTQLQNEKLYLYYLQNGRDMYVDQELDINRLSDYDVDAIVPQSFLKDDSIDNKVLTRSDKNRGKSDNVPSEEVVKKMKNYWRQLLNAKLITQRKFDNLTKAERGGLSELDKAGFIKRQLVETRQITKHVAQILDSRMNTKYDENDKLIREVKVITLKSKLVSDFRKDFQFYKVREINNYHHAHDAYLNAVVGTALIKKYPKLESEFVYGDYKVYDVRKMIAKSEQEIGKATAKYFFYSNIMNFFKTEITLANGEIRKRPLIETNGETGEIVWDKGRDFATVRKVLSMPQVNIVKKTEVQTGGFSKESILPKRNSDKLIARKKDWDPKKYGGFDSPTVAYSVLVVAKVEKGKSKKLKSVKELLGITIMERSSFEKNPIDFLEAKGYKEVKKDLIIKLPKYSLFELENGRKRMLASAGELQKGNELALPSKYVNFLYLASHYEKLKGSPEDNEQKQLFVEQHKHYLDEIIEQISEFSKRVILADANLDKVLSAYNKHRDKPIREQAENIIHLFTLTNLGAPAAFKYFDTTIDRKRYTSTKEVLDATLIHQSITGLYETRIDLSQLGGD\",\"Protein\",\"B\",\"5FQ5\",\n",
      "\"MAPKCIECHINIEMDPVLHDVFKLQVCKQCSKEHPEKYALLTKTECKEDYFLTDPELNDEDLFHRLEKPNPHSGTFARMQLFVRCEVEAFAFKKWGGEEGLDEEWQRREEGKAHRREKKYGSAWSHPQFEK\",\"Protein\",\"AB\",\"5G32\",\n",
      "\"MAPKCIECHINIEMDPVLHDVFKLQVCKQCSKEHPEKYALLTKTECKEDYFLTDPELNDEDLFHRLEKPNPHSGTFARMQLFVRCEVEAFAFKKWGGEEGLDEEWQRREEGKAHRREKKYGSAWSHPQFEK\",\"Protein\",\"AB\",\"5G34\",\n",
      "\"MAPKCIECHINIEMDPVLHDVFKLQVCKQCSKEHPEKYALLTKTECKEDYFLTDPELNDEDLFHRLEKPNPHSGTFARMQLFVRCEVEAFAFKKWGGEEGLDEEWQRREEGKAHRREKKYGSAWSHPQFEK\",\"Protein\",\"AB\",\"5G33\",\n"
     ]
    }
   ],
   "source": [
    "# Removing commas between chains\n",
    "\n",
    "sed 's/\\, //g' aa_only.csv > nospace.csv\n",
    "\n",
    "head nospace.csv"
   ]
  },
  {
   "cell_type": "markdown",
   "metadata": {},
   "source": [
    "## 3. Generating the FASTA file\n",
    "\n",
    "* Using awk: defining the comma as field sepparator.\n",
    "\n",
    "* ``` awk -F ',' ```\n",
    "\n",
    "* filtering for lenght in the range of 50 - 300 \n",
    "\n",
    "*  ``` 'length($1) > 50 && length($1) < 301 {print \">\"$4\":\"$3\"\\n\"$1}' ```"
   ]
  },
  {
   "cell_type": "code",
   "execution_count": 13,
   "metadata": {},
   "outputs": [],
   "source": [
    "cat nospace.csv | awk -F ',' 'length($1) > 50 && length($1) < 301 {print \">\"$4\":\"$3\"\\n\"$1}' | sed 's/\\\"//g' > 50_300.fasta"
   ]
  },
  {
   "cell_type": "code",
   "execution_count": 14,
   "metadata": {},
   "outputs": [
    {
     "name": "stdout",
     "output_type": "stream",
     "text": [
      ">5EV3:A\n",
      "GSQMTRQARRLYVGNIPFGITEEAMMDFFNAQMRLGGLTQAPGNPVLAVQINQDKNFAFLEFRSVDETTQAMAFDGIIFQGQSLKIRRPHDYQPLPGMSENPSVYVPGVVSTVVPDSAHKLFIGGLPNYLNDDQVKELLTSFGPLKAFNLVKDSATGLSKGYAFCEYVDINVTDQAIAGLNGMQLGDKKLLVQRASVGAKN\n",
      ">5EV2:A\n",
      "GSQMTRQARRLYVGNIPFGITEEAMMDFFNAQMRLGGLTQAPGNPVLAVQINQDKNFAFLEFRSVDETTQAMAFDGIIFQGQSLKIRRPHDYQPLPGMSENPSVYVPGVVSTVVPDSAHKLFIGGLPNYLNDDQVKELLTSFGPLKAFNLVKDSATGLSKGYAFCEYVDINVTDQAIAGLNGMQLGDKKLLVQRASVGAKN\n",
      ">5EV4:A\n",
      "GSQMTRQARRLYVGNIPFGITEEAMMDFFNAQMRLGGLTQAPGNPVLAVQINQDKNFAFLEFRSVDETTQAMAFDGIIFQGQSLKIRRPHDYQPLPGMSENPSVYVPGVVSTVVPDSAHKLFIGGLPNYLNDDQVKELLTSFGPLKAFNLVKDSATGLSKGYAFCEYVDINVTDQAIAGLNGMQLGDKKLLVQRASVGAKN\n",
      ">5F8A:AB\n",
      "SLRSDLINALYDENQKYDVCGIISAEGKIYPLGSDTKVLSTIFELFSRPIINKIAEKHGYIVEEPKQQNHYPDFTLYKPSEPNKKIAIDIKTTYTNKENEKIKFTLGGYTSFIRNNTKNIVYPFDQYIAHWIIGYVYTRVATRKSSLKTYNINELNEIPKPYKGVKVFLQDKWVIAGDLAGSGNTTNIGSIHAHYKDFVEGKGIFDSEDEFLDYWRNYERTSQLRNDKYNNISEYRNWIYRGRK\n",
      ">5FMP:AB\n",
      "MAVLAESELGSEAQRERRKRILDATMAIASKGGYEAVQMRAVADRADVAVGTLYRYFPSKVHLLVSALGREFSRIDAKTDRSAVAGATPFQRLNFMVGKLNRAMQRNPLLTEAMTRAYVFADASAASEVDQVEKLIDSMFARAMANGEPTEDQYHIARVISDVWLSNLLAWLTRRASATDVSKRLDLAVRLLIGDQDSAHHHHHH\n"
     ]
    }
   ],
   "source": [
    "head 50_300.fasta"
   ]
  },
  {
   "cell_type": "markdown",
   "metadata": {},
   "source": [
    "#### Sequences containing X need to be removed:\n",
    "\n",
    "Working on the script and testing it along the way. The final result is saved as\n",
    "\n",
    "#### removeX.py\n"
   ]
  },
  {
   "cell_type": "code",
   "execution_count": null,
   "metadata": {},
   "outputs": [],
   "source": [
    "def lines_to_list(filename):\n",
    "    ''' Reads all lines from a file and saves them to a list. '''\n",
    "    content_list = []\n",
    "    with open(filename, \"r\") as rfile:\n",
    "        content_list = rfile.readlines()\n",
    "        return content_list\n",
    "\n",
    "myfastalist = lines_to_list(\"50_300.fasta\")  #works"
   ]
  },
  {
   "cell_type": "code",
   "execution_count": 51,
   "metadata": {},
   "outputs": [
    {
     "data": {
      "text/plain": [
       "59276"
      ]
     },
     "execution_count": 51,
     "metadata": {},
     "output_type": "execute_result"
    }
   ],
   "source": [
    "len(myfastalist)"
   ]
  },
  {
   "cell_type": "code",
   "execution_count": 109,
   "metadata": {},
   "outputs": [
    {
     "name": "stdout",
     "output_type": "stream",
     "text": [
      "29638\n",
      "29638\n",
      "59276\n"
     ]
    }
   ],
   "source": [
    "def split_list(liste):\n",
    "    ''' Splits a evennumbered list into two lists. id_list contains all odd items while seq_list contains all even items. Returns the two lists.'''\n",
    "    id_list = liste[::2]\n",
    "    seq_list = liste[1::2]\n",
    "    return id_list, seq_list\n",
    "\n",
    "# teste = ['a', 'b', 'c', 'd', 'e', 'f'] #Works\n",
    "ids, seq = split_list(myfastalist)\n",
    "\n",
    "\n",
    "print(len(ids))\n",
    "print(len(seq))\n",
    "print(len(myfastalist))"
   ]
  },
  {
   "cell_type": "code",
   "execution_count": 105,
   "metadata": {},
   "outputs": [],
   "source": [
    "def remove_X(id1, seq2):\n",
    "    '''Removes items containing X in the sequence list but also the ID in the ID list. \n",
    "    Returns an ID list and an'''\n",
    "    noXid = []\n",
    "    noXseq = []\n",
    "    for i in range(len(id1)):\n",
    "        flag = \"X\" in seq2[i]\n",
    "        if flag == False:\n",
    "            noXid.append(id1[i])\n",
    "            noXseq.append(seq2[i])\n",
    "    return noXid, noXseq\n"
   ]
  },
  {
   "cell_type": "code",
   "execution_count": 128,
   "metadata": {},
   "outputs": [
    {
     "name": "stdout",
     "output_type": "stream",
     "text": [
      "28951\n",
      "28951\n"
     ]
    }
   ],
   "source": [
    "new_id, new_seq = remove_X(ids, seq)\n",
    "\n",
    "print(len(new_id))\n",
    "print(len(new_seq))\n",
    "\n",
    "def no_X_id_and_seq(id_list, seq_list):\n",
    "    ''' Joins the lists to a big list containing both id and sequences. Returns one big list'''\n",
    "    biglist = []\n",
    "    for i in range(len(id_list)):\n",
    "        biglist.append(id_list[i])\n",
    "        biglist.append(seq_list[i])\n",
    "    return biglist\n"
   ]
  },
  {
   "cell_type": "code",
   "execution_count": 130,
   "metadata": {},
   "outputs": [
    {
     "data": {
      "text/plain": [
       "57902"
      ]
     },
     "execution_count": 130,
     "metadata": {},
     "output_type": "execute_result"
    }
   ],
   "source": [
    "biglist = no_X_id_and_seq(new_id, new_seq)\n",
    "len(biglist)"
   ]
  },
  {
   "cell_type": "code",
   "execution_count": 132,
   "metadata": {},
   "outputs": [],
   "source": [
    "#Writing list to file:\n",
    "\n",
    "def list_to_fasta(liste):\n",
    "    '''Takes one id list and one sequlist as input. Writes all elements i to \n",
    "    a file. Returns the file.'''\n",
    "    with open('no_X.fasta', 'w') as F:\n",
    "        for i in liste:\n",
    "            F.write(str(i))\n",
    "    F.close            \n",
    "    "
   ]
  },
  {
   "cell_type": "code",
   "execution_count": 133,
   "metadata": {},
   "outputs": [],
   "source": [
    "list_to_fasta(biglist)"
   ]
  },
  {
   "cell_type": "code",
   "execution_count": 136,
   "metadata": {},
   "outputs": [],
   "source": [
    "def filter_short(infile, outfile):\n",
    "    del_seq_index = []\n",
    "    lines_list = []\n",
    "    with open(infile) as rfile:\n",
    "        lines_list = rfile.readlines()\n",
    "        for i in range(1, len(lines_list),2):\n",
    "            if len(lines_list[i]) < 7:\n",
    "                del_seq_index.append(i-1) # appending header index\n",
    "                del_seq_index.append(i)   # appending sequence index\n",
    "    with open(outfile, 'w') as wfile:\n",
    "        for i in range(len(lines_list)):\n",
    "            if i in del_seq_index:\n",
    "                continue\n",
    "            wfile.write(lines_list[i])    \n",
    "        \n",
    "filter_short(\"no_X.fasta\", 'longsequences.fasta')                   "
   ]
  },
  {
   "cell_type": "markdown",
   "metadata": {},
   "source": [
    "### 4 Clustering the Sequences in blastclust\n",
    "\n",
    "Sending file to be clustered to the VM:"
   ]
  },
  {
   "cell_type": "raw",
   "metadata": {},
   "source": [
    "scp no_X_long_sequs.fasta @proj:~/lb2-2020-project-englander\n",
    "\n",
    "screen\n",
    "\n",
    "source /opt/conda/bin/activate\n",
    "\n",
    "blastclust -i no_X_long_sequs.fasta -o output_clusters.txt -S 30 -L 0.5"
   ]
  },
  {
   "cell_type": "markdown",
   "metadata": {},
   "source": [
    "### Picking longest seuqence of each cluster: by default col1"
   ]
  },
  {
   "cell_type": "code",
   "execution_count": null,
   "metadata": {},
   "outputs": [],
   "source": [
    "awk $1 {print} > best_of_cluster"
   ]
  }
 ],
 "metadata": {
  "kernelspec": {
   "display_name": "Bash",
   "language": "bash",
   "name": "bash"
  },
  "language_info": {
   "codemirror_mode": "shell",
   "file_extension": ".sh",
   "mimetype": "text/x-sh",
   "name": "bash"
  }
 },
 "nbformat": 4,
 "nbformat_minor": 4
}
