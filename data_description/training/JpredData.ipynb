{
 "cells": [
  {
   "cell_type": "code",
   "execution_count": null,
   "metadata": {
    "colab": {
     "base_uri": "https://localhost:8080/",
     "height": 222
    },
    "colab_type": "code",
    "id": "u9XY1kzzUSya",
    "outputId": "8fb84d53-3e56-456b-f6c9-9278afb4f2fe"
   },
   "outputs": [],
   "source": [
    "!pip install seaborn --upgrade"
   ]
  },
  {
   "cell_type": "code",
   "execution_count": 429,
   "metadata": {
    "colab": {},
    "colab_type": "code",
    "id": "zOvexCGCYD21"
   },
   "outputs": [],
   "source": [
    "import pandas as pd\n",
    "import seaborn as sns\n",
    "import matplotlib.pyplot as plt\n",
    "import numpy as np"
   ]
  },
  {
   "cell_type": "code",
   "execution_count": 430,
   "metadata": {
    "colab": {
     "base_uri": "https://localhost:8080/",
     "height": 402
    },
    "colab_type": "code",
    "id": "lA5vd-oRYqfF",
    "outputId": "ea985938-4ecd-4b04-cbfc-94aa0f17c5e0"
   },
   "outputs": [
    {
     "data": {
      "text/html": [
       "<div>\n",
       "<style scoped>\n",
       "    .dataframe tbody tr th:only-of-type {\n",
       "        vertical-align: middle;\n",
       "    }\n",
       "\n",
       "    .dataframe tbody tr th {\n",
       "        vertical-align: top;\n",
       "    }\n",
       "\n",
       "    .dataframe thead th {\n",
       "        text-align: right;\n",
       "    }\n",
       "</style>\n",
       "<table border=\"1\" class=\"dataframe\">\n",
       "  <thead>\n",
       "    <tr style=\"text-align: right;\">\n",
       "      <th></th>\n",
       "      <th>DomainID</th>\n",
       "      <th>PDB</th>\n",
       "      <th>SCOPID</th>\n",
       "      <th>SCOPClass</th>\n",
       "      <th>Length</th>\n",
       "      <th>Suprekingdom</th>\n",
       "      <th>TaxaID</th>\n",
       "      <th>TaxaName</th>\n",
       "    </tr>\n",
       "  </thead>\n",
       "  <tbody>\n",
       "    <tr>\n",
       "      <th>0</th>\n",
       "      <td>d1a12a_</td>\n",
       "      <td>1a12</td>\n",
       "      <td>b.69.5.1</td>\n",
       "      <td>All beta</td>\n",
       "      <td>401</td>\n",
       "      <td>eukaryota</td>\n",
       "      <td>9606</td>\n",
       "      <td>Homo sapiens</td>\n",
       "    </tr>\n",
       "    <tr>\n",
       "      <th>1</th>\n",
       "      <td>d1a1xa_</td>\n",
       "      <td>1a1x</td>\n",
       "      <td>b.63.1.1</td>\n",
       "      <td>All beta</td>\n",
       "      <td>106</td>\n",
       "      <td>eukaryota</td>\n",
       "      <td>9606</td>\n",
       "      <td>Homo sapiens</td>\n",
       "    </tr>\n",
       "    <tr>\n",
       "      <th>2</th>\n",
       "      <td>d1a62a1</td>\n",
       "      <td>1a62</td>\n",
       "      <td>a.140.3.1</td>\n",
       "      <td>All alpha</td>\n",
       "      <td>47</td>\n",
       "      <td>bacteria</td>\n",
       "      <td>469008</td>\n",
       "      <td>Escherichia coli BL21(DE3)</td>\n",
       "    </tr>\n",
       "    <tr>\n",
       "      <th>3</th>\n",
       "      <td>d1a9xa1</td>\n",
       "      <td>1a9x</td>\n",
       "      <td>a.92.1.1</td>\n",
       "      <td>All alpha</td>\n",
       "      <td>153</td>\n",
       "      <td>bacteria</td>\n",
       "      <td>562</td>\n",
       "      <td>Escherichia coli</td>\n",
       "    </tr>\n",
       "    <tr>\n",
       "      <th>4</th>\n",
       "      <td>d1acoa1</td>\n",
       "      <td>1aco</td>\n",
       "      <td>c.8.2.1</td>\n",
       "      <td>Alpha and beta (a/b)</td>\n",
       "      <td>226</td>\n",
       "      <td>eukaryota</td>\n",
       "      <td>9913</td>\n",
       "      <td>Bos taurus</td>\n",
       "    </tr>\n",
       "    <tr>\n",
       "      <th>...</th>\n",
       "      <td>...</td>\n",
       "      <td>...</td>\n",
       "      <td>...</td>\n",
       "      <td>...</td>\n",
       "      <td>...</td>\n",
       "      <td>...</td>\n",
       "      <td>...</td>\n",
       "      <td>...</td>\n",
       "    </tr>\n",
       "    <tr>\n",
       "      <th>1343</th>\n",
       "      <td>e1n13.1B</td>\n",
       "      <td>1n13</td>\n",
       "      <td>d.155.1.2</td>\n",
       "      <td>Alpha and beta (a+b)</td>\n",
       "      <td>112</td>\n",
       "      <td>archaea</td>\n",
       "      <td>2190</td>\n",
       "      <td>Methanocaldococcus jannaschii</td>\n",
       "    </tr>\n",
       "    <tr>\n",
       "      <th>1344</th>\n",
       "      <td>e1qd6.1C</td>\n",
       "      <td>1qd6</td>\n",
       "      <td>f.4.2.1</td>\n",
       "      <td>Membrane and cell surface proteins and peptides</td>\n",
       "      <td>240</td>\n",
       "      <td>bacteria</td>\n",
       "      <td>562</td>\n",
       "      <td>Escherichia coli</td>\n",
       "    </tr>\n",
       "    <tr>\n",
       "      <th>1345</th>\n",
       "      <td>e1qqp.12</td>\n",
       "      <td>1qqp</td>\n",
       "      <td>b.121.4.1</td>\n",
       "      <td>All beta</td>\n",
       "      <td>216</td>\n",
       "      <td>viruses</td>\n",
       "      <td>12110</td>\n",
       "      <td>Foot-and-mouth disease virus</td>\n",
       "    </tr>\n",
       "    <tr>\n",
       "      <th>1346</th>\n",
       "      <td>e1qtn.1A</td>\n",
       "      <td>1qtn</td>\n",
       "      <td>c.17.1.1</td>\n",
       "      <td>Alpha and beta (a/b)</td>\n",
       "      <td>152</td>\n",
       "      <td>eukaryota</td>\n",
       "      <td>9606</td>\n",
       "      <td>Homo sapiens</td>\n",
       "    </tr>\n",
       "    <tr>\n",
       "      <th>1347</th>\n",
       "      <td>e1qtn.1B</td>\n",
       "      <td>1qtn</td>\n",
       "      <td>c.17.1.1</td>\n",
       "      <td>Alpha and beta (a/b)</td>\n",
       "      <td>90</td>\n",
       "      <td>eukaryota</td>\n",
       "      <td>9606</td>\n",
       "      <td>Homo sapiens</td>\n",
       "    </tr>\n",
       "  </tbody>\n",
       "</table>\n",
       "<p>1348 rows × 8 columns</p>\n",
       "</div>"
      ],
      "text/plain": [
       "      DomainID   PDB     SCOPID  \\\n",
       "0      d1a12a_  1a12   b.69.5.1   \n",
       "1      d1a1xa_  1a1x   b.63.1.1   \n",
       "2      d1a62a1  1a62  a.140.3.1   \n",
       "3      d1a9xa1  1a9x   a.92.1.1   \n",
       "4      d1acoa1  1aco    c.8.2.1   \n",
       "...        ...   ...        ...   \n",
       "1343  e1n13.1B  1n13  d.155.1.2   \n",
       "1344  e1qd6.1C  1qd6    f.4.2.1   \n",
       "1345  e1qqp.12  1qqp  b.121.4.1   \n",
       "1346  e1qtn.1A  1qtn   c.17.1.1   \n",
       "1347  e1qtn.1B  1qtn   c.17.1.1   \n",
       "\n",
       "                                            SCOPClass  Length Suprekingdom  \\\n",
       "0                                            All beta     401    eukaryota   \n",
       "1                                            All beta     106    eukaryota   \n",
       "2                                           All alpha      47     bacteria   \n",
       "3                                           All alpha     153     bacteria   \n",
       "4                                Alpha and beta (a/b)     226    eukaryota   \n",
       "...                                               ...     ...          ...   \n",
       "1343                             Alpha and beta (a+b)     112      archaea   \n",
       "1344  Membrane and cell surface proteins and peptides     240     bacteria   \n",
       "1345                                         All beta     216      viruses   \n",
       "1346                             Alpha and beta (a/b)     152    eukaryota   \n",
       "1347                             Alpha and beta (a/b)      90    eukaryota   \n",
       "\n",
       "      TaxaID                       TaxaName  \n",
       "0       9606                   Homo sapiens  \n",
       "1       9606                   Homo sapiens  \n",
       "2     469008     Escherichia coli BL21(DE3)  \n",
       "3        562               Escherichia coli  \n",
       "4       9913                     Bos taurus  \n",
       "...      ...                            ...  \n",
       "1343    2190  Methanocaldococcus jannaschii  \n",
       "1344     562               Escherichia coli  \n",
       "1345   12110   Foot-and-mouth disease virus  \n",
       "1346    9606                   Homo sapiens  \n",
       "1347    9606                   Homo sapiens  \n",
       "\n",
       "[1348 rows x 8 columns]"
      ]
     },
     "execution_count": 430,
     "metadata": {},
     "output_type": "execute_result"
    }
   ],
   "source": [
    "df = pd.read_csv('jpred4.tsv', sep='\\t')\n",
    "df"
   ]
  },
  {
   "cell_type": "markdown",
   "metadata": {
    "colab_type": "text",
    "id": "jkA0JpAeZwEi"
   },
   "source": [
    "# Distribution of domain lengths"
   ]
  },
  {
   "cell_type": "code",
   "execution_count": 436,
   "metadata": {
    "colab": {
     "base_uri": "https://localhost:8080/",
     "height": 684
    },
    "colab_type": "code",
    "id": "U0oFLi8paBD-",
    "outputId": "98ca5c92-65be-4f17-b1c6-59af4ed5b523"
   },
   "outputs": [
    {
     "data": {
      "text/plain": [
       "<matplotlib.axes._subplots.AxesSubplot at 0x1a3a696940>"
      ]
     },
     "execution_count": 436,
     "metadata": {},
     "output_type": "execute_result"
    },
    {
     "data": {
      "image/png": "[encoded data removed]",
      "text/plain": [
       "<Figure size 1800x432 with 1 Axes>"
      ]
     },
     "metadata": {
      "needs_background": "light"
     },
     "output_type": "display_data"
    }
   ],
   "source": [
    "plt.figure(figsize=(25,6))\n",
    "sns.boxplot(x = \"SCOPClass\",y=\"Length\",data =df)"
   ]
  },
  {
   "cell_type": "markdown",
   "metadata": {
    "colab_type": "text",
    "id": "P0bAslfWavty"
   },
   "source": [
    "# Structural classification (SCOP)"
   ]
  },
  {
   "cell_type": "code",
   "execution_count": 437,
   "metadata": {
    "colab": {
     "base_uri": "https://localhost:8080/",
     "height": 284
    },
    "colab_type": "code",
    "id": "KTj-TFsxa1ji",
    "outputId": "4c700539-dd58-47d7-a19a-834d20025aef"
   },
   "outputs": [
    {
     "data": {
      "text/html": [
       "<div>\n",
       "<style scoped>\n",
       "    .dataframe tbody tr th:only-of-type {\n",
       "        vertical-align: middle;\n",
       "    }\n",
       "\n",
       "    .dataframe tbody tr th {\n",
       "        vertical-align: top;\n",
       "    }\n",
       "\n",
       "    .dataframe thead th {\n",
       "        text-align: right;\n",
       "    }\n",
       "</style>\n",
       "<table border=\"1\" class=\"dataframe\">\n",
       "  <thead>\n",
       "    <tr style=\"text-align: right;\">\n",
       "      <th></th>\n",
       "      <th>counts</th>\n",
       "    </tr>\n",
       "    <tr>\n",
       "      <th>SCOPClass</th>\n",
       "      <th></th>\n",
       "    </tr>\n",
       "  </thead>\n",
       "  <tbody>\n",
       "    <tr>\n",
       "      <th>Alpha and beta (a+b)</th>\n",
       "      <td>394</td>\n",
       "    </tr>\n",
       "    <tr>\n",
       "      <th>All alpha</th>\n",
       "      <td>354</td>\n",
       "    </tr>\n",
       "    <tr>\n",
       "      <th>All beta</th>\n",
       "      <td>253</td>\n",
       "    </tr>\n",
       "    <tr>\n",
       "      <th>Alpha and beta (a/b)</th>\n",
       "      <td>199</td>\n",
       "    </tr>\n",
       "    <tr>\n",
       "      <th>Small proteins</th>\n",
       "      <td>57</td>\n",
       "    </tr>\n",
       "    <tr>\n",
       "      <th>Membrane and cell surface proteins and peptides</th>\n",
       "      <td>54</td>\n",
       "    </tr>\n",
       "    <tr>\n",
       "      <th>Multi-domain proteins (alpha and beta)</th>\n",
       "      <td>37</td>\n",
       "    </tr>\n",
       "  </tbody>\n",
       "</table>\n",
       "</div>"
      ],
      "text/plain": [
       "                                                 counts\n",
       "SCOPClass                                              \n",
       "Alpha and beta (a+b)                                394\n",
       "All alpha                                           354\n",
       "All beta                                            253\n",
       "Alpha and beta (a/b)                                199\n",
       "Small proteins                                       57\n",
       "Membrane and cell surface proteins and peptides      54\n",
       "Multi-domain proteins (alpha and beta)               37"
      ]
     },
     "execution_count": 437,
     "metadata": {},
     "output_type": "execute_result"
    }
   ],
   "source": [
    "SCOP_count = df[\"SCOPClass\"].value_counts()\n",
    "df2 = SCOP_count.rename_axis(\"SCOPClass\").to_frame(\"counts\")\n",
    "df2"
   ]
  },
  {
   "cell_type": "code",
   "execution_count": 438,
   "metadata": {
    "colab": {
     "base_uri": "https://localhost:8080/",
     "height": 592
    },
    "colab_type": "code",
    "id": "f9LjHhnVcEAn",
    "outputId": "976a8aa7-1439-4303-b3f4-072b1040d4c4"
   },
   "outputs": [
    {
     "data": {
      "image/png": "[encoded data removed]",
      "text/plain": [
       "<Figure size 576x576 with 1 Axes>"
      ]
     },
     "metadata": {},
     "output_type": "display_data"
    }
   ],
   "source": [
    "coldf2 = sns.color_palette(\"bright\")\n",
    "df2.plot.pie(y=\"counts\", autopct='%1.1f%%', explode=(0.0,0,0,0.0,0.03,0.05,0.07), startangle=-13,fontsize=12, figsize=(8,8), colors=coldf2, labels= None)\n",
    "plt.savefig(\"./train_imgs/SCOP.png\")"
   ]
  },
  {
   "cell_type": "markdown",
   "metadata": {
    "colab_type": "text",
    "id": "GQy88RXKeGE1"
   },
   "source": [
    "# Comparative aminoacid composition"
   ]
  },
  {
   "cell_type": "markdown",
   "metadata": {
    "colab_type": "text",
    "id": "7Y4XAYlyewIU"
   },
   "source": [
    "1.1 Entire dataset"
   ]
  },
  {
   "cell_type": "code",
   "execution_count": 440,
   "metadata": {
    "colab": {
     "base_uri": "https://localhost:8080/",
     "height": 700
    },
    "colab_type": "code",
    "id": "6WEZWoB48oNY",
    "outputId": "637e2603-aeea-4a85-b1f5-d485c3b0241d"
   },
   "outputs": [],
   "source": [
    "length = 218421\n",
    "dictio = {'A': 18387, 'C': 2908, 'E': 15539, 'D': 12678, 'G': 15818, 'F': 8585, 'I': 12434, 'H': 4897, 'K': 13105, 'M': 4690, 'L': 20473, 'N': 8775, 'Q': 8353, 'P': 9851, 'S': 12576, 'R': 11430, 'T': 11902, 'W': 2983, 'V': 15645, 'Y': 7389, 'X': 3}\n",
    "tot_counts = pd.DataFrame.from_dict(dictio, orient = \"index\",columns=[\"Total Number\"])\n",
    "tot_counts[\"Amino acids\"] = tot_counts.index\n",
    "# tot_counts"
   ]
  },
  {
   "cell_type": "code",
   "execution_count": null,
   "metadata": {
    "colab": {
     "base_uri": "https://localhost:8080/",
     "height": 700
    },
    "colab_type": "code",
    "id": "BXB95fAm-7LJ",
    "outputId": "0d967f30-27ed-4097-a1ae-4e2b586501cd"
   },
   "outputs": [],
   "source": [
    "relative = tot_counts[\"Total Number\"].div(length)\n",
    "display(relative)\n",
    "plt.figure(figsize=(25,15))\n",
    "sns.barplot(x=\"Amino acids\", y= \"Total Number\", data=relative)"
   ]
  },
  {
   "cell_type": "code",
   "execution_count": 442,
   "metadata": {},
   "outputs": [
    {
     "data": {
      "text/plain": [
       "Total Number                   218421\n",
       "Amino acids     ACEDGFIHKMLNQPSRTWVYX\n",
       "dtype: object"
      ]
     },
     "execution_count": 442,
     "metadata": {},
     "output_type": "execute_result"
    }
   ],
   "source": [
    "tot_counts.sum(axis=0)"
   ]
  },
  {
   "cell_type": "markdown",
   "metadata": {},
   "source": [
    "## Excluding residue X"
   ]
  },
  {
   "cell_type": "code",
   "execution_count": 444,
   "metadata": {
    "colab": {
     "base_uri": "https://localhost:8080/",
     "height": 894
    },
    "colab_type": "code",
    "id": "fh_GdY1SegEd",
    "outputId": "506a8aa1-7c81-45bf-f043-689320baeece"
   },
   "outputs": [
    {
     "data": {
      "text/html": [
       "<div>\n",
       "<style scoped>\n",
       "    .dataframe tbody tr th:only-of-type {\n",
       "        vertical-align: middle;\n",
       "    }\n",
       "\n",
       "    .dataframe tbody tr th {\n",
       "        vertical-align: top;\n",
       "    }\n",
       "\n",
       "    .dataframe thead th {\n",
       "        text-align: right;\n",
       "    }\n",
       "</style>\n",
       "<table border=\"1\" class=\"dataframe\">\n",
       "  <thead>\n",
       "    <tr style=\"text-align: right;\">\n",
       "      <th></th>\n",
       "      <th>Residue</th>\n",
       "      <th>SS or tot</th>\n",
       "      <th>Frequency</th>\n",
       "      <th>Total</th>\n",
       "    </tr>\n",
       "  </thead>\n",
       "  <tbody>\n",
       "    <tr>\n",
       "      <th>0</th>\n",
       "      <td>V</td>\n",
       "      <td>H</td>\n",
       "      <td>5112</td>\n",
       "      <td>77742</td>\n",
       "    </tr>\n",
       "    <tr>\n",
       "      <th>1</th>\n",
       "      <td>V</td>\n",
       "      <td>E</td>\n",
       "      <td>6494</td>\n",
       "      <td>48588</td>\n",
       "    </tr>\n",
       "    <tr>\n",
       "      <th>2</th>\n",
       "      <td>V</td>\n",
       "      <td>C</td>\n",
       "      <td>4039</td>\n",
       "      <td>92091</td>\n",
       "    </tr>\n",
       "    <tr>\n",
       "      <th>3</th>\n",
       "      <td>L</td>\n",
       "      <td>C</td>\n",
       "      <td>6096</td>\n",
       "      <td>92091</td>\n",
       "    </tr>\n",
       "    <tr>\n",
       "      <th>4</th>\n",
       "      <td>H</td>\n",
       "      <td>E</td>\n",
       "      <td>1105</td>\n",
       "      <td>48588</td>\n",
       "    </tr>\n",
       "    <tr>\n",
       "      <th>...</th>\n",
       "      <td>...</td>\n",
       "      <td>...</td>\n",
       "      <td>...</td>\n",
       "      <td>...</td>\n",
       "    </tr>\n",
       "    <tr>\n",
       "      <th>77</th>\n",
       "      <td>T</td>\n",
       "      <td>sum</td>\n",
       "      <td>11902</td>\n",
       "      <td>218421</td>\n",
       "    </tr>\n",
       "    <tr>\n",
       "      <th>78</th>\n",
       "      <td>W</td>\n",
       "      <td>sum</td>\n",
       "      <td>2983</td>\n",
       "      <td>218421</td>\n",
       "    </tr>\n",
       "    <tr>\n",
       "      <th>79</th>\n",
       "      <td>V</td>\n",
       "      <td>sum</td>\n",
       "      <td>15645</td>\n",
       "      <td>218421</td>\n",
       "    </tr>\n",
       "    <tr>\n",
       "      <th>80</th>\n",
       "      <td>Y</td>\n",
       "      <td>sum</td>\n",
       "      <td>7389</td>\n",
       "      <td>218421</td>\n",
       "    </tr>\n",
       "    <tr>\n",
       "      <th>81</th>\n",
       "      <td>X</td>\n",
       "      <td>sum</td>\n",
       "      <td>3</td>\n",
       "      <td>218421</td>\n",
       "    </tr>\n",
       "  </tbody>\n",
       "</table>\n",
       "<p>82 rows × 4 columns</p>\n",
       "</div>"
      ],
      "text/plain": [
       "   Residue SS or tot  Frequency   Total\n",
       "0        V         H       5112   77742\n",
       "1        V         E       6494   48588\n",
       "2        V         C       4039   92091\n",
       "3        L         C       6096   92091\n",
       "4        H         E       1105   48588\n",
       "..     ...       ...        ...     ...\n",
       "77       T       sum      11902  218421\n",
       "78       W       sum       2983  218421\n",
       "79       V       sum      15645  218421\n",
       "80       Y       sum       7389  218421\n",
       "81       X       sum          3  218421\n",
       "\n",
       "[82 rows x 4 columns]"
      ]
     },
     "metadata": {},
     "output_type": "display_data"
    }
   ],
   "source": [
    "li=[ ['V', 'H', 5112, 77742], ['V', 'E', 6494, 48588], ['V', 'C', 4039, 92091], ['L', 'C', 6096, 92091], ['H', 'E', 1105, 48588], ['Q', 'H', 3838, 77742], ['L', 'E', 4841, 48588], ['R', 'E', 2406, 48588], ['K', 'C', 5336, 92091], ['Y', 'E', 2410, 48588], ['I', 'H', 4821, 77742], ['T', 'H', 3271, 77742], ['W', 'H', 1086, 77742], ['P', 'C', 7250, 92091], ['Y', 'C', 2470, 92091], ['T', 'C', 5405, 92091],  ['M', 'H', 2073, 77742], ['K', 'E', 2437, 48588], ['Y', 'H', 2509, 77742], ['A', 'H', 9118, 77742], ['E', 'H', 7450, 77742], ['C', 'H', 811, 77742], ['F', 'C', 2870, 92091], ['E', 'E', 2321, 48588], ['E', 'C', 5768, 92091], ['P', 'E', 1092, 48588], ['S', 'H', 3458, 77742], ['A', 'E', 3131, 48588], ['N', 'E', 1262, 48588], ['I', 'C', 2979, 92091], ['K', 'H', 5332, 77742], ['C', 'C', 1275, 92091], ['N', 'C', 5204, 92091], ['G', 'E', 2414, 48588], ['D', 'H', 3592, 77742], ['D', 'E', 1598, 48588], ['S', 'C', 6680, 92091], ['Q', 'E', 1401, 48588], ['W', 'C', 1009, 92091], ['D', 'C', 7488, 92091], ['S', 'E', 2438, 48588], ['W', 'E', 888, 48588], ['T', 'E', 3226, 48588], ['R', 'C', 4209, 92091], ['L', 'H', 9536, 77742], ['H', 'C', 2276, 92091], ['F', 'H', 3066, 77742], ['R', 'H', 4815, 77742], ['P', 'H', 1509, 77742], ['M', 'C', 1598, 92091], ['H', 'H', 1516, 77742], ['A', 'C', 6138, 92091], ['F', 'E', 2649, 48588], ['M', 'E', 1019, 48588], ['N', 'H', 2309, 77742],  ['G', 'C', 10884, 92091], ['G', 'H', 2520, 77742], ['I', 'E', 4634, 48588], ['C', 'E', 822, 48588], ['Q', 'C', 3114, 92091], ['X', 'C', 3, 92091]] # \n",
    "\n",
    "dictio = {'A': 18387, 'C': 2908, 'E': 15539, 'D': 12678, 'G': 15818, 'F': 8585, 'I': 12434, 'H': 4897, 'K': 13105, 'M': 4690, 'L': 20473, 'N': 8775, 'Q': 8353, 'P': 9851, 'S': 12576, 'R': 11430, 'T': 11902, 'W': 2983, 'V': 15645, 'Y': 7389, 'X': 3}\n",
    "for k in dictio.keys():\n",
    "    li.append([k, 'sum', dictio[k], 218421])\n",
    "\n",
    "# print(li)\n",
    "\n",
    "hec_tot = pd.DataFrame(li)\n",
    "hec_tot.columns = ['Residue', 'SS or tot', 'Frequency', 'Total' ]\n",
    "display(hec_tot)\n"
   ]
  },
  {
   "cell_type": "code",
   "execution_count": 445,
   "metadata": {},
   "outputs": [
    {
     "data": {
      "text/html": [
       "<div>\n",
       "<style scoped>\n",
       "    .dataframe tbody tr th:only-of-type {\n",
       "        vertical-align: middle;\n",
       "    }\n",
       "\n",
       "    .dataframe tbody tr th {\n",
       "        vertical-align: top;\n",
       "    }\n",
       "\n",
       "    .dataframe thead th {\n",
       "        text-align: right;\n",
       "    }\n",
       "</style>\n",
       "<table border=\"1\" class=\"dataframe\">\n",
       "  <thead>\n",
       "    <tr style=\"text-align: right;\">\n",
       "      <th></th>\n",
       "      <th>Residue</th>\n",
       "      <th>SS or tot</th>\n",
       "      <th>Frequency</th>\n",
       "      <th>Total</th>\n",
       "    </tr>\n",
       "  </thead>\n",
       "  <tbody>\n",
       "    <tr>\n",
       "      <th>0</th>\n",
       "      <td>V</td>\n",
       "      <td>H</td>\n",
       "      <td>0.065756</td>\n",
       "      <td>77742</td>\n",
       "    </tr>\n",
       "    <tr>\n",
       "      <th>1</th>\n",
       "      <td>V</td>\n",
       "      <td>E</td>\n",
       "      <td>0.133654</td>\n",
       "      <td>48588</td>\n",
       "    </tr>\n",
       "    <tr>\n",
       "      <th>2</th>\n",
       "      <td>V</td>\n",
       "      <td>C</td>\n",
       "      <td>0.043859</td>\n",
       "      <td>92091</td>\n",
       "    </tr>\n",
       "    <tr>\n",
       "      <th>3</th>\n",
       "      <td>L</td>\n",
       "      <td>C</td>\n",
       "      <td>0.066195</td>\n",
       "      <td>92091</td>\n",
       "    </tr>\n",
       "    <tr>\n",
       "      <th>4</th>\n",
       "      <td>H</td>\n",
       "      <td>E</td>\n",
       "      <td>0.022742</td>\n",
       "      <td>48588</td>\n",
       "    </tr>\n",
       "    <tr>\n",
       "      <th>...</th>\n",
       "      <td>...</td>\n",
       "      <td>...</td>\n",
       "      <td>...</td>\n",
       "      <td>...</td>\n",
       "    </tr>\n",
       "    <tr>\n",
       "      <th>77</th>\n",
       "      <td>T</td>\n",
       "      <td>sum</td>\n",
       "      <td>0.054491</td>\n",
       "      <td>218421</td>\n",
       "    </tr>\n",
       "    <tr>\n",
       "      <th>78</th>\n",
       "      <td>W</td>\n",
       "      <td>sum</td>\n",
       "      <td>0.013657</td>\n",
       "      <td>218421</td>\n",
       "    </tr>\n",
       "    <tr>\n",
       "      <th>79</th>\n",
       "      <td>V</td>\n",
       "      <td>sum</td>\n",
       "      <td>0.071628</td>\n",
       "      <td>218421</td>\n",
       "    </tr>\n",
       "    <tr>\n",
       "      <th>80</th>\n",
       "      <td>Y</td>\n",
       "      <td>sum</td>\n",
       "      <td>0.033829</td>\n",
       "      <td>218421</td>\n",
       "    </tr>\n",
       "    <tr>\n",
       "      <th>81</th>\n",
       "      <td>X</td>\n",
       "      <td>sum</td>\n",
       "      <td>0.000014</td>\n",
       "      <td>218421</td>\n",
       "    </tr>\n",
       "  </tbody>\n",
       "</table>\n",
       "<p>82 rows × 4 columns</p>\n",
       "</div>"
      ],
      "text/plain": [
       "   Residue SS or tot  Frequency   Total\n",
       "0        V         H   0.065756   77742\n",
       "1        V         E   0.133654   48588\n",
       "2        V         C   0.043859   92091\n",
       "3        L         C   0.066195   92091\n",
       "4        H         E   0.022742   48588\n",
       "..     ...       ...        ...     ...\n",
       "77       T       sum   0.054491  218421\n",
       "78       W       sum   0.013657  218421\n",
       "79       V       sum   0.071628  218421\n",
       "80       Y       sum   0.033829  218421\n",
       "81       X       sum   0.000014  218421\n",
       "\n",
       "[82 rows x 4 columns]"
      ]
     },
     "execution_count": 445,
     "metadata": {},
     "output_type": "execute_result"
    }
   ],
   "source": [
    "# dividing by Total\n",
    "hec_tot['Frequency'] = hec_tot['Frequency'].div(hec_tot['Total'])\n",
    "hec_tot\n"
   ]
  },
  {
   "cell_type": "code",
   "execution_count": 446,
   "metadata": {},
   "outputs": [
    {
     "data": {
      "image/png": "[encoded data removed]",
      "text/plain": [
       "<Figure size 864x432 with 1 Axes>"
      ]
     },
     "metadata": {
      "needs_background": "light"
     },
     "output_type": "display_data"
    }
   ],
   "source": [
    "plt.figure(figsize=(12,6))\n",
    "sns.barplot(x=\"Residue\",y=\"Frequency\",hue=\"SS or tot\",data=hec_tot, palette=\"bright\")\n",
    "plt.legend(loc=1,prop={'size':10})\n",
    "plt.savefig('./train_imgs/aa_dist.png')"
   ]
  },
  {
   "cell_type": "markdown",
   "metadata": {
    "colab_type": "text",
    "id": "M8_QxNpqIFOW"
   },
   "source": [
    "1.2 Fraction of helix, strand and coil residues"
   ]
  },
  {
   "cell_type": "code",
   "execution_count": null,
   "metadata": {
    "colab": {
     "base_uri": "https://localhost:8080/",
     "height": 419
    },
    "colab_type": "code",
    "id": "_L1mK9lieFHS",
    "outputId": "e0dd9f95-05cf-46a8-f230-8f2f8794344c"
   },
   "outputs": [],
   "source": [
    "m=[ ['V', 'H', 5112, 77742], ['V', 'E', 6494, 48588], ['V', 'C', 4039, 92091], ['L', 'C', 6096, 92091], ['H', 'E', 1105, 48588], ['Q', 'H', 3838, 77742], ['L', 'E', 4841, 48588], ['R', 'E', 2406, 48588], ['K', 'C', 5336, 92091], ['Y', 'E', 2410, 48588], ['I', 'H', 4821, 77742], ['T', 'H', 3271, 77742], ['W', 'H', 1086, 77742], ['P', 'C', 7250, 92091], ['Y', 'C', 2470, 92091], ['T', 'C', 5405, 92091],  ['M', 'H', 2073, 77742], ['K', 'E', 2437, 48588], ['Y', 'H', 2509, 77742], ['A', 'H', 9118, 77742], ['E', 'H', 7450, 77742], ['C', 'H', 811, 77742], ['F', 'C', 2870, 92091], ['E', 'E', 2321, 48588], ['E', 'C', 5768, 92091], ['P', 'E', 1092, 48588], ['S', 'H', 3458, 77742], ['A', 'E', 3131, 48588], ['N', 'E', 1262, 48588], ['I', 'C', 2979, 92091], ['K', 'H', 5332, 77742], ['C', 'C', 1275, 92091], ['N', 'C', 5204, 92091], ['G', 'E', 2414, 48588], ['D', 'H', 3592, 77742], ['D', 'E', 1598, 48588], ['S', 'C', 6680, 92091], ['Q', 'E', 1401, 48588], ['W', 'C', 1009, 92091], ['D', 'C', 7488, 92091], ['S', 'E', 2438, 48588], ['W', 'E', 888, 48588], ['T', 'E', 3226, 48588], ['R', 'C', 4209, 92091], ['L', 'H', 9536, 77742], ['H', 'C', 2276, 92091], ['F', 'H', 3066, 77742], ['R', 'H', 4815, 77742], ['P', 'H', 1509, 77742], ['M', 'C', 1598, 92091], ['H', 'H', 1516, 77742], ['A', 'C', 6138, 92091], ['F', 'E', 2649, 48588], ['M', 'E', 1019, 48588], ['N', 'H', 2309, 77742],  ['G', 'C', 10884, 92091], ['G', 'H', 2520, 77742], ['I', 'E', 4634, 48588], ['C', 'E', 822, 48588], ['Q', 'C', 3114, 92091]] #['X', 'C', 3, 92091], \n",
    "corr= pd.DataFrame(m) #GAVPLIMFWYSTCNQHDEKRX\n",
    "corr.columns = ['Aminoacids','SecondaryS','Correspondances', \"SS_Ab\"]\n",
    "corr"
   ]
  },
  {
   "cell_type": "code",
   "execution_count": null,
   "metadata": {},
   "outputs": [],
   "source": [
    "# m=[ ['V', 'H', 5112, 77742], ['V', 'E', 6494, 48588], ['V', 'C', 4039, 92091], ['L', 'C', 6096, 92091], ['H', 'E', 1105, 48588], ['Q', 'H', 3838, 77742], ['L', 'E', 4841, 48588], ['R', 'E', 2406, 48588], ['K', 'C', 5336, 92091], ['Y', 'E', 2410, 48588], ['I', 'H', 4821, 77742], ['T', 'H', 3271, 77742], ['W', 'H', 1086, 77742], ['P', 'C', 7250, 92091], ['Y', 'C', 2470, 92091], ['T', 'C', 5405, 92091],  ['M', 'H', 2073, 77742], ['K', 'E', 2437, 48588], ['Y', 'H', 2509, 77742], ['A', 'H', 9118, 77742], ['E', 'H', 7450, 77742], ['C', 'H', 811, 77742], ['F', 'C', 2870, 92091], ['E', 'E', 2321, 48588], ['E', 'C', 5768, 92091], ['P', 'E', 1092, 48588], ['S', 'H', 3458, 77742], ['A', 'E', 3131, 48588], ['N', 'E', 1262, 48588], ['I', 'C', 2979, 92091], ['K', 'H', 5332, 77742], ['C', 'C', 1275, 92091], ['N', 'C', 5204, 92091], ['G', 'E', 2414, 48588], ['D', 'H', 3592, 77742], ['D', 'E', 1598, 48588], ['S', 'C', 6680, 92091], ['Q', 'E', 1401, 48588], ['W', 'C', 1009, 92091], ['D', 'C', 7488, 92091], ['S', 'E', 2438, 48588], ['W', 'E', 888, 48588], ['T', 'E', 3226, 48588], ['R', 'C', 4209, 92091], ['L', 'H', 9536, 77742], ['H', 'C', 2276, 92091], ['F', 'H', 3066, 77742], ['R', 'H', 4815, 77742], ['P', 'H', 1509, 77742], ['M', 'C', 1598, 92091], ['H', 'H', 1516, 77742], ['A', 'C', 6138, 92091], ['F', 'E', 2649, 48588], ['M', 'E', 1019, 48588], ['N', 'H', 2309, 77742],  ['G', 'C', 10884, 92091], ['G', 'H', 2520, 77742], ['I', 'E', 4634, 48588], ['C', 'E', 822, 48588], ['Q', 'C', 3114, 92091]] #['X', 'C', 3, 92091], \n",
    "\n",
    "# s = \"GAVPLIMFWYSTCNQHDEKR\"\n",
    "# new=[]\n",
    "# for i in s:\n",
    "#     for j in range(len(m)):\n",
    "#         if m[j][0] == i:\n",
    "#             new.append(m[j])\n",
    "# print(new)\n",
    "\n",
    "# sort_corr= pd.DataFrame(new) #GAVPLIMFWYSTCNQHDEKRX\n",
    "# sort_corr.columns = ['Aminoacids','SS or tot','Correspondances', \"SS_Ab\"]\n",
    "# type(sort_corr)"
   ]
  },
  {
   "cell_type": "code",
   "execution_count": null,
   "metadata": {},
   "outputs": [],
   "source": [
    "['X', 'tot', number, ]\n",
    "\n",
    "sort_corr[\"Correspondances\"]=sort_corr['Correspondances'].div(sort_corr[\"SS_Ab\"])\n",
    "sort_corr"
   ]
  },
  {
   "cell_type": "code",
   "execution_count": null,
   "metadata": {},
   "outputs": [],
   "source": [
    "# total = aaonly_df.values.tolist()\n",
    "# total\n",
    "sorted_total = []\n",
    "for el in s:\n",
    "    for i in range(len(total)):\n",
    "        if total[i][1]==el:\n",
    "#             print(total[i])\n",
    "            sorted_total.append(total[i])\n",
    "\n",
    "print(sorted_total)"
   ]
  },
  {
   "cell_type": "code",
   "execution_count": null,
   "metadata": {
    "colab": {
     "base_uri": "https://localhost:8080/",
     "height": 419
    },
    "colab_type": "code",
    "id": "6HRWo8sSeGAv",
    "outputId": "4dd5e3e9-6130-4ac3-976e-7c8b1178f5f9"
   },
   "outputs": [],
   "source": [
    "corr[\"Correspondances\"]=corr[\"Correspondances\"].div(corr[\"SS_Ab\"])\n",
    "corr"
   ]
  },
  {
   "cell_type": "code",
   "execution_count": null,
   "metadata": {
    "colab": {
     "base_uri": "https://localhost:8080/",
     "height": 896
    },
    "colab_type": "code",
    "id": "-nxGRN4qeLtS",
    "outputId": "530f9330-1ef1-441a-f73e-71711716d119"
   },
   "outputs": [],
   "source": [
    "plt.figure(figsize=(25,15))\n",
    "sns.barplot(x=\"Aminoacids\",y=\"Correspondances\",hue=\"SecondaryS\",data=corr,palette=\"YlOrRd\")\n",
    "plt.legend(loc=1,prop={'size':20})"
   ]
  },
  {
   "cell_type": "code",
   "execution_count": null,
   "metadata": {},
   "outputs": [],
   "source": [
    "hec_tot"
   ]
  },
  {
   "cell_type": "markdown",
   "metadata": {
    "colab_type": "text",
    "id": "9ivhMdMfg8r8"
   },
   "source": [
    "# Taxonomic classification"
   ]
  },
  {
   "cell_type": "markdown",
   "metadata": {
    "colab_type": "text",
    "id": "LKV3JcDThyvg"
   },
   "source": [
    "Superkingdom"
   ]
  },
  {
   "cell_type": "code",
   "execution_count": 447,
   "metadata": {
    "colab": {
     "base_uri": "https://localhost:8080/",
     "height": 225
    },
    "colab_type": "code",
    "id": "_DbV6U4fh2LO",
    "outputId": "6c7e06d1-d1fc-49d1-ac01-ed5e0c1d64ad"
   },
   "outputs": [
    {
     "data": {
      "text/html": [
       "<div>\n",
       "<style scoped>\n",
       "    .dataframe tbody tr th:only-of-type {\n",
       "        vertical-align: middle;\n",
       "    }\n",
       "\n",
       "    .dataframe tbody tr th {\n",
       "        vertical-align: top;\n",
       "    }\n",
       "\n",
       "    .dataframe thead th {\n",
       "        text-align: right;\n",
       "    }\n",
       "</style>\n",
       "<table border=\"1\" class=\"dataframe\">\n",
       "  <thead>\n",
       "    <tr style=\"text-align: right;\">\n",
       "      <th></th>\n",
       "      <th>counts</th>\n",
       "    </tr>\n",
       "    <tr>\n",
       "      <th>Superkingdom</th>\n",
       "      <th></th>\n",
       "    </tr>\n",
       "  </thead>\n",
       "  <tbody>\n",
       "    <tr>\n",
       "      <th>bacteria</th>\n",
       "      <td>689</td>\n",
       "    </tr>\n",
       "    <tr>\n",
       "      <th>eukaryota</th>\n",
       "      <td>488</td>\n",
       "    </tr>\n",
       "    <tr>\n",
       "      <th>archaea</th>\n",
       "      <td>108</td>\n",
       "    </tr>\n",
       "    <tr>\n",
       "      <th>viruses</th>\n",
       "      <td>62</td>\n",
       "    </tr>\n",
       "    <tr>\n",
       "      <th>other/synthetic</th>\n",
       "      <td>1</td>\n",
       "    </tr>\n",
       "  </tbody>\n",
       "</table>\n",
       "</div>"
      ],
      "text/plain": [
       "                 counts\n",
       "Superkingdom           \n",
       "bacteria            689\n",
       "eukaryota           488\n",
       "archaea             108\n",
       "viruses              62\n",
       "other/synthetic       1"
      ]
     },
     "execution_count": 447,
     "metadata": {},
     "output_type": "execute_result"
    }
   ],
   "source": [
    "Super_count = df[\"Suprekingdom\"].value_counts()\n",
    "df3 = Super_count.rename_axis(\"Superkingdom\").to_frame(\"counts\")\n",
    "df3"
   ]
  },
  {
   "cell_type": "code",
   "execution_count": 780,
   "metadata": {},
   "outputs": [],
   "source": [
    "supers = ['Bacteria', 'Eukaryota', 'Archaea', 'Viruses', 'Other']\n",
    "counts = [689, 488, 108, 62, 1 ]"
   ]
  },
  {
   "cell_type": "code",
   "execution_count": 787,
   "metadata": {},
   "outputs": [
    {
     "data": {
      "image/png": "[encoded data removed]",
      "text/plain": [
       "<Figure size 432x288 with 1 Axes>"
      ]
     },
     "metadata": {},
     "output_type": "display_data"
    }
   ],
   "source": [
    "# Pie chart\n",
    "\n",
    "explode = (0, 0, 0.3, 0.3, 0.3) \n",
    "col = ['#ff9999','#66b3ff','#99ff99','#ffcc99', '#ffcc98']\n",
    "# col = sns.color_palette(\"husl\", 9)\n",
    "# col = sns.color_palette(\"pastel\")\n",
    "fig1, ax1 = plt.subplots()\n",
    "ax1.pie(counts, explode=explode, labels=supers, shadow=True, autopct='%1.1f%%', startangle=50, colors=color)# Equal aspect ratio ensures that pie is drawn as a circle\n",
    "ax1.axis('equal')  \n",
    "plt.tight_layout()\n",
    "\n",
    "# plt.savefig('./train_imgs/sp.png')\n",
    "plt.savefig('./train_imgs/bright.png')\n",
    "plt.show()"
   ]
  },
  {
   "cell_type": "code",
   "execution_count": 764,
   "metadata": {
    "colab": {
     "base_uri": "https://localhost:8080/",
     "height": 592
    },
    "colab_type": "code",
    "id": "OuJUpqIXitZg",
    "outputId": "0d0a4e4a-f49b-4432-e934-2e6d8ebba40e"
   },
   "outputs": [
    {
     "name": "stderr",
     "output_type": "stream",
     "text": [
      "/anaconda3/lib/python3.7/site-packages/ipykernel_launcher.py:5: MatplotlibDeprecationWarning: Adding an axes using the same arguments as a previous axes currently reuses the earlier instance.  In a future version, a new instance will always be created and returned.  Meanwhile, this warning can be suppressed, and the future behavior ensured, by passing a unique label to each axes instance.\n",
      "  \"\"\"\n"
     ]
    },
    {
     "data": {
      "image/png": "[encoded data removed]",
      "text/plain": [
       "<Figure size 504x504 with 1 Axes>"
      ]
     },
     "metadata": {},
     "output_type": "display_data"
    }
   ],
   "source": [
    "color=sns.color_palette(\"bright\")\n",
    "df3.plot.pie(y=\"counts\", autopct='%1.1f%%', explode=(0.01, 0, 0.05, 0.1, 0.2),startangle=50, figsize=(7,7), fontsize=12, colors=color )#labels=None\n",
    "# plt.tight_layout()\n",
    "# plt.legend(loc=1,prop={'size':10})\n",
    "plt.axes().set_ylabel('')\n",
    "\n",
    "plt.savefig(\"./train_imgs/5kingdoms.png\")"
   ]
  },
  {
   "cell_type": "markdown",
   "metadata": {
    "colab_type": "text",
    "id": "2l8eecONi8Tp"
   },
   "source": [
    "Species level (Top 5, Top 10, Top 20)"
   ]
  },
  {
   "cell_type": "code",
   "execution_count": 449,
   "metadata": {
    "colab": {
     "base_uri": "https://localhost:8080/",
     "height": 431
    },
    "colab_type": "code",
    "id": "tjBuL4X4lIvy",
    "outputId": "8a2dfac2-5114-4b64-b335-8d352c415cb7"
   },
   "outputs": [
    {
     "data": {
      "text/html": [
       "<div>\n",
       "<style scoped>\n",
       "    .dataframe tbody tr th:only-of-type {\n",
       "        vertical-align: middle;\n",
       "    }\n",
       "\n",
       "    .dataframe tbody tr th {\n",
       "        vertical-align: top;\n",
       "    }\n",
       "\n",
       "    .dataframe thead th {\n",
       "        text-align: right;\n",
       "    }\n",
       "</style>\n",
       "<table border=\"1\" class=\"dataframe\">\n",
       "  <thead>\n",
       "    <tr style=\"text-align: right;\">\n",
       "      <th></th>\n",
       "      <th>counts</th>\n",
       "    </tr>\n",
       "    <tr>\n",
       "      <th>TaxaName</th>\n",
       "      <th></th>\n",
       "    </tr>\n",
       "  </thead>\n",
       "  <tbody>\n",
       "    <tr>\n",
       "      <th>Homo sapiens</th>\n",
       "      <td>215</td>\n",
       "    </tr>\n",
       "    <tr>\n",
       "      <th>Escherichia coli</th>\n",
       "      <td>106</td>\n",
       "    </tr>\n",
       "    <tr>\n",
       "      <th>Bos taurus</th>\n",
       "      <td>36</td>\n",
       "    </tr>\n",
       "    <tr>\n",
       "      <th>Bacillus subtilis</th>\n",
       "      <td>32</td>\n",
       "    </tr>\n",
       "    <tr>\n",
       "      <th>Saccharomyces cerevisiae</th>\n",
       "      <td>31</td>\n",
       "    </tr>\n",
       "    <tr>\n",
       "      <th>...</th>\n",
       "      <td>...</td>\n",
       "    </tr>\n",
       "    <tr>\n",
       "      <th>Trichomonas vaginalis</th>\n",
       "      <td>1</td>\n",
       "    </tr>\n",
       "    <tr>\n",
       "      <th>Fusarium oxysporum</th>\n",
       "      <td>1</td>\n",
       "    </tr>\n",
       "    <tr>\n",
       "      <th>Pyrobaculum aerophilum str. IM2</th>\n",
       "      <td>1</td>\n",
       "    </tr>\n",
       "    <tr>\n",
       "      <th>Glycine max</th>\n",
       "      <td>1</td>\n",
       "    </tr>\n",
       "    <tr>\n",
       "      <th>Triticum aestivum</th>\n",
       "      <td>1</td>\n",
       "    </tr>\n",
       "  </tbody>\n",
       "</table>\n",
       "<p>420 rows × 1 columns</p>\n",
       "</div>"
      ],
      "text/plain": [
       "                                 counts\n",
       "TaxaName                               \n",
       "Homo sapiens                        215\n",
       "Escherichia coli                    106\n",
       "Bos taurus                           36\n",
       "Bacillus subtilis                    32\n",
       "Saccharomyces cerevisiae             31\n",
       "...                                 ...\n",
       "Trichomonas vaginalis                 1\n",
       "Fusarium oxysporum                    1\n",
       "Pyrobaculum aerophilum str. IM2       1\n",
       "Glycine max                           1\n",
       "Triticum aestivum                     1\n",
       "\n",
       "[420 rows x 1 columns]"
      ]
     },
     "execution_count": 449,
     "metadata": {},
     "output_type": "execute_result"
    }
   ],
   "source": [
    "Species_count = df[\"TaxaName\"].value_counts()\n",
    "df4 = Species_count.rename_axis(\"TaxaName\").to_frame(\"counts\")\n",
    "df4"
   ]
  },
  {
   "cell_type": "code",
   "execution_count": 485,
   "metadata": {},
   "outputs": [
    {
     "data": {
      "text/html": [
       "<div>\n",
       "<style scoped>\n",
       "    .dataframe tbody tr th:only-of-type {\n",
       "        vertical-align: middle;\n",
       "    }\n",
       "\n",
       "    .dataframe tbody tr th {\n",
       "        vertical-align: top;\n",
       "    }\n",
       "\n",
       "    .dataframe thead th {\n",
       "        text-align: right;\n",
       "    }\n",
       "</style>\n",
       "<table border=\"1\" class=\"dataframe\">\n",
       "  <thead>\n",
       "    <tr style=\"text-align: right;\">\n",
       "      <th></th>\n",
       "      <th>DomainID</th>\n",
       "      <th>PDB</th>\n",
       "      <th>SCOPID</th>\n",
       "      <th>SCOPClass</th>\n",
       "      <th>Length</th>\n",
       "      <th>Suprekingdom</th>\n",
       "      <th>TaxaID</th>\n",
       "      <th>TaxaName</th>\n",
       "    </tr>\n",
       "  </thead>\n",
       "  <tbody>\n",
       "    <tr>\n",
       "      <th>0</th>\n",
       "      <td>d1a12a_</td>\n",
       "      <td>1a12</td>\n",
       "      <td>b.69.5.1</td>\n",
       "      <td>All beta</td>\n",
       "      <td>401</td>\n",
       "      <td>eukaryota</td>\n",
       "      <td>9606</td>\n",
       "      <td>Homo sapiens</td>\n",
       "    </tr>\n",
       "    <tr>\n",
       "      <th>1</th>\n",
       "      <td>d1a1xa_</td>\n",
       "      <td>1a1x</td>\n",
       "      <td>b.63.1.1</td>\n",
       "      <td>All beta</td>\n",
       "      <td>106</td>\n",
       "      <td>eukaryota</td>\n",
       "      <td>9606</td>\n",
       "      <td>Homo sapiens</td>\n",
       "    </tr>\n",
       "    <tr>\n",
       "      <th>2</th>\n",
       "      <td>d1a62a1</td>\n",
       "      <td>1a62</td>\n",
       "      <td>a.140.3.1</td>\n",
       "      <td>All alpha</td>\n",
       "      <td>47</td>\n",
       "      <td>bacteria</td>\n",
       "      <td>469008</td>\n",
       "      <td>Escherichia coli BL21(DE3)</td>\n",
       "    </tr>\n",
       "    <tr>\n",
       "      <th>3</th>\n",
       "      <td>d1a9xa1</td>\n",
       "      <td>1a9x</td>\n",
       "      <td>a.92.1.1</td>\n",
       "      <td>All alpha</td>\n",
       "      <td>153</td>\n",
       "      <td>bacteria</td>\n",
       "      <td>562</td>\n",
       "      <td>Escherichia coli</td>\n",
       "    </tr>\n",
       "    <tr>\n",
       "      <th>4</th>\n",
       "      <td>d1acoa1</td>\n",
       "      <td>1aco</td>\n",
       "      <td>c.8.2.1</td>\n",
       "      <td>Alpha and beta (a/b)</td>\n",
       "      <td>226</td>\n",
       "      <td>eukaryota</td>\n",
       "      <td>9913</td>\n",
       "      <td>Bos taurus</td>\n",
       "    </tr>\n",
       "    <tr>\n",
       "      <th>...</th>\n",
       "      <td>...</td>\n",
       "      <td>...</td>\n",
       "      <td>...</td>\n",
       "      <td>...</td>\n",
       "      <td>...</td>\n",
       "      <td>...</td>\n",
       "      <td>...</td>\n",
       "      <td>...</td>\n",
       "    </tr>\n",
       "    <tr>\n",
       "      <th>1343</th>\n",
       "      <td>e1n13.1B</td>\n",
       "      <td>1n13</td>\n",
       "      <td>d.155.1.2</td>\n",
       "      <td>Alpha and beta (a+b)</td>\n",
       "      <td>112</td>\n",
       "      <td>archaea</td>\n",
       "      <td>2190</td>\n",
       "      <td>Methanocaldococcus jannaschii</td>\n",
       "    </tr>\n",
       "    <tr>\n",
       "      <th>1344</th>\n",
       "      <td>e1qd6.1C</td>\n",
       "      <td>1qd6</td>\n",
       "      <td>f.4.2.1</td>\n",
       "      <td>Membrane and cell surface proteins and peptides</td>\n",
       "      <td>240</td>\n",
       "      <td>bacteria</td>\n",
       "      <td>562</td>\n",
       "      <td>Escherichia coli</td>\n",
       "    </tr>\n",
       "    <tr>\n",
       "      <th>1345</th>\n",
       "      <td>e1qqp.12</td>\n",
       "      <td>1qqp</td>\n",
       "      <td>b.121.4.1</td>\n",
       "      <td>All beta</td>\n",
       "      <td>216</td>\n",
       "      <td>viruses</td>\n",
       "      <td>12110</td>\n",
       "      <td>Foot-and-mouth disease virus</td>\n",
       "    </tr>\n",
       "    <tr>\n",
       "      <th>1346</th>\n",
       "      <td>e1qtn.1A</td>\n",
       "      <td>1qtn</td>\n",
       "      <td>c.17.1.1</td>\n",
       "      <td>Alpha and beta (a/b)</td>\n",
       "      <td>152</td>\n",
       "      <td>eukaryota</td>\n",
       "      <td>9606</td>\n",
       "      <td>Homo sapiens</td>\n",
       "    </tr>\n",
       "    <tr>\n",
       "      <th>1347</th>\n",
       "      <td>e1qtn.1B</td>\n",
       "      <td>1qtn</td>\n",
       "      <td>c.17.1.1</td>\n",
       "      <td>Alpha and beta (a/b)</td>\n",
       "      <td>90</td>\n",
       "      <td>eukaryota</td>\n",
       "      <td>9606</td>\n",
       "      <td>Homo sapiens</td>\n",
       "    </tr>\n",
       "  </tbody>\n",
       "</table>\n",
       "<p>1348 rows × 8 columns</p>\n",
       "</div>"
      ],
      "text/plain": [
       "      DomainID   PDB     SCOPID  \\\n",
       "0      d1a12a_  1a12   b.69.5.1   \n",
       "1      d1a1xa_  1a1x   b.63.1.1   \n",
       "2      d1a62a1  1a62  a.140.3.1   \n",
       "3      d1a9xa1  1a9x   a.92.1.1   \n",
       "4      d1acoa1  1aco    c.8.2.1   \n",
       "...        ...   ...        ...   \n",
       "1343  e1n13.1B  1n13  d.155.1.2   \n",
       "1344  e1qd6.1C  1qd6    f.4.2.1   \n",
       "1345  e1qqp.12  1qqp  b.121.4.1   \n",
       "1346  e1qtn.1A  1qtn   c.17.1.1   \n",
       "1347  e1qtn.1B  1qtn   c.17.1.1   \n",
       "\n",
       "                                            SCOPClass  Length Suprekingdom  \\\n",
       "0                                            All beta     401    eukaryota   \n",
       "1                                            All beta     106    eukaryota   \n",
       "2                                           All alpha      47     bacteria   \n",
       "3                                           All alpha     153     bacteria   \n",
       "4                                Alpha and beta (a/b)     226    eukaryota   \n",
       "...                                               ...     ...          ...   \n",
       "1343                             Alpha and beta (a+b)     112      archaea   \n",
       "1344  Membrane and cell surface proteins and peptides     240     bacteria   \n",
       "1345                                         All beta     216      viruses   \n",
       "1346                             Alpha and beta (a/b)     152    eukaryota   \n",
       "1347                             Alpha and beta (a/b)      90    eukaryota   \n",
       "\n",
       "      TaxaID                       TaxaName  \n",
       "0       9606                   Homo sapiens  \n",
       "1       9606                   Homo sapiens  \n",
       "2     469008     Escherichia coli BL21(DE3)  \n",
       "3        562               Escherichia coli  \n",
       "4       9913                     Bos taurus  \n",
       "...      ...                            ...  \n",
       "1343    2190  Methanocaldococcus jannaschii  \n",
       "1344     562               Escherichia coli  \n",
       "1345   12110   Foot-and-mouth disease virus  \n",
       "1346    9606                   Homo sapiens  \n",
       "1347    9606                   Homo sapiens  \n",
       "\n",
       "[1348 rows x 8 columns]"
      ]
     },
     "execution_count": 485,
     "metadata": {},
     "output_type": "execute_result"
    }
   ],
   "source": []
  },
  {
   "cell_type": "markdown",
   "metadata": {},
   "source": [
    "# Distribution of species"
   ]
  },
  {
   "cell_type": "code",
   "execution_count": 619,
   "metadata": {},
   "outputs": [
    {
     "data": {
      "text/plain": [
       "(420, 2)"
      ]
     },
     "execution_count": 619,
     "metadata": {},
     "output_type": "execute_result"
    }
   ],
   "source": [
    "Species_count = df[\"TaxaName\"].value_counts()\n",
    "type(Species_count)\n",
    "# list1 = Species_count.keys()\n",
    "\n",
    "# inde_x = pd.DataFrame(list1)\n",
    "\n",
    "species_df = pd.DataFrame(Species_count)\n",
    "species_df[\"Species\"]=species_df.index #[\"Species\", \"Sum\"]\n",
    "\n",
    "species_df.rename(columns = {\"TaxaName\":\"Total\"}, inplace=True) \n",
    "type(species_df)\n",
    "species_df.shape\n",
    "#.head(7)"
   ]
  },
  {
   "cell_type": "markdown",
   "metadata": {},
   "source": [
    "### Total sum"
   ]
  },
  {
   "cell_type": "code",
   "execution_count": 620,
   "metadata": {},
   "outputs": [
    {
     "data": {
      "text/plain": [
       "1348"
      ]
     },
     "execution_count": 620,
     "metadata": {},
     "output_type": "execute_result"
    }
   ],
   "source": [
    "species_df[\"Total\"].sum() # to check "
   ]
  },
  {
   "cell_type": "markdown",
   "metadata": {},
   "source": [
    "# Top 5"
   ]
  },
  {
   "cell_type": "code",
   "execution_count": 621,
   "metadata": {},
   "outputs": [
    {
     "data": {
      "text/html": [
       "<div>\n",
       "<style scoped>\n",
       "    .dataframe tbody tr th:only-of-type {\n",
       "        vertical-align: middle;\n",
       "    }\n",
       "\n",
       "    .dataframe tbody tr th {\n",
       "        vertical-align: top;\n",
       "    }\n",
       "\n",
       "    .dataframe thead th {\n",
       "        text-align: right;\n",
       "    }\n",
       "</style>\n",
       "<table border=\"1\" class=\"dataframe\">\n",
       "  <thead>\n",
       "    <tr style=\"text-align: right;\">\n",
       "      <th></th>\n",
       "      <th>Total</th>\n",
       "      <th>Species</th>\n",
       "    </tr>\n",
       "  </thead>\n",
       "  <tbody>\n",
       "    <tr>\n",
       "      <th>Homo sapiens</th>\n",
       "      <td>215</td>\n",
       "      <td>Homo sapiens</td>\n",
       "    </tr>\n",
       "    <tr>\n",
       "      <th>Escherichia coli</th>\n",
       "      <td>106</td>\n",
       "      <td>Escherichia coli</td>\n",
       "    </tr>\n",
       "    <tr>\n",
       "      <th>Bos taurus</th>\n",
       "      <td>36</td>\n",
       "      <td>Bos taurus</td>\n",
       "    </tr>\n",
       "    <tr>\n",
       "      <th>Bacillus subtilis</th>\n",
       "      <td>32</td>\n",
       "      <td>Bacillus subtilis</td>\n",
       "    </tr>\n",
       "    <tr>\n",
       "      <th>Saccharomyces cerevisiae</th>\n",
       "      <td>31</td>\n",
       "      <td>Saccharomyces cerevisiae</td>\n",
       "    </tr>\n",
       "  </tbody>\n",
       "</table>\n",
       "</div>"
      ],
      "text/plain": [
       "                          Total                   Species\n",
       "Homo sapiens                215              Homo sapiens\n",
       "Escherichia coli            106          Escherichia coli\n",
       "Bos taurus                   36                Bos taurus\n",
       "Bacillus subtilis            32         Bacillus subtilis\n",
       "Saccharomyces cerevisiae     31  Saccharomyces cerevisiae"
      ]
     },
     "metadata": {},
     "output_type": "display_data"
    },
    {
     "name": "stdout",
     "output_type": "stream",
     "text": [
      "sum of top 5\n",
      "420\n",
      "928\n"
     ]
    }
   ],
   "source": [
    "species_df_sort = species_df.sort_values(by=\"Total\", axis=0, ascending=False)\n",
    "top5 = species_df_sort.nlargest(5, ['Total'])\n",
    "display(top5)\n",
    "print('sum of top 5')\n",
    "print(top5['Total'].sum())\n",
    "bottom_all_but5 = species_df_sort.iloc[5:420,0]\n",
    "rest=bottom_all_but5.sum()\n",
    "print(rest) # printing sum of the rest\n"
   ]
  },
  {
   "cell_type": "code",
   "execution_count": 622,
   "metadata": {},
   "outputs": [
    {
     "name": "stdout",
     "output_type": "stream",
     "text": [
      "1348\n"
     ]
    }
   ],
   "source": [
    "print(420+928) #checks out"
   ]
  },
  {
   "cell_type": "code",
   "execution_count": 623,
   "metadata": {},
   "outputs": [
    {
     "data": {
      "text/html": [
       "<div>\n",
       "<style scoped>\n",
       "    .dataframe tbody tr th:only-of-type {\n",
       "        vertical-align: middle;\n",
       "    }\n",
       "\n",
       "    .dataframe tbody tr th {\n",
       "        vertical-align: top;\n",
       "    }\n",
       "\n",
       "    .dataframe thead th {\n",
       "        text-align: right;\n",
       "    }\n",
       "</style>\n",
       "<table border=\"1\" class=\"dataframe\">\n",
       "  <thead>\n",
       "    <tr style=\"text-align: right;\">\n",
       "      <th></th>\n",
       "      <th>Total</th>\n",
       "      <th>Species</th>\n",
       "    </tr>\n",
       "  </thead>\n",
       "  <tbody>\n",
       "    <tr>\n",
       "      <th>Homo sapiens</th>\n",
       "      <td>215</td>\n",
       "      <td>Homo sapiens</td>\n",
       "    </tr>\n",
       "    <tr>\n",
       "      <th>Escherichia coli</th>\n",
       "      <td>106</td>\n",
       "      <td>Escherichia coli</td>\n",
       "    </tr>\n",
       "    <tr>\n",
       "      <th>Bos taurus</th>\n",
       "      <td>36</td>\n",
       "      <td>Bos taurus</td>\n",
       "    </tr>\n",
       "    <tr>\n",
       "      <th>Bacillus subtilis</th>\n",
       "      <td>32</td>\n",
       "      <td>Bacillus subtilis</td>\n",
       "    </tr>\n",
       "    <tr>\n",
       "      <th>Saccharomyces cerevisiae</th>\n",
       "      <td>31</td>\n",
       "      <td>Saccharomyces cerevisiae</td>\n",
       "    </tr>\n",
       "    <tr>\n",
       "      <th>Other</th>\n",
       "      <td>928</td>\n",
       "      <td>Other</td>\n",
       "    </tr>\n",
       "  </tbody>\n",
       "</table>\n",
       "</div>"
      ],
      "text/plain": [
       "                          Total                   Species\n",
       "Homo sapiens                215              Homo sapiens\n",
       "Escherichia coli            106          Escherichia coli\n",
       "Bos taurus                   36                Bos taurus\n",
       "Bacillus subtilis            32         Bacillus subtilis\n",
       "Saccharomyces cerevisiae     31  Saccharomyces cerevisiae\n",
       "Other                       928                     Other"
      ]
     },
     "metadata": {},
     "output_type": "display_data"
    }
   ],
   "source": [
    "top5.loc[\"Other\"]=[928,'Other']\n",
    "display(top5)"
   ]
  },
  {
   "cell_type": "code",
   "execution_count": 617,
   "metadata": {},
   "outputs": [
    {
     "data": {
      "text/plain": [
       "Total                                                   1348\n",
       "Species    Homo sapiensEscherichia coliBos taurusBacillus...\n",
       "dtype: object"
      ]
     },
     "execution_count": 617,
     "metadata": {},
     "output_type": "execute_result"
    }
   ],
   "source": [
    "top5.sum()"
   ]
  },
  {
   "cell_type": "code",
   "execution_count": 624,
   "metadata": {},
   "outputs": [
    {
     "data": {
      "image/png": "[encoded data removed]",
      "text/plain": [
       "<Figure size 504x504 with 1 Axes>"
      ]
     },
     "metadata": {},
     "output_type": "display_data"
    }
   ],
   "source": [
    "top5.plot.pie(y=\"Total\", autopct='%1.1f%%',figsize=(7,7), startangle=60, colors=color,  explode=(0,0,0,0.01,0.01, 0.01), labels=None)\n",
    "plt.savefig(\"./train_imgs/top5species.png\")"
   ]
  },
  {
   "cell_type": "markdown",
   "metadata": {},
   "source": [
    "# Top 10"
   ]
  },
  {
   "cell_type": "code",
   "execution_count": 641,
   "metadata": {},
   "outputs": [
    {
     "data": {
      "text/html": [
       "<div>\n",
       "<style scoped>\n",
       "    .dataframe tbody tr th:only-of-type {\n",
       "        vertical-align: middle;\n",
       "    }\n",
       "\n",
       "    .dataframe tbody tr th {\n",
       "        vertical-align: top;\n",
       "    }\n",
       "\n",
       "    .dataframe thead th {\n",
       "        text-align: right;\n",
       "    }\n",
       "</style>\n",
       "<table border=\"1\" class=\"dataframe\">\n",
       "  <thead>\n",
       "    <tr style=\"text-align: right;\">\n",
       "      <th></th>\n",
       "      <th>Total</th>\n",
       "      <th>Species</th>\n",
       "    </tr>\n",
       "  </thead>\n",
       "  <tbody>\n",
       "    <tr>\n",
       "      <th>Homo sapiens</th>\n",
       "      <td>215</td>\n",
       "      <td>Homo sapiens</td>\n",
       "    </tr>\n",
       "    <tr>\n",
       "      <th>Escherichia coli</th>\n",
       "      <td>106</td>\n",
       "      <td>Escherichia coli</td>\n",
       "    </tr>\n",
       "    <tr>\n",
       "      <th>Bos taurus</th>\n",
       "      <td>36</td>\n",
       "      <td>Bos taurus</td>\n",
       "    </tr>\n",
       "    <tr>\n",
       "      <th>Bacillus subtilis</th>\n",
       "      <td>32</td>\n",
       "      <td>Bacillus subtilis</td>\n",
       "    </tr>\n",
       "    <tr>\n",
       "      <th>Saccharomyces cerevisiae</th>\n",
       "      <td>31</td>\n",
       "      <td>Saccharomyces cerevisiae</td>\n",
       "    </tr>\n",
       "    <tr>\n",
       "      <th>Escherichia coli K-12</th>\n",
       "      <td>29</td>\n",
       "      <td>Escherichia coli K-12</td>\n",
       "    </tr>\n",
       "    <tr>\n",
       "      <th>Mus musculus</th>\n",
       "      <td>28</td>\n",
       "      <td>Mus musculus</td>\n",
       "    </tr>\n",
       "    <tr>\n",
       "      <th>Thermotoga maritima</th>\n",
       "      <td>22</td>\n",
       "      <td>Thermotoga maritima</td>\n",
       "    </tr>\n",
       "    <tr>\n",
       "      <th>Thermus thermophilus HB8</th>\n",
       "      <td>19</td>\n",
       "      <td>Thermus thermophilus HB8</td>\n",
       "    </tr>\n",
       "    <tr>\n",
       "      <th>Thermus thermophilus</th>\n",
       "      <td>17</td>\n",
       "      <td>Thermus thermophilus</td>\n",
       "    </tr>\n",
       "  </tbody>\n",
       "</table>\n",
       "</div>"
      ],
      "text/plain": [
       "                          Total                   Species\n",
       "Homo sapiens                215              Homo sapiens\n",
       "Escherichia coli            106          Escherichia coli\n",
       "Bos taurus                   36                Bos taurus\n",
       "Bacillus subtilis            32         Bacillus subtilis\n",
       "Saccharomyces cerevisiae     31  Saccharomyces cerevisiae\n",
       "Escherichia coli K-12        29     Escherichia coli K-12\n",
       "Mus musculus                 28              Mus musculus\n",
       "Thermotoga maritima          22       Thermotoga maritima\n",
       "Thermus thermophilus HB8     19  Thermus thermophilus HB8\n",
       "Thermus thermophilus         17      Thermus thermophilus"
      ]
     },
     "metadata": {},
     "output_type": "display_data"
    },
    {
     "name": "stdout",
     "output_type": "stream",
     "text": [
      "Sum of top 10: \n",
      "535\n",
      "Sum of rest\n",
      " 813\n"
     ]
    }
   ],
   "source": [
    "top10 = species_df_sort.nlargest(10, ['Total'])\n",
    "display(top10)\n",
    "print('Sum of top 10: ')\n",
    "print(top10['Total'].sum())\n",
    "\n",
    "bottom_all_but_10 = species_df_sort.iloc[10:420, 0]\n",
    "# display(bottom_all_but_10)\n",
    "all_minus_10 = bottom_all_but_10.sum()\n",
    "print('Sum of rest\\n', all_minus_10)"
   ]
  },
  {
   "cell_type": "code",
   "execution_count": 642,
   "metadata": {},
   "outputs": [
    {
     "data": {
      "text/plain": [
       "1348"
      ]
     },
     "execution_count": 642,
     "metadata": {},
     "output_type": "execute_result"
    }
   ],
   "source": [
    "535+813"
   ]
  },
  {
   "cell_type": "code",
   "execution_count": 644,
   "metadata": {},
   "outputs": [
    {
     "data": {
      "text/html": [
       "<div>\n",
       "<style scoped>\n",
       "    .dataframe tbody tr th:only-of-type {\n",
       "        vertical-align: middle;\n",
       "    }\n",
       "\n",
       "    .dataframe tbody tr th {\n",
       "        vertical-align: top;\n",
       "    }\n",
       "\n",
       "    .dataframe thead th {\n",
       "        text-align: right;\n",
       "    }\n",
       "</style>\n",
       "<table border=\"1\" class=\"dataframe\">\n",
       "  <thead>\n",
       "    <tr style=\"text-align: right;\">\n",
       "      <th></th>\n",
       "      <th>Total</th>\n",
       "      <th>Species</th>\n",
       "    </tr>\n",
       "  </thead>\n",
       "  <tbody>\n",
       "    <tr>\n",
       "      <th>Homo sapiens</th>\n",
       "      <td>215</td>\n",
       "      <td>Homo sapiens</td>\n",
       "    </tr>\n",
       "    <tr>\n",
       "      <th>Escherichia coli</th>\n",
       "      <td>106</td>\n",
       "      <td>Escherichia coli</td>\n",
       "    </tr>\n",
       "    <tr>\n",
       "      <th>Bos taurus</th>\n",
       "      <td>36</td>\n",
       "      <td>Bos taurus</td>\n",
       "    </tr>\n",
       "    <tr>\n",
       "      <th>Bacillus subtilis</th>\n",
       "      <td>32</td>\n",
       "      <td>Bacillus subtilis</td>\n",
       "    </tr>\n",
       "    <tr>\n",
       "      <th>Saccharomyces cerevisiae</th>\n",
       "      <td>31</td>\n",
       "      <td>Saccharomyces cerevisiae</td>\n",
       "    </tr>\n",
       "    <tr>\n",
       "      <th>Escherichia coli K-12</th>\n",
       "      <td>29</td>\n",
       "      <td>Escherichia coli K-12</td>\n",
       "    </tr>\n",
       "    <tr>\n",
       "      <th>Mus musculus</th>\n",
       "      <td>28</td>\n",
       "      <td>Mus musculus</td>\n",
       "    </tr>\n",
       "    <tr>\n",
       "      <th>Thermotoga maritima</th>\n",
       "      <td>22</td>\n",
       "      <td>Thermotoga maritima</td>\n",
       "    </tr>\n",
       "    <tr>\n",
       "      <th>Thermus thermophilus HB8</th>\n",
       "      <td>19</td>\n",
       "      <td>Thermus thermophilus HB8</td>\n",
       "    </tr>\n",
       "    <tr>\n",
       "      <th>Thermus thermophilus</th>\n",
       "      <td>17</td>\n",
       "      <td>Thermus thermophilus</td>\n",
       "    </tr>\n",
       "    <tr>\n",
       "      <th>Other</th>\n",
       "      <td>813</td>\n",
       "      <td>Other</td>\n",
       "    </tr>\n",
       "  </tbody>\n",
       "</table>\n",
       "</div>"
      ],
      "text/plain": [
       "                          Total                   Species\n",
       "Homo sapiens                215              Homo sapiens\n",
       "Escherichia coli            106          Escherichia coli\n",
       "Bos taurus                   36                Bos taurus\n",
       "Bacillus subtilis            32         Bacillus subtilis\n",
       "Saccharomyces cerevisiae     31  Saccharomyces cerevisiae\n",
       "Escherichia coli K-12        29     Escherichia coli K-12\n",
       "Mus musculus                 28              Mus musculus\n",
       "Thermotoga maritima          22       Thermotoga maritima\n",
       "Thermus thermophilus HB8     19  Thermus thermophilus HB8\n",
       "Thermus thermophilus         17      Thermus thermophilus\n",
       "Other                       813                     Other"
      ]
     },
     "execution_count": 644,
     "metadata": {},
     "output_type": "execute_result"
    }
   ],
   "source": [
    "top10.loc['Other']=[813, 'Other']\n",
    "top10"
   ]
  },
  {
   "cell_type": "code",
   "execution_count": 718,
   "metadata": {
    "colab": {},
    "colab_type": "code",
    "id": "zyZMpJA4lflX"
   },
   "outputs": [
    {
     "name": "stderr",
     "output_type": "stream",
     "text": [
      "/anaconda3/lib/python3.7/site-packages/ipykernel_launcher.py:6: MatplotlibDeprecationWarning: Adding an axes using the same arguments as a previous axes currently reuses the earlier instance.  In a future version, a new instance will always be created and returned.  Meanwhile, this warning can be suppressed, and the future behavior ensured, by passing a unique label to each axes instance.\n",
      "  \n"
     ]
    },
    {
     "data": {
      "image/png": "[encoded data removed]",
      "text/plain": [
       "<Figure size 576x576 with 1 Axes>"
      ]
     },
     "metadata": {},
     "output_type": "display_data"
    }
   ],
   "source": [
    "top10.sum() # checks out\n",
    "\n",
    "\n",
    "top10.plot.pie(y='Total', autopct='%1.1f%%', explode=(0,0,0,0,0,0,0,0,0,0,0), figsize=(8,8), startangle=87, colors=c1, legend=None, pctdistance=0.91, labeldistance=1.1)\n",
    "plt.axes().set_ylabel('')\n",
    "# plt.xticks(rotation=30) \n",
    "# ax.set_yticklabels([])\n",
    "plt.tight_layout()\n",
    "plt.show\n",
    "plt.savefig(\"./train_imgs/top10species.png\")"
   ]
  },
  {
   "cell_type": "code",
   "execution_count": 710,
   "metadata": {},
   "outputs": [
    {
     "data": {
      "image/png": "[encoded data removed]",
      "text/plain": [
       "<Figure size 432x288 with 1 Axes>"
      ]
     },
     "metadata": {},
     "output_type": "display_data"
    }
   ],
   "source": [
    "labels=top10['Species']\n",
    "sizes = top10['Total']\n",
    "\n",
    "fig1, ax1 = plt.subplots()\n",
    "ax1.pie(sizes, colors=c1, labels=labels, autopct='%1.1f%%', startangle=65, labeldistance=1.1, explode=(0,0,0.4,0.0,0.4,0.0,0.4,0.0,0.4,0,0))\n",
    "\n",
    "#circle\n",
    "center_circ = plt.Circle((0,0),0.70,fc='white')\n",
    "fig = plt.gcf()\n",
    "fig.gca().add_artist(center_circ)\n",
    "\n",
    "# Aspect ratio must be drawn equal\n",
    "ax1.axis('equal')\n",
    "plt.tight_layout()\n",
    "plt.show()"
   ]
  },
  {
   "cell_type": "code",
   "execution_count": 590,
   "metadata": {},
   "outputs": [
    {
     "data": {
      "text/html": [
       "<div>\n",
       "<style scoped>\n",
       "    .dataframe tbody tr th:only-of-type {\n",
       "        vertical-align: middle;\n",
       "    }\n",
       "\n",
       "    .dataframe tbody tr th {\n",
       "        vertical-align: top;\n",
       "    }\n",
       "\n",
       "    .dataframe thead th {\n",
       "        text-align: right;\n",
       "    }\n",
       "</style>\n",
       "<table border=\"1\" class=\"dataframe\">\n",
       "  <thead>\n",
       "    <tr style=\"text-align: right;\">\n",
       "      <th></th>\n",
       "      <th>counts</th>\n",
       "    </tr>\n",
       "    <tr>\n",
       "      <th>TaxaName</th>\n",
       "      <th></th>\n",
       "    </tr>\n",
       "  </thead>\n",
       "  <tbody>\n",
       "    <tr>\n",
       "      <th>Homo sapiens</th>\n",
       "      <td>215</td>\n",
       "    </tr>\n",
       "    <tr>\n",
       "      <th>Escherichia coli</th>\n",
       "      <td>106</td>\n",
       "    </tr>\n",
       "    <tr>\n",
       "      <th>Bos taurus</th>\n",
       "      <td>36</td>\n",
       "    </tr>\n",
       "    <tr>\n",
       "      <th>Bacillus subtilis</th>\n",
       "      <td>32</td>\n",
       "    </tr>\n",
       "    <tr>\n",
       "      <th>Saccharomyces cerevisiae</th>\n",
       "      <td>31</td>\n",
       "    </tr>\n",
       "    <tr>\n",
       "      <th>Escherichia coli K-12</th>\n",
       "      <td>29</td>\n",
       "    </tr>\n",
       "    <tr>\n",
       "      <th>Mus musculus</th>\n",
       "      <td>28</td>\n",
       "    </tr>\n",
       "    <tr>\n",
       "      <th>Thermotoga maritima</th>\n",
       "      <td>22</td>\n",
       "    </tr>\n",
       "    <tr>\n",
       "      <th>Thermus thermophilus HB8</th>\n",
       "      <td>19</td>\n",
       "    </tr>\n",
       "    <tr>\n",
       "      <th>Thermus thermophilus</th>\n",
       "      <td>17</td>\n",
       "    </tr>\n",
       "  </tbody>\n",
       "</table>\n",
       "</div>"
      ],
      "text/plain": [
       "                          counts\n",
       "TaxaName                        \n",
       "Homo sapiens                 215\n",
       "Escherichia coli             106\n",
       "Bos taurus                    36\n",
       "Bacillus subtilis             32\n",
       "Saccharomyces cerevisiae      31\n",
       "Escherichia coli K-12         29\n",
       "Mus musculus                  28\n",
       "Thermotoga maritima           22\n",
       "Thermus thermophilus HB8      19\n",
       "Thermus thermophilus          17"
      ]
     },
     "execution_count": 590,
     "metadata": {},
     "output_type": "execute_result"
    }
   ],
   "source": [
    "top20 = df4.nlargest(20, ['counts'])"
   ]
  },
  {
   "cell_type": "code",
   "execution_count": 593,
   "metadata": {},
   "outputs": [
    {
     "data": {
      "text/plain": [
       "Thermus thermophilus              17\n",
       "Geobacillus stearothermophilus    16\n",
       "Mycobacterium tuberculosis        13\n",
       "Drosophila melanogaster           12\n",
       "Aquifex aeolicus                  12\n",
       "                                  ..\n",
       "Allochromatium vinosum             1\n",
       "Lactobacillus reuteri              1\n",
       "Xanthomonas campestris             1\n",
       "Lycodichthys dearborni             1\n",
       "Zymomonas mobilis                  1\n",
       "Name: Total, Length: 406, dtype: int64"
      ]
     },
     "execution_count": 593,
     "metadata": {},
     "output_type": "execute_result"
    }
   ],
   "source": [
    "bottom_all_but10 = species_df_sort.iloc[10:415,0]\n",
    "bottom_all_but10"
   ]
  },
  {
   "cell_type": "code",
   "execution_count": null,
   "metadata": {},
   "outputs": [],
   "source": [
    "rest=bottom_all_but5.sum()\n",
    "print(rest)\n",
    "top5.loc[\"Other\"]=[894,'Other']\n",
    "display(top5)"
   ]
  },
  {
   "cell_type": "code",
   "execution_count": 458,
   "metadata": {
    "colab": {
     "base_uri": "https://localhost:8080/",
     "height": 592
    },
    "colab_type": "code",
    "id": "rHJ6YWf5nHhh",
    "outputId": "07994613-9038-4113-fd6d-3a5feeac88e5"
   },
   "outputs": [
    {
     "data": {
      "text/plain": [
       "<matplotlib.axes._subplots.AxesSubplot at 0x1a3ed106d8>"
      ]
     },
     "execution_count": 458,
     "metadata": {},
     "output_type": "execute_result"
    },
    {
     "data": {
      "image/png": "[encoded data removed]",
      "text/plain": [
       "<Figure size 720x720 with 1 Axes>"
      ]
     },
     "metadata": {},
     "output_type": "display_data"
    }
   ],
   "source": [
    "top10.plot.pie(y=\"counts\", autopct='%1.1f%%',figsize=(10,10), legend=None)"
   ]
  },
  {
   "cell_type": "code",
   "execution_count": null,
   "metadata": {
    "colab": {
     "base_uri": "https://localhost:8080/",
     "height": 592
    },
    "colab_type": "code",
    "id": "LRSyMj8VnNho",
    "outputId": "f08d455f-9c06-49ff-b36d-5f3b9fbefa7c"
   },
   "outputs": [],
   "source": [
    "top20.plot.pie(y=\"counts\", autopct='%1.1f%%',figsize=(20,10), labels= None)"
   ]
  },
  {
   "cell_type": "markdown",
   "metadata": {
    "colab_type": "text",
    "id": "yJMrF_NYHcci"
   },
   "source": [
    "# Relative abundance of secondary structure conformations"
   ]
  },
  {
   "cell_type": "code",
   "execution_count": null,
   "metadata": {
    "colab": {
     "base_uri": "https://localhost:8080/",
     "height": 142
    },
    "colab_type": "code",
    "id": "dtVUqdi4HqgW",
    "outputId": "ad451b01-905c-4694-d9a1-a7f93d58d8b2"
   },
   "outputs": [],
   "source": [
    "length = 218421\n",
    "d2={'Helix (H)': 77742, 'Coil (C)': 92091, 'Strand (E)': 48588}\n",
    "ss_comp= pd.DataFrame.from_dict(d2, orient = \"index\",columns=[\"Total Number\"])\n",
    "ss_comp[\"SecondaryStructure\"] = ss_comp.index\n",
    "ss_comp"
   ]
  },
  {
   "cell_type": "code",
   "execution_count": null,
   "metadata": {
    "colab": {},
    "colab_type": "code",
    "id": "0g2MLbEtHsxt"
   },
   "outputs": [],
   "source": [
    "ss_comp[\"Total Number\"] = ss_comp[\"Total Number\"].div(length)\n",
    "ss_comp"
   ]
  },
  {
   "cell_type": "code",
   "execution_count": null,
   "metadata": {
    "colab": {
     "base_uri": "https://localhost:8080/",
     "height": 1000
    },
    "colab_type": "code",
    "id": "fsK7B2FRHwCh",
    "outputId": "79f66a4a-644b-430c-cb05-260d622e746d"
   },
   "outputs": [],
   "source": [
    "colors = sns.color_palette(\"bright\")\n",
    "c1 = sns.color_palette(\"viridis\")\n",
    "c2 = sns.color_palette(\"YlOrBr\")\n",
    "c3 = sns.color_palette('Spectral')\n",
    "# colors = sns.color_palette(\"viridis\", as_cmap=True)\n",
    "# sns.color_palette(\"husl\", 8)\n",
    "# plt.figure(figsize=(20,10))\n",
    "cmap = plt.get_cmap(\"YlOrRd\")\n",
    "# colors = [cmap(i) for i in np.linspace(0, 1, 4)]\n",
    "ss_comp.plot.pie(y=\"Total Number\", autopct='%1.1f%%', explode=(0.01, 0.01, 0.01), startangle=60, figsize=(6, 6), fontsize=14, colors=colors, legend=None)\n",
    "# plt.legend(loc=4, prop={'size': 18})\n",
    "plt.savefig(\"./train_imgs/HEC_andel.png\")"
   ]
  },
  {
   "cell_type": "markdown",
   "metadata": {},
   "source": [
    "## Compared to Uniprot December 2020\n",
    "\n",
    "Helix: \n",
    "* Annotations: 284 077 \n",
    "* Entries: **25 649**\n",
    "\n",
    "Turn:\n",
    "* Annotations: 68 593 \n",
    "* Entries: **20 893**\n",
    "\n",
    "Beta strand:\n",
    "* Annotations: 293 820 \n",
    "* Entries: **24 193**\n",
    "\n",
    "[see here](https://www.uniprot.org/statistics/Swiss-Prot)"
   ]
  },
  {
   "cell_type": "code",
   "execution_count": null,
   "metadata": {},
   "outputs": [],
   "source": [
    "uniprot={'Helix (H)': 25649, 'Coil (C)': 20893, 'Strand (E)': 24193}\n",
    "ss_comp_uniprotsp= pd.DataFrame.from_dict(uniprot, orient = \"index\",columns=[\"Total\"])\n",
    "ss_comp_uniprotsp[\"SecondaryStructure\"] = ss_comp.index\n",
    "ss_comp_uniprotsp"
   ]
  },
  {
   "cell_type": "code",
   "execution_count": null,
   "metadata": {},
   "outputs": [],
   "source": [
    "colors = sns.color_palette(\"bright\")\n",
    "co = sns.color_palette(\"Set3\")\n",
    "# sns.color_palette(\"husl\", 8)\n",
    "# plt.figure(figsize=(20,10))\n",
    "# cmap = plt.get_cmap(\"YlOrRd\")\n",
    "# colors = [cmap(i) for i in np.linspace(0, 1, 4)]\n",
    "ss_comp_uniprotsp.plot.pie(y=\"Total\", autopct='%1.1f%%', startangle = 50, figsize=(8, 8), fontsize=14, colors=co)# legend=None)\n",
    "# plt.legend(loc=4, prop={'size': 18})\n",
    "plt.savefig(\"./train_imgs/uniprot_sp.png\")"
   ]
  },
  {
   "cell_type": "code",
   "execution_count": null,
   "metadata": {
    "colab": {
     "base_uri": "https://localhost:8080/",
     "height": 298
    },
    "colab_type": "code",
    "id": "NP3lTGT_RT6G",
    "outputId": "05e8892b-0575-40e8-bd2f-90a732307ca3"
   },
   "outputs": [],
   "source": [
    "sns.distplot(df[\"Length\"])"
   ]
  }
 ],
 "metadata": {
  "colab": {
   "collapsed_sections": [],
   "name": "JpredData.ipynb",
   "provenance": []
  },
  "kernelspec": {
   "display_name": "Python 3",
   "language": "python",
   "name": "python3"
  },
  "language_info": {
   "codemirror_mode": {
    "name": "ipython",
    "version": 3
   },
   "file_extension": ".py",
   "mimetype": "text/x-python",
   "name": "python",
   "nbconvert_exporter": "python",
   "pygments_lexer": "ipython3",
   "version": "3.7.2"
  }
 },
 "nbformat": 4,
 "nbformat_minor": 4
}
