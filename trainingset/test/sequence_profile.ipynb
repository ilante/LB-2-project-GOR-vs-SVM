{
 "cells": [
  {
   "cell_type": "markdown",
   "metadata": {},
   "source": [
    "# Part 2: Generating the Sequence Profile\n",
    "\n",
    "Why are we using SPs? → In general MSAs capture the notion of a protein family. All the sequences that are in the family possibly even including distantly related homologs are aligned → we need to make sure that the MSA we are using captures the protein space in a good way. And all these sequences are all aligned using a substitution matrix. The profile contains much more information than a single sequence or an alignment. Even functional regions show a certain level of seq → captured in the MSA. This allows us to go beyond propensity. When we include this evolutionary information we can improve predictions.\n",
    "\n",
    "Remember that the sequence is less conserved than the structure and the structure is less conserved than the function\n",
    "\n",
    "\n",
    "Exercise → psiblast pipeline \n",
    "1. Obtain a target sequence in fasta format:\t\t\t\t\n",
    ">d3psma_\n",
    "KTCENLADTFRGPCFTDGSCDDHCKNKEHLIKGRCRDDFRCWCTRNC\n",
    "\n",
    "2. Obtain a large sequence database in fasta format:\n",
    "Often used: UniProt Reference clusters → UniRef 100/90/50\n",
    "Very large non-redundant protein seq DB\n",
    "Number indicates the level of redundancy → UniRef90 → no pair of sequs has more than 90% seq id.\n",
    "We will use UniprotKB/SwissProt → from Dropbox uniprot_sprot.fasta copy file into ~ dir\n",
    "\n",
    "3. Format the database using makeblastdb to make it usable by psiblast:\n",
    "Before running PSI-BLAST we build an index of the seq DB → necessary to use the psiblast algo. The cmd is  ``` makeblastdb –in uniprot_sprot.fasta -dbtype prot ``` \n",
    "After execution the files of the DB index will appear in the same directory as the FASTA db file.\n",
    "\n",
    "4. Run psiblast to search for homologous sequences in the database → specify parameters:\n",
    "* Input query sequence and DB file\n",
    "* Max number of psiblast iterations (usually 3 or 4)\n",
    "- **E-value** threshold used to filter-out less significant results\n",
    "- **Number of descriptions** and **alignments** shown in output\n",
    "- Names of the output file for alignments and PSSM/Profile matrices\n",
    "- Cmds and options on slide 18 and in cell below\n",
    "There will be 2 different outfiles:\n",
    "    1. Pairwise alignment file between target seq and each similar seq found\n",
    "    2. PSSM/Profile checkpoint file containing the **last matrix computed by the algo**\n",
    "- PSSM portion = equivalent to SP but storing log-odds between profil and background distribution\n",
    "- Profile portion → the actual frequency matrix\n",
    "\tBoth alignment and checkpoint file can be used to obtain a seq profile for the target sequence:\n",
    "- From pairwise alignments we can obtain the MSA and then compute the profile matrix \n",
    "- From checkpoint file we can directly extract the matrix computed internally by PSI-BLAST → after the last iteration\n",
    "\n",
    "5. Extract the target sequence profile → from checkpoint file\n",
    "- Normalize values in range 0-1 by dividing all values by 100\n",
    "- Store profile matrix for later\n",
    "\n",
    "There is also and alternative way of parsing reported in [slides 25 - 28](https://www.dropbox.com/preview/AA%202019-2020/LAB%202%20covid%2019/ModuleII-Savojardo/slides/04-SequenceProfiles.pdf?role=personal)"
   ]
  },
  {
   "cell_type": "raw",
   "metadata": {},
   "source": [
    "# psiblast cmds:\n",
    "psiblast -query d3psma_.fa -db uniprot_sprot.fasta -evalue 0.01 \\\n",
    "         -num_iterations 3 -out_ascii_pssm d3psma_.pssm \\\n",
    "         -num_descriptions 10000 -num_alignments 10000 -out d3psma_.alns.blast"
   ]
  },
  {
   "cell_type": "markdown",
   "metadata": {},
   "source": [
    "# psiblast options:\n",
    "\n",
    "- input sequence: ```-query d3psma_.fa ```\n",
    "- Search DB UniprotKB/SwissProt --> ```-db uniprot_sprot.fasta```\n",
    "- E-value threashold: ```    -evalue 0.01```\n",
    "- Output file for pairwise alignments: ``` -out d3psma_.alns.blast```\n",
    "- Output file for PSSM/Profile matrces; ```  -out_ascii_pssm d3psma_.pssm```\n",
    "- Max of 3 iterations ``` -num_iterations 3 ```\n",
    "- Number of descriptions and alignments set to 10000 ```- num_descriptions 10000 -num_alignments 10000```"
   ]
  },
  {
   "cell_type": "markdown",
   "metadata": {},
   "source": [
    "[p1 1:20:00]  Q: Why should the sequence profile from PSI BLAST be preferred? → uses the sequence weighting to avoid large clusters ‘taking over’\n",
    "\n",
    "We want to transform each sequence in the \n",
    "- → Training set\n",
    "- → Blind set\n",
    "into sequence profiles → will be the input to our methods later GOR and SVM. So we have to run psiblast for each seq in each of the 2 sets (t and b).\n",
    "\n",
    "### Workflow:\n",
    "- Run PSI-BLAST for 3 iterations against the UniProt/SwissProt DB → e-value 0.01\n",
    "    - → need to run a separate process for each sequence\n",
    "- Extract sequence profile by either\n",
    "- Parsing PSI-BLAST checkpoint file and extract the profile portion (→ easier)\n",
    "- Parsing PSI-BLAST alignment file computing the profile from scratch (→ harder)\n",
    "- Write the sequence profile matrix to a file for later;\n",
    "    - Could be a numpy matrix or plain text\n"
   ]
  },
  {
   "cell_type": "code",
   "execution_count": null,
   "metadata": {},
   "outputs": [],
   "source": [
    "source /opt/conda/bin/activate"
   ]
  },
  {
   "cell_type": "code",
   "execution_count": null,
   "metadata": {},
   "outputs": [],
   "source": [
    "cat fasta/d3psma_.fasta "
   ]
  },
  {
   "cell_type": "code",
   "execution_count": null,
   "metadata": {},
   "outputs": [],
   "source": [
    ">d3psma_\n",
    "KTCENLADTFRGPCFTDGSCDDHCKNKEHLIKGRCRDDFRCWCTRNC"
   ]
  },
  {
   "cell_type": "code",
   "execution_count": null,
   "metadata": {},
   "outputs": [],
   "source": [
    " gunzip uniprot_sprot.fasta.gz # contains all the 500 000 sequences from SwissProt"
   ]
  },
  {
   "cell_type": "markdown",
   "metadata": {},
   "source": [
    "### Buliding the index:\n",
    "\n",
    "--> done only once in the beginning and it will be reused"
   ]
  },
  {
   "cell_type": "code",
   "execution_count": null,
   "metadata": {},
   "outputs": [],
   "source": [
    "makeblastdb -in uniprot_sprot.fasta -dbtype prot\n",
    "\n",
    "Building a new DB, current time: 10/04/2020 14:57:19\n",
    "New DB name:   /home/um19/project/uniprot_sprot.fasta\n",
    "New DB title:  uniprot_sprot.fasta\n",
    "Sequence type: Protein\n",
    "Keep MBits: T\n",
    "Maximum file size: 1000000000B\n",
    "Adding sequences from FASTA; added 563082 sequences in 27.612 seconds."
   ]
  },
  {
   "cell_type": "code",
   "execution_count": null,
   "metadata": {},
   "outputs": [],
   "source": []
  },
  {
   "cell_type": "code",
   "execution_count": null,
   "metadata": {},
   "outputs": [],
   "source": [
    "We will use the example:\n"
   ]
  },
  {
   "cell_type": "raw",
   "metadata": {},
   "source": [
    "psiblast -query fasta/d3psma_.fasta -db uniprot_sprot.fasta -evalue 0.01 -num_iterations 3 -out_ascii_pssm psiblast_output/d3psma_.pssm -num_descriptions 10000 -num_alignments 10000 -out psiblast_output/d3psma_.aln"
   ]
  },
  {
   "cell_type": "markdown",
   "metadata": {},
   "source": [
    "You will get this warning:"
   ]
  },
  {
   "cell_type": "raw",
   "metadata": {},
   "source": [
    "Warning: [psiblast] lcl|Query_1 d3psma_: Warning: Composition-based score adjustment conditioned on sequence properties and unconditional composition-based score adjustment is not supported with PSSMs, resetting to default value of standard composition-based statistics"
   ]
  },
  {
   "cell_type": "markdown",
   "metadata": {},
   "source": [
    "This means that you have the possibility of applying a postion based statistic to adjust the low complexity regions in the sequence\n",
    "If you disable this you will not get the warning: "
   ]
  },
  {
   "cell_type": "raw",
   "metadata": {},
   "source": [
    "psiblast -query fasta/d3psma_.fasta -db uniprot_sprot.fasta -evalue 0.01 -num_iterations 3 -out_ascii_pssm psiblast_output/d3psma_.pssm -num_descriptions 10000 -num_alignments 10000 -out psiblast_output/d3psma_.aln -comp_based_stats no"
   ]
  },
  {
   "cell_type": "markdown",
   "metadata": {},
   "source": [
    "# d3psma_.pssm"
   ]
  },
  {
   "cell_type": "code",
   "execution_count": null,
   "metadata": {},
   "outputs": [],
   "source": [
    "Last position-specific scoring matrix computed, weighted observed percentages rounded down, information per position, and relative weight of gapless real matches to pseudocounts\n",
    "            A   R   N   D   C   Q   E   G   H   I   L   K   M   F   P   S   T   W   Y   V   A   R   N   D   C   Q   E   G   H   I   L   K   M   F   P   S   T   W   Y   V\n",
    "    1 K    -3   6  -2  -3  -5   0  -1  -4  -2  -5  -4   5  -3  -5  -3  -2  -2  -5  -3  -4    0  53   0   0   0   0   0   0   0   0   0  47   0   0   0   0   0   0   0   0  1.23 0.29\n",
    "    2 T    -2  -3  -2   0  -2  -2  -1  -4  -1   2   1  -1   0  -1  -3  -1   4  -4  -2   2    0   0   0   5   0   0   5   0   2  12  16   2   2   1   0   0  40   0   0  15  0.34 0.19\n",
    "    3 C    -3  -7  -6  -7  11  -6  -7  -6  -6  -4  -4  -6  -4  -5  -6  -4  -4  -5  -5  -4    0   0   0   0 100   0   0   0   0   0   0   0   0   0   0   0   0   0   0   0  3.52 0.69\n",
    "    4 E    -1   2  -1   2  -4   1   4  -3  -2  -4  -2   3   2  -4  -3  -2  -2  -4  -3  -3    2  10   2   9   0   4  40   0   0   0   3  21   8   0   0   0   1   0   0   0  0.59 0.25\n",
    "    5 N     1   2   1  -2  -3  -1  -1   0   0  -1  -3   1  -2  -3  -2   2   2  -4  -3  -1    9  16   9   0   0   1   0   6   3   5   0   9   0   0   0  21  16   0   0   5  0.24 0.15\n",
    "    6 L    -1   2  -2  -1  -4   2   1  -3  -2  -2   1   2  -2  -3   4  -1  -1  -4  -3  -2    3  13   0   2   0  11  11   0   0   0  19  15   0   0  20   3   2   0   0   0  0.40 0.19\n",
    "    7 A     1  -3   0  -2   2  -2  -2  -1  -3  -4  -4  -1  -4  -5  -3   6  -1  -5  -4  -2    8   0   4   0   5   0   0   3   0   0   0   3   0   0   0  77   0   0   0   2  1.05 0.42\n",
    "    8 D     0   0   1   1  -3   1   0   2   4  -2  -1   1  -1  -3   0  -1  -1  -3  -2  -1    5   4   7   8   0   7   5  16  16   0   5  11   2   0   5   0   3   0   0   5  0.20 0.12\n",
    "    9 T    -2   2   1  -1  -3  -1   0   1   2  -3  -2   1  -2  -2  -3   0   4  -3  -1  -2    0  13   7   2   0   0   5   9   7   0   2  11   0   1   0   3  36   0   2   0  0.36 0.20\n",
    "   10 F    -1  -4  -4  -5  -4  -4  -4  -4   2  -3  -2  -4  -2   6  -5  -4  -4   8   4  -3    6   0   0   0   0   0   0   0   4   0   0   0   0  46   0   0   0  26  13   0  1.49 0.39\n",
    "   11 R    -1   1   0   0  -3   0   0  -2   2  -3  -3   5  -2  -2   0   2   0  -4  -2  -2    1   7   2   3   0   2   3   1   5   0   1  43   0   2   4  22   3   0   0   2  0.46 0.22\n",
    "12 G    -2  -4  -2  -3  -5  -4  -4   7  -4  -5  -5  -4  -5   0  -4   0  -3  -4   0  -5    0   0   0   0   0   0   0  86   0   0   0   0   0   4   0   6   0   0   3   0  1.60 0.41\n",
    "   13 P     0  -1   0  -3  -3  -2  -2  -3   0   1   0  -1   1  -1   4  -2   0  -3  -1   2   11   4   6   0   0   0   0   0   2   6  10   3   6   1  23   0   5   0   2  20  0.31 0.14\n",
    "   14 C    -3  -6  -6  -6  11  -6  -6  -6  -6  -4  -4   0  -4  -6  -6  -4  -4  -5  -6  -4    0   0   0   0  94   0   0   0   0   0   0   6   0   0   0   0   0   0   0   0  3.26 0.71\n",
    "   15 F    -1  -2   0  -3  -2  -2  -3   1  -3   2   2  -2   1   2  -1  -2   0   3  -1   1    2   1   6   0   0   0   0  11   0  16  19   2   3  13   3   0   6   4   0  12  0.16 0.12\n",
    "   16 T    -1   1   4   1  -3  -1  -1   0   0  -2  -4   1  -3  -4  -1   3   1  -4  -3  -3    3   7  29   6   0   0   0   6   2   2   0   7   0   0   2  24  10   0   0   0  0.42 0.20\n",
    "   17 D    -2  -2   3   5  -4  -1   0  -2  -2  -4  -4   1  -3  -4  -3   1   1   2  -3  -2    2   0  18  40   0   0   3   0   0   0   0   8   0   0   0  13   9   3   0   3  0.66 0.26\n",
    "   18 G     1   2   2   0  -3   0   0   1   2  -3  -3   1  -2  -3   0   1   1  -3   0  -3   12  11   9   4   0   2   4   9   7   0   0   8   0   0   4  15  10   0   5   0  0.21 0.12\n",
    "   19 S     1  -2   5   0  -3  -1  -1   0   2  -4  -3   0  -3  -3   2   0   0  -4  -1  -3   14   0  35   4   0   2   3   8   5   0   2   5   0   0   9   6   5   0   2   0  0.41 0.20\n",
    "   20 C    -3  -6  -6  -6  11  -6  -7  -5  -6  -4  -4  -6  -4  -5  -6  -4  -4  -5  -5  -4    0   0   0   0 100   0   0   0   0   0   0   0   0   0   0   0   0   0   0   0  3.45 0.58\n",
    "   21 D     2   1   1   3  -3   0   0   0   1  -3  -3   1  -2  -3  -2   1  -1  -3   0  -1   27   8   6  19   0   3   4   4   4   0   0  10   0   0   0   7   0   0   3   5  0.24 0.11\n",
    "   22 D     0   1   3   1  -3   1  -1  -2   2  -1  -2   2  -2  -3  -2   1   0  -4  -2  -2    6   8  20   8   0   8   0   0   5   4   4  17   0   0   0  14   6   0   0   0  0.27 0.12\n",
    "   23 H     0   0  -2  -1   2   2  -1  -3   4   0  -1  -1   0  -1  -3  -1  -2  -4  -2   3    8   4   0   2   5  13   3   0  16   3   2   2   2   2   0   4   0   0   0  33  0.29 0.15\n",
    "   24 C    -4  -7  -6  -7  11  -6  -7  -6  -6  -4  -4  -6  -5  -6  -6  -4  -4  -6  -6  -4    0   0   0   0 100   0   0   0   0   0   0   0   0   0   0   0   0   0   0   0  3.64 0.58\n",
    "   25 K    -2   3  -1  -2  -3   1   0  -3   2   2   0   2   0  -2  -1  -2  -2  -3  -2   0    1  21   2   0   0   8   5   1   6  16   9  19   2   0   2   0   0   0   0   6  0.24 0.12\n",
    "   26 N    -1   1   3   1  -3   2   1  -1  -1  -3  -3   1  -2  -3  -2   1   2  -3  -3  -2    1   6  19   8   0  11   8   4   0   0   1   9   0   0   0  11  19   0   0   1  0.33 0.13\n",
    "   27 K    -1   1   0  -1  -2   1   0  -1  -1   0   0   1  -1   0  -1  -1  -1   5   1   0    2   8   5   3   1   7   4   4   1  10  12  13   1   5   3   2   2  10   5   4  0.11 0.06\n",
    "   28 E    -1   0  -1   0  -5   0   6  -1  -2  -5  -5   1  -4  -5  -1  -2  -1  -5  -4  -4    3   4   2   3   0   0  69   6   0   0   0   5   0   0   3   0   3   0   0   0  1.04 0.36\n",
    "   29 H    -2   0   0  -1  -5   0  -2   5   4  -5  -5   1  -4  -4  -4  -1  -3  -4  -2  -5    0   6   4   3   0   3   0  56  12   0   0  12   0   0   0   2   0   0   1   0  0.89 0.29\n",
    "   30 L     1   0  -4  -4  -3  -3  -3  -2  -3  -2   0   0  -2   6  -4  -2  -3   6   3  -3   16   5   0   0   0   0   0   3   0   0   8   6   0  37   0   2   0  14   8   0  0.72 0.26\n",
    "   31 I     0   1   0  -1  -3   0  -1   0  -2  -1  -1   0   0  -2   3   1   1  -3   0  -1    4   8   4   2   0   2   2   9   0   4   5   5   2   0  15  16  12   0   3   2  0.17 0.10\n",
    "   32 K     1  -1   0   2  -4  -2  -2   4   4  -4  -4  -1   0  -4  -3   2  -1  -4  -3  -4    9   3   3  13   0   0   0  35  13   0   0   2   3   0   0  16   2   0   0   0  0.54 0.22\n",
    "   33 G    -2  -5  -3  -4  -5  -4  -5   7  -5  -7  -6  -4  -5  -6  -5  -3  -4  -5  -6  -6    0   0   0   0   0   0   0 100   0   0   0   0   0   0   0   0   0   0   0   0  2.23 0.53\n",
    "   34 R     0   2   1   0  -3   0   0  -3   3  -1  -3   2  -2  -2  -3   1  -1  -3   3  -1    8  10   8   5   0   2   3   0   9   3   0  16   0   0   0  13   3   0  15   4  0.27 0.17\n",
    "   35 C    -4  -7  -7  -7  12  -7  -8  -6  -7  -5  -5  -7  -5  -6  -7  -5  -5  -6  -6  -5    0   0   0   0 100   0   0   0   0   0   0   0   0   0   0   0   0   0   0   0  3.95 0.85\n",
    "   36 R    -1   2   2   1  -3   0   0  -1   5  -2  -2   2  -1  -3  -3   0  -2  -3   0  -2    5  13  10   9   0   3   2   3  20   2   3  16   2   0   0   7   0   0   2   3  0.33 0.17\n",
    "   37 D    -2  -2  -2   2  -3  -2  -2   4  -3   1  -2  -2  -2   0   3   0  -2  -3   0  -1    0   1   0  12   0   2   0  34   0  11   4   2   0   5  13   6   0   0   4   5  0.37 0.19\n",
    "   38 D    -1   3   2   1  -3   0   0   1   0  -2  -1   1  -2  -1  -1   1   0  -3  -1  -2    4  19  11   9   0   2   7  10   2   2   6   5   0   3   3  10   3   0   2   3  0.14 0.10\n",
    "   39 F    -3   5   1  -3  -4   0  -2  -4   2  -2   0   0   1   3  -4  -2  -3   3   1  -2    0  39   7   0   0   2   2   0   7   1   9   5   4  13   0   2   0   4   5   1  0.55 0.26\n",
    "   40 R    -1   6  -2  -3  -4   0  -2  -4   0  -2  -3   4   1  -4  -3  -1  -1  -4  -3  -2    5  49   0   0   0   2   0   0   3   2   0  26   4   0   0   4   2   0   0   2  0.89 0.31\n",
    "   41 C    -4  -7  -6  -7  12  -7  -7  -6  -7  -5  -5  -7  -5  -6  -7  -4  -4  -6  -6  -4    0   0   0   0 100   0   0   0   0   0   0   0   0   0   0   0   0   0   0   0  3.87 0.78\n",
    "   42 W    -3  -1  -4  -4  -4  -3  -1  -5   0   1   0  -1   1   5  -4  -3  -2   6   4   0    0   4   0   0   0   0   4   0   3   9   8   5   4  25   0   0   2  14  16   6  0.64 0.23\n",
    "   43 C    -4  -7  -6  -7  12  -7  -7  -6  -7  -5  -5  -7  -5  -6  -7  -4  -4  -6  -6  -4    0   0   0   0 100   0   0   0   0   0   0   0   0   0   0   0   0   0   0   0  3.87 0.78\n",
    "   44 T    -2  -2  -1  -2  -3   1  -1  -4  -2   0  -2  -1  -1   0  -4   0   4  -2   5  -2    2   1   3   1   0   8   2   0   0   6   2   3   1   3   0   4  34   0  28   1  0.54 0.27\n",
    "   45 R    -3   5  -1  -3  -5   0  -2  -4   0  -4  -2   4  -3   4  -4  -3  -2  -3   1  -4    0  33   1   0   0   2   0   0   2   0   4  31   0  21   0   0   2   0   4   0  0.78 0.29\n",
    "   46 N     0   1   3   1  -4   2   0  -2   3  -3  -3   0  -3  -4   4   0  -2  -5  -3  -3    6   6  21   9   0  10   3   2   8   1   1   2   0   0  23   6   0   0   0   2  0.50 0.18\n",
    "   47 C    -4  -7  -6  -7  12  -6  -7  -6  -6  -5  -5  -6  -5  -6  -6  -4  -4  -6  -6  -4    0   0   0   0 100   0   0   0   0   0   0   0   0   0   0   0   0   0   0   0  3.71 0.68\n",
    "\n",
    "                      K         Lambda\n",
    "Standard Ungapped    0.1431     0.3289\n",
    "Standard Gapped      0.0475     0.2670\n",
    "PSI Ungapped         0.1552     0.3176\n",
    "PSI Gapped           0.0475     0.2670"
   ]
  },
  {
   "cell_type": "markdown",
   "metadata": {},
   "source": [
    "extract A   R   N   D   C   Q   E   G   H   I   L   K   M   F   P   S   T   W   Y   V \n",
    "1348 sequences "
   ]
  },
  {
   "cell_type": "code",
   "execution_count": 8,
   "metadata": {},
   "outputs": [
    {
     "name": "stdout",
     "output_type": "stream",
     "text": [
      "d3psma_.aln            d3psma_.pssm           sequence_profile.ipynb\n"
     ]
    }
   ],
   "source": [
    "ls"
   ]
  },
  {
   "cell_type": "code",
   "execution_count": 10,
   "metadata": {},
   "outputs": [
    {
     "name": "stdout",
     "output_type": "stream",
     "text": [
      "PSIBLAST 2.7.1+\n",
      "\n",
      "\n",
      "Reference: Stephen F. Altschul, Thomas L. Madden, Alejandro A.\n",
      "Schaffer, Jinghui Zhang, Zheng Zhang, Webb Miller, and David J.\n",
      "Lipman (1997), \"Gapped BLAST and PSI-BLAST: a new generation of\n",
      "protein database search programs\", Nucleic Acids Res. 25:3389-3402.\n",
      "\n",
      "\n",
      "Reference for compositional score matrix adjustment: Stephen F.\n",
      "Altschul, John C. Wootton, E. Michael Gertz, Richa Agarwala,\n",
      "Aleksandr Morgulis, Alejandro A. Schaffer, and Yi-Kuo Yu (2005)\n",
      "\"Protein database searches using compositionally adjusted\n",
      "substitution matrices\", FEBS J. 272:5101-5109.\n",
      "\n",
      "\n",
      "Reference for composition-based statistics starting in round 2:\n",
      "Alejandro A. Schaffer, L. Aravind, Thomas L. Madden, Sergei\n",
      "Shavirin, John L. Spouge, Yuri I. Wolf, Eugene V. Koonin, and\n",
      "Stephen F. Altschul (2001), \"Improving the accuracy of PSI-BLAST\n",
      "protein database searches with composition-based statistics and\n",
      "other refinements\", Nucleic Acids Res. 29:2994-3005.\n",
      "\n",
      "\n",
      "\n",
      "Database: uniprot_sprot.fasta\n",
      "           563,082 sequences; 202,799,066 total letters\n",
      "\n",
      "Results from round 1\n",
      "\n",
      "\n",
      "Query= d3psma_\n",
      "\n",
      "Length=47\n",
      "                                                                      Score     E\n",
      "Sequences producing significant alignments:                          (Bits)  Value\n",
      "\n",
      "  sp|P18646|DEF_VIGUN Defensin-like protein OS=Vigna unguiculata ...  105     2e-31\n",
      "  sp|B3F051|DEF_LENCC Defensin Lc-def OS=Lens culinaris subsp. cu...  97.4    5e-28\n",
      "  sp|P81930|DEF2_PEA Defensin-2 OS=Pisum sativum OX=3888 PE=1 SV=2    91.3    7e-26\n",
      "  sp|P81929|DEF1_PEA Defensin-1 OS=Pisum sativum OX=3888 PE=1 SV=2    80.1    2e-21\n",
      "  sp|Q01784|DF39_PEA Defensin-like protein 39 OS=Pisum sativum OX...  80.1    4e-21\n",
      "  sp|B3EWP3|DEF1_ARAHY Defensin 1 (Fragment) OS=Arachis hypogaea ...  78.6    1e-20\n",
      "  sp|C0HJZ1|DEF3_ARAHY Defensin 3 OS=Arachis hypogaea OX=3818 PE=...  78.6    1e-20\n",
      "  sp|Q01783|DF230_PEA Defensin-like protein 230 OS=Pisum sativum ...  77.0    6e-20\n",
      "  sp|B3EWP4|DEF2_ARAHY Defensin 2 (Fragment) OS=Arachis hypogaea ...  76.3    1e-19\n",
      "  sp|P84968|DEF2_TRIKH Defensin Tk-AMP-D2 OS=Triticum kiharae OX=...  45.8    8e-08\n",
      "  sp|P84963|DEF1_TRIKH Defensin Tk-AMP-D1 OS=Triticum kiharae OX=...  44.3    3e-07\n",
      "  sp|Q9ZUL7|DEF01_ARATH Defensin-like protein 1 OS=Arabidopsis th...  43.1    2e-06\n",
      "  sp|Q41914|DEF04_ARATH Defensin-like protein 4 OS=Arabidopsis th...  42.7    2e-06\n",
      "  sp|Q39182|DEF02_ARATH Defensin-like protein 2 OS=Arabidopsis th...  42.0    5e-06\n",
      "  sp|Q40901|DEF_PETIN Defensin-like protein OS=Petunia integrifol...  42.0    5e-06\n",
      "  sp|P84964|DEF12_TRIMO Defensin Tm-AMP-D1.2 OS=Triticum monococc...  41.2    5e-06\n",
      "  sp|Q7M1F2|DEF1_CLITE Defensin-like protein 1 OS=Clitoria ternat...  40.8    7e-06\n",
      "  sp|Q9C947|DEF05_ARATH Defensin-like protein 5 OS=Arabidopsis th...  41.2    9e-06\n",
      "  sp|P82010|DFAX2_BETVU Defensin-like protein AX2 OS=Beta vulgari...  40.4    1e-05\n",
      "  sp|Q07502|DEF_SOYBN Defensin-like protein OS=Glycine max OX=384...  40.4    2e-05\n",
      "  sp|P82659|DFSD2_HELAN Defensin SD2 OS=Helianthus annuus OX=4232...  40.4    2e-05\n",
      "  sp|O65740|DEF2_CAPAN Defensin J1-2 OS=Capsicum annuum OX=4072 P...  40.0    3e-05\n",
      "  sp|P84967|DEF6_TRIKH Defensin Tk-AMP-D6 OS=Triticum kiharae OX=...  39.3    3e-05\n",
      "  sp|P82782|DEF08_ARATH Defensin-like protein 8 OS=Arabidopsis th...  40.0    3e-05\n",
      "  sp|P20346|DF322_SOLTU Defensin-like protein P322 OS=Solanum tub...  39.3    5e-05\n",
      "  sp|P0C8Y5|DEF1_HEUSA Defensin-like protein 1 OS=Heuchera sangui...  37.7    1e-04\n",
      "  sp|P0C8Y4|DEF1_DAHME Defensin-like protein 1 OS=Dahlia merckii ...  37.4    2e-04\n",
      "  sp|P84969|DEF61_TRIKH Defensin Tk-AMP-D6.1 OS=Triticum kiharae ...  37.0    2e-04\n",
      "  sp|Q9ZUL8|DEF10_ARATH Defensin-like protein 10 OS=Arabidopsis t...  37.4    3e-04\n",
      "  sp|P84970|DEF3_TRIKH Defensin Tk-AMP-D3 OS=Triticum kiharae OX=...  36.6    3e-04\n",
      "  sp|P82787|DEF19_ARATH Defensin-like protein 19 OS=Arabidopsis t...  36.2    9e-04\n",
      "  sp|C0HL83|AMPD2_STEME Antimicrobial peptide D2 OS=Stellaria med...  36.2    0.001\n",
      "  sp|P84965|DEF11_TRIKH Defensin Tk-AMP-D1.1 OS=Triticum kiharae ...  35.4    0.001\n",
      "  sp|B5LZ79|DEF_GYMCO Defensin-like protein OS=Gymnadenia conopse...  35.4    0.002\n",
      "  sp|P83399|DEF1_VIGUN Defensin-like protein 1 OS=Vigna unguicula...  34.7    0.002\n",
      "  sp|P20159|DEF2_WHEAT Defensin-like protein 2 OS=Triticum aestiv...  34.3    0.003\n",
      "  sp|A3FPF2|DEF_NELNU Defensin-like protein OS=Nelumbo nucifera O...  34.7    0.004\n",
      "  sp|Q9FZ31|DEF18_ARATH Defensin-like protein 18 OS=Arabidopsis t...  34.7    0.004\n",
      "  sp|Q43413|DEF1_CAPAN Defensin J1-1 OS=Capsicum annuum OX=4072 P...  34.3    0.005\n",
      "  sp|C0HL82|AMPD1_STEME Antimicrobial peptide D1 OS=Stellaria med...  34.3    0.005\n",
      "  sp|P84966|DEF5_TRIKH Defensin Tk-AMP-D5 OS=Triticum kiharae OX=...  33.5    0.006\n",
      "  sp|P20158|DEF1_WHEAT Defensin-like protein 1 OS=Triticum aestiv...  33.5    0.006\n",
      "  sp|P81493|DFAX1_BETVU Defensin-like protein AX1 OS=Beta vulgari...  33.1    0.008\n",
      "  sp|P81571|DEFD2_SPIOL Defensin D2 (Fragment) OS=Spinacia olerac...  33.1    0.009\n",
      "  sp|Q9FFP8|DEF06_ARATH Defensin-like protein 6 OS=Arabidopsis th...  33.5    0.009\n",
      "\n",
      "\n",
      "> sp|P18646|DEF_VIGUN Defensin-like protein OS=Vigna unguiculata \n",
      "OX=3917 PE=3 SV=1\n",
      "Length=75\n",
      "\n",
      " Score = 105 bits (263),  Expect = 2e-31\n",
      " Identities = 41/47 (87%), Positives = 43/47 (91%), Gaps = 0/47 (0%)\n",
      "\n",
      "Query  1   KTCENLADTFRGPCFTDGSCDDHCKNKEHLIKGRCRDDFRCWCTRNC  47\n",
      "           KTCENL DT+RGPCFT GSCDDHCKNKEHL+ GRCRDD RCWCTRNC\n",
      "Sbjct  29  KTCENLVDTYRGPCFTTGSCDDHCKNKEHLLSGRCRDDVRCWCTRNC  75\n",
      "\n",
      "\n",
      "> sp|B3F051|DEF_LENCC Defensin Lc-def OS=Lens culinaris subsp. \n",
      "culinaris OX=362247 PE=1 SV=1\n",
      "Length=74\n",
      "\n"
     ]
    }
   ],
   "source": [
    "head -100 d3psma_.aln"
   ]
  },
  {
   "cell_type": "markdown",
   "metadata": {},
   "source": [
    "Pairwise alignments:\n",
    "\n",
    ".aln file:\n",
    "\n",
    "- All significant alignments are shown in the first block\n",
    "- For each of the above reported sequnces\n",
    "    - The corresponding pairwise alignment is shown\n",
    "    \n",
    "- If you want to build the PSSM for the profile - starting from this file\n",
    "     - you have to select all sequences from the last round - \"round 3\" \n",
    "     - Collect all the sequs producing a significant alignment\n",
    "     - parese all the alignments - one a a time \n",
    "     - extraciting the SS mapping between subject and sequence\n",
    "     \n",
    "- All gaps in the query need to be removed --> see example below:"
   ]
  },
  {
   "cell_type": "code",
   "execution_count": null,
   "metadata": {},
   "outputs": [],
   "source": [
    "Query  1   KTCENLADTFRGPCFTDGSCDDHCKNKEHLIKGRCRD---DFRCWCTRNC  47\n",
    "           +TCE+ +  F+GPCF+D +C   C+  E+  +G+C     + +C+C R+C\n",
    "Sbjct  1   RTCESQSHKFKGPCFSDSNCATVCRT-ENFPRGQCNQHHVERKCYCERSC  49"
   ]
  },
  {
   "cell_type": "markdown",
   "metadata": {},
   "source": [
    " So you must implement something that allows you map the pairwise alignment to the original sequence without gaps.\n",
    " \n",
    " You have to filter it out the \"-\" and the corresponding aligned residue in the subject below."
   ]
  },
  {
   "cell_type": "markdown",
   "metadata": {},
   "source": [
    "'''/round 3 is not in the file'''\n",
    "\n",
    "so use a file that contains the ls output of all the file names but no extensions so and loops through it\n",
    "\n",
    "Its best to execute the psi blast via a bash script --> when using a cmd line tool its best to use a bash script"
   ]
  },
  {
   "cell_type": "code",
   "execution_count": null,
   "metadata": {},
   "outputs": [],
   "source": [
    "#!/bin/bash\n",
    "\n",
    "input_list=$1 # 1$ first argument passed \n",
    "\n",
    "for protein_id in $(cat ${input_list}) # makes variable out of the output of cat input_list\n",
    "do\n",
    "    psiblast -query fasta/${protein_id}.fasta -db uniprot_sprot.fasta -evalue 0.01 -num_iterations 3 \\\n",
    "    -out_ascii_pssm psiblast-output/${protein_id}.psiblast.pssm -num_descriptions 10000 -num_alignments 10000 \\\n",
    "    -out psiblast-output/${protein_id}.psiblast.aln -num_threads 32\n",
    "done"
   ]
  },
  {
   "cell_type": "markdown",
   "metadata": {},
   "source": [
    "- We process each sequence from both:\n",
    "    - blindtest set\n",
    "    - training set\n",
    "- We are preparing our data for the method implementation and training evaluation parts"
   ]
  },
  {
   "cell_type": "code",
   "execution_count": 1,
   "metadata": {},
   "outputs": [],
   "source": [
    "\n",
    "\n",
    "def lines_list(infile1):                                              # call list of file names and for dsspfile\n",
    "    ''' Reads all lines from a file and saves them to a list. '''\n",
    "    with open(infile1) as ofile:\n",
    "        flist = ofile.readlines() # returns list containing each line of the file\n",
    "        return flist\n",
    "\n",
    "# def relevant_lines(infile1, desired_chain):\n",
    "#     '''Takes list (extracted from a DSSP file) and the name of the desired_chain as input.\n",
    "#     Returns 2 strings: ss_string holds the secondary structure mapping and aa_string holds \n",
    "#     the amino acid information. Missing residues (when no atomic information of the PDB is \n",
    "#     present) are assigned the letter \"C\" (coil) in the ss_string and \"X\" in the aa_string.'''\n",
    "#     dssp_list = lines_list(infile1)     # contains all lines from the dssp file.\n",
    "#     relevant = False # boolean variable            \n",
    "# #     desired_chain = \"A\"                            # change to load from \"id_and_chain_blindset2\"\n",
    "#     ss_string = ''\n",
    "#     aa_string = ''\n",
    "#     for line in dssp_list:\n",
    "#         if '#' in line: # find last line before relevant output\n",
    "#             relevant =True   # flips rel to true - so the folowing lines are saved\n",
    "#             continue\n",
    "#         if relevant:\n",
    "#             if line[11] == desired_chain:\n",
    "#                 ss_string += line[16]\n",
    "#                 if line[13] == \"!\":\n",
    "#                     aa_string += \"X\"\n",
    "#                 else:\n",
    "#                     aa_string += line[13]\n",
    "#     return ss_string, aa_string"
   ]
  },
  {
   "cell_type": "code",
   "execution_count": 2,
   "metadata": {},
   "outputs": [
    {
     "data": {
      "text/plain": [
       "'/Users/ila/01-Unibo/02_Lab2/project/test'"
      ]
     },
     "execution_count": 2,
     "metadata": {},
     "output_type": "execute_result"
    }
   ],
   "source": [
    "pwd"
   ]
  },
  {
   "cell_type": "code",
   "execution_count": 26,
   "metadata": {},
   "outputs": [
    {
     "name": "stdout",
     "output_type": "stream",
     "text": [
      "['A', 'R', 'N', 'D', 'C', 'Q', 'E', 'G', 'H', 'I', 'L', 'K', 'M', 'F', 'P', 'S', 'T', 'W', 'Y', 'V', 'A', 'R', 'N', 'D', 'C', 'Q', 'E', 'G', 'H', 'I', 'L', 'K', 'M', 'F', 'P', 'S', 'T', 'W', 'Y', 'V']\n"
     ]
    }
   ],
   "source": [
    "all_lines = lines_list(\"d3psma_.pssm\")\n",
    "all_lines = all_lines[2].split()\n",
    "print(all_lines)"
   ]
  },
  {
   "cell_type": "code",
   "execution_count": 27,
   "metadata": {},
   "outputs": [
    {
     "data": {
      "text/plain": [
       "40"
      ]
     },
     "execution_count": 27,
     "metadata": {},
     "output_type": "execute_result"
    }
   ],
   "source": [
    "len(all_lines)"
   ]
  },
  {
   "cell_type": "code",
   "execution_count": 29,
   "metadata": {},
   "outputs": [
    {
     "data": {
      "text/plain": [
       "'V'"
      ]
     },
     "execution_count": 29,
     "metadata": {},
     "output_type": "execute_result"
    }
   ],
   "source": [
    "all_lines[20]"
   ]
  },
  {
   "cell_type": "markdown",
   "metadata": {},
   "source": [
    "# Running PSI BLAST on blind test set\n",
    "\n",
    "Preparing input list for psiblasting blind_fasta\n",
    "* Need to cut ids only and generate a list thereof.\n",
    "* Serves as input for the ```~/project/psiblast_cycle.sh ```\n"
   ]
  },
  {
   "cell_type": "code",
   "execution_count": 2,
   "metadata": {},
   "outputs": [
    {
     "name": "stdout",
     "output_type": "stream",
     "text": [
      "4uiq.fasta\n",
      "4y0l.fasta\n",
      "4y0o.fasta\n"
     ]
    }
   ],
   "source": [
    "ls /Users/ila/01-Unibo/02_Lab2/project_blindset/blind_fasta | head -3"
   ]
  },
  {
   "cell_type": "code",
   "execution_count": null,
   "metadata": {},
   "outputs": [],
   "source": [
    "ls lb2-2020-project-englander/blind_fasta/ | rev | cut -c7- | rev  > ~/blindset_ids_only"
   ]
  },
  {
   "cell_type": "code",
   "execution_count": null,
   "metadata": {},
   "outputs": [],
   "source": [
    "bash ~/project/psiblast_blindsetcycle.sh ~/blindset_ids_only"
   ]
  },
  {
   "cell_type": "code",
   "execution_count": null,
   "metadata": {},
   "outputs": [],
   "source": [
    "source /opt/conda/bin/activate "
   ]
  },
  {
   "cell_type": "markdown",
   "metadata": {},
   "source": [
    "### Modifyed script to use correct in and outfiles"
   ]
  },
  {
   "cell_type": "code",
   "execution_count": null,
   "metadata": {},
   "outputs": [],
   "source": [
    "#!/bin/bash\n",
    "\n",
    "input_list=$1           # 1$ first argument passed \n",
    "\n",
    "for protein_id in $(cat ${input_list}) # makes variable out of the output of cat input_list\n",
    "do\n",
    "    psiblast -query lb2-2020-project-englander/blind_fasta/${protein_id}.fasta -db uniprot_sprot.fasta -evalue 0.01 -num_iterations 3 \\\n",
    "    -out_ascii_pssm psiblast_output/${protein_id}.psiblast.pssm -num_descriptions 10000 -num_alignments 10000 \\\n",
    "    -out psiblast_output/${protein_id}.psiblast.aln -num_threads 2 -comp_based_stats no\n",
    "done\n"
   ]
  },
  {
   "cell_type": "markdown",
   "metadata": {},
   "source": [
    "### Moving files to a different folder\n",
    "was easier than changeing the script in 2 spots."
   ]
  },
  {
   "cell_type": "code",
   "execution_count": null,
   "metadata": {},
   "outputs": [],
   "source": [
    "mv psiblast_output/ ~/project/psiblast_output_blind_set_fasta/"
   ]
  },
  {
   "cell_type": "markdown",
   "metadata": {},
   "source": [
    "### Script for extracting **the normalized sequence profile**\n",
    "\n",
    "```~/01-Unibo/02_Lab2/files_lab2_project/scripts/normalized_sequence_profile.py ```"
   ]
  },
  {
   "cell_type": "code",
   "execution_count": null,
   "metadata": {},
   "outputs": [],
   "source": [
    "# import os\n",
    "# for filename in os.listdir(\"ubicación\"):"
   ]
  },
  {
   "cell_type": "code",
   "execution_count": null,
   "metadata": {},
   "outputs": [],
   "source": [
    "#!/usr/bin/env python3\n",
    "import sys\n",
    "import os.path\n",
    "\n",
    "def pssm_list(infile):                                              # call list of file names and for dsspfile\n",
    "    ''' Reads relevant lines from a pssm file and saves them to a list.\n",
    "    Returns values of the 2 matrices (no header).'''\n",
    "    with open(infile) as ofile:\n",
    "        flist = ofile.readlines()[3:-6] # list of each line of the file excluding first 3 & last 6 lines\n",
    "        return flist\n",
    "\n",
    "def lines_to_list(infile1):\n",
    "        ''' Reads all lines from a file and saves them to a list containing the '\\n' char. '''\n",
    "        all_lines_list = []\n",
    "        with open(infile1, 'r') as rfile:\n",
    "            all_lines_list = rfile.readlines()\n",
    "        return all_lines_list  # need to rstrip in a loop for using filenames.\n",
    "        \n",
    "def relevant_lines(infile2):\n",
    "    '''Takes list (extracted from a .pssm file) and extracts the Sequence Profile Portion only.\n",
    "    Returns a list of list where each element is one line of the sequence profile matrix. '''\n",
    "    pssm_profile_list = pssm_list(infile2)     # contains all lines from the pssm file.           \n",
    "    profile_final_list = []                # for holding relevant fileds of the line\n",
    "    for line in pssm_profile_list:\n",
    "            pssm_profile_list = line.split()[22:42]   # profile ranges from pos 22-42 \n",
    "            profile_final_list.append(pssm_profile_list) # appending to final list of lists\n",
    "    return profile_final_list # list of lists\n",
    "    \n",
    "# # devide all values by 100   \n",
    "def write_normalized_profile(profile_final_list, ofile):\n",
    "    '''Takes profile list of lists and outfile name as input. Writes each number that is in \n",
    "    one of the sublists and devides it by 100. The number is converted to a string and added\n",
    "    a tab and written to a file. After each sublist a newline character is written to the file.'''\n",
    "    with open(ofile, \"a\") as wfile:\n",
    "        for sublist in profile_final_list:\n",
    "#             print(sublist)\n",
    "            for el in sublist:\n",
    "                num =int(el)/100\n",
    "                numstring=str(num)\n",
    "                wfile.write(numstring+'\\t')  # adding tab after each number\n",
    "            wfile.write(\"\\n\")                # adding newline at the end of each sublist.\n",
    "\n",
    "if __name__ == '__main__':\n",
    "    infile1 = sys.argv[1] # the idlist to loop on\n",
    "    #Call the function by looping through an id list+'.pssm' extension\n",
    "    # name the outfile the same --> id list+'.profile'\n",
    "    idlist = lines_to_list(infile1)  # containing the id of the file but NOT the extension \".pssm\" \n",
    "    for ids in idlist:\n",
    "        # path may need to be added before \"<the path>\"+ids.rsprip()\n",
    "        part2 = ids.rstrip()+'.pssm'    # removing newlinecharacter, adding necessary extension\n",
    "        if os.path.isfile(infile) == True:       # does this file exist?\n",
    "            ofile = ids.rstrip()+'.profile'    # outifile for each id with correct extension\n",
    "            profile_list = relevant_lines(infile)\n",
    "            write_normalized_profile(profile_list, ofile)\n",
    "        else:\n",
    "            print(\"Error file: \"+infile+\" not found.\")\n"
   ]
  },
  {
   "cell_type": "code",
   "execution_count": null,
   "metadata": {},
   "outputs": [],
   "source": [
    "with open(outfile, 'a') as afile:\n",
    "        for i in idlist:\n",
    "            afile.write(i) #appending ID in even lines\n",
    "            afile.write(aa_dict[i]) # appending value (sequ) in odd lines\n",
    "pssm = relevant_lines(\"d3psma_.pssm\")\n",
    "write_normalized_profile(pssm, 'thomas')"
   ]
  },
  {
   "cell_type": "markdown",
   "metadata": {},
   "source": [
    "### Ran the script on blind and training set:\n",
    "\n",
    "* Had to modify path to the idfile for each run:\n",
    "    * I should have thought of a way to do this from the cmd line\n",
    "    \n",
    "### The blindset's profiles are saved in \n",
    "```~/lb2-2020-project-englander/seqprofile_blind```\n",
    "\n",
    "#### The trainingset's profiles are saved in\n",
    "```~/lb2-2020-project-englander/seqprofile_training```\n",
    "\n",
    "Not all sequences yielded a checkpoint file: --> some did not find matches above the threashold."
   ]
  },
  {
   "cell_type": "raw",
   "metadata": {},
   "source": [
    "~/lb2-2020-project-englander/scripts/normalized_sequence_profile.py ~/blindset_ids_only > missing_pssm_checkpointfiles "
   ]
  },
  {
   "cell_type": "raw",
   "metadata": {},
   "source": [
    " ~/lb2-2020-project-englander/scripts/normalized_sequence_profile.py ~/project/all_ids_trainingset > missing_ids_pssm_checkpointfiles_of_trainingset"
   ]
  }
 ],
 "metadata": {
  "kernelspec": {
   "display_name": "Python 3",
   "language": "python",
   "name": "python3"
  },
  "language_info": {
   "codemirror_mode": {
    "name": "ipython",
    "version": 3
   },
   "file_extension": ".py",
   "mimetype": "text/x-python",
   "name": "python",
   "nbconvert_exporter": "python",
   "pygments_lexer": "ipython3",
   "version": "3.7.2"
  }
 },
 "nbformat": 4,
 "nbformat_minor": 4
}
