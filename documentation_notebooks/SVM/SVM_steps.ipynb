{
 "cells": [
  {
   "cell_type": "code",
   "execution_count": null,
   "metadata": {},
   "outputs": [],
   "source": [
    "from IPython.display import display, HTML"
   ]
  },
  {
   "cell_type": "markdown",
   "metadata": {},
   "source": [
    "# Support Vector Machine\n",
    "## libsvm\n",
    "\n",
    "### Minimal Gridsearch\n",
    "\n",
    "Performed with parameters\n",
    "\n",
    "<style type=\"text/css\">\n",
    ".tg  {border-collapse:collapse;border-spacing:0;}\n",
    ".tg td{border-color:black;border-style:solid;border-width:1px;font-family:Arial, sans-serif;font-size:14px;\n",
    "  overflow:hidden;padding:10px 5px;word-break:normal;}\n",
    ".tg th{border-color:black;border-style:solid;border-width:1px;font-family:Arial, sans-serif;font-size:14px;\n",
    "  font-weight:normal;overflow:hidden;padding:10px 5px;word-break:normal;}\n",
    ".tg .tg-0pky{border-color:inherit;text-align:left;vertical-align:top}\n",
    "</style>\n",
    "<table class=\"tg\">\n",
    "<thead>\n",
    "  <tr>\n",
    "    <th class=\"tg-0pky\"></th>\n",
    "    <th class=\"tg-0pky\"></th>\n",
    "    <th class=\"tg-0pky\">gamma</th>\n",
    "    <th class=\"tg-0pky\"></th>\n",
    "  </tr>\n",
    "</thead>\n",
    "<tbody>\n",
    "  <tr>\n",
    "    <td class=\"tg-0pky\"></td>\n",
    "    <td class=\"tg-0pky\"></td>\n",
    "    <td class=\"tg-0pky\">0.5</td>\n",
    "    <td class=\"tg-0pky\">2</td>\n",
    "  </tr>\n",
    "  <tr>\n",
    "    <td class=\"tg-0pky\">c</td>\n",
    "    <td class=\"tg-0pky\">2</td>\n",
    "    <td class=\"tg-0pky\"></td>\n",
    "    <td class=\"tg-0pky\"></td>\n",
    "  </tr>\n",
    "  <tr>\n",
    "    <td class=\"tg-0pky\"></td>\n",
    "    <td class=\"tg-0pky\">4</td>\n",
    "    <td class=\"tg-0pky\"></td>\n",
    "    <td class=\"tg-0pky\"></td>\n",
    "  </tr>\n",
    "</tbody>\n",
    "</table>\n",
    "\n",
    "* Need to run 4 cross validations:\n",
    "    1. c = 2 and $\\gamma$ = 0.5\n",
    "    1. c = 2 and $\\gamma$ = 2\n",
    "    1. c = 4 and $\\gamma$ = 0.5\n",
    "    1. c = 4 and $\\gamma$ = 2\n",
    "    \n",
    "## Training:    \n",
    "\n",
    "No multithreading possible :/\n",
    "\n",
    "&rarr; one core per training set\n",
    "\n",
    "### Input Files for Training and Testing"
   ]
  },
  {
   "cell_type": "code",
   "execution_count": 8,
   "metadata": {},
   "outputs": [
    {
     "name": "stdout",
     "output_type": "stream",
     "text": [
      "\u001b[1m\u001b[32mSVM_TrainAllSet.txt\u001b[39;49m\u001b[0m           \u001b[1m\u001b[32mSVM_TrainSet2.txt\u001b[39;49m\u001b[0m\n",
      "\u001b[1m\u001b[32mSVM_TrainAllSet_BlindTest.txt\u001b[39;49m\u001b[0m \u001b[1m\u001b[32mSVM_TrainSet2_TestSet2.txt\u001b[39;49m\u001b[0m\n",
      "\u001b[1m\u001b[32mSVM_TrainSet0.txt\u001b[39;49m\u001b[0m             \u001b[1m\u001b[32mSVM_TrainSet3.txt\u001b[39;49m\u001b[0m\n",
      "\u001b[1m\u001b[32mSVM_TrainSet0_TestSet0.txt\u001b[39;49m\u001b[0m    \u001b[1m\u001b[32mSVM_TrainSet3_TestSet3.txt\u001b[39;49m\u001b[0m\n",
      "\u001b[1m\u001b[32mSVM_TrainSet1.txt\u001b[39;49m\u001b[0m             \u001b[1m\u001b[32mSVM_TrainSet4.txt\u001b[39;49m\u001b[0m\n",
      "\u001b[1m\u001b[32mSVM_TrainSet1_TestSet1.txt\u001b[39;49m\u001b[0m    \u001b[1m\u001b[32mSVM_TrainSet4_TestSet4.txt\u001b[39;49m\u001b[0m\n"
     ]
    }
   ],
   "source": [
    "ls ../../all_data/inputs/SVM_inputs/"
   ]
  },
  {
   "cell_type": "code",
   "execution_count": 10,
   "metadata": {},
   "outputs": [],
   "source": [
    "mkdir ../../all_data/inputs/SVM_inputs/train/\n"
   ]
  },
  {
   "cell_type": "code",
   "execution_count": 3,
   "metadata": {},
   "outputs": [
    {
     "name": "stdout",
     "output_type": "stream",
     "text": [
      "SVM_TrainSet0_TestSet0.txt\n",
      "SVM_TrainSet1_TestSet1.txt\n",
      "SVM_TrainSet2_TestSet2.txt\n",
      "SVM_TrainSet3_TestSet3.txt\n",
      "SVM_TrainSet4_TestSet4.txt\n"
     ]
    }
   ],
   "source": [
    "for i in {0..4}; do f=\"SVM_TrainSet${i}_TestSet${i}.txt\"; \"$f\" ; done"
   ]
  },
  {
   "cell_type": "code",
   "execution_count": 2,
   "metadata": {},
   "outputs": [
    {
     "name": "stdout",
     "output_type": "stream",
     "text": [
      "bash: !l=[1,2]: event not found\n",
      "bash: !print: event not found\n"
     ]
    }
   ],
   "source": []
  },
  {
   "cell_type": "code",
   "execution_count": 11,
   "metadata": {},
   "outputs": [
    {
     "name": "stdout",
     "output_type": "stream",
     "text": [
      "/Users/ila/01-Unibo/02_Lab2/files_lab2_project/documentation_notebooks/SVM\n"
     ]
    }
   ],
   "source": [
    "pwd"
   ]
  },
  {
   "cell_type": "code",
   "execution_count": 13,
   "metadata": {},
   "outputs": [
    {
     "name": "stdout",
     "output_type": "stream",
     "text": [
      "-rwxr--r--@ 1 ila  staff  217 Nov 30 16:31 \u001b[1m\u001b[32m/Users/ila/01-Unibo/02_Lab2/files_lab2_project/scripts/mv_train.sh\u001b[39;49m\u001b[0m\n"
     ]
    }
   ],
   "source": [
    "chmod u+x /Users/ila/01-Unibo/02_Lab2/files_lab2_project/scripts/mv_train.sh\n",
    "ls -l /Users/ila/01-Unibo/02_Lab2/files_lab2_project/scripts/mv_train.sh"
   ]
  },
  {
   "cell_type": "code",
   "execution_count": 14,
   "metadata": {},
   "outputs": [
    {
     "name": "stdout",
     "output_type": "stream",
     "text": [
      "/Users/ila/01-Unibo/02_Lab2/files_lab2_project/all_data/inputs/SVM_inputs\n"
     ]
    }
   ],
   "source": [
    "cd ../../all_data/inputs/SVM_inputs/\n",
    "pwd"
   ]
  },
  {
   "cell_type": "code",
   "execution_count": 15,
   "metadata": {},
   "outputs": [
    {
     "name": "stdout",
     "output_type": "stream",
     "text": [
      "\u001b[1m\u001b[32mSVM_TrainAllSet.txt\u001b[39;49m\u001b[0m           \u001b[1m\u001b[32mSVM_TrainSet2_TestSet2.txt\u001b[39;49m\u001b[0m\n",
      "\u001b[1m\u001b[32mSVM_TrainAllSet_BlindTest.txt\u001b[39;49m\u001b[0m \u001b[1m\u001b[32mSVM_TrainSet3.txt\u001b[39;49m\u001b[0m\n",
      "\u001b[1m\u001b[32mSVM_TrainSet0.txt\u001b[39;49m\u001b[0m             \u001b[1m\u001b[32mSVM_TrainSet3_TestSet3.txt\u001b[39;49m\u001b[0m\n",
      "\u001b[1m\u001b[32mSVM_TrainSet0_TestSet0.txt\u001b[39;49m\u001b[0m    \u001b[1m\u001b[32mSVM_TrainSet4.txt\u001b[39;49m\u001b[0m\n",
      "\u001b[1m\u001b[32mSVM_TrainSet1.txt\u001b[39;49m\u001b[0m             \u001b[1m\u001b[32mSVM_TrainSet4_TestSet4.txt\u001b[39;49m\u001b[0m\n",
      "\u001b[1m\u001b[32mSVM_TrainSet1_TestSet1.txt\u001b[39;49m\u001b[0m    \u001b[1m\u001b[34mtrain\u001b[39;49m\u001b[0m\n",
      "\u001b[1m\u001b[32mSVM_TrainSet2.txt\u001b[39;49m\u001b[0m\n"
     ]
    }
   ],
   "source": [
    "ls"
   ]
  },
  {
   "cell_type": "markdown",
   "metadata": {},
   "source": [
    "## Moving Training Sets into Respective Folder"
   ]
  },
  {
   "cell_type": "code",
   "execution_count": 30,
   "metadata": {},
   "outputs": [
    {
     "name": "stdout",
     "output_type": "stream",
     "text": [
      "-rwxr--r--@ 1 ila  staff  220 Nov 30 16:39 \u001b[1m\u001b[32m/Users/ila/01-Unibo/02_Lab2/files_lab2_project/scripts/mv_T.sh\u001b[39;49m\u001b[0m\n"
     ]
    }
   ],
   "source": [
    "chmod u+x /Users/ila/01-Unibo/02_Lab2/files_lab2_project/scripts/mv_T.sh\n",
    "ls -l /Users/ila/01-Unibo/02_Lab2/files_lab2_project/scripts/mv_T.sh"
   ]
  },
  {
   "cell_type": "code",
   "execution_count": 33,
   "metadata": {},
   "outputs": [
    {
     "name": "stdout",
     "output_type": "stream",
     "text": [
      "\u001b[1m\u001b[32mSVM_TrainSet0.txt\u001b[39;49m\u001b[0m \u001b[1m\u001b[32mSVM_TrainSet2.txt\u001b[39;49m\u001b[0m \u001b[1m\u001b[32mSVM_TrainSet4.txt\u001b[39;49m\u001b[0m\n",
      "\u001b[1m\u001b[32mSVM_TrainSet1.txt\u001b[39;49m\u001b[0m \u001b[1m\u001b[32mSVM_TrainSet3.txt\u001b[39;49m\u001b[0m\n"
     ]
    }
   ],
   "source": [
    "/Users/ila/01-Unibo/02_Lab2/files_lab2_project/scripts/mv_T.sh\n",
    "ls train/"
   ]
  },
  {
   "cell_type": "markdown",
   "metadata": {},
   "source": [
    "## Moving Testing Sets into Respective Folder"
   ]
  },
  {
   "cell_type": "code",
   "execution_count": 20,
   "metadata": {},
   "outputs": [
    {
     "name": "stdout",
     "output_type": "stream",
     "text": [
      "\u001b[1m\u001b[32mSVM_TrainSet0_TestSet0.txt\u001b[39;49m\u001b[0m \u001b[1m\u001b[32mSVM_TrainSet3_TestSet3.txt\u001b[39;49m\u001b[0m\n",
      "\u001b[1m\u001b[32mSVM_TrainSet1_TestSet1.txt\u001b[39;49m\u001b[0m \u001b[1m\u001b[32mSVM_TrainSet4_TestSet4.txt\u001b[39;49m\u001b[0m\n",
      "\u001b[1m\u001b[32mSVM_TrainSet2_TestSet2.txt\u001b[39;49m\u001b[0m\n"
     ]
    }
   ],
   "source": [
    "/Users/ila/01-Unibo/02_Lab2/files_lab2_project/scripts/mv_train.sh\n",
    "ls test/"
   ]
  },
  {
   "cell_type": "code",
   "execution_count": 35,
   "metadata": {},
   "outputs": [
    {
     "name": "stdout",
     "output_type": "stream",
     "text": [
      "\u001b[1m\u001b[32mSVM_TrainAllSet.txt\u001b[39;49m\u001b[0m\n",
      "\u001b[1m\u001b[32mSVM_TrainAllSet_BlindTest.txt\u001b[39;49m\u001b[0m\n",
      "\u001b[1m\u001b[34mtest\u001b[39;49m\u001b[0m\n",
      "\u001b[1m\u001b[34mtrain\u001b[39;49m\u001b[0m\n"
     ]
    }
   ],
   "source": [
    "ls -1"
   ]
  },
  {
   "cell_type": "markdown",
   "metadata": {},
   "source": [
    "## Running libsvm &rarr; svm-train\n",
    "\n",
    "For running times of set one please refer to [link](https://docs.google.com/spreadsheets/d/1OwrFIgeq0E2VQQt40H_R6NXy5mc9Dx37mCias5DAQPQ/edit?usp=sharing)"
   ]
  },
  {
   "cell_type": "code",
   "execution_count": 37,
   "metadata": {},
   "outputs": [],
   "source": [
    "# svm-train -c 2 -g 0.5 <input> <output>"
   ]
  },
  {
   "cell_type": "markdown",
   "metadata": {},
   "source": [
    "## Running libsvm &rarr; svm-pred\n",
    "\n",
    "* Can use one core per run:\n",
    "    * Making input list to copy paste into screen session"
   ]
  },
  {
   "cell_type": "code",
   "execution_count": 38,
   "metadata": {},
   "outputs": [
    {
     "name": "stdout",
     "output_type": "stream",
     "text": [
      "\u001b[1m\u001b[32mSVM_TrainSet0_TestSet0.txt\u001b[39;49m\u001b[0m \u001b[1m\u001b[32mSVM_TrainSet3_TestSet3.txt\u001b[39;49m\u001b[0m\n",
      "\u001b[1m\u001b[32mSVM_TrainSet1_TestSet1.txt\u001b[39;49m\u001b[0m \u001b[1m\u001b[32mSVM_TrainSet4_TestSet4.txt\u001b[39;49m\u001b[0m\n",
      "\u001b[1m\u001b[32mSVM_TrainSet2_TestSet2.txt\u001b[39;49m\u001b[0m\n"
     ]
    }
   ],
   "source": [
    "ls test/"
   ]
  },
  {
   "cell_type": "code",
   "execution_count": null,
   "metadata": {},
   "outputs": [],
   "source": [
    "for i in {0..4}; do f=\"SVM_TrainSet${i}_TestSet${i}.txt\"; echo svm-predict \"$f\"  ; done"
   ]
  },
  {
   "cell_type": "code",
   "execution_count": 41,
   "metadata": {},
   "outputs": [
    {
     "name": "stdout",
     "output_type": "stream",
     "text": [
      "#!/bin/bash\n",
      "# Moving the training files to corresponding folder\n",
      "mkdir train/\n",
      "for i in {0..4}\n",
      "do\n",
      "    f=\"SVM_TrainSet${i}.txt\"\n",
      "\tmv \"$f\" /Users/ila/01-Unibo/02_Lab2/files_lab2_project/all_data/inputs/SVM_inputs/train/\n",
      "done\n"
     ]
    }
   ],
   "source": [
    "cat ~/01-Unibo/02_Lab2/files_lab2_project/scripts/mv_train.sh"
   ]
  },
  {
   "cell_type": "code",
   "execution_count": null,
   "metadata": {},
   "outputs": [],
   "source": [
    "um19@m19:~$ ls -1 SVM_inputs/\n",
    "SVM_TrainSet0.txt\n",
    "SVM_TrainSet0_TestSet0.txt\n",
    "SVM_TrainSet1.txt\n",
    "SVM_TrainSet1_TestSet1.txt\n",
    "SVM_TrainSet2.txt\n",
    "SVM_TrainSet2_TestSet2.txt\n",
    "SVM_TrainSet3.txt\n",
    "SVM_TrainSet3_TestSet3.txt\n",
    "SVM_TrainSet4.txt\n",
    "SVM_TrainSet4_TestSet4.txt"
   ]
  },
  {
   "cell_type": "code",
   "execution_count": null,
   "metadata": {},
   "outputs": [],
   "source": [
    "um19@m19:~$ ls -1\n",
    "SVM_inputs\n",
    "SVM_optimal\n",
    "SVM_outputs"
   ]
  },
  {
   "cell_type": "markdown",
   "metadata": {},
   "source": [
    "# Round 1\n",
    "\n",
    "Ok: \n",
    "1) Me pregunto si hay una mañera de abrir 15 screens en un script:\n",
    "\n",
    "    * e.g. que se llaman svm0, svm1, svm2, svm3, svm4 \n",
    "    \n",
    "2) Me pregunto si hay una mañera para mandar estos pares de comands (1: svm-train, 2: svm-predict) siempre a un screen -r svm${i}\n",
    "\n",
    "    * algo asi:\n",
    "    \n",
    "           for i in {1..15}\n",
    "            \n",
    "           screen -r svm${i} <comand>\n",
    "    \n",
    "3) No logro de emprimir los dos comands sin el newline:\n",
    "    * deberia de ser:\n",
    "            \n",
    "        <cmd train> ; <cmd pred>\n",
    "            \n",
    "    * Asi que se executa train primero y luego pred"
   ]
  },
  {
   "cell_type": "code",
   "execution_count": 44,
   "metadata": {},
   "outputs": [
    {
     "name": "stdout",
     "output_type": "stream",
     "text": [
      "svm-train -c 2 -g 0.5 SVM_TrainSet0.txt SVM_TrainSet0.model\n",
      "svm-train -c 2 -g 0.5 SVM_TrainSet1.txt SVM_TrainSet1.model\n",
      "svm-train -c 2 -g 0.5 SVM_TrainSet2.txt SVM_TrainSet2.model\n",
      "svm-train -c 2 -g 0.5 SVM_TrainSet3.txt SVM_TrainSet3.model\n",
      "svm-train -c 2 -g 0.5 SVM_TrainSet4.txt SVM_TrainSet4.model\n"
     ]
    }
   ],
   "source": [
    "# generate cmds\n",
    "for i in {0..4}\n",
    "do\n",
    "    f=\"svm-train -c 2 -g 0.5 SVM_TrainSet${i}.txt SVM_TrainSet${i}.model\"\n",
    "    echo \"$f\"\n",
    "done"
   ]
  },
  {
   "cell_type": "markdown",
   "metadata": {},
   "source": [
    "# Round 2\n",
    "\n",
    "changing parameter \n",
    "        -m - cachesize: setting memory size in MB\n",
    "        \n",
    "        -m 2000"
   ]
  },
  {
   "cell_type": "code",
   "execution_count": 3,
   "metadata": {},
   "outputs": [
    {
     "name": "stdout",
     "output_type": "stream",
     "text": [
      "svm-train -c 2 -g 2 -m 2000 ~/SVM_inputs/train/SVM_TrainSet0.txt ~/SVM_outputs/train/c_2_g_2/SVM_TrainSet0.model > ~/SVM_outputs/train/c_2_g_2/SVM_TrainSet0.out ; svm-predict ~/SVM_inputs/test/SVM_TrainSet0_TestSet0.txt ~/SVM_outputs/train/c_2_g_2/SVM_TrainSet0.model ~/SVM_outputs/test/c_2_g_2/SVM_TrainSet0.pred > ~/SVM_outputs/test/c_2_g_2/SVM_TrainSet0.out\n",
      " \n",
      "svm-train -c 2 -g 2 -m 2000 ~/SVM_inputs/train/SVM_TrainSet1.txt ~/SVM_outputs/train/c_2_g_2/SVM_TrainSet1.model > ~/SVM_outputs/train/c_2_g_2/SVM_TrainSet1.out ; svm-predict ~/SVM_inputs/test/SVM_TrainSet1_TestSet1.txt ~/SVM_outputs/train/c_2_g_2/SVM_TrainSet1.model ~/SVM_outputs/test/c_2_g_2/SVM_TrainSet1.pred > ~/SVM_outputs/test/c_2_g_2/SVM_TrainSet1.out\n",
      " \n",
      "svm-train -c 2 -g 2 -m 2000 ~/SVM_inputs/train/SVM_TrainSet2.txt ~/SVM_outputs/train/c_2_g_2/SVM_TrainSet2.model > ~/SVM_outputs/train/c_2_g_2/SVM_TrainSet2.out ; svm-predict ~/SVM_inputs/test/SVM_TrainSet2_TestSet2.txt ~/SVM_outputs/train/c_2_g_2/SVM_TrainSet2.model ~/SVM_outputs/test/c_2_g_2/SVM_TrainSet2.pred > ~/SVM_outputs/test/c_2_g_2/SVM_TrainSet2.out\n",
      " \n",
      "svm-train -c 2 -g 2 -m 2000 ~/SVM_inputs/train/SVM_TrainSet3.txt ~/SVM_outputs/train/c_2_g_2/SVM_TrainSet3.model > ~/SVM_outputs/train/c_2_g_2/SVM_TrainSet3.out ; svm-predict ~/SVM_inputs/test/SVM_TrainSet3_TestSet3.txt ~/SVM_outputs/train/c_2_g_2/SVM_TrainSet3.model ~/SVM_outputs/test/c_2_g_2/SVM_TrainSet3.pred > ~/SVM_outputs/test/c_2_g_2/SVM_TrainSet3.out\n",
      " \n",
      "svm-train -c 2 -g 2 -m 2000 ~/SVM_inputs/train/SVM_TrainSet4.txt ~/SVM_outputs/train/c_2_g_2/SVM_TrainSet4.model > ~/SVM_outputs/train/c_2_g_2/SVM_TrainSet4.out ; svm-predict ~/SVM_inputs/test/SVM_TrainSet4_TestSet4.txt ~/SVM_outputs/train/c_2_g_2/SVM_TrainSet4.model ~/SVM_outputs/test/c_2_g_2/SVM_TrainSet4.pred > ~/SVM_outputs/test/c_2_g_2/SVM_TrainSet4.out\n",
      " \n"
     ]
    }
   ],
   "source": [
    "# generate cmds\n",
    "for i in {0..4}\n",
    "do\n",
    "    f=\"svm-train -c 2 -g 2 -m 2000 ~/SVM_inputs/train/SVM_TrainSet${i}.txt ~/SVM_outputs/train/c_2_g_2/SVM_TrainSet${i}.model > ~/SVM_outputs/train/c_2_g_2/SVM_TrainSet${i}.out\"\n",
    "    t=\"svm-predict ~/SVM_inputs/test/SVM_TrainSet${i}_TestSet${i}.txt ~/SVM_outputs/train/c_2_g_2/SVM_TrainSet${i}.model ~/SVM_outputs/test/c_2_g_2/SVM_TrainSet${i}.pred > ~/SVM_outputs/test/c_2_g_2/SVM_TrainSet${i}.out\"\n",
    "    echo \"$f\" \";\"  \"$t\"\n",
    "    echo \" \"\n",
    "done"
   ]
  },
  {
   "cell_type": "markdown",
   "metadata": {},
   "source": [
    "# Round 3"
   ]
  },
  {
   "cell_type": "code",
   "execution_count": 154,
   "metadata": {},
   "outputs": [
    {
     "name": "stdout",
     "output_type": "stream",
     "text": [
      "svm-train -c 4 -g 0.5 -m 2000 ~/SVM_inputs/train/SVM_TrainSet0.txt ~/SVM_outputs/train/c_4_g_0.5/SVM_TrainSet0.model > ~/SVM_outputs/train/c_4_g_0.5/SVM_TrainSet0.out ; svm-predict ~/SVM_inputs/test/SVM_TrainSet0_TestSet0.txt ~/SVM_outputs/train/c_4_g_0.5/SVM_TrainSet0.model ~/SVM_outputs/test/c_4_g_0.5/SVM_TrainSet0.pred > ~/SVM_outputs/test/c_4_g_0.5/SVM_TrainSet0.out\n",
      " \n",
      "svm-train -c 4 -g 0.5 -m 2000 ~/SVM_inputs/train/SVM_TrainSet1.txt ~/SVM_outputs/train/c_4_g_0.5/SVM_TrainSet1.model > ~/SVM_outputs/train/c_4_g_0.5/SVM_TrainSet1.out ; svm-predict ~/SVM_inputs/test/SVM_TrainSet1_TestSet1.txt ~/SVM_outputs/train/c_4_g_0.5/SVM_TrainSet1.model ~/SVM_outputs/test/c_4_g_0.5/SVM_TrainSet1.pred > ~/SVM_outputs/test/c_4_g_0.5/SVM_TrainSet1.out\n",
      " \n",
      "svm-train -c 4 -g 0.5 -m 2000 ~/SVM_inputs/train/SVM_TrainSet2.txt ~/SVM_outputs/train/c_4_g_0.5/SVM_TrainSet2.model > ~/SVM_outputs/train/c_4_g_0.5/SVM_TrainSet2.out ; svm-predict ~/SVM_inputs/test/SVM_TrainSet2_TestSet2.txt ~/SVM_outputs/train/c_4_g_0.5/SVM_TrainSet2.model ~/SVM_outputs/test/c_4_g_0.5/SVM_TrainSet2.pred > ~/SVM_outputs/test/c_4_g_0.5/SVM_TrainSet2.out\n",
      " \n",
      "svm-train -c 4 -g 0.5 -m 2000 ~/SVM_inputs/train/SVM_TrainSet3.txt ~/SVM_outputs/train/c_4_g_0.5/SVM_TrainSet3.model > ~/SVM_outputs/train/c_4_g_0.5/SVM_TrainSet3.out ; svm-predict ~/SVM_inputs/test/SVM_TrainSet3_TestSet3.txt ~/SVM_outputs/train/c_4_g_0.5/SVM_TrainSet3.model ~/SVM_outputs/test/c_4_g_0.5/SVM_TrainSet3.pred > ~/SVM_outputs/test/c_4_g_0.5/SVM_TrainSet3.out\n",
      " \n",
      "svm-train -c 4 -g 0.5 -m 2000 ~/SVM_inputs/train/SVM_TrainSet4.txt ~/SVM_outputs/train/c_4_g_0.5/SVM_TrainSet4.model > ~/SVM_outputs/train/c_4_g_0.5/SVM_TrainSet4.out ; svm-predict ~/SVM_inputs/test/SVM_TrainSet4_TestSet4.txt ~/SVM_outputs/train/c_4_g_0.5/SVM_TrainSet4.model ~/SVM_outputs/test/c_4_g_0.5/SVM_TrainSet4.pred > ~/SVM_outputs/test/c_4_g_0.5/SVM_TrainSet4.out\n",
      " \n"
     ]
    }
   ],
   "source": [
    "# generate cmds\n",
    "for i in {0..4}\n",
    "do\n",
    "    f=\"svm-train -c 4 -g 0.5 -m 2000 ~/SVM_inputs/train/SVM_TrainSet${i}.txt ~/SVM_outputs/train/c_4_g_0.5/SVM_TrainSet${i}.model > ~/SVM_outputs/train/c_4_g_0.5/SVM_TrainSet${i}.out\"\n",
    "    t=\"svm-predict ~/SVM_inputs/test/SVM_TrainSet${i}_TestSet${i}.txt ~/SVM_outputs/train/c_4_g_0.5/SVM_TrainSet${i}.model ~/SVM_outputs/test/c_4_g_0.5/SVM_TrainSet${i}.pred > ~/SVM_outputs/test/c_4_g_0.5/SVM_TrainSet${i}.out\"\n",
    "    echo \"$f\" \";\"  \"$t\"\n",
    "    echo \" \"\n",
    "done"
   ]
  },
  {
   "cell_type": "markdown",
   "metadata": {},
   "source": [
    "# Round 4"
   ]
  },
  {
   "cell_type": "code",
   "execution_count": 155,
   "metadata": {},
   "outputs": [
    {
     "name": "stdout",
     "output_type": "stream",
     "text": [
      "svm-train -c 4 -g 2 -m 2000 ~/SVM_inputs/train/SVM_TrainSet0.txt ~/SVM_outputs/train/c_4_g_2/SVM_TrainSet0.model > ~/SVM_outputs/train/c_4_g_2/SVM_TrainSet0.out  ; svm-predict ~/SVM_inputs/test/SVM_TrainSet0_TestSet0.txt ~/SVM_outputs/train/c_4_g_2/SVM_TrainSet0.model ~/SVM_outputs/test/c_4_g_2/SVM_TrainSet0.pred > ~/SVM_outputs/test/c_4_g_2/SVM_TrainSet0.out\n",
      " \n",
      "svm-train -c 4 -g 2 -m 2000 ~/SVM_inputs/train/SVM_TrainSet1.txt ~/SVM_outputs/train/c_4_g_2/SVM_TrainSet1.model > ~/SVM_outputs/train/c_4_g_2/SVM_TrainSet1.out  ; svm-predict ~/SVM_inputs/test/SVM_TrainSet1_TestSet1.txt ~/SVM_outputs/train/c_4_g_2/SVM_TrainSet1.model ~/SVM_outputs/test/c_4_g_2/SVM_TrainSet1.pred > ~/SVM_outputs/test/c_4_g_2/SVM_TrainSet1.out\n",
      " \n",
      "svm-train -c 4 -g 2 -m 2000 ~/SVM_inputs/train/SVM_TrainSet2.txt ~/SVM_outputs/train/c_4_g_2/SVM_TrainSet2.model > ~/SVM_outputs/train/c_4_g_2/SVM_TrainSet2.out  ; svm-predict ~/SVM_inputs/test/SVM_TrainSet2_TestSet2.txt ~/SVM_outputs/train/c_4_g_2/SVM_TrainSet2.model ~/SVM_outputs/test/c_4_g_2/SVM_TrainSet2.pred > ~/SVM_outputs/test/c_4_g_2/SVM_TrainSet2.out\n",
      " \n",
      "svm-train -c 4 -g 2 -m 2000 ~/SVM_inputs/train/SVM_TrainSet3.txt ~/SVM_outputs/train/c_4_g_2/SVM_TrainSet3.model > ~/SVM_outputs/train/c_4_g_2/SVM_TrainSet3.out  ; svm-predict ~/SVM_inputs/test/SVM_TrainSet3_TestSet3.txt ~/SVM_outputs/train/c_4_g_2/SVM_TrainSet3.model ~/SVM_outputs/test/c_4_g_2/SVM_TrainSet3.pred > ~/SVM_outputs/test/c_4_g_2/SVM_TrainSet3.out\n",
      " \n",
      "svm-train -c 4 -g 2 -m 2000 ~/SVM_inputs/train/SVM_TrainSet4.txt ~/SVM_outputs/train/c_4_g_2/SVM_TrainSet4.model > ~/SVM_outputs/train/c_4_g_2/SVM_TrainSet4.out  ; svm-predict ~/SVM_inputs/test/SVM_TrainSet4_TestSet4.txt ~/SVM_outputs/train/c_4_g_2/SVM_TrainSet4.model ~/SVM_outputs/test/c_4_g_2/SVM_TrainSet4.pred > ~/SVM_outputs/test/c_4_g_2/SVM_TrainSet4.out\n",
      " \n"
     ]
    }
   ],
   "source": [
    "# generate cmds\n",
    "for i in {0..4}\n",
    "do\n",
    "    f=\"svm-train -c 4 -g 2 -m 2000 ~/SVM_inputs/train/SVM_TrainSet${i}.txt ~/SVM_outputs/train/c_4_g_2/SVM_TrainSet${i}.model > ~/SVM_outputs/train/c_4_g_2/SVM_TrainSet${i}.out \"\n",
    "    t=\"svm-predict ~/SVM_inputs/test/SVM_TrainSet${i}_TestSet${i}.txt ~/SVM_outputs/train/c_4_g_2/SVM_TrainSet${i}.model ~/SVM_outputs/test/c_4_g_2/SVM_TrainSet${i}.pred > ~/SVM_outputs/test/c_4_g_2/SVM_TrainSet${i}.out\"\n",
    "    echo \"$f\" \";\"  \"$t\"\n",
    "    echo \" \"\n",
    "done"
   ]
  },
  {
   "cell_type": "code",
   "execution_count": 156,
   "metadata": {},
   "outputs": [
    {
     "name": "stdout",
     "output_type": "stream",
     "text": [
      "/Users/ila/01-Unibo/02_Lab2/files_lab2_project/documentation_notebooks/SVM\n"
     ]
    }
   ],
   "source": [
    "pwd"
   ]
  },
  {
   "cell_type": "code",
   "execution_count": null,
   "metadata": {},
   "outputs": [],
   "source": [
    "for i in {2..4}; do ; n=\"train_test_${i}.sh\" ; chmod u+x \"$n\" ; done"
   ]
  },
  {
   "cell_type": "code",
   "execution_count": null,
   "metadata": {},
   "outputs": [],
   "source": [
    "optimization finished, #iter = 10395\n",
    "nu = 0.639271\n",
    "obj = -15993.885695, rho = 4.464330\n",
    "nSV = 17531, nBSV = 17334\n",
    "..........\n",
    "WARNING: using -h 0 may be faster\n",
    "*.*\n",
    "optimization finished, #iter = 11296\n",
    "nu = 0.638575\n",
    "obj = -17446.518350, rho = 4.116955\n",
    "nSV = 20132, nBSV = 19938\n",
    "........\n",
    "WARNING: using -h 0 may be faster\n",
    "*.*\n",
    "optimization finished, #iter = 8796\n",
    "nu = 0.623118\n",
    "obj = -12775.176177, rho = -0.366932\n",
    "nSV = 14843, nBSV = 14684\n",
    "Total nSV = 32489\n",
    "um19@m19:~$ \n"
   ]
  },
  {
   "cell_type": "markdown",
   "metadata": {},
   "source": [
    "# Testing\n",
    "\n",
    "Prediciton:\n",
    "\n",
    "pred 0:"
   ]
  },
  {
   "cell_type": "code",
   "execution_count": null,
   "metadata": {},
   "outputs": [],
   "source": [
    "optimization finished, #iter = 10395\n",
    "nu = 0.639271\n",
    "obj = -15993.885695, rho = 4.464330\n",
    "nSV = 17531, nBSV = 17334\n",
    "..........\n",
    "WARNING: using -h 0 may be faster\n",
    "*.*\n",
    "optimization finished, #iter = 11296\n",
    "nu = 0.638575\n",
    "obj = -17446.518350, rho = 4.116955\n",
    "nSV = 20132, nBSV = 19938\n",
    "........\n",
    "WARNING: using -h 0 may be faster\n",
    "*.*\n",
    "optimization finished, #iter = 8796\n",
    "nu = 0.623118\n",
    "obj = -12775.176177, rho = -0.366932\n",
    "nSV = 14843, nBSV = 14684\n",
    "Total nSV = 32489\n",
    "um19@m19:~$ \n"
   ]
  },
  {
   "cell_type": "markdown",
   "metadata": {},
   "source": [
    "pred 1:"
   ]
  },
  {
   "cell_type": "code",
   "execution_count": null,
   "metadata": {},
   "outputs": [],
   "source": [
    "optimization finished, #iter = 10395\n",
    "nu = 0.639271\n",
    "obj = -15993.885695, rho = 4.464330\n",
    "nSV = 17531, nBSV = 17334\n",
    "..........\n",
    "WARNING: using -h 0 may be faster\n",
    "*.*\n",
    "optimization finished, #iter = 11296\n",
    "nu = 0.638575\n",
    "obj = -17446.518350, rho = 4.116955\n",
    "nSV = 20132, nBSV = 19938\n",
    "........\n",
    "WARNING: using -h 0 may be faster\n",
    "*.*\n",
    "optimization finished, #iter = 8796\n",
    "nu = 0.623118\n",
    "obj = -12775.176177, rho = -0.366932\n",
    "nSV = 14843, nBSV = 14684\n",
    "Total nSV = 32489\n",
    "um19@m19:~$ ls\n"
   ]
  },
  {
   "cell_type": "markdown",
   "metadata": {},
   "source": [
    "pred 2:"
   ]
  },
  {
   "cell_type": "code",
   "execution_count": null,
   "metadata": {},
   "outputs": [],
   "source": [
    "aaAccuracy = 71.5393% (26853/37536) (classification)"
   ]
  },
  {
   "cell_type": "markdown",
   "metadata": {},
   "source": [
    "pred 3:"
   ]
  },
  {
   "cell_type": "code",
   "execution_count": null,
   "metadata": {},
   "outputs": [],
   "source": [
    "adAccuracy = 70.3606% (27606/39235) (classification)"
   ]
  },
  {
   "cell_type": "markdown",
   "metadata": {},
   "source": [
    "pred 4:"
   ]
  },
  {
   "cell_type": "code",
   "execution_count": null,
   "metadata": {},
   "outputs": [],
   "source": [
    "Accuracy = 69.7322% (28169/40396) (classification)"
   ]
  },
  {
   "cell_type": "markdown",
   "metadata": {},
   "source": [
    "all:"
   ]
  },
  {
   "cell_type": "code",
   "execution_count": 163,
   "metadata": {},
   "outputs": [],
   "source": [
    "# Directories\n",
    "for i in {1}\n",
    "do\n",
    "    itr=\"./SVM_inputs/train/\"  # Input train\n",
    "    ite=\"./SVM_inputs/test/\"   # Input test\n",
    "    tr=\"./SVM_outputs/train/\"  # Output train\n",
    "    te=\"./SVM_outputs/test/\"   # Output train\n",
    "    # Train Dirs Input --> need only one\n",
    "    mkdir -p \"$itr\"\n",
    "    # Train Dirs Output    \n",
    "    mkdir -p \"$tr\"c_2_g_2/\n",
    "    mkdir -p \"$tr\"c_4_g_0.5/\n",
    "    mkdir -p \"$tr\"c_4_g_2/\n",
    "    # Test Dirs Input --> need only one\n",
    "    mkdir -p \"$ite\"\n",
    "    #Test Dirs Output\n",
    "    mkdir -p \"$te\"c_2_g_2/\n",
    "    mkdir -p \"$te\"c_4_g_0.5/\n",
    "    mkdir -p \"$te\"c_4_g_2/\n",
    "done"
   ]
  },
  {
   "cell_type": "code",
   "execution_count": 117,
   "metadata": {},
   "outputs": [
    {
     "name": "stdout",
     "output_type": "stream",
     "text": [
      "-rwxr--r--@ 1 ila  staff  690 Nov 30 23:06 \u001b[1m\u001b[32m/Users/ila/01-Unibo/02_Lab2/files_lab2_project/send/mkdirs.sh\u001b[39;49m\u001b[0m\n"
     ]
    }
   ],
   "source": [
    "chmod u+x /Users/ila/01-Unibo/02_Lab2/files_lab2_project/send/mkdirs.sh\n",
    "ls -l /Users/ila/01-Unibo/02_Lab2/files_lab2_project/send/mkdirs.sh"
   ]
  },
  {
   "cell_type": "markdown",
   "metadata": {},
   "source": [
    "# Generating Test Inputs for BOTH Training and Testing libsvm Gigantic Run"
   ]
  },
  {
   "cell_type": "code",
   "execution_count": 162,
   "metadata": {},
   "outputs": [],
   "source": [
    "for i in {0..4}\n",
    "do\n",
    "    ptrain=\"/Users/ila/01-Unibo/02_Lab2/files_lab2_project/all_data/inputs/SVM_inputs/train/SVM_TrainSet${i}.txt\"\n",
    "    dtrain=\"/Users/ila/01-Unibo/02_Lab2/files_lab2_project/documentation_notebooks/SVM/loop/SVM_inputs/train/SVM_TrainSet${i}.txt\"\n",
    "    #Testing sets:\n",
    "    ptest=\"/Users/ila/01-Unibo/02_Lab2/files_lab2_project/all_data/inputs/SVM_inputs/test/SVM_TrainSet${i}_TestSet${i}.txt\"\n",
    "    dtest=\"/Users/ila/01-Unibo/02_Lab2/files_lab2_project/documentation_notebooks/SVM/loop/SVM_inputs/test/SVM_TrainSet${i}_TestSet${i}.txt\"\n",
    "    head -5 \"$ptrain\" > \"$dtrain\"\n",
    "    head -5 \"$ptest\" > \"$dtest\"\n",
    "done"
   ]
  },
  {
   "cell_type": "markdown",
   "metadata": {},
   "source": [
    "Start 1.12. 17:00"
   ]
  },
  {
   "cell_type": "markdown",
   "metadata": {},
   "source": [
    "# Input commands saved in\n",
    "\n",
    "/Users/ila/01-Unibo/02_Lab2/files_lab2_project/documentation_notebooks/SVM/loop/commands\n",
    "\n",
    "* ran 7 on 8 core VM\n",
    "* remaining 9 on other 8 core VM on AWS"
   ]
  },
  {
   "cell_type": "code",
   "execution_count": null,
   "metadata": {},
   "outputs": [],
   "source": []
  }
 ],
 "metadata": {
  "kernelspec": {
   "display_name": "Bash",
   "language": "bash",
   "name": "bash"
  },
  "language_info": {
   "codemirror_mode": "shell",
   "file_extension": ".sh",
   "mimetype": "text/x-sh",
   "name": "bash"
  }
 },
 "nbformat": 4,
 "nbformat_minor": 4
}
