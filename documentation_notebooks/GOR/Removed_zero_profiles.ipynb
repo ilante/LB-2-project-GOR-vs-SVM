{
 "cells": [
  {
   "cell_type": "markdown",
   "metadata": {},
   "source": [
    "# Removing files that did not produce pssm or had a pssm containing zeroes only"
   ]
  },
  {
   "cell_type": "code",
   "execution_count": 23,
   "metadata": {},
   "outputs": [
    {
     "name": "stdout",
     "output_type": "stream",
     "text": [
      "269\n"
     ]
    }
   ],
   "source": [
    "with open(\"/Users/ila/01-Unibo/02_Lab2/files_lab2_project/all_data/cross_validation/splits_ids/set0\", 'r') as ids:\n",
    "          lis0 = ids.readlines()\n",
    "          print(len(lis0))\n",
    "            \n",
    "with open(\"/Users/ila/Downloads/zero_profiles.txt\", 'r') as ids:\n",
    "          zeros = ids.readlines()\n",
    "#           print(zeros)            "
   ]
  },
  {
   "cell_type": "code",
   "execution_count": 9,
   "metadata": {},
   "outputs": [],
   "source": [
    "se0 = set(lis0)\n",
    "empty = set(zeros)\n",
    "\n",
    "only_good = se0 - empty\n",
    "\n"
   ]
  },
  {
   "cell_type": "code",
   "execution_count": 21,
   "metadata": {},
   "outputs": [],
   "source": [
    "only_good\n",
    "\n",
    "keepers = []\n",
    "for i in lis0:\n",
    "    if i in only_good:\n",
    "        keepers.append(i)\n",
    "    else: continue"
   ]
  },
  {
   "cell_type": "code",
   "execution_count": 22,
   "metadata": {},
   "outputs": [
    {
     "data": {
      "text/plain": [
       "244"
      ]
     },
     "execution_count": 22,
     "metadata": {},
     "output_type": "execute_result"
    }
   ],
   "source": [
    "# print(keepers)\n",
    "len(keepers)"
   ]
  },
  {
   "cell_type": "code",
   "execution_count": 25,
   "metadata": {},
   "outputs": [
    {
     "name": "stdout",
     "output_type": "stream",
     "text": [
      "['d2pbka_\\n', 'd2h6fa1\\n', 'd3ueja_\\n', 'd1t2da2\\n', 'd1ds1a_\\n', 'd1cfza_\\n', 'd1vaja1\\n', 'd3os4a2\\n', 'd1j5ua_\\n', 'd1y0pa3\\n', 'd4jxqa_\\n', 'd1wlga_\\n', 'd2g38a1\\n', 'd4a02a_\\n', 'd2cara1\\n', 'd4f01a1\\n', 'd3ag3c_\\n', 'd2qdla_\\n', 'd1uwka_\\n', 'd2gtia2\\n', 'd2cyja1\\n', 'd1s98a_\\n', 'd3m4ia_\\n', 'd1dk8a_\\n', 'd3a4ra_\\n', 'd3d3ba_\\n', 'd3epwa_\\n', 'd1l2pa_\\n', 'd1wdda2\\n', 'd1gtea1\\n', 'd1nwza_\\n', 'd2i06a_\\n', 'd3jvla_\\n', 'd1s1da_\\n', 'd3ojca1\\n', 'd1w66a1\\n', 'd2j80a_\\n', 'd1roca_\\n', 'd1gzsb_\\n', 'd2phcb2\\n', 'd3b0ga2\\n', 'd2pvba_\\n', 'd1n5ua1\\n', 'd1q74a_\\n', 'd1bgfa_\\n', 'd1kjqa2\\n', 'd3l00a2\\n', 'd1cipa1\\n', 'd1h16a_\\n', 'd1vq821\\n', 'd1k6ka_\\n', 'd2pwwa1\\n', 'd1kqfc_\\n', 'd1syxb_\\n', 'd1slua_\\n', 'd1n8va_\\n', 'd1oo0a_\\n', 'd1ou8a_\\n', 'd2ih2a2\\n', 'd1y0na_\\n', 'd1vkfa_\\n', 'd1lsha1\\n', 'd2ppva_\\n', 'd1zcea1\\n', 'd1z3eb1\\n', 'd2giba1\\n', 'd2g03a1\\n', 'd1vd6a_\\n', 'd1zl0a1\\n', 'd1ppjh_\\n', 'd2r0xa_\\n', 'd1nu9c1\\n', 'd1b79a_\\n', 'd1mg4a_\\n', 'd1ng6a_\\n', 'd1ciya2\\n', 'd4fhrb_\\n', 'd2goma1\\n', 'd1nqja_\\n', 'd1z8ga2\\n', 'd2j8ka1\\n', 'd1wb9a3\\n', 'd1mwqa_\\n', 'd4affa_\\n', 'd2ic2a1\\n', 'd2g62a1\\n', 'd4a82a1\\n', 'd3n4ja_\\n', 'd2arca_\\n', 'd3umha_\\n', 'd3pmsa1\\n', 'd2ccva1\\n', 'd2w6ka1\\n', 'd1eexb_\\n', 'd2e9xb2\\n', 'd1zzka_\\n', 'd1vp8a_\\n', 'd1qexa_\\n', 'd3c9ua2\\n', 'd1ciya3\\n', 'd2cnqa_\\n', 'd2vb1a_\\n', 'd1gmxa_\\n', 'd1xqoa_\\n', 'd2j6ba1\\n', 'd1hfes_\\n', 'd1dy5a_\\n', 'd1wd3a2\\n', 'd3rjsa_\\n', 'd1j0pa_\\n', 'd2wn9a_\\n', 'd1z3xa2\\n', 'd2geca1\\n', 'd1n93x_\\n', 'd1h4ra1\\n', 'd2a9da2\\n', 'd2ghvc1\\n', 'd3ijwa_\\n', 'd2wzka_\\n', 'd1lsha2\\n', 'd2c2aa1\\n', 'd2p0ta1\\n', 'd1qf8a_\\n', 'd1g73a_\\n', 'd3v5wg_\\n', 'd4gwba_\\n', 'd1utga_\\n', 'd1o2da_\\n', 'd3r8ja_\\n', 'd2nn4a1\\n', 'd1on2a2\\n', 'd1nija2\\n', 'd1u5pa1\\n', 'd1jb0f_\\n', 'd2wdsa_\\n', 'd1rssa_\\n', 'd1t6ua_\\n', 'd2f4mb_\\n', 'd3tvji_\\n', 'd1t8ka_\\n', 'd1ofda1\\n', 'd4fw1a2\\n', 'd3c7xa_\\n', 'd3c8wa1\\n', 'd3zqua_\\n', 'd1kq6a_\\n', 'd3ag3l_\\n', 'd1qksa2\\n', 'd1wpba_\\n', 'd2liga_\\n', 'd1g7sa3\\n', 'd1vh4a_\\n', 'd3w5ha1\\n', 'd4j9yb_\\n', 'd1xuba1\\n', 'd1xaka_\\n', 'd1vzma_\\n', 'd2v6xa_\\n', 'd3fila_\\n', 'd2i5vo_\\n', 'd4dhla1\\n', 'd1wb9a1\\n', 'd2fvya_\\n', 'd1knza_\\n', 'd1vcca_\\n', 'd1v58a2\\n', 'd1nkia_\\n', 'd2v89a_\\n', 'd1m1fa_\\n', 'd2ofca_\\n', 'd3rofa_\\n', 'd1ijqa1\\n', 'd1lm5a_\\n', 'd1ufia_\\n', 'd2vu9a2\\n', 'd2gyka1\\n', 'd1usma_\\n', 'd3bbba_\\n', 'd2asba2\\n', 'd3omya_\\n', 'd1e8ca1\\n', 'd3ip0a_\\n', 'd3a9sa1\\n', 'd1dj8a_\\n', 'd1f0la3\\n', 'd1dzfa2\\n', 'd3k34a_\\n', 'd2btia_\\n', 'd2db7a1\\n', 'd3m7va2\\n', 'd2p1ma2\\n', 'd1w6sa_\\n', 'd4gmua1\\n', 'd4eada2\\n', 'd1ucda_\\n', 'd3qpaa_\\n', 'd3ddta_\\n', 'd3s8ga_\\n', 'd1hq1a_\\n', 'd3rlff1\\n', 'd2ob3a_\\n', 'd2f9ha1\\n', 'd3h7ia1\\n', 'd1t9ia_\\n', 'd4f01a2\\n', 'd3agna_\\n', 'd1llaa1\\n', 'd4fyxb1\\n', 'd3t3la_\\n', 'd1vf6a_\\n', 'd1olza2\\n', 'd1m6ya1\\n', 'd1f3ua_\\n', 'd1x9da_\\n', 'd2fcwb1\\n', 'd2oizd_\\n', 'd1uz5a1\\n', 'd2q0zx1\\n', 'd1s0pa_\\n', 'd1ofza_\\n', 'd1p5dx1\\n', 'd1mkya3\\n', 'd3e9va1\\n', 'd2hdza_\\n', 'd1mv8a3\\n', 'd3arch_\\n', 'd2we5a_\\n', 'd4agha_\\n', 'd1mf7a_\\n', 'd3qm9a_\\n', 'd1g3pa1\\n', 'd1m15a2\\n', 'd2i0za2\\n', 'd4a2va_\\n', 'd2aj7a1\\n', 'd1l3ka1\\n', 'd1f7ua3\\n', 'd3u9wa1\\n', 'd1k92a2\\n', 'd3ku3a_\\n', 'd1jkea_\\n', 'd2i15a1\\n', 'd1jb0d_\\n', 'd1muwa_\\n']\n"
     ]
    }
   ],
   "source": [
    "print(keepers)"
   ]
  },
  {
   "cell_type": "code",
   "execution_count": null,
   "metadata": {},
   "outputs": [],
   "source": []
  }
 ],
 "metadata": {
  "kernelspec": {
   "display_name": "Python 3",
   "language": "python",
   "name": "python3"
  },
  "language_info": {
   "codemirror_mode": {
    "name": "ipython",
    "version": 3
   },
   "file_extension": ".py",
   "mimetype": "text/x-python",
   "name": "python",
   "nbconvert_exporter": "python",
   "pygments_lexer": "ipython3",
   "version": "3.7.2"
  }
 },
 "nbformat": 4,
 "nbformat_minor": 4
}
