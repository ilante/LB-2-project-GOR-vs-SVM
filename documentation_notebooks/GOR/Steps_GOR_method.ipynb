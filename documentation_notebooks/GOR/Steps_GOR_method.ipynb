{
 "cells": [
  {
   "cell_type": "markdown",
   "metadata": {},
   "source": [
    "%%markdown\n",
    "# [1. Implementation of the GOR Method](#Implementation-of-GOR)\n",
    "\n",
    "## [2. GOR Training](#GOR-training)\n",
    "\n",
    "Training set:\n",
    "* Set of proteins with known structure\n",
    "* For each id we have:\n",
    "    * One file containing the primary sequence\n",
    "    * One file containing the secondary structure\n",
    "  \n",
    "![](imgs/1.png)\n",
    "\n",
    "Need to count:\n",
    "* Number of times we observe residue R in conformation S divided by N, the total number of residues &rarr; P(R,S) ~ f(R,S) = (# R,S)/N \n",
    "* Number of times we observe residue R divided by the total N of residues &rarr; marginal probability of residue R\n",
    "* Number of occurrence of the conformation S divided by the total N of residues. &rarr; marginal probability of observing S\n",
    "\n",
    "Observed frequencies in the training set (TS) are used for **estimating**/approximating these probabilities.\n",
    "\n",
    "Example &rarr; training set containing just 2 sequences (for simplicity). \n",
    "\n",
    "![](imgs/2.png)\n",
    "\n",
    "Defining a table to store counts\n",
    "* Rows: counts corresponding to joint frequency of R and given SS:\n",
    "    * \\#R, H\n",
    "    * \\#R, E\n",
    "    * \\#R, C\n",
    "* \\# R &rarr; overall frequency of residue type R\t\t\n",
    "\n",
    "![](imgs/3.png)\n",
    "\n",
    "Defining a small table that stores the frequencies of helix (H), strand (E) and coil (C).\n",
    "![](imgs/4.png)\n",
    "\n",
    "* Each matrix is initialized with zeroes\n",
    "* Scanning each position &rarr; starting from index 0:\n",
    "    * reading R and S &rarr; updating the field Pij according to the values.\n",
    "    \n",
    "In our example the window size is just 1!\n",
    "![](imgs/5.png)\n",
    "\n",
    "* We scan each sequence updating the values in the column\n",
    "    * updating the counts of \n",
    "        * \\#R, H\n",
    "        * \\#R, E\n",
    "        * \\#R, C\n",
    "        \n",
    "and the counts of total H, E and C in the smaller table.\n",
    "\n",
    "* For transforming the above **frequencies** into **probabilities**\n",
    "    * **Devide** each number (counts) by the total lenght of all sequences used in the training\n",
    "    \n",
    "&rarr; in our case we divide by 78:"
   ]
  },
  {
   "cell_type": "code",
   "execution_count": 26,
   "metadata": {},
   "outputs": [
    {
     "data": {
      "text/plain": [
       "78"
      ]
     },
     "execution_count": 26,
     "metadata": {},
     "output_type": "execute_result"
    }
   ],
   "source": [
    "sequence_1 = 'EYFTLQIRGRERFEMFRELNEALELKDAQAG'\n",
    "ss_1 = 'CCCCCCCCCHHHHHHHHHHHHHHHHHHHHCC'\n",
    "\n",
    "sequence_2 = 'KTCENLADTFRGPCFTDGSCDDHCKNKEHLIKGRCRDDFRCWCTRNC'\n",
    "ss_2 = 'CEEEEECCCCCCCCCCHHHHHHHHHHCCCCCEEEECCCCCEEEEEEC'\n",
    "\n",
    "len(sequence_1+sequence_2)"
   ]
  },
  {
   "cell_type": "markdown",
   "metadata": {},
   "source": [
    "![](imgs/6.png)\n",
    "\n",
    "## [3. GOR Prediction](#GOR-prediction)\n",
    "\n",
    "* GOR model is used for predicting SS on unseen protein sequences\n",
    "* Each residue positon of a query sequence is analyzed\n",
    "* The highest value of \n",
    "    * The function $S^* = argmax_S I(S;R)$ finds the highest scoring predicted conformation \"$S^*$\" of the residue R\n",
    "        * The conformation $S^*$ which maximizes log ratio of the information function $I$ is our predicted conformation\n",
    "        \n",
    "![](imgs/7.png)       \n",
    "\n",
    "\n",
    "Given any sequence:\n",
    "\n",
    "* >NewSequence\n",
    "* GLKRR\n",
    "\n",
    "* Each residue R is located in the table\n",
    "    * the probabilities for\n",
    "        * \\#R, H\n",
    "        * \\#R, E\n",
    "        * \\#R, C\n",
    "* Are extracted and used in the function $I$\n",
    "* The conformation with the highest value is our predicted conformation $S^*$\n",
    "\n",
    "* Here an example of residue NewSequence[0] = G:\n",
    "\n",
    "\n",
    "\n",
    "![](imgs/8.png)\n",
    "\n",
    "![](imgs/9.png)\n",
    "\n",
    "The maximum is C thus it is predicted that residue G has the conformation C.\n",
    "\n",
    "## [4. Using Windows of Flanking Residues](#Windows) \n",
    "\n",
    "* We extend the information function over a 'window' of residues\n",
    "* Symmetric windows are centered at a given residue position\n",
    "* Central residue is indexed as $R_0$ which is assigend the conformation $S^*$\n",
    "    * Residues to the left of $R_0$ hold negative indeces up to $-d$\n",
    "    * Residues to the right of $R_0$ hold positive indeces up to $d$\n",
    "    \n",
    "* The information function is updated as follows:\n",
    "![](imgs/10.png)\n",
    "\n",
    "[p1 45:00]\n",
    "\n",
    "* The fromula requires us to solve terms involving w residues:\n",
    "    * Exponential number of possible configurations &rarr; computationally to expensive \n",
    "        * we have 20^w possibilities!!!\n",
    "    * Need for very large DB to estimate reliable distributions\n",
    "* Simplification;\n",
    "    * **Assumption of statistical independence**: Makes assumption about the contribution of the sequence context to the central residue conformation.\n",
    "    * Residues $R_-d, ... , R_d$ are treated to be statistically independent\n",
    "    \n",
    "![](imgs/11.png)\n",
    "\n",
    "## [5. Windows Based GOR](#sliding-window) \n",
    "\n",
    "* That way we can factorize the joint probability of the full context into the product of marginal probability of residues in the context.\n",
    "* Joint probability == all the marginal probabilities\n",
    "\n",
    "&rarr; Keep in mind that residues are NOT independent along the sequence. \n",
    "\n",
    "* By using the \n",
    "    * chainrule\n",
    "    * independence assumption \n",
    "    * and making the log of products which is the sum of the logs\n",
    "\n",
    "*$I$ can be rewritten as: \n",
    "\n",
    "![](imgs/12.png)\n",
    "\n",
    "* As shown in the last line above the joint probability can be writen as a sum of individual information funcitons\n",
    "* Taking the different residues in the window into consideration\n",
    "    * Resulting in individual contributions of each residue in the window to the calculation of the joint $I$ function\n",
    "    \n",
    "\n",
    "* What to do with the window falling out of the seuqence in the beginning and the end:\n",
    "    * Initialize scanning postion at an index for which the window is full e.g. window size 17 setting first $R_0$ on index 8 of the string of the sequence\n",
    "    * Adding zeros to undifined regions of **partial windows**\n",
    "        * First $R_0$ is on index 0\n",
    "        * You don't have any contribution from partial windows\n",
    "        \n",
    "* GOR is a linear model\n",
    "* The sliding window approach influences the accuracy of the prediction in a negative way\n",
    "    * The first few residues are affected more than residues in the middle of the sequence\n",
    "   \n",
    " \n",
    "### Now our Parameters are:\n",
    "* $P(R,S)$ the probability of observingg a conformation S"
   ]
  },
  {
   "cell_type": "markdown",
   "metadata": {},
   "source": [
    "### gor_train.py\n",
    "Training GRO model from user-defined training set and stores all trained parameters (=the GOR model) into an output file"
   ]
  },
  {
   "cell_type": "markdown",
   "metadata": {},
   "source": [
    "# 1. I need to make several matrices --> np.arrays\n",
    "\n",
    "\n",
    "first field f[0,0] \n",
    "should contain the index of the fileds\n",
    "\n",
    "1. First test on one sequence.\n",
    "1. Then testing on a simplified profile as input\n",
    "     * profile should have 5 sequences ---> lines\n",
    "     \n",
    "3. Remember that for coil:\n",
    "    * Training files contain '-' \n",
    "    * Blindset contains 'C'  \n",
    "        * Make an if.\n"
   ]
  },
  {
   "cell_type": "code",
   "execution_count": 20,
   "metadata": {},
   "outputs": [
    {
     "data": {
      "text/plain": [
       "'/Users/ila/01-Unibo/02_Lab2/files_lab2_project/documentation_notebooks/GOR'"
      ]
     },
     "execution_count": 20,
     "metadata": {},
     "output_type": "execute_result"
    }
   ],
   "source": [
    "pwd"
   ]
  },
  {
   "cell_type": "code",
   "execution_count": 1,
   "metadata": {},
   "outputs": [],
   "source": [
    "import sys\n",
    "import os\n",
    "import pandas as pd\n",
    "import numpy as np\n",
    "import argparse\n",
    "\n",
    "# d1g2ya_.dssp\n",
    "# d1g2ya_.fasta from training files.\n",
    "\n",
    "'''Make function: Takes fasta and dssp sequence as parameters as input.'''\n",
    "\n",
    "\n",
    "\n",
    "# win_size = 3 # has to be an odd number pass through argparse later\n",
    "# num_rows = win_size*4 #adapts to desired window size\n",
    "\n",
    "# R_tot\n",
    "# SS_tot\n",
    "\n",
    "\n",
    "\n",
    "def make_frequency_array():\n",
    "    '''\n",
    "    Takes window size and the name of the array as arguments.\n",
    "    Makes an array that has as many lines as the win_size and \n",
    "    the number of columns is defined by the number of naturally \n",
    "    occurring aa in eukaryotes. Returns the array.\n",
    "    '''\n",
    "    array = np.zeros((1,20))#, dtype= 'float64')\n",
    "    return array\n",
    "    \n",
    "R_H = make_frequency_array()           # generating arrays holding the counts of residue in conformation X --> R_X\n",
    "R_E = make_frequency_array()\n",
    "R_C = make_frequency_array()\n",
    "R_count = make_frequency_array()       # generating array holding the total residue count\n",
    "SS_count = make_frequency_array()      # generating array holding the total secondary structure count\n",
    "\n",
    "\n",
    "# ---> at some point: transform 'counts'   into **probabilities** by dividing by total number of residues\n",
    "# Which is the number of lines of the sequ pro_file.\n",
    "# profile_matrix = np.loadtxt(\"/Users/ila/Downloads/test.txt\")\n",
    "# print(profile_matrix)\n"
   ]
  },
  {
   "cell_type": "code",
   "execution_count": 2,
   "metadata": {},
   "outputs": [
    {
     "name": "stdout",
     "output_type": "stream",
     "text": [
      "MVSKLSQLQTEMLAALLESGLSKEALIQALG\n",
      "---HHHHHHHHHHHHHHH----HHHHHHHH-\n"
     ]
    }
   ],
   "source": [
    "# ss_array = np.zeros((2,4)) # maybe change it to 1, 3\n",
    "def make_frequency_df(zeroarray):\n",
    "    header_col = ['A', 'R', 'N', 'D', 'C', 'Q', 'E', 'G', 'H', 'I', 'L', 'K', 'M', 'F', 'P', 'S', 'T', 'W', 'Y', 'V']\n",
    "#     row_names = ['#R,H', '#R,E', '#R,C', '#R']\n",
    "#     freq_array = make_frequency_array(win_size)\n",
    "    freq_df = pd.DataFrame(data = zeroarray,  columns=header_col)\n",
    "    return freq_df\n",
    "\n",
    "# generating dataframes holding the counts of residue in conformation X --> R_X\n",
    "df_R_H = make_frequency_df(R_H)           \n",
    "df_R_E = make_frequency_df(R_E)\n",
    "df_R_C = make_frequency_df(R_C)\n",
    "df_R_count=make_frequency_df(R_count)\n",
    "# df_SS_count = make_frequency_df(SS_count)     \n",
    "\n",
    "tot_H = 0\n",
    "tot_E = 0\n",
    "tot_C = 0\n",
    "\n",
    "def read_clean_lines(infile1):\n",
    "    ''' Reads all lines from a file. Returns string of second line. The '\\n' is stripped.'''\n",
    "    with open(infile1, 'r') as rfile:\n",
    "        newline_list = rfile.readlines()\n",
    "        cleanstring = newline_list[1].rstrip()\n",
    "        return cleanstring\n",
    "\n",
    "aa_string = read_clean_lines('/Users/ila/01-Unibo/02_Lab2/files_lab2_project/all_data/trainingset/fasta/d1g2ya_.fasta')\n",
    "print(aa_string)\n",
    "\n",
    "ss_string = read_clean_lines('/Users/ila/01-Unibo/02_Lab2/files_lab2_project/all_data/trainingset/dssp/d1g2ya_.dssp')\n",
    "print(ss_string)\n"
   ]
  },
  {
   "cell_type": "code",
   "execution_count": 3,
   "metadata": {},
   "outputs": [
    {
     "data": {
      "text/html": [
       "<div>\n",
       "<style scoped>\n",
       "    .dataframe tbody tr th:only-of-type {\n",
       "        vertical-align: middle;\n",
       "    }\n",
       "\n",
       "    .dataframe tbody tr th {\n",
       "        vertical-align: top;\n",
       "    }\n",
       "\n",
       "    .dataframe thead th {\n",
       "        text-align: right;\n",
       "    }\n",
       "</style>\n",
       "<table border=\"1\" class=\"dataframe\">\n",
       "  <thead>\n",
       "    <tr style=\"text-align: right;\">\n",
       "      <th></th>\n",
       "      <th>A</th>\n",
       "      <th>R</th>\n",
       "      <th>N</th>\n",
       "      <th>D</th>\n",
       "      <th>C</th>\n",
       "      <th>Q</th>\n",
       "      <th>E</th>\n",
       "      <th>G</th>\n",
       "      <th>H</th>\n",
       "      <th>I</th>\n",
       "      <th>L</th>\n",
       "      <th>K</th>\n",
       "      <th>M</th>\n",
       "      <th>F</th>\n",
       "      <th>P</th>\n",
       "      <th>S</th>\n",
       "      <th>T</th>\n",
       "      <th>W</th>\n",
       "      <th>Y</th>\n",
       "      <th>V</th>\n",
       "    </tr>\n",
       "  </thead>\n",
       "  <tbody>\n",
       "    <tr>\n",
       "      <th>0</th>\n",
       "      <td>0.0</td>\n",
       "      <td>0.0</td>\n",
       "      <td>0.0</td>\n",
       "      <td>0.0</td>\n",
       "      <td>0.0</td>\n",
       "      <td>0.0</td>\n",
       "      <td>0.0</td>\n",
       "      <td>0.0</td>\n",
       "      <td>0.0</td>\n",
       "      <td>0.0</td>\n",
       "      <td>0.0</td>\n",
       "      <td>0.0</td>\n",
       "      <td>0.0</td>\n",
       "      <td>0.0</td>\n",
       "      <td>0.0</td>\n",
       "      <td>0.0</td>\n",
       "      <td>0.0</td>\n",
       "      <td>0.0</td>\n",
       "      <td>0.0</td>\n",
       "      <td>0.0</td>\n",
       "    </tr>\n",
       "  </tbody>\n",
       "</table>\n",
       "</div>"
      ],
      "text/plain": [
       "     A    R    N    D    C    Q    E    G    H    I    L    K    M    F    P  \\\n",
       "0  0.0  0.0  0.0  0.0  0.0  0.0  0.0  0.0  0.0  0.0  0.0  0.0  0.0  0.0  0.0   \n",
       "\n",
       "     S    T    W    Y    V  \n",
       "0  0.0  0.0  0.0  0.0  0.0  "
      ]
     },
     "execution_count": 3,
     "metadata": {},
     "output_type": "execute_result"
    }
   ],
   "source": [
    "df_R_H \n",
    "df_R_E \n",
    "df_R_C "
   ]
  },
  {
   "cell_type": "code",
   "execution_count": 9,
   "metadata": {},
   "outputs": [],
   "source": [
    "'''Increments corresponding positions according to R and H in each field.'''\n",
    "l = len(aa_string)\n",
    "for i in range(l):\n",
    "    ss = ss_string[i]\n",
    "    aa = aa_string[i]\n",
    "    df_R_count[aa]+=1     # Increment each df\n",
    "    if ss == 'H':\n",
    "        df_R_H[aa]+=1\n",
    "    elif ss == 'E':\n",
    "        df_R_E[aa]+=1\n",
    "    else:                       # so if ss == '-' or ss == 'C' or even if i got some X:\n",
    "        df_R_C[aa]+=1\n",
    "\n",
    "# check sum of residue R in HEC conformation."
   ]
  },
  {
   "cell_type": "code",
   "execution_count": 5,
   "metadata": {},
   "outputs": [
    {
     "data": {
      "text/html": [
       "<div>\n",
       "<style scoped>\n",
       "    .dataframe tbody tr th:only-of-type {\n",
       "        vertical-align: middle;\n",
       "    }\n",
       "\n",
       "    .dataframe tbody tr th {\n",
       "        vertical-align: top;\n",
       "    }\n",
       "\n",
       "    .dataframe thead th {\n",
       "        text-align: right;\n",
       "    }\n",
       "</style>\n",
       "<table border=\"1\" class=\"dataframe\">\n",
       "  <thead>\n",
       "    <tr style=\"text-align: right;\">\n",
       "      <th></th>\n",
       "      <th>A</th>\n",
       "      <th>R</th>\n",
       "      <th>N</th>\n",
       "      <th>D</th>\n",
       "      <th>C</th>\n",
       "      <th>Q</th>\n",
       "      <th>E</th>\n",
       "      <th>G</th>\n",
       "      <th>H</th>\n",
       "      <th>I</th>\n",
       "      <th>L</th>\n",
       "      <th>K</th>\n",
       "      <th>M</th>\n",
       "      <th>F</th>\n",
       "      <th>P</th>\n",
       "      <th>S</th>\n",
       "      <th>T</th>\n",
       "      <th>W</th>\n",
       "      <th>Y</th>\n",
       "      <th>V</th>\n",
       "    </tr>\n",
       "  </thead>\n",
       "  <tbody>\n",
       "    <tr>\n",
       "      <th>0</th>\n",
       "      <td>4.0</td>\n",
       "      <td>0.0</td>\n",
       "      <td>0.0</td>\n",
       "      <td>0.0</td>\n",
       "      <td>0.0</td>\n",
       "      <td>3.0</td>\n",
       "      <td>3.0</td>\n",
       "      <td>0.0</td>\n",
       "      <td>0.0</td>\n",
       "      <td>1.0</td>\n",
       "      <td>7.0</td>\n",
       "      <td>2.0</td>\n",
       "      <td>1.0</td>\n",
       "      <td>0.0</td>\n",
       "      <td>0.0</td>\n",
       "      <td>1.0</td>\n",
       "      <td>1.0</td>\n",
       "      <td>0.0</td>\n",
       "      <td>0.0</td>\n",
       "      <td>0.0</td>\n",
       "    </tr>\n",
       "  </tbody>\n",
       "</table>\n",
       "</div>"
      ],
      "text/plain": [
       "     A    R    N    D    C    Q    E    G    H    I    L    K    M    F    P  \\\n",
       "0  4.0  0.0  0.0  0.0  0.0  3.0  3.0  0.0  0.0  1.0  7.0  2.0  1.0  0.0  0.0   \n",
       "\n",
       "     S    T    W    Y    V  \n",
       "0  1.0  1.0  0.0  0.0  0.0  "
      ]
     },
     "execution_count": 5,
     "metadata": {},
     "output_type": "execute_result"
    }
   ],
   "source": [
    "df_R_H"
   ]
  },
  {
   "cell_type": "code",
   "execution_count": 6,
   "metadata": {},
   "outputs": [
    {
     "data": {
      "text/html": [
       "<div>\n",
       "<style scoped>\n",
       "    .dataframe tbody tr th:only-of-type {\n",
       "        vertical-align: middle;\n",
       "    }\n",
       "\n",
       "    .dataframe tbody tr th {\n",
       "        vertical-align: top;\n",
       "    }\n",
       "\n",
       "    .dataframe thead th {\n",
       "        text-align: right;\n",
       "    }\n",
       "</style>\n",
       "<table border=\"1\" class=\"dataframe\">\n",
       "  <thead>\n",
       "    <tr style=\"text-align: right;\">\n",
       "      <th></th>\n",
       "      <th>A</th>\n",
       "      <th>R</th>\n",
       "      <th>N</th>\n",
       "      <th>D</th>\n",
       "      <th>C</th>\n",
       "      <th>Q</th>\n",
       "      <th>E</th>\n",
       "      <th>G</th>\n",
       "      <th>H</th>\n",
       "      <th>I</th>\n",
       "      <th>L</th>\n",
       "      <th>K</th>\n",
       "      <th>M</th>\n",
       "      <th>F</th>\n",
       "      <th>P</th>\n",
       "      <th>S</th>\n",
       "      <th>T</th>\n",
       "      <th>W</th>\n",
       "      <th>Y</th>\n",
       "      <th>V</th>\n",
       "    </tr>\n",
       "  </thead>\n",
       "  <tbody>\n",
       "    <tr>\n",
       "      <th>0</th>\n",
       "      <td>0.0</td>\n",
       "      <td>0.0</td>\n",
       "      <td>0.0</td>\n",
       "      <td>0.0</td>\n",
       "      <td>0.0</td>\n",
       "      <td>0.0</td>\n",
       "      <td>0.0</td>\n",
       "      <td>0.0</td>\n",
       "      <td>0.0</td>\n",
       "      <td>0.0</td>\n",
       "      <td>0.0</td>\n",
       "      <td>0.0</td>\n",
       "      <td>0.0</td>\n",
       "      <td>0.0</td>\n",
       "      <td>0.0</td>\n",
       "      <td>0.0</td>\n",
       "      <td>0.0</td>\n",
       "      <td>0.0</td>\n",
       "      <td>0.0</td>\n",
       "      <td>0.0</td>\n",
       "    </tr>\n",
       "  </tbody>\n",
       "</table>\n",
       "</div>"
      ],
      "text/plain": [
       "     A    R    N    D    C    Q    E    G    H    I    L    K    M    F    P  \\\n",
       "0  0.0  0.0  0.0  0.0  0.0  0.0  0.0  0.0  0.0  0.0  0.0  0.0  0.0  0.0  0.0   \n",
       "\n",
       "     S    T    W    Y    V  \n",
       "0  0.0  0.0  0.0  0.0  0.0  "
      ]
     },
     "execution_count": 6,
     "metadata": {},
     "output_type": "execute_result"
    }
   ],
   "source": [
    "df_R_E"
   ]
  },
  {
   "cell_type": "code",
   "execution_count": 7,
   "metadata": {},
   "outputs": [
    {
     "data": {
      "text/html": [
       "<div>\n",
       "<style scoped>\n",
       "    .dataframe tbody tr th:only-of-type {\n",
       "        vertical-align: middle;\n",
       "    }\n",
       "\n",
       "    .dataframe tbody tr th {\n",
       "        vertical-align: top;\n",
       "    }\n",
       "\n",
       "    .dataframe thead th {\n",
       "        text-align: right;\n",
       "    }\n",
       "</style>\n",
       "<table border=\"1\" class=\"dataframe\">\n",
       "  <thead>\n",
       "    <tr style=\"text-align: right;\">\n",
       "      <th></th>\n",
       "      <th>A</th>\n",
       "      <th>R</th>\n",
       "      <th>N</th>\n",
       "      <th>D</th>\n",
       "      <th>C</th>\n",
       "      <th>Q</th>\n",
       "      <th>E</th>\n",
       "      <th>G</th>\n",
       "      <th>H</th>\n",
       "      <th>I</th>\n",
       "      <th>L</th>\n",
       "      <th>K</th>\n",
       "      <th>M</th>\n",
       "      <th>F</th>\n",
       "      <th>P</th>\n",
       "      <th>S</th>\n",
       "      <th>T</th>\n",
       "      <th>W</th>\n",
       "      <th>Y</th>\n",
       "      <th>V</th>\n",
       "    </tr>\n",
       "  </thead>\n",
       "  <tbody>\n",
       "    <tr>\n",
       "      <th>0</th>\n",
       "      <td>0.0</td>\n",
       "      <td>0.0</td>\n",
       "      <td>0.0</td>\n",
       "      <td>0.0</td>\n",
       "      <td>0.0</td>\n",
       "      <td>0.0</td>\n",
       "      <td>0.0</td>\n",
       "      <td>2.0</td>\n",
       "      <td>0.0</td>\n",
       "      <td>0.0</td>\n",
       "      <td>1.0</td>\n",
       "      <td>0.0</td>\n",
       "      <td>1.0</td>\n",
       "      <td>0.0</td>\n",
       "      <td>0.0</td>\n",
       "      <td>3.0</td>\n",
       "      <td>0.0</td>\n",
       "      <td>0.0</td>\n",
       "      <td>0.0</td>\n",
       "      <td>1.0</td>\n",
       "    </tr>\n",
       "  </tbody>\n",
       "</table>\n",
       "</div>"
      ],
      "text/plain": [
       "     A    R    N    D    C    Q    E    G    H    I    L    K    M    F    P  \\\n",
       "0  0.0  0.0  0.0  0.0  0.0  0.0  0.0  2.0  0.0  0.0  1.0  0.0  1.0  0.0  0.0   \n",
       "\n",
       "     S    T    W    Y    V  \n",
       "0  3.0  0.0  0.0  0.0  1.0  "
      ]
     },
     "execution_count": 7,
     "metadata": {},
     "output_type": "execute_result"
    }
   ],
   "source": [
    "df_R_C"
   ]
  },
  {
   "cell_type": "code",
   "execution_count": 8,
   "metadata": {},
   "outputs": [
    {
     "name": "stdout",
     "output_type": "stream",
     "text": [
      "Residue count: \n",
      "\n"
     ]
    },
    {
     "data": {
      "text/html": [
       "<div>\n",
       "<style scoped>\n",
       "    .dataframe tbody tr th:only-of-type {\n",
       "        vertical-align: middle;\n",
       "    }\n",
       "\n",
       "    .dataframe tbody tr th {\n",
       "        vertical-align: top;\n",
       "    }\n",
       "\n",
       "    .dataframe thead th {\n",
       "        text-align: right;\n",
       "    }\n",
       "</style>\n",
       "<table border=\"1\" class=\"dataframe\">\n",
       "  <thead>\n",
       "    <tr style=\"text-align: right;\">\n",
       "      <th></th>\n",
       "      <th>A</th>\n",
       "      <th>R</th>\n",
       "      <th>N</th>\n",
       "      <th>D</th>\n",
       "      <th>C</th>\n",
       "      <th>Q</th>\n",
       "      <th>E</th>\n",
       "      <th>G</th>\n",
       "      <th>H</th>\n",
       "      <th>I</th>\n",
       "      <th>L</th>\n",
       "      <th>K</th>\n",
       "      <th>M</th>\n",
       "      <th>F</th>\n",
       "      <th>P</th>\n",
       "      <th>S</th>\n",
       "      <th>T</th>\n",
       "      <th>W</th>\n",
       "      <th>Y</th>\n",
       "      <th>V</th>\n",
       "    </tr>\n",
       "  </thead>\n",
       "  <tbody>\n",
       "    <tr>\n",
       "      <th>0</th>\n",
       "      <td>4.0</td>\n",
       "      <td>0.0</td>\n",
       "      <td>0.0</td>\n",
       "      <td>0.0</td>\n",
       "      <td>0.0</td>\n",
       "      <td>3.0</td>\n",
       "      <td>3.0</td>\n",
       "      <td>2.0</td>\n",
       "      <td>0.0</td>\n",
       "      <td>1.0</td>\n",
       "      <td>8.0</td>\n",
       "      <td>2.0</td>\n",
       "      <td>2.0</td>\n",
       "      <td>0.0</td>\n",
       "      <td>0.0</td>\n",
       "      <td>4.0</td>\n",
       "      <td>1.0</td>\n",
       "      <td>0.0</td>\n",
       "      <td>0.0</td>\n",
       "      <td>1.0</td>\n",
       "    </tr>\n",
       "  </tbody>\n",
       "</table>\n",
       "</div>"
      ],
      "text/plain": [
       "     A    R    N    D    C    Q    E    G    H    I    L    K    M    F    P  \\\n",
       "0  4.0  0.0  0.0  0.0  0.0  3.0  3.0  2.0  0.0  1.0  8.0  2.0  2.0  0.0  0.0   \n",
       "\n",
       "     S    T    W    Y    V  \n",
       "0  4.0  1.0  0.0  0.0  1.0  "
      ]
     },
     "execution_count": 8,
     "metadata": {},
     "output_type": "execute_result"
    }
   ],
   "source": [
    "print(\"Residue count: \\n\")\n",
    "df_R_count"
   ]
  },
  {
   "cell_type": "code",
   "execution_count": null,
   "metadata": {},
   "outputs": [],
   "source": [
    "# row_names = ['#R,H', '#R,E', '#R,C', '#R']\n",
    "# # new = -1 0 1\n",
    "\n",
    "# win_adapted_row_names = []\n",
    "# for i in range(3):\n",
    "#     win_adapted_row_names += row_names[i]+str(i)\n",
    "    \n",
    "\n",
    "# print(win_adapted_row_names)\n",
    "\n",
    "negwin = (9//2)*-1\n",
    "poswin = 9//2\n",
    "indexes = []\n",
    "for i in range([-4:4]):\n",
    "    indexes += i\n",
    "\n",
    "print(indexes)    \n",
    "# print(negwin)\n",
    "# print(poswin)"
   ]
  },
  {
   "cell_type": "markdown",
   "metadata": {},
   "source": [
    "### sort() returns None type\n",
    "\n",
    "&rarr; apply to list directly and return list instead"
   ]
  },
  {
   "cell_type": "code",
   "execution_count": 39,
   "metadata": {},
   "outputs": [
    {
     "name": "stdout",
     "output_type": "stream",
     "text": [
      "cant return \"a\" becaues it is None\n",
      "['4ywn.fasta', '6g3z.fasta']\n"
     ]
    }
   ],
   "source": [
    "import os\n",
    "z= os.listdir('/Users/ila/01-Unibo/02_Lab2/files_lab2_project/all_data/test_data/fasta/')\n",
    "a = z.sort()\n",
    "print('cant return \"a\" becaues it is', a)\n",
    "print(z)\n"
   ]
  },
  {
   "cell_type": "markdown",
   "metadata": {},
   "source": [
    "Found X in my fasta sequences along the way:\n",
    "   * cheking if 'X' sequences have a corresponding profile"
   ]
  },
  {
   "cell_type": "code",
   "execution_count": 3,
   "metadata": {},
   "outputs": [
    {
     "name": "stdout",
     "output_type": "stream",
     "text": [
      "6l77\n",
      "6kko\n",
      "5xyf\n",
      "5v0m\n",
      "5uc0\n",
      "6dhx\n",
      "5ir2\n",
      "4y0o\n",
      "5c5z\n",
      "6mdw\n",
      "7bvv\n",
      "5t2x\n",
      "4zey\n",
      "5wd6\n",
      "6iqo\n",
      "5wd8 \n"
     ]
    }
   ],
   "source": [
    "# Sequences containing X:\n",
    "!cat ~/01-Unibo/02_Lab2/files_lab2_project/all_data/blindset/findX_ids_only"
   ]
  },
  {
   "cell_type": "code",
   "execution_count": 7,
   "metadata": {},
   "outputs": [
    {
     "name": "stdout",
     "output_type": "stream",
     "text": [
      "6l77.profile\n",
      "6kko.profile\n",
      "5xyf.profile\n",
      "5v0m.profile\n",
      "5uc0.profile\n",
      "6dhx.profile\n",
      "5ir2.profile\n",
      "4y0o.profile\n",
      "5c5z.profile\n",
      "6mdw.profile\n",
      "7bvv.profile\n",
      "5t2x.profile\n",
      "4zey.profile\n",
      "5wd6.profile\n",
      "6iqo.profile\n",
      "5wd8.profile \n"
     ]
    }
   ],
   "source": [
    "#Adding '.profile' in vim\n",
    "!cat ~/01-Unibo/02_Lab2/files_lab2_project/all_data/blindset/findX_ids_only"
   ]
  },
  {
   "cell_type": "code",
   "execution_count": 10,
   "metadata": {},
   "outputs": [
    {
     "data": {
      "text/plain": [
       "'/Users/ila/01-Unibo/02_Lab2/files_lab2_project/documentation_notebooks/GOR'"
      ]
     },
     "execution_count": 10,
     "metadata": {},
     "output_type": "execute_result"
    }
   ],
   "source": [
    "pwd"
   ]
  },
  {
   "cell_type": "code",
   "execution_count": 14,
   "metadata": {},
   "outputs": [],
   "source": [
    "!ls  /Users/ila/01-Unibo/02_Lab2/files_lab2_project/all_data/blindset/seqprofile_blind/ > sequprofile_list"
   ]
  },
  {
   "cell_type": "code",
   "execution_count": 15,
   "metadata": {},
   "outputs": [
    {
     "name": "stdout",
     "output_type": "stream",
     "text": [
      "['4uiq.profile', '4y0l.profile', '4y0o.profile', '4yte.profile', '4ywn.profile', '4zc4.profile', '4zey.profile', '4zkp.profile', '4zlr.profile', '5a88.profile', '5abr.profile', '5anp.profile', '5aun.profile', '5av5.profile', '5azw.profile', '5b71.profile', '5bn2.profile', '5bp5.profile', '5bpk.profile', '5bpu.profile', '5bxq.profile', '5c5z.profile', '5c8a.profile', '5ceg.profile', '5ctd.profile', '5d16.profile', '5d6t.profile', '5d71.profile', '5dcf.profile', '5dd8.profile', '5dg6.profile', '5dq0.profile', '5eiv.profile', '5f1s.profile', '5f2a.profile', '5fb9.profile', '5ffl.profile', '5fq0.profile', '5ghl.profile', '5gke.profile', '5gna.profile', '5hjf.profile', '5ht8.profile', '5ib0.profile', '5ii0.profile', '5ir2.profile', '5jsn.profile', '5jwo.profile', '5kqa.profile', '5kwv.profile', '5ldd.profile', '5ltf.profile', '5m9o.profile', '5mc9.profile', '5mmh.profile', '5n07.profile', '5nl9.profile', '5t2y.profile', '5u39.profile', '5u4u.profile', '5u5n.profile', '5u7e.profile', '5uiv.profile', '5umv.profile', '5uni.profile', '5v2i.profile', '5vog.profile', '5wd6.profile', '5wnw.profile', '5woq.profile', '5wuj.profile', '5x4b.profile', '5xga.profile', '5xks.profile', '5xvk.profile', '5xyf.profile', '5y7w.profile', '5yei.profile', '5ymx.profile', '5ysn.profile', '5zry.profile', '6aoz.profile', '6dew.profile', '6dn4.profile', '6ei6.profile', '6exx.profile', '6fsf.profile', '6fwt.profile', '6g3z.profile', '6gbi.profile', '6gw6.profile', '6h9e.profile', '6hfg.profile', '6hks.profile', '6hsv.profile', '6i9l.profile', '6ia7.profile', '6iqo.profile', '6isu.profile', '6j0y.profile', '6k6l.profile', '6k7q.profile', '6kok.profile', '6l77.profile', '6ltz.profile', '6md3.profile', '6mdw.profile', '6mlx.profile', '6ndr.profile', '6okm.profile', '6ood.profile', '6or3.profile', '6ovi.profile', '6q7n.profile', '6q8j.profile', '6r5w.profile', '6r82.profile', '6slk.profile', '6t7o.profile', '6usc.profile', '6vci.profile', '6vk4.profile', '6wk3.profile', '6yj1.profile', '7bvv.profile', '7bwf.profile', '7jtl.profile']\n"
     ]
    }
   ],
   "source": [
    "all_profiles = lines_list('./sequprofile_list')"
   ]
  },
  {
   "cell_type": "code",
   "execution_count": 29,
   "metadata": {},
   "outputs": [],
   "source": [
    "def lines_list(file1):\n",
    "    cleanlines = []\n",
    "    with open (file1, 'r') as rfile:\n",
    "        lines_list = rfile.readlines()\n",
    "        for line in lines_list:\n",
    "            nonewline = line.rstrip()\n",
    "            cleanlines.append(nonewline)\n",
    "    return cleanlines  "
   ]
  },
  {
   "cell_type": "code",
   "execution_count": 34,
   "metadata": {},
   "outputs": [
    {
     "name": "stdout",
     "output_type": "stream",
     "text": [
      "X  16\n",
      "all  127\n",
      "Matching 10\n",
      "{'4zey.profile', '4y0o.profile', '5c5z.profile', '5wd6.profile', '5ir2.profile', '7bvv.profile', '6iqo.profile', '6mdw.profile', '5xyf.profile', '6l77.profile'}\n"
     ]
    }
   ],
   "source": [
    "path = '../../all_data/blindset/findX_ids_only'\n",
    "X_seqs = lines_list(path)    \n",
    "all_profiles = lines_list('./sequprofile_list')\n",
    "\n",
    "print(\"X \", len(X_seqs))\n",
    "print('all ',len(all_profiles))\n",
    "intersec = set(X_seqs) & set(all_profiles)\n",
    "print('Matching',len(intersec))\n",
    "\n",
    "print(intersec)"
   ]
  },
  {
   "cell_type": "markdown",
   "metadata": {},
   "source": [
    "### So I assume I have only 117 blind sequences...\n",
    "No I can keep them because only the \"matching residues\" of the 20 aa list are considered when filling the GOR matrices."
   ]
  },
  {
   "cell_type": "code",
   "execution_count": 40,
   "metadata": {},
   "outputs": [
    {
     "name": "stdout",
     "output_type": "stream",
     "text": [
      "0.55\t0.45\t0.0\t0.0\t0.0\t0.0\t0.0\t0.0\t0.0\t0.0\t0.0\t0.0\t0.0\t0.0\t0.0\t0.0\t0.0\t0.0\t0.0\t0.0\t\n",
      "0.0\t0.0\t0.45\t0.0\t0.0\t0.0\t0.55\t0.0\t0.0\t0.0\t0.0\t0.0\t0.0\t0.0\t0.0\t0.0\t0.0\t0.0\t0.0\t0.0\t\n",
      "0.0\t0.0\t0.0\t0.0\t0.0\t0.0\t0.0\t0.0\t0.0\t0.55\t0.0\t0.0\t0.0\t0.0\t0.0\t0.0\t0.0\t0.0\t0.0\t0.45\t\n",
      "0.55\t0.0\t0.0\t0.0\t0.0\t0.0\t0.0\t0.0\t0.0\t0.0\t0.0\t0.0\t0.0\t0.0\t0.0\t0.0\t0.0\t0.0\t0.0\t0.45\t\n",
      "0.0\t0.0\t0.0\t0.0\t0.0\t0.0\t0.0\t0.0\t0.0\t0.0\t0.0\t0.0\t0.0\t0.0\t0.0\t0.0\t0.45\t0.0\t0.0\t0.55\t\n",
      "1.0\t0.0\t0.0\t0.0\t0.0\t0.0\t0.0\t0.0\t0.0\t0.0\t0.0\t0.0\t0.0\t0.0\t0.0\t0.0\t0.0\t0.0\t0.0\t0.0\t\n",
      "0.0\t0.0\t0.45\t0.0\t0.0\t0.0\t0.0\t0.0\t0.55\t0.0\t0.0\t0.0\t0.0\t0.0\t0.0\t0.0\t0.0\t0.0\t0.0\t0.0\t\n",
      "0.55\t0.0\t0.0\t0.0\t0.0\t0.0\t0.0\t0.0\t0.0\t0.0\t0.0\t0.45\t0.0\t0.0\t0.0\t0.0\t0.0\t0.0\t0.0\t0.0\t\n",
      "0.45\t0.0\t0.0\t0.0\t0.0\t0.0\t0.0\t0.0\t0.55\t0.0\t0.0\t0.0\t0.0\t0.0\t0.0\t0.0\t0.0\t0.0\t0.0\t0.0\t"
     ]
    }
   ],
   "source": [
    "cat /Users/ila/01-Unibo/02_Lab2/files_lab2_project/all_data/test_data/profiles/test_profile"
   ]
  },
  {
   "cell_type": "code",
   "execution_count": 73,
   "metadata": {},
   "outputs": [],
   "source": [
    "import sys\n",
    "import os\n",
    "import pandas as pd\n",
    "import numpy as np\n",
    "\n",
    "def read_clean_lines(infile1):\n",
    "    ''' Reads all lines from a file. Returns string of second line. The '\\n' is stripped.'''\n",
    "    with open(infile1, 'r') as rfile:\n",
    "        newline_list = rfile.readlines()\n",
    "#         cleanstring = newline_list[1].rstrip()\n",
    "        return newline_list"
   ]
  },
  {
   "cell_type": "code",
   "execution_count": 128,
   "metadata": {},
   "outputs": [],
   "source": [
    "list1 = read_clean_lines('/Users/ila/01-Unibo/02_Lab2/files_lab2_project/all_data/test_data/profiles/test_profile')\n",
    "list1\n",
    "\n",
    "cleanlines = []\n",
    "floats = []\n",
    "# for i in list1:"
   ]
  },
  {
   "cell_type": "markdown",
   "metadata": {},
   "source": [
    "### Better to loadtxt dicrectly into np array:"
   ]
  },
  {
   "cell_type": "code",
   "execution_count": 140,
   "metadata": {},
   "outputs": [
    {
     "name": "stdout",
     "output_type": "stream",
     "text": [
      "[0.55 0.45 0.   0.   0.   0.   0.   0.   0.   0.   0.   0.   0.   0.\n",
      " 0.   0.   0.   0.   0.   0.  ]\n",
      "[0.   0.   0.45 0.   0.   0.   0.55 0.   0.   0.   0.   0.   0.   0.\n",
      " 0.   0.   0.   0.   0.   0.  ]\n"
     ]
    }
   ],
   "source": [
    "profile_arr = np.loadtxt(\"/Users/ila/01-Unibo/02_Lab2/files_lab2_project/all_data/test_data/profiles/test_profile\", usecols=range(0,20), dtype=np.float64)\n",
    "profile_arr\n",
    "profile_arr.shape\n",
    "\n",
    "rows, cols = profile_arr.shape\n",
    "\n",
    "print(profile_arr[0])\n",
    "print(profile_arr[1])\n"
   ]
  },
  {
   "cell_type": "markdown",
   "metadata": {},
   "source": [
    "### You can add entire rows of np arrays;"
   ]
  },
  {
   "cell_type": "code",
   "execution_count": 138,
   "metadata": {},
   "outputs": [
    {
     "data": {
      "text/plain": [
       "array([0.55, 0.45, 0.45, 0.  , 0.  , 0.  , 0.55, 0.  , 0.  , 0.  , 0.  ,\n",
       "       0.  , 0.  , 0.  , 0.  , 0.  , 0.  , 0.  , 0.  , 0.  ])"
      ]
     },
     "execution_count": 138,
     "metadata": {},
     "output_type": "execute_result"
    }
   ],
   "source": [
    "sum_of_2rows = profile_arr[0]+profile_arr[1]\n",
    "sum_of_2rows"
   ]
  },
  {
   "cell_type": "code",
   "execution_count": 137,
   "metadata": {},
   "outputs": [
    {
     "name": "stdout",
     "output_type": "stream",
     "text": [
      "[0, 1, 2, 3, 4, 5, 6, 7, 8, 9, 10, 11, 12, 13, 14, 15, 16, 17, 18, 19]\n"
     ]
    }
   ],
   "source": [
    "header_col = ['A', 'R', 'N', 'D', 'C', 'Q', 'E', 'G', 'H', 'I', 'L', 'K', 'M', 'F', 'P', 'S', 'T', 'W', 'Y', 'V']\n",
    "nospace = \"\"\n",
    "for i in a:\n",
    "#     print(i, end='')\n",
    "    nospace+=i\n",
    "nospace\n",
    "\n",
    "num_li = []\n",
    "for j in range(len(header_col)):\n",
    "    num_li.append(j)\n",
    "    \n",
    "print(num_li)    "
   ]
  },
  {
   "cell_type": "markdown",
   "metadata": {},
   "source": [
    "### Need to check that numcols == numcols no\n",
    "\n",
    "### Need to check that len(dssp_string) == number of rows in profile"
   ]
  },
  {
   "cell_type": "code",
   "execution_count": 152,
   "metadata": {},
   "outputs": [],
   "source": [
    "#!/anaconda3/bin/python\n",
    "import sys\n",
    "import os\n",
    "import glob\n",
    "import pandas as pd\n",
    "import numpy as np\n",
    "import argparse \n",
    "\n",
    "'''For the first try: Make function: Takes fasta and dssp sequence as parameters as input.'''\n",
    "# d1g2ya_.dssp\n",
    "# d1g2ya_.fasta from training files.\n",
    "\n",
    "win_size = 3 # has to be an odd number pass through argparse later\n",
    "\n",
    "def make_zero_array(window_size):\n",
    "    '''\n",
    "    Takes window size and the name of the array as arguments.\n",
    "    Makes an array that has as many lines as the win_size and \n",
    "    the number of columns is defined by the number of naturally \n",
    "    occurring aa in eukaryotes. Returns the array.\n",
    "    '''\n",
    "    array = np.zeros((window_size,20)) #, dtype= 'float64' is allready default - not necessary to specify!!!\n",
    "    return array\n",
    "    \n",
    "R_H = make_zero_array(win_size)           # generating arrays holding the counts of residue in conformation X --> R_X\n",
    "R_E = make_zero_array(win_size)\n",
    "R_C = make_zero_array(win_size)\n",
    "R_count = make_zero_array(win_size)       # generating array holding the total residue count\n",
    "SS_count = make_zero_array(win_size)      # generating array holding the total secondary structure count\n",
    "\n",
    "def make_frequency_df(zeroarray):\n",
    "    '''\n",
    "    Makes dataframe from zero array to better vizualize whats going on.\n",
    "    That enables us to index columns by residue name.\n",
    "    '''\n",
    "    header_col = ['A', 'R', 'N', 'D', 'C', 'Q', 'E', 'G', 'H', 'I', 'L', 'K', 'M', 'F', 'P', 'S', 'T', 'W', 'Y', 'V']\n",
    "    # row_names = ['R_0'] #['#R,H', '#R,E', '#R,C', '#R'] # want to implement using -1 0 1 according to window....\n",
    "#     freq_array = make_zero_array(win_size)\n",
    "    freq_df = pd.DataFrame(data = zeroarray,  columns=header_col) # index=row_names\n",
    "    return freq_df\n",
    "\n",
    "''' generating dataframes holding the counts of residue in conformation X --> R_X'''\n",
    "df_R_H = make_frequency_df(R_H)           \n",
    "df_R_E = make_frequency_df(R_E)\n",
    "df_R_C = make_frequency_df(R_C)\n",
    "df_R_count=make_frequency_df(R_count)\n",
    "# df_SS_count = make_frequency_df(SS_count)     \n",
    "\n",
    "''' generating smaller datafram holding the total counts conformations'''\n",
    "ss_array = np.zeros((1,3)) # making array holding total n of R in H, E or C\n",
    "df_all_SS = pd.DataFrame(data=ss_array, columns=['H', 'E', 'C'], index= ['#S'])\n",
    "# print(\"HEC df\")\n",
    "# print(df_all_SS)\n",
    "\n",
    "def read_clean_lines(infile1):\n",
    "    ''' Reads all lines from a file. Returns string of second line. The '\\n' is stripped.'''\n",
    "    with open(infile1, 'r') as rfile:\n",
    "        newline_list = rfile.readlines()\n",
    "        cleanstring = newline_list[1].rstrip()\n",
    "        return cleanstring\n",
    "\n",
    "def read_profile_into_array(infile2):\n",
    "    '''\n",
    "    Takes a seq profile file as input. Reads it into an np.array.\n",
    "    'NaN' column (index 20) is excluded. Returns the array\n",
    "    '''\n",
    "    profile_array = np.loadtxt(infile2, usecols=range(0,20), dtype=np.float64) # need to indicate range to get rid of last col containing 'nan'\n",
    "    return profile_array\n",
    "\n",
    "def dict_from_2_lists(list1, list2):\n",
    "    '''\n",
    "    Makes dictionary from 20 numbers list and all header of profile.\n",
    "    keys: [0, 1, 2, 3, 4, 5, 6, 7, 8, 9, 10, 11, 12, 13, 14, 15, 16, 17, 18, 19] \n",
    "    values: ['A', 'R', 'N', 'D', 'C', 'Q', 'E', 'G', 'H', 'I', 'L', 'K', 'M', 'F', 'P', 'S', 'T', 'W', 'Y', 'V']\n",
    "    used to access correct column in GOR arrays.\n",
    "    '''\n",
    "    keys = list1\n",
    "    values = list2\n",
    "    index_dict = dict(zip(keys, values))\n",
    "    return index_dict\n",
    "\n",
    "indexes = dict_from_2_lists([0, 1, 2, 3, 4, 5, 6, 7, 8, 9, 10, 11, 12, 13, 14, 15, 16, 17, 18, 19], ['A', 'R', 'N', 'D', 'C', 'Q', 'E', 'G', 'H', 'I', 'L', 'K', 'M', 'F', 'P', 'S', 'T', 'W', 'Y', 'V'])\n",
    "\n",
    "def train_gor(profile, ssfile, RH, RE, RC, total_R, total_SS):\n",
    "    '''\n",
    "    Takes as input: (1) np.array of seq profile (2) ss from dssp file (3) dataframes comprising the gor model \n",
    "    (RH, RE, RC, total_R and total_SS). Increments corresponding positions according to R in given conformation \n",
    "    in each field. Returns the trained GOR model.\n",
    "    '''\n",
    "    # aa_string = read_clean_lines(profile)\n",
    "    profile_arr = read_profile_into_array(profile)          # np.array\n",
    "    print(profile_arr)\n",
    "\n",
    "    ss_string = read_clean_lines(ssfile)\n",
    "    print(ss_string)                                        \n",
    "\n",
    "    rows, cols = profile_arr.shape                          # len(ss_string) must be == number of rows \n",
    "\n",
    "    if len(ss_string) != rows:\n",
    "        print('Error: ', ssfile, 'length not the same as in profile! ')\n",
    "        return RH, RE, RC, total_R, total_SS\n",
    "\n",
    "    for i in range(rows):\n",
    "        ss = ss_string[i]                   # type of structure at index i\n",
    "        profile_row = profile_arr[i]              # Profile row at index i\n",
    "        total_R += profile_row                    # Incrementing each df by adding one row of the profile\n",
    "        \n",
    "        if ss == 'H':\n",
    "            RH += profile_row\n",
    "            total_SS[ss] += 1\n",
    "\n",
    "        elif ss == 'E':\n",
    "            RE += profile_row\n",
    "            total_SS[ss] += 1\n",
    "\n",
    "        else:                               \n",
    "            RC += profile_row\n",
    "            total_SS['C'] += 1                # If not H or E --> its assigned to 'C' compatible with training and blind files.\n",
    "    return RH, RE, RC, total_R, total_SS"
   ]
  },
  {
   "cell_type": "code",
   "execution_count": 153,
   "metadata": {},
   "outputs": [
    {
     "name": "stdout",
     "output_type": "stream",
     "text": [
      "{0: 'A', 1: 'R', 2: 'N', 3: 'D', 4: 'C', 5: 'Q', 6: 'E', 7: 'G', 8: 'H', 9: 'I', 10: 'L', 11: 'K', 12: 'M', 13: 'F', 14: 'P', 15: 'S', 16: 'T', 17: 'W', 18: 'Y', 19: 'V'}\n"
     ]
    }
   ],
   "source": [
    "df_R_H\n",
    "print(indexes)"
   ]
  },
  {
   "cell_type": "code",
   "execution_count": 158,
   "metadata": {},
   "outputs": [
    {
     "name": "stdout",
     "output_type": "stream",
     "text": [
      "[[0.55 0.45 0.   0.   0.   0.   0.   0.   0.   0.   0.   0.   0.   0.\n",
      "  0.   0.   0.   0.   0.   0.  ]\n",
      " [0.   0.   0.45 0.   0.   0.   0.55 0.   0.   0.   0.   0.   0.   0.\n",
      "  0.   0.   0.   0.   0.   0.  ]\n",
      " [0.   0.   0.   0.   0.   0.   0.   0.   0.   0.55 0.   0.   0.   0.\n",
      "  0.   0.   0.   0.   0.   0.45]\n",
      " [0.55 0.   0.   0.   0.   0.   0.   0.   0.   0.   0.   0.   0.   0.\n",
      "  0.   0.   0.   0.   0.   0.45]\n",
      " [0.   0.   0.   0.   0.   0.   0.   0.   0.   0.   0.   0.   0.   0.\n",
      "  0.   0.   0.45 0.   0.   0.55]\n",
      " [1.   0.   0.   0.   0.   0.   0.   0.   0.   0.   0.   0.   0.   0.\n",
      "  0.   0.   0.   0.   0.   0.  ]\n",
      " [0.   0.   0.45 0.   0.   0.   0.   0.   0.55 0.   0.   0.   0.   0.\n",
      "  0.   0.   0.   0.   0.   0.  ]\n",
      " [0.55 0.   0.   0.   0.   0.   0.   0.   0.   0.   0.   0.45 0.   0.\n",
      "  0.   0.   0.   0.   0.   0.  ]\n",
      " [0.45 0.   0.   0.   0.   0.   0.   0.   0.55 0.   0.   0.   0.   0.\n",
      "  0.   0.   0.   0.   0.   0.  ]]\n",
      "CEEEEECCC\n"
     ]
    },
    {
     "data": {
      "text/html": [
       "<div>\n",
       "<style scoped>\n",
       "    .dataframe tbody tr th:only-of-type {\n",
       "        vertical-align: middle;\n",
       "    }\n",
       "\n",
       "    .dataframe tbody tr th {\n",
       "        vertical-align: top;\n",
       "    }\n",
       "\n",
       "    .dataframe thead th {\n",
       "        text-align: right;\n",
       "    }\n",
       "</style>\n",
       "<table border=\"1\" class=\"dataframe\">\n",
       "  <thead>\n",
       "    <tr style=\"text-align: right;\">\n",
       "      <th></th>\n",
       "      <th>A</th>\n",
       "      <th>R</th>\n",
       "      <th>N</th>\n",
       "      <th>D</th>\n",
       "      <th>C</th>\n",
       "      <th>Q</th>\n",
       "      <th>E</th>\n",
       "      <th>G</th>\n",
       "      <th>H</th>\n",
       "      <th>I</th>\n",
       "      <th>L</th>\n",
       "      <th>K</th>\n",
       "      <th>M</th>\n",
       "      <th>F</th>\n",
       "      <th>P</th>\n",
       "      <th>S</th>\n",
       "      <th>T</th>\n",
       "      <th>W</th>\n",
       "      <th>Y</th>\n",
       "      <th>V</th>\n",
       "    </tr>\n",
       "  </thead>\n",
       "  <tbody>\n",
       "    <tr>\n",
       "      <th>0</th>\n",
       "      <td>0.0</td>\n",
       "      <td>0.0</td>\n",
       "      <td>0.0</td>\n",
       "      <td>0.0</td>\n",
       "      <td>0.0</td>\n",
       "      <td>0.0</td>\n",
       "      <td>0.0</td>\n",
       "      <td>0.0</td>\n",
       "      <td>0.0</td>\n",
       "      <td>0.0</td>\n",
       "      <td>0.0</td>\n",
       "      <td>0.0</td>\n",
       "      <td>0.0</td>\n",
       "      <td>0.0</td>\n",
       "      <td>0.0</td>\n",
       "      <td>0.0</td>\n",
       "      <td>0.0</td>\n",
       "      <td>0.0</td>\n",
       "      <td>0.0</td>\n",
       "      <td>0.0</td>\n",
       "    </tr>\n",
       "    <tr>\n",
       "      <th>1</th>\n",
       "      <td>0.0</td>\n",
       "      <td>0.0</td>\n",
       "      <td>0.0</td>\n",
       "      <td>0.0</td>\n",
       "      <td>0.0</td>\n",
       "      <td>0.0</td>\n",
       "      <td>0.0</td>\n",
       "      <td>0.0</td>\n",
       "      <td>0.0</td>\n",
       "      <td>0.0</td>\n",
       "      <td>0.0</td>\n",
       "      <td>0.0</td>\n",
       "      <td>0.0</td>\n",
       "      <td>0.0</td>\n",
       "      <td>0.0</td>\n",
       "      <td>0.0</td>\n",
       "      <td>0.0</td>\n",
       "      <td>0.0</td>\n",
       "      <td>0.0</td>\n",
       "      <td>0.0</td>\n",
       "    </tr>\n",
       "    <tr>\n",
       "      <th>2</th>\n",
       "      <td>0.0</td>\n",
       "      <td>0.0</td>\n",
       "      <td>0.0</td>\n",
       "      <td>0.0</td>\n",
       "      <td>0.0</td>\n",
       "      <td>0.0</td>\n",
       "      <td>0.0</td>\n",
       "      <td>0.0</td>\n",
       "      <td>0.0</td>\n",
       "      <td>0.0</td>\n",
       "      <td>0.0</td>\n",
       "      <td>0.0</td>\n",
       "      <td>0.0</td>\n",
       "      <td>0.0</td>\n",
       "      <td>0.0</td>\n",
       "      <td>0.0</td>\n",
       "      <td>0.0</td>\n",
       "      <td>0.0</td>\n",
       "      <td>0.0</td>\n",
       "      <td>0.0</td>\n",
       "    </tr>\n",
       "  </tbody>\n",
       "</table>\n",
       "</div>"
      ],
      "text/plain": [
       "     A    R    N    D    C    Q    E    G    H    I    L    K    M    F    P  \\\n",
       "0  0.0  0.0  0.0  0.0  0.0  0.0  0.0  0.0  0.0  0.0  0.0  0.0  0.0  0.0  0.0   \n",
       "1  0.0  0.0  0.0  0.0  0.0  0.0  0.0  0.0  0.0  0.0  0.0  0.0  0.0  0.0  0.0   \n",
       "2  0.0  0.0  0.0  0.0  0.0  0.0  0.0  0.0  0.0  0.0  0.0  0.0  0.0  0.0  0.0   \n",
       "\n",
       "     S    T    W    Y    V  \n",
       "0  0.0  0.0  0.0  0.0  0.0  \n",
       "1  0.0  0.0  0.0  0.0  0.0  \n",
       "2  0.0  0.0  0.0  0.0  0.0  "
      ]
     },
     "execution_count": 158,
     "metadata": {},
     "output_type": "execute_result"
    }
   ],
   "source": [
    "RH, RE, RC, total_R, total_SS = train_gor(\"/Users/ila/01-Unibo/02_Lab2/files_lab2_project/all_data/test_data/profiles/test_profile\", \"/Users/ila/01-Unibo/02_Lab2/files_lab2_project/all_data/test_data/dssp/test_ss.dssp\", df_R_H, df_R_E, df_R_C, df_R_count, df_all_SS)\n",
    "# make_frequency_df(RH)\n",
    "df_R_H = make_frequency_df(RH)           \n",
    "df_R_E = make_frequency_df(RE)\n",
    "df_R_C = make_frequency_df(RC)\n",
    "df_R_H"
   ]
  },
  {
   "cell_type": "code",
   "execution_count": 151,
   "metadata": {},
   "outputs": [
    {
     "data": {
      "text/html": [
       "<div>\n",
       "<style scoped>\n",
       "    .dataframe tbody tr th:only-of-type {\n",
       "        vertical-align: middle;\n",
       "    }\n",
       "\n",
       "    .dataframe tbody tr th {\n",
       "        vertical-align: top;\n",
       "    }\n",
       "\n",
       "    .dataframe thead th {\n",
       "        text-align: right;\n",
       "    }\n",
       "</style>\n",
       "<table border=\"1\" class=\"dataframe\">\n",
       "  <thead>\n",
       "    <tr style=\"text-align: right;\">\n",
       "      <th></th>\n",
       "      <th>A</th>\n",
       "      <th>R</th>\n",
       "      <th>N</th>\n",
       "      <th>D</th>\n",
       "      <th>C</th>\n",
       "      <th>Q</th>\n",
       "      <th>E</th>\n",
       "      <th>G</th>\n",
       "      <th>H</th>\n",
       "      <th>I</th>\n",
       "      <th>L</th>\n",
       "      <th>K</th>\n",
       "      <th>M</th>\n",
       "      <th>F</th>\n",
       "      <th>P</th>\n",
       "      <th>S</th>\n",
       "      <th>T</th>\n",
       "      <th>W</th>\n",
       "      <th>Y</th>\n",
       "      <th>V</th>\n",
       "    </tr>\n",
       "  </thead>\n",
       "  <tbody>\n",
       "    <tr>\n",
       "      <th>0</th>\n",
       "      <td>0.55</td>\n",
       "      <td>0.45</td>\n",
       "      <td>0.0</td>\n",
       "      <td>0.0</td>\n",
       "      <td>0.0</td>\n",
       "      <td>0.0</td>\n",
       "      <td>0.0</td>\n",
       "      <td>0.0</td>\n",
       "      <td>0.0</td>\n",
       "      <td>0.0</td>\n",
       "      <td>0.0</td>\n",
       "      <td>0.0</td>\n",
       "      <td>0.0</td>\n",
       "      <td>0.0</td>\n",
       "      <td>0.0</td>\n",
       "      <td>0.0</td>\n",
       "      <td>0.0</td>\n",
       "      <td>0.0</td>\n",
       "      <td>0.0</td>\n",
       "      <td>0.0</td>\n",
       "    </tr>\n",
       "  </tbody>\n",
       "</table>\n",
       "</div>"
      ],
      "text/plain": [
       "      A     R    N    D    C    Q    E    G    H    I    L    K    M    F  \\\n",
       "0  0.55  0.45  0.0  0.0  0.0  0.0  0.0  0.0  0.0  0.0  0.0  0.0  0.0  0.0   \n",
       "\n",
       "     P    S    T    W    Y    V  \n",
       "0  0.0  0.0  0.0  0.0  0.0  0.0  "
      ]
     },
     "execution_count": 151,
     "metadata": {},
     "output_type": "execute_result"
    }
   ],
   "source": [
    "df_R_E.loc[[0]]+profile_arr[0]"
   ]
  },
  {
   "cell_type": "markdown",
   "metadata": {},
   "source": [
    "### About the axis in np.arrays\n",
    "\n",
    "Found [here](https://www.sharpsightlabs.com/blog/numpy-axes-explained/) exerzizes [here](https://machinelearningmastery.com/numpy-axis-for-rows-and-columns/)"
   ]
  },
  {
   "cell_type": "markdown",
   "metadata": {},
   "source": [
    "When ever we need to do \n",
    "* Column wise **or**\n",
    "* Row wise\n",
    "\n",
    "operations we cant use the intuiteve row and column indexing but we have to use \n",
    "\n",
    "    axis \n",
    "    \n",
    "instead!    \n",
    "\n",
    "Operations such as the sum can be performed \n",
    "* Column wise using\n",
    "    * ```axis=0```\n",
    "* Row wise using\n",
    "    * ```axis=1```\n",
    "* Apply operation to the entire array\n",
    "    * ```axis=None```\n",
    "    \n",
    "Example:    "
   ]
  },
  {
   "cell_type": "code",
   "execution_count": 160,
   "metadata": {},
   "outputs": [],
   "source": [
    "import numpy as np"
   ]
  },
  {
   "cell_type": "code",
   "execution_count": 161,
   "metadata": {},
   "outputs": [],
   "source": [
    "#Defining data as a list of lists\n",
    "data = [[1,2,3], [4,5,6]]"
   ]
  },
  {
   "cell_type": "code",
   "execution_count": 167,
   "metadata": {},
   "outputs": [
    {
     "name": "stdout",
     "output_type": "stream",
     "text": [
      "[[1 2 3]\n",
      " [4 5 6]]\n"
     ]
    }
   ],
   "source": [
    "# Converting to np array\n",
    "data = np.asarray(data)\n",
    "print(data)"
   ]
  },
  {
   "cell_type": "code",
   "execution_count": 262,
   "metadata": {},
   "outputs": [
    {
     "name": "stdout",
     "output_type": "stream",
     "text": [
      "(2, 3)\n"
     ]
    }
   ],
   "source": [
    "# Get shape of the array = tuple\n",
    "axis = data.shape\n",
    "print(data.shape)"
   ]
  },
  {
   "cell_type": "code",
   "execution_count": 263,
   "metadata": {},
   "outputs": [
    {
     "data": {
      "text/plain": [
       "3"
      ]
     },
     "execution_count": 263,
     "metadata": {},
     "output_type": "execute_result"
    }
   ],
   "source": [
    "axis[1]"
   ]
  },
  {
   "cell_type": "markdown",
   "metadata": {},
   "source": [
    "With shape we can visualize that\n",
    "* x=0 (2) is the number of lines \n",
    "* while x=1 (3) is the number of columns"
   ]
  },
  {
   "cell_type": "code",
   "execution_count": 169,
   "metadata": {},
   "outputs": [
    {
     "data": {
      "text/plain": [
       "2"
      ]
     },
     "execution_count": 169,
     "metadata": {},
     "output_type": "execute_result"
    }
   ],
   "source": [
    "data.shape[0]"
   ]
  },
  {
   "cell_type": "code",
   "execution_count": 170,
   "metadata": {},
   "outputs": [
    {
     "data": {
      "text/plain": [
       "3"
      ]
     },
     "execution_count": 170,
     "metadata": {},
     "output_type": "execute_result"
    }
   ],
   "source": [
    "data.shape[1]"
   ]
  },
  {
   "cell_type": "markdown",
   "metadata": {},
   "source": [
    "Acessing first row and first colum:"
   ]
  },
  {
   "cell_type": "code",
   "execution_count": 174,
   "metadata": {},
   "outputs": [
    {
     "data": {
      "text/plain": [
       "1"
      ]
     },
     "execution_count": 174,
     "metadata": {},
     "output_type": "execute_result"
    }
   ],
   "source": [
    "data[0,0]"
   ]
  },
  {
   "cell_type": "markdown",
   "metadata": {},
   "source": [
    "Accessing first row and **all** columns"
   ]
  },
  {
   "cell_type": "code",
   "execution_count": 177,
   "metadata": {},
   "outputs": [
    {
     "data": {
      "text/plain": [
       "array([1, 2, 3])"
      ]
     },
     "execution_count": 177,
     "metadata": {},
     "output_type": "execute_result"
    }
   ],
   "source": [
    "data[0,:]"
   ]
  },
  {
   "cell_type": "markdown",
   "metadata": {},
   "source": [
    "### Sum of entire array:"
   ]
  },
  {
   "cell_type": "code",
   "execution_count": 179,
   "metadata": {},
   "outputs": [
    {
     "name": "stdout",
     "output_type": "stream",
     "text": [
      "[[1 2 3]\n",
      " [4 5 6]]\n"
     ]
    }
   ],
   "source": [
    "print(data)"
   ]
  },
  {
   "cell_type": "code",
   "execution_count": 181,
   "metadata": {},
   "outputs": [
    {
     "name": "stdout",
     "output_type": "stream",
     "text": [
      "21\n"
     ]
    }
   ],
   "source": [
    "result = data.sum(axis=None)\n",
    "print(result)"
   ]
  },
  {
   "cell_type": "markdown",
   "metadata": {},
   "source": [
    "### Summing data by column"
   ]
  },
  {
   "cell_type": "code",
   "execution_count": 187,
   "metadata": {},
   "outputs": [
    {
     "name": "stdout",
     "output_type": "stream",
     "text": [
      "[5 7 9]\n"
     ]
    }
   ],
   "source": [
    "col_sum = data.sum(axis=0)\n",
    "print(col_sum)"
   ]
  },
  {
   "cell_type": "code",
   "execution_count": 186,
   "metadata": {},
   "outputs": [
    {
     "name": "stdout",
     "output_type": "stream",
     "text": [
      "[5 7 9]\n"
     ]
    }
   ],
   "source": []
  },
  {
   "cell_type": "markdown",
   "metadata": {},
   "source": [
    "## Note that this doenst work"
   ]
  },
  {
   "cell_type": "code",
   "execution_count": 217,
   "metadata": {},
   "outputs": [
    {
     "name": "stdout",
     "output_type": "stream",
     "text": [
      "Shape:  (3,)\n"
     ]
    },
    {
     "ename": "ValueError",
     "evalue": "all the input arrays must have same number of dimensions",
     "output_type": "error",
     "traceback": [
      "\u001b[0;31m---------------------------------------------------------------------------\u001b[0m",
      "\u001b[0;31mValueError\u001b[0m                                Traceback (most recent call last)",
      "\u001b[0;32m<ipython-input-217-b6785eaac190>\u001b[0m in \u001b[0;36m<module>\u001b[0;34m\u001b[0m\n\u001b[1;32m      4\u001b[0m \u001b[0mprint\u001b[0m\u001b[0;34m(\u001b[0m\u001b[0;34m\"Shape: \"\u001b[0m\u001b[0;34m,\u001b[0m \u001b[0mnp\u001b[0m\u001b[0;34m.\u001b[0m\u001b[0mshape\u001b[0m\u001b[0;34m(\u001b[0m\u001b[0mtop\u001b[0m\u001b[0;34m)\u001b[0m\u001b[0;34m)\u001b[0m\u001b[0;34m\u001b[0m\u001b[0;34m\u001b[0m\u001b[0m\n\u001b[1;32m      5\u001b[0m \u001b[0;34m\u001b[0m\u001b[0m\n\u001b[0;32m----> 6\u001b[0;31m \u001b[0moverhang\u001b[0m \u001b[0;34m=\u001b[0m \u001b[0mnp\u001b[0m\u001b[0;34m.\u001b[0m\u001b[0mconcatenate\u001b[0m\u001b[0;34m(\u001b[0m\u001b[0;34m(\u001b[0m\u001b[0mtop\u001b[0m\u001b[0;34m,\u001b[0m \u001b[0mdata\u001b[0m\u001b[0;34m,\u001b[0m \u001b[0mbottom\u001b[0m\u001b[0;34m)\u001b[0m\u001b[0;34m,\u001b[0m \u001b[0maxis\u001b[0m\u001b[0;34m=\u001b[0m\u001b[0;36m0\u001b[0m\u001b[0;34m)\u001b[0m\u001b[0;34m\u001b[0m\u001b[0;34m\u001b[0m\u001b[0m\n\u001b[0m\u001b[1;32m      7\u001b[0m \u001b[0mprint\u001b[0m\u001b[0;34m(\u001b[0m\u001b[0moverhang\u001b[0m\u001b[0;34m)\u001b[0m\u001b[0;34m\u001b[0m\u001b[0;34m\u001b[0m\u001b[0m\n",
      "\u001b[0;31mValueError\u001b[0m: all the input arrays must have same number of dimensions"
     ]
    }
   ],
   "source": [
    "top = np.asarray([-1,-1,-1])\n",
    "bottom = np.asarray([1,1,1])\n",
    "\n",
    "print(\"Shape: \", np.shape(top))\n",
    "\n",
    "overhang = np.concatenate((top, data, bottom), axis=0)\n",
    "print(overhang)"
   ]
  },
  {
   "cell_type": "markdown",
   "metadata": {},
   "source": [
    "### But this works:"
   ]
  },
  {
   "cell_type": "code",
   "execution_count": 216,
   "metadata": {},
   "outputs": [
    {
     "name": "stdout",
     "output_type": "stream",
     "text": [
      "Shape:  (1, 3)\n",
      "[[-1 -1 -1]\n",
      " [ 1  2  3]\n",
      " [ 4  5  6]\n",
      " [ 1  1  1]]\n"
     ]
    }
   ],
   "source": [
    "top = np.asarray([[-1,-1,-1]])\n",
    "bottom = np.asarray([[1,1,1]])\n",
    "\n",
    "print(\"Shape: \", np.shape(top))\n",
    "\n",
    "overhang = np.concatenate((top, data, bottom), axis=0)\n",
    "print(overhang)\n"
   ]
  },
  {
   "cell_type": "markdown",
   "metadata": {},
   "source": [
    "## Add over rows"
   ]
  },
  {
   "cell_type": "code",
   "execution_count": 218,
   "metadata": {},
   "outputs": [
    {
     "data": {
      "text/plain": [
       "array([[0, 0, 0, 1, 2, 3, 1, 1, 1],\n",
       "       [0, 0, 0, 4, 5, 6, 1, 1, 1]])"
      ]
     },
     "execution_count": 218,
     "metadata": {},
     "output_type": "execute_result"
    }
   ],
   "source": [
    "single1 = np.asarray([[0,0,0], [0,0,0]])\n",
    "single2 = np.asarray([[1,1,1], [1,1,1]])\n",
    "middle = np.asarray([[2,2,2], [3,3,3], [4,4,4]])\n",
    "test1 = np.concatenate((single1,data,single2), axis=1) \n",
    "test1"
   ]
  },
  {
   "cell_type": "code",
   "execution_count": 219,
   "metadata": {},
   "outputs": [
    {
     "data": {
      "text/plain": [
       "3"
      ]
     },
     "execution_count": 219,
     "metadata": {},
     "output_type": "execute_result"
    }
   ],
   "source": [
    "7//2"
   ]
  },
  {
   "cell_type": "code",
   "execution_count": 269,
   "metadata": {},
   "outputs": [
    {
     "data": {
      "text/plain": [
       "array([['H', 38, 0],\n",
       "       ['E', 148, 0],\n",
       "       ['-', 0, 0],\n",
       "       ['TOT', 186, 0]], dtype=object)"
      ]
     },
     "execution_count": 269,
     "metadata": {},
     "output_type": "execute_result"
    }
   ],
   "source": [
    "ss_count_matrix \n"
   ]
  },
  {
   "cell_type": "code",
   "execution_count": 274,
   "metadata": {},
   "outputs": [
    {
     "data": {
      "text/plain": [
       "array([['E', 148, 0],\n",
       "       ['-', 0, 0]], dtype=object)"
      ]
     },
     "execution_count": 274,
     "metadata": {},
     "output_type": "execute_result"
    }
   ],
   "source": [
    "ss_count_matrix[1:3]"
   ]
  },
  {
   "cell_type": "code",
   "execution_count": 253,
   "metadata": {},
   "outputs": [],
   "source": [
    "def test_matrices(dssp_file,profile_file, H_matrix, E_matrix, C_matrix, aa_freq_matrix, ss_count_matrix):\n",
    "    \n",
    "\n",
    "    #open the current dssp file and obtain the ss sequence\n",
    "    dssp_opened = open(dssp_file, \"r\")\n",
    "    for line in dssp_opened:\n",
    "        if line[0] == \">\":\n",
    "            continue\n",
    "        else:\n",
    "            dssp_seq = line.rstrip()\n",
    "\n",
    "\n",
    "    #load the current sequence profile and initiate the window matrix with padding before and after the profile\n",
    "    pad = (int(w)//2)\n",
    "    padding_matrix = np.zeros((pad, 20))\n",
    "    profile_matrix = np.loadtxt(profile_file, dtype= 'float64')\n",
    "    padded_profile = np.concatenate((padding_matrix,profile_matrix,padding_matrix), axis = 0 )\n",
    "    \n",
    "#iterate over the dssp sequence and add the current window matrix to the corresponding matrices \n",
    "#     c = -1\n",
    "    \n",
    "    for i in range(len(dssp_seq)):    # len dssp_seq == number of lines in profile_file!!!\n",
    "#         c += 1            # do I need to take his indexing? No better way to do this?\n",
    "        \n",
    "#         why does he divide by 100 at every step\n",
    "        window_matrix = np.divide(padded_profile[i:(i+(window)],100)\n",
    "        \n",
    "        ss = dssp_seq[i]           \n",
    "                   \n",
    "        if ss == \"H\":\n",
    "            np.add(H_matrix, window_matrix, out = H_matrix)\n",
    "            np.add(aa_freq_matrix, window_matrix, out = aa_freq_matrix)\n",
    "            ss_count_matrix[0][1] += 1\n",
    "            ss_count_matrix[3][1] += 1\n",
    "            \n",
    "        elif ss == \"E\":\n",
    "            np.add(E_matrix, window_matrix, out = E_matrix)\n",
    "            np.add(aa_freq_matrix, window_matrix, out = aa_freq_matrix)\n",
    "            ss_count_matrix[1][1] += 1\n",
    "            ss_count_matrix[3][1] += 1\n",
    "\n",
    "        elif ss == \"-\":\n",
    "            np.add(C_matrix, window_matrix, out = C_matrix)\n",
    "            np.add(aa_freq_matrix, window_matrix, out = aa_freq_matrix)\n",
    "            ss_count_matrix[2][1] += 1\n",
    "            ss_count_matrix[3][1] += 1\n",
    "            \n",
    "        print(\"**\")\n",
    "        print(\"Here C\", c, \"Here window matrix\", window_matrix)\n",
    "\n",
    "    return()"
   ]
  },
  {
   "cell_type": "code",
   "execution_count": 228,
   "metadata": {},
   "outputs": [
    {
     "data": {
      "text/plain": [
       "'/Users/ila/01-Unibo/02_Lab2/files_lab2_project/documentation_notebooks/GOR'"
      ]
     },
     "execution_count": 228,
     "metadata": {},
     "output_type": "execute_result"
    }
   ],
   "source": [
    "pwd"
   ]
  },
  {
   "cell_type": "code",
   "execution_count": 255,
   "metadata": {},
   "outputs": [
    {
     "data": {
      "text/plain": [
       "array([0, 1, 2, 3, 4])"
      ]
     },
     "execution_count": 255,
     "metadata": {},
     "output_type": "execute_result"
    }
   ],
   "source": [
    "x = np.arange(5)\n",
    "\n",
    "x"
   ]
  },
  {
   "cell_type": "code",
   "execution_count": 256,
   "metadata": {},
   "outputs": [
    {
     "data": {
      "text/plain": [
       "array([0.  , 0.25, 0.5 , 0.75, 1.  ])"
      ]
     },
     "execution_count": 256,
     "metadata": {},
     "output_type": "execute_result"
    }
   ],
   "source": [
    "np.true_divide(x, 4)\n"
   ]
  },
  {
   "cell_type": "code",
   "execution_count": 278,
   "metadata": {},
   "outputs": [
    {
     "name": "stdout",
     "output_type": "stream",
     "text": [
      "C\n",
      "E\n",
      "E\n",
      "E\n",
      "C\n",
      "H\n",
      "H\n",
      "H\n",
      "H\n"
     ]
    }
   ],
   "source": [
    "st='CEEECHHHH'\n",
    "for i in st:\n",
    "    print(i)"
   ]
  },
  {
   "cell_type": "markdown",
   "metadata": {},
   "source": [
    "### Sum each column in array:"
   ]
  },
  {
   "cell_type": "code",
   "execution_count": 288,
   "metadata": {},
   "outputs": [
    {
     "data": {
      "text/plain": [
       "array([[0, 1, 1],\n",
       "       [1, 2, 2],\n",
       "       [2, 3, 3]])"
      ]
     },
     "execution_count": 288,
     "metadata": {},
     "output_type": "execute_result"
    }
   ],
   "source": [
    "my_arr = np.asarray([[0,1,1],[1,2,2],[2,3,3]])\n",
    "my_arr"
   ]
  },
  {
   "cell_type": "code",
   "execution_count": 289,
   "metadata": {},
   "outputs": [
    {
     "name": "stdout",
     "output_type": "stream",
     "text": [
      "[3 6 6]\n"
     ]
    }
   ],
   "source": [
    "print(np.sum(my_arr, axis=0))"
   ]
  },
  {
   "cell_type": "markdown",
   "metadata": {},
   "source": [
    "### Sum each row in array"
   ]
  },
  {
   "cell_type": "code",
   "execution_count": 290,
   "metadata": {},
   "outputs": [
    {
     "name": "stdout",
     "output_type": "stream",
     "text": [
      "[2 5 8]\n"
     ]
    }
   ],
   "source": [
    "print(np.sum(my_arr, axis=1))"
   ]
  },
  {
   "cell_type": "code",
   "execution_count": 296,
   "metadata": {},
   "outputs": [
    {
     "name": "stdout",
     "output_type": "stream",
     "text": [
      "[1.   1.   1.   1.   1.   1.   1.   1.   1.   1.   1.   1.   1.   1.\n",
      " 1.   1.   1.   1.   1.   1.   1.   1.   1.   1.   0.99 1.   1.   1.\n",
      " 1.   1.   1.   1.   1.   1.   1.   1.   1.   1.   1.   1.   1.   1.\n",
      " 1.01 1.   1.   1.   1.   1.   1.   1.   1.   1.   1.   1.   1.   1.\n",
      " 1.   1.   1.   1.   1.   1.   1.   1.   1.   1.   1.   1.   1.   1.\n",
      " 1.   1.   1.   1.   1.   1.   1.   1.   1.   1.   1.   1.   1.   1.\n",
      " 1.   1.   1.   1.   1.   1.   1.   1.   1.   1.   1.   1.   1.   1.\n",
      " 1.   1.   1.   1.   1.   1.   1.   1.   1.   1.   1.  ]\n"
     ]
    }
   ],
   "source": [
    "# with open(\"/Users/ila/01-Unibo/02_Lab2/files_lab2_project/all_data/blindset/seqprofile_blind/4ywn.profile\") as profile:\n",
    "profile1 = np.loadtxt('/Users/ila/01-Unibo/02_Lab2/files_lab2_project/all_data/trainingset/seqprofile_training/d1dcea2.profile', dtype=np.float64)    \n",
    "print(np.sum(profile1, axis=1))"
   ]
  },
  {
   "cell_type": "code",
   "execution_count": 305,
   "metadata": {},
   "outputs": [
    {
     "data": {
      "text/html": [
       "<div>\n",
       "<style scoped>\n",
       "    .dataframe tbody tr th:only-of-type {\n",
       "        vertical-align: middle;\n",
       "    }\n",
       "\n",
       "    .dataframe tbody tr th {\n",
       "        vertical-align: top;\n",
       "    }\n",
       "\n",
       "    .dataframe thead th {\n",
       "        text-align: right;\n",
       "    }\n",
       "</style>\n",
       "<table border=\"1\" class=\"dataframe\">\n",
       "  <thead>\n",
       "    <tr style=\"text-align: right;\">\n",
       "      <th></th>\n",
       "      <th>0</th>\n",
       "      <th>1</th>\n",
       "      <th>2</th>\n",
       "      <th>3</th>\n",
       "      <th>4</th>\n",
       "      <th>5</th>\n",
       "      <th>6</th>\n",
       "      <th>7</th>\n",
       "      <th>8</th>\n",
       "      <th>9</th>\n",
       "      <th>10</th>\n",
       "      <th>11</th>\n",
       "      <th>12</th>\n",
       "      <th>13</th>\n",
       "      <th>14</th>\n",
       "      <th>15</th>\n",
       "      <th>16</th>\n",
       "      <th>17</th>\n",
       "      <th>18</th>\n",
       "      <th>19</th>\n",
       "    </tr>\n",
       "  </thead>\n",
       "  <tbody>\n",
       "    <tr>\n",
       "      <th>0</th>\n",
       "      <td>0.0</td>\n",
       "      <td>0.0</td>\n",
       "      <td>0.0</td>\n",
       "      <td>0.0</td>\n",
       "      <td>0.0</td>\n",
       "      <td>0.0</td>\n",
       "      <td>0.0</td>\n",
       "      <td>0.0</td>\n",
       "      <td>0.0</td>\n",
       "      <td>0.0</td>\n",
       "      <td>0.0</td>\n",
       "      <td>0.0</td>\n",
       "      <td>0.0</td>\n",
       "      <td>0.0</td>\n",
       "      <td>0.0</td>\n",
       "      <td>0.0</td>\n",
       "      <td>0.0</td>\n",
       "      <td>0.0</td>\n",
       "      <td>0.0</td>\n",
       "      <td>0.0</td>\n",
       "    </tr>\n",
       "    <tr>\n",
       "      <th>1</th>\n",
       "      <td>0.0</td>\n",
       "      <td>0.0</td>\n",
       "      <td>0.0</td>\n",
       "      <td>0.0</td>\n",
       "      <td>0.0</td>\n",
       "      <td>0.0</td>\n",
       "      <td>0.0</td>\n",
       "      <td>0.0</td>\n",
       "      <td>0.0</td>\n",
       "      <td>0.0</td>\n",
       "      <td>0.0</td>\n",
       "      <td>0.0</td>\n",
       "      <td>0.0</td>\n",
       "      <td>0.0</td>\n",
       "      <td>0.0</td>\n",
       "      <td>0.0</td>\n",
       "      <td>0.0</td>\n",
       "      <td>0.0</td>\n",
       "      <td>0.0</td>\n",
       "      <td>0.0</td>\n",
       "    </tr>\n",
       "    <tr>\n",
       "      <th>2</th>\n",
       "      <td>0.0</td>\n",
       "      <td>0.0</td>\n",
       "      <td>0.0</td>\n",
       "      <td>0.0</td>\n",
       "      <td>0.0</td>\n",
       "      <td>0.0</td>\n",
       "      <td>0.0</td>\n",
       "      <td>0.0</td>\n",
       "      <td>0.0</td>\n",
       "      <td>0.0</td>\n",
       "      <td>0.0</td>\n",
       "      <td>0.0</td>\n",
       "      <td>0.0</td>\n",
       "      <td>0.0</td>\n",
       "      <td>0.0</td>\n",
       "      <td>0.0</td>\n",
       "      <td>0.0</td>\n",
       "      <td>0.0</td>\n",
       "      <td>0.0</td>\n",
       "      <td>0.0</td>\n",
       "    </tr>\n",
       "  </tbody>\n",
       "</table>\n",
       "</div>"
      ],
      "text/plain": [
       "     0    1    2    3    4    5    6    7    8    9   10   11   12   13   14  \\\n",
       "0  0.0  0.0  0.0  0.0  0.0  0.0  0.0  0.0  0.0  0.0  0.0  0.0  0.0  0.0  0.0   \n",
       "1  0.0  0.0  0.0  0.0  0.0  0.0  0.0  0.0  0.0  0.0  0.0  0.0  0.0  0.0  0.0   \n",
       "2  0.0  0.0  0.0  0.0  0.0  0.0  0.0  0.0  0.0  0.0  0.0  0.0  0.0  0.0  0.0   \n",
       "\n",
       "    15   16   17   18   19  \n",
       "0  0.0  0.0  0.0  0.0  0.0  \n",
       "1  0.0  0.0  0.0  0.0  0.0  \n",
       "2  0.0  0.0  0.0  0.0  0.0  "
      ]
     },
     "execution_count": 305,
     "metadata": {},
     "output_type": "execute_result"
    }
   ],
   "source": [
    "import pandas as pd\n",
    "\n",
    "\n",
    "total_R = np.zeros((3, 20))\n",
    "total_Rdf = pd.DataFrame(data = total_R) # index=row_names\n",
    "total_Rdf"
   ]
  },
  {
   "cell_type": "code",
   "execution_count": null,
   "metadata": {},
   "outputs": [],
   "source": [
    "cur_window_arr = np.ones((3,20))\n",
    "cur_window_arr"
   ]
  },
  {
   "cell_type": "code",
   "execution_count": 303,
   "metadata": {},
   "outputs": [
    {
     "data": {
      "text/plain": [
       "(3, 20)"
      ]
     },
     "execution_count": 303,
     "metadata": {},
     "output_type": "execute_result"
    }
   ],
   "source": [
    "total_R.shape"
   ]
  },
  {
   "cell_type": "code",
   "execution_count": 309,
   "metadata": {},
   "outputs": [
    {
     "data": {
      "text/html": [
       "<div>\n",
       "<style scoped>\n",
       "    .dataframe tbody tr th:only-of-type {\n",
       "        vertical-align: middle;\n",
       "    }\n",
       "\n",
       "    .dataframe tbody tr th {\n",
       "        vertical-align: top;\n",
       "    }\n",
       "\n",
       "    .dataframe thead th {\n",
       "        text-align: right;\n",
       "    }\n",
       "</style>\n",
       "<table border=\"1\" class=\"dataframe\">\n",
       "  <thead>\n",
       "    <tr style=\"text-align: right;\">\n",
       "      <th></th>\n",
       "      <th>0</th>\n",
       "      <th>1</th>\n",
       "      <th>2</th>\n",
       "      <th>3</th>\n",
       "      <th>4</th>\n",
       "      <th>5</th>\n",
       "      <th>6</th>\n",
       "      <th>7</th>\n",
       "      <th>8</th>\n",
       "      <th>9</th>\n",
       "      <th>10</th>\n",
       "      <th>11</th>\n",
       "      <th>12</th>\n",
       "      <th>13</th>\n",
       "      <th>14</th>\n",
       "      <th>15</th>\n",
       "      <th>16</th>\n",
       "      <th>17</th>\n",
       "      <th>18</th>\n",
       "      <th>19</th>\n",
       "    </tr>\n",
       "  </thead>\n",
       "  <tbody>\n",
       "    <tr>\n",
       "      <th>0</th>\n",
       "      <td>4.0</td>\n",
       "      <td>4.0</td>\n",
       "      <td>4.0</td>\n",
       "      <td>4.0</td>\n",
       "      <td>4.0</td>\n",
       "      <td>4.0</td>\n",
       "      <td>4.0</td>\n",
       "      <td>4.0</td>\n",
       "      <td>4.0</td>\n",
       "      <td>4.0</td>\n",
       "      <td>4.0</td>\n",
       "      <td>4.0</td>\n",
       "      <td>4.0</td>\n",
       "      <td>4.0</td>\n",
       "      <td>4.0</td>\n",
       "      <td>4.0</td>\n",
       "      <td>4.0</td>\n",
       "      <td>4.0</td>\n",
       "      <td>4.0</td>\n",
       "      <td>4.0</td>\n",
       "    </tr>\n",
       "    <tr>\n",
       "      <th>1</th>\n",
       "      <td>4.0</td>\n",
       "      <td>4.0</td>\n",
       "      <td>4.0</td>\n",
       "      <td>4.0</td>\n",
       "      <td>4.0</td>\n",
       "      <td>4.0</td>\n",
       "      <td>4.0</td>\n",
       "      <td>4.0</td>\n",
       "      <td>4.0</td>\n",
       "      <td>4.0</td>\n",
       "      <td>4.0</td>\n",
       "      <td>4.0</td>\n",
       "      <td>4.0</td>\n",
       "      <td>4.0</td>\n",
       "      <td>4.0</td>\n",
       "      <td>4.0</td>\n",
       "      <td>4.0</td>\n",
       "      <td>4.0</td>\n",
       "      <td>4.0</td>\n",
       "      <td>4.0</td>\n",
       "    </tr>\n",
       "    <tr>\n",
       "      <th>2</th>\n",
       "      <td>4.0</td>\n",
       "      <td>4.0</td>\n",
       "      <td>4.0</td>\n",
       "      <td>4.0</td>\n",
       "      <td>4.0</td>\n",
       "      <td>4.0</td>\n",
       "      <td>4.0</td>\n",
       "      <td>4.0</td>\n",
       "      <td>4.0</td>\n",
       "      <td>4.0</td>\n",
       "      <td>4.0</td>\n",
       "      <td>4.0</td>\n",
       "      <td>4.0</td>\n",
       "      <td>4.0</td>\n",
       "      <td>4.0</td>\n",
       "      <td>4.0</td>\n",
       "      <td>4.0</td>\n",
       "      <td>4.0</td>\n",
       "      <td>4.0</td>\n",
       "      <td>4.0</td>\n",
       "    </tr>\n",
       "  </tbody>\n",
       "</table>\n",
       "</div>"
      ],
      "text/plain": [
       "     0    1    2    3    4    5    6    7    8    9   10   11   12   13   14  \\\n",
       "0  4.0  4.0  4.0  4.0  4.0  4.0  4.0  4.0  4.0  4.0  4.0  4.0  4.0  4.0  4.0   \n",
       "1  4.0  4.0  4.0  4.0  4.0  4.0  4.0  4.0  4.0  4.0  4.0  4.0  4.0  4.0  4.0   \n",
       "2  4.0  4.0  4.0  4.0  4.0  4.0  4.0  4.0  4.0  4.0  4.0  4.0  4.0  4.0  4.0   \n",
       "\n",
       "    15   16   17   18   19  \n",
       "0  4.0  4.0  4.0  4.0  4.0  \n",
       "1  4.0  4.0  4.0  4.0  4.0  \n",
       "2  4.0  4.0  4.0  4.0  4.0  "
      ]
     },
     "execution_count": 309,
     "metadata": {},
     "output_type": "execute_result"
    }
   ],
   "source": [
    "total_Rdf += cur_window_arr \n",
    "total_Rdf"
   ]
  },
  {
   "cell_type": "code",
   "execution_count": 327,
   "metadata": {},
   "outputs": [
    {
     "data": {
      "text/plain": [
       "'/Users/ila/01-Unibo/02_Lab2/files_lab2_project/documentation_notebooks/GOR'"
      ]
     },
     "execution_count": 327,
     "metadata": {},
     "output_type": "execute_result"
    }
   ],
   "source": [
    "pwd"
   ]
  },
  {
   "cell_type": "markdown",
   "metadata": {},
   "source": [
    "# Testing GOR Training Script on Minimal Example:\n",
    "\n",
    "Used first 4 columns of 4ywn files (dssp and profile)\n",
    "Note that the matrix contains zerovalues in all columns following col 4!\n",
    "\n",
    "I manually calculated the algo on a piece of paper.\n",
    "\n",
    "The input files looked as follows:"
   ]
  },
  {
   "cell_type": "code",
   "execution_count": 325,
   "metadata": {},
   "outputs": [
    {
     "name": "stdout",
     "output_type": "stream",
     "text": [
      ">4ywn_A\n",
      "CEEECHHHH"
     ]
    }
   ],
   "source": [
    "!cat /Users/ila/01-Unibo/02_Lab2/files_lab2_project/all_data/test_data/tiny_test/d/tiny4ywn.dssp"
   ]
  },
  {
   "cell_type": "code",
   "execution_count": 326,
   "metadata": {},
   "outputs": [
    {
     "name": "stdout",
     "output_type": "stream",
     "text": [
      "0.0\t0.0\t0.0\t0.0\t0.0\t0.0\t0.0\t0.0\t0.0\t0.0\t0.0\t0.0\t0.0\t0.0\t0.0\t0.0\t0.0\t0.0\t0.0\t0.0\n",
      "0.06\t0.0\t0.0\t0.5 \t0.0\t0.0\t0.0\t0.0\t0.0\t0.0\t0.0\t0.0\t0.0\t0.0\t0.0\t0.0\t0.0\t0.0\t0.0\t0.0\n",
      "0.24\t0.08\t0.0\t0.0 \t0.0\t0.0\t0.0\t0.0\t0.0\t0.0\t0.0\t0.0\t0.0\t0.0\t0.0\t0.0\t0.0\t0.0\t0.0\t0.0\n",
      "0.15\t0.07\t0.0\t0.03\t0.0\t0.0\t0.0\t0.0\t0.0\t0.0\t0.0\t0.0\t0.0\t0.0\t0.0\t0.0\t0.0\t0.0\t0.0\t0.0\n",
      "0.25\t0.02\t0.03\t0.22\t0.0\t0.0\t0.0\t0.0\t0.0\t0.0\t0.0\t0.0\t0.0\t0.0\t0.0\t0.0\t0.0\t0.0\t0.0\t0.0\n",
      "0.0\t0.0\t0.0\t0.0 \t0.0\t0.0\t0.0\t0.0\t0.0\t0.0\t0.0\t0.0\t0.0\t0.0\t0.0\t0.0\t0.0\t0.0\t0.0\t0.0\n",
      "0.0\t0.72\t0.02\t0.03\t0.0\t0.0\t0.0\t0.0\t0.0\t0.0\t0.0\t0.0\t0.0\t0.0\t0.0\t0.0\t0.0\t0.0\t0.0\t0.0\n",
      "0.05\t0.04\t0.08\t0.28\t0.0\t0.0\t0.0\t0.0\t0.0\t0.0\t0.0\t0.0\t0.0\t0.0\t0.0\t0.0\t0.0\t0.0\t0.0\t0.0\n",
      "0.79\t0.0\t0.0\t0.0 \t0.0\t0.0\t0.0\t0.0\t0.0\t0.0\t0.0\t0.0\t0.0\t0.0\t0.0\t0.0\t0.0\t0.0\t0.0\t0.0\n"
     ]
    }
   ],
   "source": [
    "!cat /Users/ila/01-Unibo/02_Lab2/files_lab2_project/all_data/test_data/tiny_test/p/tiny4ywn.profile"
   ]
  },
  {
   "cell_type": "markdown",
   "metadata": {},
   "source": [
    "## Manual Model for Comparisson:\n",
    "\n",
    "I transferred the computation to an excel sheet as it looks tidyier:\n",
    "\n",
    "![manual GOR](imgs/sheet.png)\n",
    "\n",
    "Sheet is [here](https://docs.google.com/spreadsheets/d/1wA5H5ZJFLEsr6_o92mE6oa1UeGyt0lNIjqa28POvPgE/edit?usp=sharing)"
   ]
  },
  {
   "cell_type": "markdown",
   "metadata": {},
   "source": [
    "## Output of Testrun:\n",
    "\n",
    "shown below\n",
    "\n",
    "Note that only columns A R N and D are non-zero!\n",
    "\n",
    "Tiny test successful!"
   ]
  },
  {
   "cell_type": "code",
   "execution_count": 96,
   "metadata": {},
   "outputs": [
    {
     "name": "stdout",
     "output_type": "stream",
     "text": [
      "\n",
      "\n",
      "R_H\n",
      "          A         R         N         D    C    Q    E    G    H    I    L    K    M    F    P    S    T    W    Y    V\n",
      "0  0.033333  0.086667  0.014444  0.058889  0.0  0.0  0.0  0.0  0.0  0.0  0.0  0.0  0.0  0.0  0.0  0.0  0.0  0.0  0.0  0.0\n",
      "1  0.093333  0.084444  0.011111  0.034444  0.0  0.0  0.0  0.0  0.0  0.0  0.0  0.0  0.0  0.0  0.0  0.0  0.0  0.0  0.0  0.0\n",
      "2  0.093333  0.084444  0.011111  0.034444  0.0  0.0  0.0  0.0  0.0  0.0  0.0  0.0  0.0  0.0  0.0  0.0  0.0  0.0  0.0  0.0\n",
      "\n",
      "\n",
      "R_E\n",
      "          A         R         N         D    C    Q    E    G    H    I    L    K    M    F    P    S    T    W    Y    V\n",
      "0  0.033333  0.008889  0.000000  0.055556  0.0  0.0  0.0  0.0  0.0  0.0  0.0  0.0  0.0  0.0  0.0  0.0  0.0  0.0  0.0  0.0\n",
      "1  0.050000  0.016667  0.000000  0.058889  0.0  0.0  0.0  0.0  0.0  0.0  0.0  0.0  0.0  0.0  0.0  0.0  0.0  0.0  0.0  0.0\n",
      "2  0.071111  0.018889  0.003333  0.027778  0.0  0.0  0.0  0.0  0.0  0.0  0.0  0.0  0.0  0.0  0.0  0.0  0.0  0.0  0.0  0.0\n",
      "\n",
      "\n",
      "R_C\n",
      "          A         R         N         D    C    Q    E    G    H    I    L    K    M    F    P    S    T    W    Y    V\n",
      "0  0.016667  0.007778  0.000000  0.003333  0.0  0.0  0.0  0.0  0.0  0.0  0.0  0.0  0.0  0.0  0.0  0.0  0.0  0.0  0.0  0.0\n",
      "1  0.027778  0.002222  0.003333  0.024444  0.0  0.0  0.0  0.0  0.0  0.0  0.0  0.0  0.0  0.0  0.0  0.0  0.0  0.0  0.0  0.0\n",
      "2  0.006667  0.000000  0.000000  0.055556  0.0  0.0  0.0  0.0  0.0  0.0  0.0  0.0  0.0  0.0  0.0  0.0  0.0  0.0  0.0  0.0\n",
      "\n",
      "\n",
      "Marginal probablilities of residues\n",
      "          A         R         N         D    C    Q    E    G    H    I    L    K    M    F    P    S    T    W    Y    V\n",
      "0  0.083333  0.103333  0.014444  0.117778  0.0  0.0  0.0  0.0  0.0  0.0  0.0  0.0  0.0  0.0  0.0  0.0  0.0  0.0  0.0  0.0\n",
      "1  0.171111  0.103333  0.014444  0.117778  0.0  0.0  0.0  0.0  0.0  0.0  0.0  0.0  0.0  0.0  0.0  0.0  0.0  0.0  0.0  0.0\n",
      "2  0.171111  0.103333  0.014444  0.117778  0.0  0.0  0.0  0.0  0.0  0.0  0.0  0.0  0.0  0.0  0.0  0.0  0.0  0.0  0.0  0.0\n",
      "\n",
      "\n",
      "Marginal probability of conformations\n",
      "           H         E         C  tot\n",
      "#S  0.444444  0.333333  0.222222  1.0\n",
      "\n",
      "\n",
      "--- 0.12629485130310059 seconds ---\n"
     ]
    }
   ],
   "source": [
    "\n",
    "!/Users/ila/01-Unibo/02_Lab2/files_lab2_project/scripts/gor_training.py -s='/Users/ila/01-Unibo/02_Lab2/files_lab2_project/all_data/test_data/tiny_test/d' -p='/Users/ila/01-Unibo/02_Lab2/files_lab2_project/all_data/test_data/tiny_test/p' -w=3\n"
   ]
  },
  {
   "cell_type": "markdown",
   "metadata": {},
   "source": [
    "### Created 5 csvs holding each DF"
   ]
  },
  {
   "cell_type": "code",
   "execution_count": 97,
   "metadata": {},
   "outputs": [
    {
     "name": "stdout",
     "output_type": "stream",
     "text": [
      "Steps_GOR_method.ipynb           gor_training_output_SS.csv\n",
      "gor_training_out_C.csv           \u001b[1m\u001b[34mimgs\u001b[m\u001b[m\n",
      "gor_training_out_E.csv           sequprofile_list\n",
      "gor_training_out_H.csv           unnamed0.csv\n",
      "gor_training_out_marg_prob_R.csv\n"
     ]
    }
   ],
   "source": [
    "!ls"
   ]
  },
  {
   "cell_type": "code",
   "execution_count": 2,
   "metadata": {},
   "outputs": [],
   "source": [
    "import pandas as pd\n",
    "pd.set_option('display.max_rows', None)\n",
    "pd.set_option('display.max_columns', None)\n",
    "pd.set_option('display.width', None)\n",
    "pd.set_option('display.max_colwidth', None)\n",
    "\n",
    "df_H = pd.read_csv('gor_training_out_H.csv', index_col=[0]) # index_col indicates that first column is the index\n",
    "df_E = pd.read_csv('gor_training_out_E.csv', index_col=[0])\n",
    "df_C = pd.read_csv('gor_training_out_C.csv', index_col=[0])\n",
    "df_marg_p_R = pd.read_csv('gor_training_out_marg_prob_R.csv', index_col=[0])\n",
    "\n",
    "SS_df = pd.read_csv('gor_training_output_SS.csv', index_col=[0])\n"
   ]
  },
  {
   "cell_type": "code",
   "execution_count": 5,
   "metadata": {},
   "outputs": [],
   "source": [
    "import numpy as np"
   ]
  },
  {
   "cell_type": "code",
   "execution_count": 30,
   "metadata": {},
   "outputs": [
    {
     "data": {
      "text/html": [
       "<div>\n",
       "<style scoped>\n",
       "    .dataframe tbody tr th:only-of-type {\n",
       "        vertical-align: middle;\n",
       "    }\n",
       "\n",
       "    .dataframe tbody tr th {\n",
       "        vertical-align: top;\n",
       "    }\n",
       "\n",
       "    .dataframe thead th {\n",
       "        text-align: right;\n",
       "    }\n",
       "</style>\n",
       "<table border=\"1\" class=\"dataframe\">\n",
       "  <thead>\n",
       "    <tr style=\"text-align: right;\">\n",
       "      <th></th>\n",
       "      <th>A</th>\n",
       "      <th>R</th>\n",
       "      <th>N</th>\n",
       "      <th>D</th>\n",
       "      <th>C</th>\n",
       "      <th>Q</th>\n",
       "      <th>E</th>\n",
       "      <th>G</th>\n",
       "      <th>H</th>\n",
       "      <th>I</th>\n",
       "      <th>L</th>\n",
       "      <th>K</th>\n",
       "      <th>M</th>\n",
       "      <th>F</th>\n",
       "      <th>P</th>\n",
       "      <th>S</th>\n",
       "      <th>T</th>\n",
       "      <th>W</th>\n",
       "      <th>Y</th>\n",
       "      <th>V</th>\n",
       "    </tr>\n",
       "  </thead>\n",
       "  <tbody>\n",
       "    <tr>\n",
       "      <th>0</th>\n",
       "      <td>0.033333</td>\n",
       "      <td>0.008889</td>\n",
       "      <td>0.000000</td>\n",
       "      <td>0.055556</td>\n",
       "      <td>0.0</td>\n",
       "      <td>0.0</td>\n",
       "      <td>0.0</td>\n",
       "      <td>0.0</td>\n",
       "      <td>0.0</td>\n",
       "      <td>0.0</td>\n",
       "      <td>0.0</td>\n",
       "      <td>0.0</td>\n",
       "      <td>0.0</td>\n",
       "      <td>0.0</td>\n",
       "      <td>0.0</td>\n",
       "      <td>0.0</td>\n",
       "      <td>0.0</td>\n",
       "      <td>0.0</td>\n",
       "      <td>0.0</td>\n",
       "      <td>0.0</td>\n",
       "    </tr>\n",
       "    <tr>\n",
       "      <th>1</th>\n",
       "      <td>0.050000</td>\n",
       "      <td>0.016667</td>\n",
       "      <td>0.000000</td>\n",
       "      <td>0.058889</td>\n",
       "      <td>0.0</td>\n",
       "      <td>0.0</td>\n",
       "      <td>0.0</td>\n",
       "      <td>0.0</td>\n",
       "      <td>0.0</td>\n",
       "      <td>0.0</td>\n",
       "      <td>0.0</td>\n",
       "      <td>0.0</td>\n",
       "      <td>0.0</td>\n",
       "      <td>0.0</td>\n",
       "      <td>0.0</td>\n",
       "      <td>0.0</td>\n",
       "      <td>0.0</td>\n",
       "      <td>0.0</td>\n",
       "      <td>0.0</td>\n",
       "      <td>0.0</td>\n",
       "    </tr>\n",
       "    <tr>\n",
       "      <th>2</th>\n",
       "      <td>0.071111</td>\n",
       "      <td>0.018889</td>\n",
       "      <td>0.003333</td>\n",
       "      <td>0.027778</td>\n",
       "      <td>0.0</td>\n",
       "      <td>0.0</td>\n",
       "      <td>0.0</td>\n",
       "      <td>0.0</td>\n",
       "      <td>0.0</td>\n",
       "      <td>0.0</td>\n",
       "      <td>0.0</td>\n",
       "      <td>0.0</td>\n",
       "      <td>0.0</td>\n",
       "      <td>0.0</td>\n",
       "      <td>0.0</td>\n",
       "      <td>0.0</td>\n",
       "      <td>0.0</td>\n",
       "      <td>0.0</td>\n",
       "      <td>0.0</td>\n",
       "      <td>0.0</td>\n",
       "    </tr>\n",
       "  </tbody>\n",
       "</table>\n",
       "</div>"
      ],
      "text/plain": [
       "          A         R         N         D    C    Q    E    G    H    I    L  \\\n",
       "0  0.033333  0.008889  0.000000  0.055556  0.0  0.0  0.0  0.0  0.0  0.0  0.0   \n",
       "1  0.050000  0.016667  0.000000  0.058889  0.0  0.0  0.0  0.0  0.0  0.0  0.0   \n",
       "2  0.071111  0.018889  0.003333  0.027778  0.0  0.0  0.0  0.0  0.0  0.0  0.0   \n",
       "\n",
       "     K    M    F    P    S    T    W    Y    V  \n",
       "0  0.0  0.0  0.0  0.0  0.0  0.0  0.0  0.0  0.0  \n",
       "1  0.0  0.0  0.0  0.0  0.0  0.0  0.0  0.0  0.0  \n",
       "2  0.0  0.0  0.0  0.0  0.0  0.0  0.0  0.0  0.0  "
      ]
     },
     "execution_count": 30,
     "metadata": {},
     "output_type": "execute_result"
    }
   ],
   "source": [
    "df_E"
   ]
  },
  {
   "cell_type": "code",
   "execution_count": 64,
   "metadata": {},
   "outputs": [
    {
     "data": {
      "text/html": [
       "<div>\n",
       "<style scoped>\n",
       "    .dataframe tbody tr th:only-of-type {\n",
       "        vertical-align: middle;\n",
       "    }\n",
       "\n",
       "    .dataframe tbody tr th {\n",
       "        vertical-align: top;\n",
       "    }\n",
       "\n",
       "    .dataframe thead th {\n",
       "        text-align: right;\n",
       "    }\n",
       "</style>\n",
       "<table border=\"1\" class=\"dataframe\">\n",
       "  <thead>\n",
       "    <tr style=\"text-align: right;\">\n",
       "      <th></th>\n",
       "      <th>H</th>\n",
       "      <th>E</th>\n",
       "      <th>C</th>\n",
       "      <th>tot</th>\n",
       "    </tr>\n",
       "  </thead>\n",
       "  <tbody>\n",
       "    <tr>\n",
       "      <th>#S</th>\n",
       "      <td>0.444444</td>\n",
       "      <td>0.333333</td>\n",
       "      <td>0.222222</td>\n",
       "      <td>1.0</td>\n",
       "    </tr>\n",
       "  </tbody>\n",
       "</table>\n",
       "</div>"
      ],
      "text/plain": [
       "           H         E         C  tot\n",
       "#S  0.444444  0.333333  0.222222  1.0"
      ]
     },
     "execution_count": 64,
     "metadata": {},
     "output_type": "execute_result"
    }
   ],
   "source": [
    "SS_df"
   ]
  },
  {
   "cell_type": "code",
   "execution_count": 63,
   "metadata": {},
   "outputs": [
    {
     "data": {
      "text/plain": [
       "0.34444444444444444"
      ]
     },
     "execution_count": 63,
     "metadata": {},
     "output_type": "execute_result"
    }
   ],
   "source": [
    "df_E.values.sum()"
   ]
  },
  {
   "cell_type": "code",
   "execution_count": 61,
   "metadata": {},
   "outputs": [
    {
     "data": {
      "text/plain": [
       "-0.7194644888773187"
      ]
     },
     "execution_count": 61,
     "metadata": {},
     "output_type": "execute_result"
    }
   ],
   "source": [
    "n=np.log(0.3)\n",
    "m=np.log(0.44)\n",
    "o=np.log(1.4)\n",
    "\n",
    "alles = n-(m+o)\n",
    "alles"
   ]
  },
  {
   "cell_type": "code",
   "execution_count": 85,
   "metadata": {},
   "outputs": [
    {
     "data": {
      "text/plain": [
       "array([[0., 0., 0.],\n",
       "       [0., 0., 0.]])"
      ]
     },
     "execution_count": 85,
     "metadata": {},
     "output_type": "execute_result"
    }
   ],
   "source": [
    "arr1 = np.zeros((2,3))\n",
    "arr1\n"
   ]
  },
  {
   "cell_type": "code",
   "execution_count": 98,
   "metadata": {},
   "outputs": [
    {
     "data": {
      "text/html": [
       "<div>\n",
       "<style scoped>\n",
       "    .dataframe tbody tr th:only-of-type {\n",
       "        vertical-align: middle;\n",
       "    }\n",
       "\n",
       "    .dataframe tbody tr th {\n",
       "        vertical-align: top;\n",
       "    }\n",
       "\n",
       "    .dataframe thead th {\n",
       "        text-align: right;\n",
       "    }\n",
       "</style>\n",
       "<table border=\"1\" class=\"dataframe\">\n",
       "  <thead>\n",
       "    <tr style=\"text-align: right;\">\n",
       "      <th></th>\n",
       "      <th>A</th>\n",
       "      <th>R</th>\n",
       "      <th>N</th>\n",
       "      <th>D</th>\n",
       "      <th>C</th>\n",
       "      <th>Q</th>\n",
       "      <th>E</th>\n",
       "      <th>G</th>\n",
       "      <th>H</th>\n",
       "      <th>I</th>\n",
       "      <th>L</th>\n",
       "      <th>K</th>\n",
       "      <th>M</th>\n",
       "      <th>F</th>\n",
       "      <th>P</th>\n",
       "      <th>S</th>\n",
       "      <th>T</th>\n",
       "      <th>W</th>\n",
       "      <th>Y</th>\n",
       "      <th>V</th>\n",
       "    </tr>\n",
       "  </thead>\n",
       "  <tbody>\n",
       "    <tr>\n",
       "      <th>0</th>\n",
       "      <td>0.003019</td>\n",
       "      <td>0.037182</td>\n",
       "      <td>0.002746</td>\n",
       "      <td>0.057375</td>\n",
       "      <td>0.0</td>\n",
       "      <td>0.0</td>\n",
       "      <td>0.0</td>\n",
       "      <td>0.0</td>\n",
       "      <td>0.0</td>\n",
       "      <td>0.0</td>\n",
       "      <td>0.0</td>\n",
       "      <td>0.0</td>\n",
       "      <td>0.0</td>\n",
       "      <td>0.0</td>\n",
       "      <td>0.0</td>\n",
       "      <td>0.0</td>\n",
       "      <td>0.0</td>\n",
       "      <td>0.0</td>\n",
       "      <td>0.0</td>\n",
       "      <td>0.0</td>\n",
       "    </tr>\n",
       "    <tr>\n",
       "      <th>1</th>\n",
       "      <td>0.029333</td>\n",
       "      <td>0.010193</td>\n",
       "      <td>0.006056</td>\n",
       "      <td>0.031042</td>\n",
       "      <td>0.0</td>\n",
       "      <td>0.0</td>\n",
       "      <td>0.0</td>\n",
       "      <td>0.0</td>\n",
       "      <td>0.0</td>\n",
       "      <td>0.0</td>\n",
       "      <td>0.0</td>\n",
       "      <td>0.0</td>\n",
       "      <td>0.0</td>\n",
       "      <td>0.0</td>\n",
       "      <td>0.0</td>\n",
       "      <td>0.0</td>\n",
       "      <td>0.0</td>\n",
       "      <td>0.0</td>\n",
       "      <td>0.0</td>\n",
       "      <td>0.0</td>\n",
       "    </tr>\n",
       "    <tr>\n",
       "      <th>2</th>\n",
       "      <td>0.033679</td>\n",
       "      <td>0.012564</td>\n",
       "      <td>0.009638</td>\n",
       "      <td>0.012117</td>\n",
       "      <td>0.0</td>\n",
       "      <td>0.0</td>\n",
       "      <td>0.0</td>\n",
       "      <td>0.0</td>\n",
       "      <td>0.0</td>\n",
       "      <td>0.0</td>\n",
       "      <td>0.0</td>\n",
       "      <td>0.0</td>\n",
       "      <td>0.0</td>\n",
       "      <td>0.0</td>\n",
       "      <td>0.0</td>\n",
       "      <td>0.0</td>\n",
       "      <td>0.0</td>\n",
       "      <td>0.0</td>\n",
       "      <td>0.0</td>\n",
       "      <td>0.0</td>\n",
       "    </tr>\n",
       "  </tbody>\n",
       "</table>\n",
       "</div>"
      ],
      "text/plain": [
       "          A         R         N         D    C    Q    E    G    H    I    L  \\\n",
       "0  0.003019  0.037182  0.002746  0.057375  0.0  0.0  0.0  0.0  0.0  0.0  0.0   \n",
       "1  0.029333  0.010193  0.006056  0.031042  0.0  0.0  0.0  0.0  0.0  0.0  0.0   \n",
       "2  0.033679  0.012564  0.009638  0.012117  0.0  0.0  0.0  0.0  0.0  0.0  0.0   \n",
       "\n",
       "     K    M    F    P    S    T    W    Y    V  \n",
       "0  0.0  0.0  0.0  0.0  0.0  0.0  0.0  0.0  0.0  \n",
       "1  0.0  0.0  0.0  0.0  0.0  0.0  0.0  0.0  0.0  \n",
       "2  0.0  0.0  0.0  0.0  0.0  0.0  0.0  0.0  0.0  "
      ]
     },
     "execution_count": 98,
     "metadata": {},
     "output_type": "execute_result"
    }
   ],
   "source": [
    "array1 = np.random.rand(3,20)\n",
    "\n",
    "\n",
    "# array2 = np.random.rand(2,3)\n",
    "# dfa = pd.DataFrame(array2)\n",
    "giac = array1-14df_H\n",
    "giac"
   ]
  },
  {
   "cell_type": "code",
   "execution_count": 95,
   "metadata": {},
   "outputs": [
    {
     "name": "stdout",
     "output_type": "stream",
     "text": [
      "3\n"
     ]
    },
    {
     "data": {
      "text/plain": [
       "(2, 3)"
      ]
     },
     "execution_count": 95,
     "metadata": {},
     "output_type": "execute_result"
    }
   ],
   "source": [
    "print(array1.shape[1])\n",
    "array1.shape"
   ]
  },
  {
   "cell_type": "markdown",
   "metadata": {},
   "source": [
    "Zeroes should not be a problem given the size of input later on!"
   ]
  },
  {
   "cell_type": "code",
   "execution_count": 18,
   "metadata": {},
   "outputs": [
    {
     "name": "stderr",
     "output_type": "stream",
     "text": [
      "/anaconda3/lib/python3.7/site-packages/ipykernel_launcher.py:1: RuntimeWarning: divide by zero encountered in log\n",
      "  \"\"\"Entry point for launching an IPython kernel.\n"
     ]
    },
    {
     "data": {
      "text/html": [
       "<div>\n",
       "<style scoped>\n",
       "    .dataframe tbody tr th:only-of-type {\n",
       "        vertical-align: middle;\n",
       "    }\n",
       "\n",
       "    .dataframe tbody tr th {\n",
       "        vertical-align: top;\n",
       "    }\n",
       "\n",
       "    .dataframe thead th {\n",
       "        text-align: right;\n",
       "    }\n",
       "</style>\n",
       "<table border=\"1\" class=\"dataframe\">\n",
       "  <thead>\n",
       "    <tr style=\"text-align: right;\">\n",
       "      <th></th>\n",
       "      <th>A</th>\n",
       "      <th>R</th>\n",
       "      <th>N</th>\n",
       "      <th>D</th>\n",
       "      <th>C</th>\n",
       "      <th>Q</th>\n",
       "      <th>E</th>\n",
       "      <th>G</th>\n",
       "      <th>H</th>\n",
       "      <th>I</th>\n",
       "      <th>L</th>\n",
       "      <th>K</th>\n",
       "      <th>M</th>\n",
       "      <th>F</th>\n",
       "      <th>P</th>\n",
       "      <th>S</th>\n",
       "      <th>T</th>\n",
       "      <th>W</th>\n",
       "      <th>Y</th>\n",
       "      <th>V</th>\n",
       "    </tr>\n",
       "  </thead>\n",
       "  <tbody>\n",
       "    <tr>\n",
       "      <th>0</th>\n",
       "      <td>0.000000</td>\n",
       "      <td>2.277267</td>\n",
       "      <td>inf</td>\n",
       "      <td>0.058269</td>\n",
       "      <td>NaN</td>\n",
       "      <td>NaN</td>\n",
       "      <td>NaN</td>\n",
       "      <td>NaN</td>\n",
       "      <td>NaN</td>\n",
       "      <td>NaN</td>\n",
       "      <td>NaN</td>\n",
       "      <td>NaN</td>\n",
       "      <td>NaN</td>\n",
       "      <td>NaN</td>\n",
       "      <td>NaN</td>\n",
       "      <td>NaN</td>\n",
       "      <td>NaN</td>\n",
       "      <td>NaN</td>\n",
       "      <td>NaN</td>\n",
       "      <td>NaN</td>\n",
       "    </tr>\n",
       "    <tr>\n",
       "      <th>1</th>\n",
       "      <td>0.624154</td>\n",
       "      <td>1.622683</td>\n",
       "      <td>inf</td>\n",
       "      <td>-0.536305</td>\n",
       "      <td>NaN</td>\n",
       "      <td>NaN</td>\n",
       "      <td>NaN</td>\n",
       "      <td>NaN</td>\n",
       "      <td>NaN</td>\n",
       "      <td>NaN</td>\n",
       "      <td>NaN</td>\n",
       "      <td>NaN</td>\n",
       "      <td>NaN</td>\n",
       "      <td>NaN</td>\n",
       "      <td>NaN</td>\n",
       "      <td>NaN</td>\n",
       "      <td>NaN</td>\n",
       "      <td>NaN</td>\n",
       "      <td>NaN</td>\n",
       "      <td>NaN</td>\n",
       "    </tr>\n",
       "    <tr>\n",
       "      <th>2</th>\n",
       "      <td>0.271934</td>\n",
       "      <td>1.497520</td>\n",
       "      <td>1.203973</td>\n",
       "      <td>0.215111</td>\n",
       "      <td>NaN</td>\n",
       "      <td>NaN</td>\n",
       "      <td>NaN</td>\n",
       "      <td>NaN</td>\n",
       "      <td>NaN</td>\n",
       "      <td>NaN</td>\n",
       "      <td>NaN</td>\n",
       "      <td>NaN</td>\n",
       "      <td>NaN</td>\n",
       "      <td>NaN</td>\n",
       "      <td>NaN</td>\n",
       "      <td>NaN</td>\n",
       "      <td>NaN</td>\n",
       "      <td>NaN</td>\n",
       "      <td>NaN</td>\n",
       "      <td>NaN</td>\n",
       "    </tr>\n",
       "  </tbody>\n",
       "</table>\n",
       "</div>"
      ],
      "text/plain": [
       "          A         R         N         D   C   Q   E   G   H   I   L   K   M  \\\n",
       "0  0.000000  2.277267       inf  0.058269 NaN NaN NaN NaN NaN NaN NaN NaN NaN   \n",
       "1  0.624154  1.622683       inf -0.536305 NaN NaN NaN NaN NaN NaN NaN NaN NaN   \n",
       "2  0.271934  1.497520  1.203973  0.215111 NaN NaN NaN NaN NaN NaN NaN NaN NaN   \n",
       "\n",
       "    F   P   S   T   W   Y   V  \n",
       "0 NaN NaN NaN NaN NaN NaN NaN  \n",
       "1 NaN NaN NaN NaN NaN NaN NaN  \n",
       "2 NaN NaN NaN NaN NaN NaN NaN  "
      ]
     },
     "execution_count": 18,
     "metadata": {},
     "output_type": "execute_result"
    }
   ],
   "source": [
    "a = np.log(df_H)-np.log(df_E)\n",
    "a\n"
   ]
  },
  {
   "cell_type": "code",
   "execution_count": 12,
   "metadata": {},
   "outputs": [
    {
     "data": {
      "text/html": [
       "<div>\n",
       "<style scoped>\n",
       "    .dataframe tbody tr th:only-of-type {\n",
       "        vertical-align: middle;\n",
       "    }\n",
       "\n",
       "    .dataframe tbody tr th {\n",
       "        vertical-align: top;\n",
       "    }\n",
       "\n",
       "    .dataframe thead th {\n",
       "        text-align: right;\n",
       "    }\n",
       "</style>\n",
       "<table border=\"1\" class=\"dataframe\">\n",
       "  <thead>\n",
       "    <tr style=\"text-align: right;\">\n",
       "      <th></th>\n",
       "      <th>A</th>\n",
       "      <th>R</th>\n",
       "      <th>N</th>\n",
       "      <th>D</th>\n",
       "      <th>C</th>\n",
       "      <th>Q</th>\n",
       "      <th>E</th>\n",
       "      <th>G</th>\n",
       "      <th>H</th>\n",
       "      <th>I</th>\n",
       "      <th>L</th>\n",
       "      <th>K</th>\n",
       "      <th>M</th>\n",
       "      <th>F</th>\n",
       "      <th>P</th>\n",
       "      <th>S</th>\n",
       "      <th>T</th>\n",
       "      <th>W</th>\n",
       "      <th>Y</th>\n",
       "      <th>V</th>\n",
       "    </tr>\n",
       "  </thead>\n",
       "  <tbody>\n",
       "    <tr>\n",
       "      <th>0</th>\n",
       "      <td>1.000000</td>\n",
       "      <td>9.750000</td>\n",
       "      <td>inf</td>\n",
       "      <td>1.060000</td>\n",
       "      <td>NaN</td>\n",
       "      <td>NaN</td>\n",
       "      <td>NaN</td>\n",
       "      <td>NaN</td>\n",
       "      <td>NaN</td>\n",
       "      <td>NaN</td>\n",
       "      <td>NaN</td>\n",
       "      <td>NaN</td>\n",
       "      <td>NaN</td>\n",
       "      <td>NaN</td>\n",
       "      <td>NaN</td>\n",
       "      <td>NaN</td>\n",
       "      <td>NaN</td>\n",
       "      <td>NaN</td>\n",
       "      <td>NaN</td>\n",
       "      <td>NaN</td>\n",
       "    </tr>\n",
       "    <tr>\n",
       "      <th>1</th>\n",
       "      <td>1.866667</td>\n",
       "      <td>5.066667</td>\n",
       "      <td>inf</td>\n",
       "      <td>0.584906</td>\n",
       "      <td>NaN</td>\n",
       "      <td>NaN</td>\n",
       "      <td>NaN</td>\n",
       "      <td>NaN</td>\n",
       "      <td>NaN</td>\n",
       "      <td>NaN</td>\n",
       "      <td>NaN</td>\n",
       "      <td>NaN</td>\n",
       "      <td>NaN</td>\n",
       "      <td>NaN</td>\n",
       "      <td>NaN</td>\n",
       "      <td>NaN</td>\n",
       "      <td>NaN</td>\n",
       "      <td>NaN</td>\n",
       "      <td>NaN</td>\n",
       "      <td>NaN</td>\n",
       "    </tr>\n",
       "    <tr>\n",
       "      <th>2</th>\n",
       "      <td>1.312500</td>\n",
       "      <td>4.470588</td>\n",
       "      <td>3.333333</td>\n",
       "      <td>1.240000</td>\n",
       "      <td>NaN</td>\n",
       "      <td>NaN</td>\n",
       "      <td>NaN</td>\n",
       "      <td>NaN</td>\n",
       "      <td>NaN</td>\n",
       "      <td>NaN</td>\n",
       "      <td>NaN</td>\n",
       "      <td>NaN</td>\n",
       "      <td>NaN</td>\n",
       "      <td>NaN</td>\n",
       "      <td>NaN</td>\n",
       "      <td>NaN</td>\n",
       "      <td>NaN</td>\n",
       "      <td>NaN</td>\n",
       "      <td>NaN</td>\n",
       "      <td>NaN</td>\n",
       "    </tr>\n",
       "  </tbody>\n",
       "</table>\n",
       "</div>"
      ],
      "text/plain": [
       "          A         R         N         D   C   Q   E   G   H   I   L   K   M  \\\n",
       "0  1.000000  9.750000       inf  1.060000 NaN NaN NaN NaN NaN NaN NaN NaN NaN   \n",
       "1  1.866667  5.066667       inf  0.584906 NaN NaN NaN NaN NaN NaN NaN NaN NaN   \n",
       "2  1.312500  4.470588  3.333333  1.240000 NaN NaN NaN NaN NaN NaN NaN NaN NaN   \n",
       "\n",
       "    F   P   S   T   W   Y   V  \n",
       "0 NaN NaN NaN NaN NaN NaN NaN  \n",
       "1 NaN NaN NaN NaN NaN NaN NaN  \n",
       "2 NaN NaN NaN NaN NaN NaN NaN  "
      ]
     },
     "execution_count": 12,
     "metadata": {},
     "output_type": "execute_result"
    }
   ],
   "source": [
    "ana= df_H/df_E\n",
    "ana"
   ]
  },
  {
   "cell_type": "code",
   "execution_count": 135,
   "metadata": {},
   "outputs": [
    {
     "data": {
      "text/plain": [
       "0.3333333333333333"
      ]
     },
     "execution_count": 135,
     "metadata": {},
     "output_type": "execute_result"
    }
   ],
   "source": [
    "a = SS_df['E'].values[0]\n",
    "a\n"
   ]
  },
  {
   "cell_type": "code",
   "execution_count": 139,
   "metadata": {},
   "outputs": [
    {
     "data": {
      "text/html": [
       "<div>\n",
       "<style scoped>\n",
       "    .dataframe tbody tr th:only-of-type {\n",
       "        vertical-align: middle;\n",
       "    }\n",
       "\n",
       "    .dataframe tbody tr th {\n",
       "        vertical-align: top;\n",
       "    }\n",
       "\n",
       "    .dataframe thead th {\n",
       "        text-align: right;\n",
       "    }\n",
       "</style>\n",
       "<table border=\"1\" class=\"dataframe\">\n",
       "  <thead>\n",
       "    <tr style=\"text-align: right;\">\n",
       "      <th></th>\n",
       "      <th>A</th>\n",
       "      <th>R</th>\n",
       "      <th>N</th>\n",
       "      <th>D</th>\n",
       "      <th>C</th>\n",
       "      <th>Q</th>\n",
       "      <th>E</th>\n",
       "      <th>G</th>\n",
       "      <th>H</th>\n",
       "      <th>I</th>\n",
       "      <th>L</th>\n",
       "      <th>K</th>\n",
       "      <th>M</th>\n",
       "      <th>F</th>\n",
       "      <th>P</th>\n",
       "      <th>S</th>\n",
       "      <th>T</th>\n",
       "      <th>W</th>\n",
       "      <th>Y</th>\n",
       "      <th>V</th>\n",
       "    </tr>\n",
       "  </thead>\n",
       "  <tbody>\n",
       "    <tr>\n",
       "      <th>0</th>\n",
       "      <td>0.050000</td>\n",
       "      <td>0.013333</td>\n",
       "      <td>0.000</td>\n",
       "      <td>0.083333</td>\n",
       "      <td>0.0</td>\n",
       "      <td>0.0</td>\n",
       "      <td>0.0</td>\n",
       "      <td>0.0</td>\n",
       "      <td>0.0</td>\n",
       "      <td>0.0</td>\n",
       "      <td>0.0</td>\n",
       "      <td>0.0</td>\n",
       "      <td>0.0</td>\n",
       "      <td>0.0</td>\n",
       "      <td>0.0</td>\n",
       "      <td>0.0</td>\n",
       "      <td>0.0</td>\n",
       "      <td>0.0</td>\n",
       "      <td>0.0</td>\n",
       "      <td>0.0</td>\n",
       "    </tr>\n",
       "    <tr>\n",
       "      <th>1</th>\n",
       "      <td>0.075000</td>\n",
       "      <td>0.025000</td>\n",
       "      <td>0.000</td>\n",
       "      <td>0.088333</td>\n",
       "      <td>0.0</td>\n",
       "      <td>0.0</td>\n",
       "      <td>0.0</td>\n",
       "      <td>0.0</td>\n",
       "      <td>0.0</td>\n",
       "      <td>0.0</td>\n",
       "      <td>0.0</td>\n",
       "      <td>0.0</td>\n",
       "      <td>0.0</td>\n",
       "      <td>0.0</td>\n",
       "      <td>0.0</td>\n",
       "      <td>0.0</td>\n",
       "      <td>0.0</td>\n",
       "      <td>0.0</td>\n",
       "      <td>0.0</td>\n",
       "      <td>0.0</td>\n",
       "    </tr>\n",
       "    <tr>\n",
       "      <th>2</th>\n",
       "      <td>0.106667</td>\n",
       "      <td>0.028333</td>\n",
       "      <td>0.005</td>\n",
       "      <td>0.041667</td>\n",
       "      <td>0.0</td>\n",
       "      <td>0.0</td>\n",
       "      <td>0.0</td>\n",
       "      <td>0.0</td>\n",
       "      <td>0.0</td>\n",
       "      <td>0.0</td>\n",
       "      <td>0.0</td>\n",
       "      <td>0.0</td>\n",
       "      <td>0.0</td>\n",
       "      <td>0.0</td>\n",
       "      <td>0.0</td>\n",
       "      <td>0.0</td>\n",
       "      <td>0.0</td>\n",
       "      <td>0.0</td>\n",
       "      <td>0.0</td>\n",
       "      <td>0.0</td>\n",
       "    </tr>\n",
       "  </tbody>\n",
       "</table>\n",
       "</div>"
      ],
      "text/plain": [
       "          A         R      N         D    C    Q    E    G    H    I    L  \\\n",
       "0  0.050000  0.013333  0.000  0.083333  0.0  0.0  0.0  0.0  0.0  0.0  0.0   \n",
       "1  0.075000  0.025000  0.000  0.088333  0.0  0.0  0.0  0.0  0.0  0.0  0.0   \n",
       "2  0.106667  0.028333  0.005  0.041667  0.0  0.0  0.0  0.0  0.0  0.0  0.0   \n",
       "\n",
       "     K    M    F    P    S    T    W    Y    V  \n",
       "0  0.0  0.0  0.0  0.0  0.0  0.0  0.0  0.0  0.0  \n",
       "1  0.0  0.0  0.0  0.0  0.0  0.0  0.0  0.0  0.0  \n",
       "2  0.0  0.0  0.0  0.0  0.0  0.0  0.0  0.0  0.0  "
      ]
     },
     "execution_count": 139,
     "metadata": {},
     "output_type": "execute_result"
    }
   ],
   "source": [
    "df_E/(a*2)"
   ]
  },
  {
   "cell_type": "markdown",
   "metadata": {},
   "source": [
    "# Running on *Training Set*\n",
    "\n"
   ]
  },
  {
   "cell_type": "code",
   "execution_count": 333,
   "metadata": {},
   "outputs": [
    {
     "name": "stdout",
     "output_type": "stream",
     "text": [
      "    1260\n",
      "    1260\n"
     ]
    }
   ],
   "source": [
    "!ls /Users/ila/01-Unibo/02_Lab2/files_lab2_project/all_data/trainingset/seqprofile_training/ | wc -l\n",
    "!ls /Users/ila/01-Unibo/02_Lab2/files_lab2_project/all_data/trainingset/dssp/ | wc -l"
   ]
  },
  {
   "cell_type": "markdown",
   "metadata": {},
   "source": [
    "**Both sets contain the same number of files &rarr; everything should work just fine.\n",
    "Lets run the script on all 1260 ids.**"
   ]
  },
  {
   "cell_type": "code",
   "execution_count": 104,
   "metadata": {},
   "outputs": [
    {
     "name": "stdout",
     "output_type": "stream",
     "text": [
      "--- 14.257370781898498 minutes ---\n"
     ]
    }
   ],
   "source": [
    "\n",
    "!/Users/ila/01-Unibo/02_Lab2/files_lab2_project/scripts/gor_training.py -p=\"/Users/ila/01-Unibo/02_Lab2/files_lab2_project/all_data/trainingset/seqprofile_training/\" -s\"/Users/ila/01-Unibo/02_Lab2/files_lab2_project/all_data/trainingset/dssp/\" -w=17 -o='/Users/ila/01-Unibo/02_Lab2/files_lab2_project/all_data/outputs/gor_train_out/'\n"
   ]
  },
  {
   "cell_type": "code",
   "execution_count": 10,
   "metadata": {},
   "outputs": [
    {
     "name": "stdout",
     "output_type": "stream",
     "text": [
      "gor_training_out_C.csv           gor_training_out_marg_prob_R.csv\n",
      "gor_training_out_E.csv           gor_training_output_SS.csv\n",
      "gor_training_out_H.csv           win_size.txt\n"
     ]
    }
   ],
   "source": [
    "!ls /Users/ila/01-Unibo/02_Lab2/files_lab2_project/all_data/outputs/gor_train_out/"
   ]
  },
  {
   "cell_type": "code",
   "execution_count": 112,
   "metadata": {},
   "outputs": [
    {
     "data": {
      "text/plain": [
       "'/Users/ila/01-Unibo/02_Lab2/files_lab2_project/documentation_notebooks/GOR'"
      ]
     },
     "execution_count": 112,
     "metadata": {},
     "output_type": "execute_result"
    }
   ],
   "source": [
    "pwd"
   ]
  },
  {
   "cell_type": "markdown",
   "metadata": {},
   "source": [
    "Reading matrix from csv"
   ]
  },
  {
   "cell_type": "code",
   "execution_count": 126,
   "metadata": {},
   "outputs": [],
   "source": [
    "import numpy as np\n",
    "# To ensure that non of the outputs are truncated with '...'\n",
    "np.set_printoptions(threshold=np.inf)\n",
    "import pandas as pd\n",
    "# To ensure that non of the outputs are truncated with '...'\n",
    "pd.set_option('display.max_rows', None)\n",
    "pd.set_option('display.max_columns', None)\n",
    "pd.set_option('display.width', None)\n",
    "pd.set_option('display.max_colwidth', None)\n",
    "\n",
    "H = pd.read_csv('/Users/ila/01-Unibo/02_Lab2/files_lab2_project/all_data/outputs/gor_train_out/gor_training_out_H.csv', index_col=[0])\n",
    "E = pd.read_csv('/Users/ila/01-Unibo/02_Lab2/files_lab2_project/all_data/outputs/gor_train_out/gor_training_out_E.csv', index_col=[0])\n",
    "C = pd.read_csv('/Users/ila/01-Unibo/02_Lab2/files_lab2_project/all_data/outputs/gor_train_out/gor_training_out_C.csv', index_col=[0])\n",
    "R = pd.read_csv('/Users/ila/01-Unibo/02_Lab2/files_lab2_project/all_data/outputs/gor_train_out/gor_training_out_marg_prob_R.csv', index_col=[0])\n",
    "\n",
    "SS = pd.read_csv('/Users/ila/01-Unibo/02_Lab2/files_lab2_project/all_data/outputs/gor_train_out/gor_training_output_SS.csv', index_col=[0])\n",
    "# profile_arr = np.loadtxt(\"/Users/ila/01-Unibo/02_Lab2/files_lab2_project/all_data/test_data/profiles/test_profile\", usecols=range(0,20), dtype=np.float64)"
   ]
  },
  {
   "cell_type": "code",
   "execution_count": null,
   "metadata": {},
   "outputs": [],
   "source": [
    "import os, sys, glob"
   ]
  },
  {
   "cell_type": "code",
   "execution_count": 135,
   "metadata": {},
   "outputs": [
    {
     "data": {
      "text/plain": [
       "['/Users/ila/01-Unibo/02_Lab2/files_lab2_project/all_data/outputs/gor_train_out/gor_training_out_marg_prob_R.csv',\n",
       " '/Users/ila/01-Unibo/02_Lab2/files_lab2_project/all_data/outputs/gor_train_out/gor_training_out_H.csv',\n",
       " '/Users/ila/01-Unibo/02_Lab2/files_lab2_project/all_data/outputs/gor_train_out/gor_training_out_C.csv',\n",
       " '/Users/ila/01-Unibo/02_Lab2/files_lab2_project/all_data/outputs/gor_train_out/gor_training_out_E.csv',\n",
       " '/Users/ila/01-Unibo/02_Lab2/files_lab2_project/all_data/outputs/gor_train_out/gor_training_output_SS.csv']"
      ]
     },
     "execution_count": 135,
     "metadata": {},
     "output_type": "execute_result"
    }
   ],
   "source": [
    "def listdir_nohidden(path):\n",
    "    '''\n",
    "    To ignore hidden files from os.listdir.\n",
    "    Returns only 'nonhidden files' from directory\n",
    "    --> the glob pattern * matches all files that are NOT hidden\n",
    "    '''\n",
    "    return glob.glob(os.path.join(path, '*'))\n",
    "\n",
    "listdir_nohidden('/Users/ila/01-Unibo/02_Lab2/files_lab2_project/all_data/outputs/gor_train_out/')"
   ]
  },
  {
   "cell_type": "code",
   "execution_count": 231,
   "metadata": {},
   "outputs": [
    {
     "data": {
      "text/html": [
       "<div>\n",
       "<style scoped>\n",
       "    .dataframe tbody tr th:only-of-type {\n",
       "        vertical-align: middle;\n",
       "    }\n",
       "\n",
       "    .dataframe tbody tr th {\n",
       "        vertical-align: top;\n",
       "    }\n",
       "\n",
       "    .dataframe thead th {\n",
       "        text-align: right;\n",
       "    }\n",
       "</style>\n",
       "<table border=\"1\" class=\"dataframe\">\n",
       "  <thead>\n",
       "    <tr style=\"text-align: right;\">\n",
       "      <th></th>\n",
       "      <th>A</th>\n",
       "      <th>R</th>\n",
       "      <th>N</th>\n",
       "      <th>D</th>\n",
       "      <th>C</th>\n",
       "      <th>Q</th>\n",
       "      <th>E</th>\n",
       "      <th>G</th>\n",
       "      <th>H</th>\n",
       "      <th>I</th>\n",
       "      <th>L</th>\n",
       "      <th>K</th>\n",
       "      <th>M</th>\n",
       "      <th>F</th>\n",
       "      <th>P</th>\n",
       "      <th>S</th>\n",
       "      <th>T</th>\n",
       "      <th>W</th>\n",
       "      <th>Y</th>\n",
       "      <th>V</th>\n",
       "    </tr>\n",
       "  </thead>\n",
       "  <tbody>\n",
       "    <tr>\n",
       "      <th>0</th>\n",
       "      <td>0.028754</td>\n",
       "      <td>0.017102</td>\n",
       "      <td>0.013535</td>\n",
       "      <td>0.019515</td>\n",
       "      <td>0.004146</td>\n",
       "      <td>0.013761</td>\n",
       "      <td>0.025110</td>\n",
       "      <td>0.021407</td>\n",
       "      <td>0.007526</td>\n",
       "      <td>0.018959</td>\n",
       "      <td>0.032180</td>\n",
       "      <td>0.019663</td>\n",
       "      <td>0.007632</td>\n",
       "      <td>0.012545</td>\n",
       "      <td>0.014265</td>\n",
       "      <td>0.020864</td>\n",
       "      <td>0.017838</td>\n",
       "      <td>0.003864</td>\n",
       "      <td>0.010187</td>\n",
       "      <td>0.021384</td>\n",
       "    </tr>\n",
       "    <tr>\n",
       "      <th>1</th>\n",
       "      <td>0.029550</td>\n",
       "      <td>0.017285</td>\n",
       "      <td>0.013570</td>\n",
       "      <td>0.019710</td>\n",
       "      <td>0.004163</td>\n",
       "      <td>0.014001</td>\n",
       "      <td>0.025805</td>\n",
       "      <td>0.021055</td>\n",
       "      <td>0.007421</td>\n",
       "      <td>0.018998</td>\n",
       "      <td>0.032526</td>\n",
       "      <td>0.019747</td>\n",
       "      <td>0.007695</td>\n",
       "      <td>0.012581</td>\n",
       "      <td>0.013915</td>\n",
       "      <td>0.020980</td>\n",
       "      <td>0.017904</td>\n",
       "      <td>0.003887</td>\n",
       "      <td>0.010192</td>\n",
       "      <td>0.021390</td>\n",
       "    </tr>\n",
       "    <tr>\n",
       "      <th>2</th>\n",
       "      <td>0.030365</td>\n",
       "      <td>0.017361</td>\n",
       "      <td>0.013470</td>\n",
       "      <td>0.019852</td>\n",
       "      <td>0.004230</td>\n",
       "      <td>0.014275</td>\n",
       "      <td>0.026298</td>\n",
       "      <td>0.020455</td>\n",
       "      <td>0.007393</td>\n",
       "      <td>0.019330</td>\n",
       "      <td>0.033343</td>\n",
       "      <td>0.019885</td>\n",
       "      <td>0.007809</td>\n",
       "      <td>0.012687</td>\n",
       "      <td>0.013487</td>\n",
       "      <td>0.020920</td>\n",
       "      <td>0.017894</td>\n",
       "      <td>0.003923</td>\n",
       "      <td>0.010111</td>\n",
       "      <td>0.021364</td>\n",
       "    </tr>\n",
       "    <tr>\n",
       "      <th>3</th>\n",
       "      <td>0.031280</td>\n",
       "      <td>0.017711</td>\n",
       "      <td>0.013400</td>\n",
       "      <td>0.019890</td>\n",
       "      <td>0.004216</td>\n",
       "      <td>0.014621</td>\n",
       "      <td>0.026984</td>\n",
       "      <td>0.019793</td>\n",
       "      <td>0.007308</td>\n",
       "      <td>0.019616</td>\n",
       "      <td>0.034164</td>\n",
       "      <td>0.020205</td>\n",
       "      <td>0.007921</td>\n",
       "      <td>0.012582</td>\n",
       "      <td>0.012993</td>\n",
       "      <td>0.020715</td>\n",
       "      <td>0.017742</td>\n",
       "      <td>0.003931</td>\n",
       "      <td>0.010053</td>\n",
       "      <td>0.021302</td>\n",
       "    </tr>\n",
       "    <tr>\n",
       "      <th>4</th>\n",
       "      <td>0.032149</td>\n",
       "      <td>0.018008</td>\n",
       "      <td>0.013332</td>\n",
       "      <td>0.019899</td>\n",
       "      <td>0.004090</td>\n",
       "      <td>0.015062</td>\n",
       "      <td>0.027841</td>\n",
       "      <td>0.018680</td>\n",
       "      <td>0.007239</td>\n",
       "      <td>0.019948</td>\n",
       "      <td>0.034934</td>\n",
       "      <td>0.020590</td>\n",
       "      <td>0.008034</td>\n",
       "      <td>0.012527</td>\n",
       "      <td>0.012392</td>\n",
       "      <td>0.020558</td>\n",
       "      <td>0.017568</td>\n",
       "      <td>0.003982</td>\n",
       "      <td>0.010054</td>\n",
       "      <td>0.021312</td>\n",
       "    </tr>\n",
       "    <tr>\n",
       "      <th>5</th>\n",
       "      <td>0.033588</td>\n",
       "      <td>0.018230</td>\n",
       "      <td>0.012978</td>\n",
       "      <td>0.019631</td>\n",
       "      <td>0.004094</td>\n",
       "      <td>0.015281</td>\n",
       "      <td>0.028330</td>\n",
       "      <td>0.017266</td>\n",
       "      <td>0.007187</td>\n",
       "      <td>0.020512</td>\n",
       "      <td>0.036380</td>\n",
       "      <td>0.020783</td>\n",
       "      <td>0.008251</td>\n",
       "      <td>0.012800</td>\n",
       "      <td>0.011463</td>\n",
       "      <td>0.020091</td>\n",
       "      <td>0.017194</td>\n",
       "      <td>0.004117</td>\n",
       "      <td>0.010179</td>\n",
       "      <td>0.021381</td>\n",
       "    </tr>\n",
       "    <tr>\n",
       "      <th>6</th>\n",
       "      <td>0.035030</td>\n",
       "      <td>0.018607</td>\n",
       "      <td>0.012650</td>\n",
       "      <td>0.019264</td>\n",
       "      <td>0.004092</td>\n",
       "      <td>0.015527</td>\n",
       "      <td>0.028840</td>\n",
       "      <td>0.015378</td>\n",
       "      <td>0.006949</td>\n",
       "      <td>0.020967</td>\n",
       "      <td>0.038521</td>\n",
       "      <td>0.021133</td>\n",
       "      <td>0.008519</td>\n",
       "      <td>0.012987</td>\n",
       "      <td>0.010322</td>\n",
       "      <td>0.019653</td>\n",
       "      <td>0.016628</td>\n",
       "      <td>0.004310</td>\n",
       "      <td>0.010249</td>\n",
       "      <td>0.021239</td>\n",
       "    </tr>\n",
       "    <tr>\n",
       "      <th>7</th>\n",
       "      <td>0.036131</td>\n",
       "      <td>0.019466</td>\n",
       "      <td>0.012449</td>\n",
       "      <td>0.018836</td>\n",
       "      <td>0.004030</td>\n",
       "      <td>0.016009</td>\n",
       "      <td>0.029742</td>\n",
       "      <td>0.013953</td>\n",
       "      <td>0.006910</td>\n",
       "      <td>0.021096</td>\n",
       "      <td>0.039117</td>\n",
       "      <td>0.022171</td>\n",
       "      <td>0.008355</td>\n",
       "      <td>0.012909</td>\n",
       "      <td>0.008907</td>\n",
       "      <td>0.019422</td>\n",
       "      <td>0.016279</td>\n",
       "      <td>0.004381</td>\n",
       "      <td>0.010265</td>\n",
       "      <td>0.021077</td>\n",
       "    </tr>\n",
       "    <tr>\n",
       "      <th>8</th>\n",
       "      <td>0.037766</td>\n",
       "      <td>0.020316</td>\n",
       "      <td>0.011195</td>\n",
       "      <td>0.016121</td>\n",
       "      <td>0.004018</td>\n",
       "      <td>0.016658</td>\n",
       "      <td>0.030587</td>\n",
       "      <td>0.012337</td>\n",
       "      <td>0.006944</td>\n",
       "      <td>0.021896</td>\n",
       "      <td>0.041744</td>\n",
       "      <td>0.023299</td>\n",
       "      <td>0.008817</td>\n",
       "      <td>0.013544</td>\n",
       "      <td>0.007327</td>\n",
       "      <td>0.017279</td>\n",
       "      <td>0.014817</td>\n",
       "      <td>0.004491</td>\n",
       "      <td>0.010674</td>\n",
       "      <td>0.021746</td>\n",
       "    </tr>\n",
       "    <tr>\n",
       "      <th>9</th>\n",
       "      <td>0.037672</td>\n",
       "      <td>0.020439</td>\n",
       "      <td>0.012310</td>\n",
       "      <td>0.016067</td>\n",
       "      <td>0.004263</td>\n",
       "      <td>0.016932</td>\n",
       "      <td>0.030024</td>\n",
       "      <td>0.014807</td>\n",
       "      <td>0.007269</td>\n",
       "      <td>0.021368</td>\n",
       "      <td>0.041631</td>\n",
       "      <td>0.023409</td>\n",
       "      <td>0.008916</td>\n",
       "      <td>0.013373</td>\n",
       "      <td>0.004551</td>\n",
       "      <td>0.017749</td>\n",
       "      <td>0.014613</td>\n",
       "      <td>0.004276</td>\n",
       "      <td>0.010627</td>\n",
       "      <td>0.021121</td>\n",
       "    </tr>\n",
       "    <tr>\n",
       "      <th>10</th>\n",
       "      <td>0.036756</td>\n",
       "      <td>0.020438</td>\n",
       "      <td>0.012745</td>\n",
       "      <td>0.015235</td>\n",
       "      <td>0.004352</td>\n",
       "      <td>0.016644</td>\n",
       "      <td>0.027222</td>\n",
       "      <td>0.017670</td>\n",
       "      <td>0.007337</td>\n",
       "      <td>0.021450</td>\n",
       "      <td>0.041786</td>\n",
       "      <td>0.023452</td>\n",
       "      <td>0.008919</td>\n",
       "      <td>0.013347</td>\n",
       "      <td>0.005309</td>\n",
       "      <td>0.017570</td>\n",
       "      <td>0.014565</td>\n",
       "      <td>0.004173</td>\n",
       "      <td>0.010508</td>\n",
       "      <td>0.021022</td>\n",
       "    </tr>\n",
       "    <tr>\n",
       "      <th>11</th>\n",
       "      <td>0.035823</td>\n",
       "      <td>0.020407</td>\n",
       "      <td>0.013037</td>\n",
       "      <td>0.014662</td>\n",
       "      <td>0.004386</td>\n",
       "      <td>0.015868</td>\n",
       "      <td>0.025374</td>\n",
       "      <td>0.018641</td>\n",
       "      <td>0.007379</td>\n",
       "      <td>0.021636</td>\n",
       "      <td>0.041740</td>\n",
       "      <td>0.023708</td>\n",
       "      <td>0.008862</td>\n",
       "      <td>0.013436</td>\n",
       "      <td>0.006442</td>\n",
       "      <td>0.017697</td>\n",
       "      <td>0.014330</td>\n",
       "      <td>0.004136</td>\n",
       "      <td>0.010551</td>\n",
       "      <td>0.020923</td>\n",
       "    </tr>\n",
       "    <tr>\n",
       "      <th>12</th>\n",
       "      <td>0.034176</td>\n",
       "      <td>0.019905</td>\n",
       "      <td>0.013530</td>\n",
       "      <td>0.015813</td>\n",
       "      <td>0.004261</td>\n",
       "      <td>0.015716</td>\n",
       "      <td>0.026099</td>\n",
       "      <td>0.019692</td>\n",
       "      <td>0.007536</td>\n",
       "      <td>0.020396</td>\n",
       "      <td>0.039408</td>\n",
       "      <td>0.023924</td>\n",
       "      <td>0.008428</td>\n",
       "      <td>0.012864</td>\n",
       "      <td>0.008385</td>\n",
       "      <td>0.018319</td>\n",
       "      <td>0.014588</td>\n",
       "      <td>0.003919</td>\n",
       "      <td>0.010271</td>\n",
       "      <td>0.019958</td>\n",
       "    </tr>\n",
       "    <tr>\n",
       "      <th>13</th>\n",
       "      <td>0.032861</td>\n",
       "      <td>0.019186</td>\n",
       "      <td>0.013526</td>\n",
       "      <td>0.016139</td>\n",
       "      <td>0.004255</td>\n",
       "      <td>0.015153</td>\n",
       "      <td>0.025416</td>\n",
       "      <td>0.020408</td>\n",
       "      <td>0.007458</td>\n",
       "      <td>0.020279</td>\n",
       "      <td>0.038320</td>\n",
       "      <td>0.023334</td>\n",
       "      <td>0.008086</td>\n",
       "      <td>0.012893</td>\n",
       "      <td>0.009869</td>\n",
       "      <td>0.018484</td>\n",
       "      <td>0.014852</td>\n",
       "      <td>0.003875</td>\n",
       "      <td>0.010401</td>\n",
       "      <td>0.020268</td>\n",
       "    </tr>\n",
       "    <tr>\n",
       "      <th>14</th>\n",
       "      <td>0.031463</td>\n",
       "      <td>0.018310</td>\n",
       "      <td>0.013404</td>\n",
       "      <td>0.016213</td>\n",
       "      <td>0.004344</td>\n",
       "      <td>0.014573</td>\n",
       "      <td>0.024591</td>\n",
       "      <td>0.020689</td>\n",
       "      <td>0.007457</td>\n",
       "      <td>0.020737</td>\n",
       "      <td>0.038009</td>\n",
       "      <td>0.022352</td>\n",
       "      <td>0.007938</td>\n",
       "      <td>0.013004</td>\n",
       "      <td>0.010713</td>\n",
       "      <td>0.018559</td>\n",
       "      <td>0.014989</td>\n",
       "      <td>0.003932</td>\n",
       "      <td>0.010414</td>\n",
       "      <td>0.021045</td>\n",
       "    </tr>\n",
       "    <tr>\n",
       "      <th>15</th>\n",
       "      <td>0.030166</td>\n",
       "      <td>0.018080</td>\n",
       "      <td>0.013487</td>\n",
       "      <td>0.016807</td>\n",
       "      <td>0.004339</td>\n",
       "      <td>0.014570</td>\n",
       "      <td>0.024871</td>\n",
       "      <td>0.021028</td>\n",
       "      <td>0.007410</td>\n",
       "      <td>0.020198</td>\n",
       "      <td>0.035903</td>\n",
       "      <td>0.022405</td>\n",
       "      <td>0.007502</td>\n",
       "      <td>0.012591</td>\n",
       "      <td>0.011583</td>\n",
       "      <td>0.018830</td>\n",
       "      <td>0.015285</td>\n",
       "      <td>0.003759</td>\n",
       "      <td>0.010201</td>\n",
       "      <td>0.021237</td>\n",
       "    </tr>\n",
       "    <tr>\n",
       "      <th>16</th>\n",
       "      <td>0.029267</td>\n",
       "      <td>0.017806</td>\n",
       "      <td>0.013525</td>\n",
       "      <td>0.017335</td>\n",
       "      <td>0.004235</td>\n",
       "      <td>0.014492</td>\n",
       "      <td>0.024984</td>\n",
       "      <td>0.021054</td>\n",
       "      <td>0.007431</td>\n",
       "      <td>0.019738</td>\n",
       "      <td>0.034187</td>\n",
       "      <td>0.022174</td>\n",
       "      <td>0.007186</td>\n",
       "      <td>0.012321</td>\n",
       "      <td>0.012091</td>\n",
       "      <td>0.018983</td>\n",
       "      <td>0.015583</td>\n",
       "      <td>0.003772</td>\n",
       "      <td>0.010065</td>\n",
       "      <td>0.021394</td>\n",
       "    </tr>\n",
       "  </tbody>\n",
       "</table>\n",
       "</div>"
      ],
      "text/plain": [
       "           A         R         N         D         C         Q         E  \\\n",
       "0   0.028754  0.017102  0.013535  0.019515  0.004146  0.013761  0.025110   \n",
       "1   0.029550  0.017285  0.013570  0.019710  0.004163  0.014001  0.025805   \n",
       "2   0.030365  0.017361  0.013470  0.019852  0.004230  0.014275  0.026298   \n",
       "3   0.031280  0.017711  0.013400  0.019890  0.004216  0.014621  0.026984   \n",
       "4   0.032149  0.018008  0.013332  0.019899  0.004090  0.015062  0.027841   \n",
       "5   0.033588  0.018230  0.012978  0.019631  0.004094  0.015281  0.028330   \n",
       "6   0.035030  0.018607  0.012650  0.019264  0.004092  0.015527  0.028840   \n",
       "7   0.036131  0.019466  0.012449  0.018836  0.004030  0.016009  0.029742   \n",
       "8   0.037766  0.020316  0.011195  0.016121  0.004018  0.016658  0.030587   \n",
       "9   0.037672  0.020439  0.012310  0.016067  0.004263  0.016932  0.030024   \n",
       "10  0.036756  0.020438  0.012745  0.015235  0.004352  0.016644  0.027222   \n",
       "11  0.035823  0.020407  0.013037  0.014662  0.004386  0.015868  0.025374   \n",
       "12  0.034176  0.019905  0.013530  0.015813  0.004261  0.015716  0.026099   \n",
       "13  0.032861  0.019186  0.013526  0.016139  0.004255  0.015153  0.025416   \n",
       "14  0.031463  0.018310  0.013404  0.016213  0.004344  0.014573  0.024591   \n",
       "15  0.030166  0.018080  0.013487  0.016807  0.004339  0.014570  0.024871   \n",
       "16  0.029267  0.017806  0.013525  0.017335  0.004235  0.014492  0.024984   \n",
       "\n",
       "           G         H         I         L         K         M         F  \\\n",
       "0   0.021407  0.007526  0.018959  0.032180  0.019663  0.007632  0.012545   \n",
       "1   0.021055  0.007421  0.018998  0.032526  0.019747  0.007695  0.012581   \n",
       "2   0.020455  0.007393  0.019330  0.033343  0.019885  0.007809  0.012687   \n",
       "3   0.019793  0.007308  0.019616  0.034164  0.020205  0.007921  0.012582   \n",
       "4   0.018680  0.007239  0.019948  0.034934  0.020590  0.008034  0.012527   \n",
       "5   0.017266  0.007187  0.020512  0.036380  0.020783  0.008251  0.012800   \n",
       "6   0.015378  0.006949  0.020967  0.038521  0.021133  0.008519  0.012987   \n",
       "7   0.013953  0.006910  0.021096  0.039117  0.022171  0.008355  0.012909   \n",
       "8   0.012337  0.006944  0.021896  0.041744  0.023299  0.008817  0.013544   \n",
       "9   0.014807  0.007269  0.021368  0.041631  0.023409  0.008916  0.013373   \n",
       "10  0.017670  0.007337  0.021450  0.041786  0.023452  0.008919  0.013347   \n",
       "11  0.018641  0.007379  0.021636  0.041740  0.023708  0.008862  0.013436   \n",
       "12  0.019692  0.007536  0.020396  0.039408  0.023924  0.008428  0.012864   \n",
       "13  0.020408  0.007458  0.020279  0.038320  0.023334  0.008086  0.012893   \n",
       "14  0.020689  0.007457  0.020737  0.038009  0.022352  0.007938  0.013004   \n",
       "15  0.021028  0.007410  0.020198  0.035903  0.022405  0.007502  0.012591   \n",
       "16  0.021054  0.007431  0.019738  0.034187  0.022174  0.007186  0.012321   \n",
       "\n",
       "           P         S         T         W         Y         V  \n",
       "0   0.014265  0.020864  0.017838  0.003864  0.010187  0.021384  \n",
       "1   0.013915  0.020980  0.017904  0.003887  0.010192  0.021390  \n",
       "2   0.013487  0.020920  0.017894  0.003923  0.010111  0.021364  \n",
       "3   0.012993  0.020715  0.017742  0.003931  0.010053  0.021302  \n",
       "4   0.012392  0.020558  0.017568  0.003982  0.010054  0.021312  \n",
       "5   0.011463  0.020091  0.017194  0.004117  0.010179  0.021381  \n",
       "6   0.010322  0.019653  0.016628  0.004310  0.010249  0.021239  \n",
       "7   0.008907  0.019422  0.016279  0.004381  0.010265  0.021077  \n",
       "8   0.007327  0.017279  0.014817  0.004491  0.010674  0.021746  \n",
       "9   0.004551  0.017749  0.014613  0.004276  0.010627  0.021121  \n",
       "10  0.005309  0.017570  0.014565  0.004173  0.010508  0.021022  \n",
       "11  0.006442  0.017697  0.014330  0.004136  0.010551  0.020923  \n",
       "12  0.008385  0.018319  0.014588  0.003919  0.010271  0.019958  \n",
       "13  0.009869  0.018484  0.014852  0.003875  0.010401  0.020268  \n",
       "14  0.010713  0.018559  0.014989  0.003932  0.010414  0.021045  \n",
       "15  0.011583  0.018830  0.015285  0.003759  0.010201  0.021237  \n",
       "16  0.012091  0.018983  0.015583  0.003772  0.010065  0.021394  "
      ]
     },
     "metadata": {},
     "output_type": "display_data"
    },
    {
     "data": {
      "text/html": [
       "<div>\n",
       "<style scoped>\n",
       "    .dataframe tbody tr th:only-of-type {\n",
       "        vertical-align: middle;\n",
       "    }\n",
       "\n",
       "    .dataframe tbody tr th {\n",
       "        vertical-align: top;\n",
       "    }\n",
       "\n",
       "    .dataframe thead th {\n",
       "        text-align: right;\n",
       "    }\n",
       "</style>\n",
       "<table border=\"1\" class=\"dataframe\">\n",
       "  <thead>\n",
       "    <tr style=\"text-align: right;\">\n",
       "      <th></th>\n",
       "      <th>H</th>\n",
       "      <th>E</th>\n",
       "      <th>C</th>\n",
       "      <th>tot</th>\n",
       "    </tr>\n",
       "  </thead>\n",
       "  <tbody>\n",
       "    <tr>\n",
       "      <th>#S</th>\n",
       "      <td>0.355109</td>\n",
       "      <td>0.221427</td>\n",
       "      <td>0.423465</td>\n",
       "      <td>1.0</td>\n",
       "    </tr>\n",
       "  </tbody>\n",
       "</table>\n",
       "</div>"
      ],
      "text/plain": [
       "           H         E         C  tot\n",
       "#S  0.355109  0.221427  0.423465  1.0"
      ]
     },
     "metadata": {},
     "output_type": "display_data"
    }
   ],
   "source": [
    "display(H)\n",
    "display(SS)"
   ]
  },
  {
   "cell_type": "code",
   "execution_count": 12,
   "metadata": {},
   "outputs": [
    {
     "data": {
      "text/html": [
       "<div>\n",
       "<style scoped>\n",
       "    .dataframe tbody tr th:only-of-type {\n",
       "        vertical-align: middle;\n",
       "    }\n",
       "\n",
       "    .dataframe tbody tr th {\n",
       "        vertical-align: top;\n",
       "    }\n",
       "\n",
       "    .dataframe thead th {\n",
       "        text-align: right;\n",
       "    }\n",
       "</style>\n",
       "<table border=\"1\" class=\"dataframe\">\n",
       "  <thead>\n",
       "    <tr style=\"text-align: right;\">\n",
       "      <th></th>\n",
       "      <th>A</th>\n",
       "      <th>R</th>\n",
       "      <th>N</th>\n",
       "      <th>D</th>\n",
       "      <th>C</th>\n",
       "      <th>Q</th>\n",
       "      <th>E</th>\n",
       "      <th>G</th>\n",
       "      <th>H</th>\n",
       "      <th>I</th>\n",
       "      <th>L</th>\n",
       "      <th>K</th>\n",
       "      <th>M</th>\n",
       "      <th>F</th>\n",
       "      <th>P</th>\n",
       "      <th>S</th>\n",
       "      <th>T</th>\n",
       "      <th>W</th>\n",
       "      <th>Y</th>\n",
       "      <th>V</th>\n",
       "    </tr>\n",
       "  </thead>\n",
       "  <tbody>\n",
       "    <tr>\n",
       "      <th>0</th>\n",
       "      <td>0.031541</td>\n",
       "      <td>0.018760</td>\n",
       "      <td>0.014847</td>\n",
       "      <td>0.021406</td>\n",
       "      <td>0.004548</td>\n",
       "      <td>0.015094</td>\n",
       "      <td>0.027544</td>\n",
       "      <td>0.023482</td>\n",
       "      <td>0.008255</td>\n",
       "      <td>0.020796</td>\n",
       "      <td>0.035299</td>\n",
       "      <td>0.021568</td>\n",
       "      <td>0.008371</td>\n",
       "      <td>0.013760</td>\n",
       "      <td>0.015647</td>\n",
       "      <td>0.022886</td>\n",
       "      <td>0.019566</td>\n",
       "      <td>0.004238</td>\n",
       "      <td>0.011174</td>\n",
       "      <td>0.023456</td>\n",
       "    </tr>\n",
       "    <tr>\n",
       "      <th>1</th>\n",
       "      <td>0.032212</td>\n",
       "      <td>0.018842</td>\n",
       "      <td>0.014792</td>\n",
       "      <td>0.021486</td>\n",
       "      <td>0.004537</td>\n",
       "      <td>0.015262</td>\n",
       "      <td>0.028129</td>\n",
       "      <td>0.022952</td>\n",
       "      <td>0.008089</td>\n",
       "      <td>0.020710</td>\n",
       "      <td>0.035455</td>\n",
       "      <td>0.021525</td>\n",
       "      <td>0.008388</td>\n",
       "      <td>0.013714</td>\n",
       "      <td>0.015169</td>\n",
       "      <td>0.022870</td>\n",
       "      <td>0.019517</td>\n",
       "      <td>0.004237</td>\n",
       "      <td>0.011110</td>\n",
       "      <td>0.023317</td>\n",
       "    </tr>\n",
       "    <tr>\n",
       "      <th>2</th>\n",
       "      <td>0.032896</td>\n",
       "      <td>0.018808</td>\n",
       "      <td>0.014593</td>\n",
       "      <td>0.021507</td>\n",
       "      <td>0.004583</td>\n",
       "      <td>0.015465</td>\n",
       "      <td>0.028490</td>\n",
       "      <td>0.022161</td>\n",
       "      <td>0.008009</td>\n",
       "      <td>0.020941</td>\n",
       "      <td>0.036123</td>\n",
       "      <td>0.021543</td>\n",
       "      <td>0.008460</td>\n",
       "      <td>0.013745</td>\n",
       "      <td>0.014611</td>\n",
       "      <td>0.022664</td>\n",
       "      <td>0.019386</td>\n",
       "      <td>0.004250</td>\n",
       "      <td>0.010954</td>\n",
       "      <td>0.023145</td>\n",
       "    </tr>\n",
       "    <tr>\n",
       "      <th>3</th>\n",
       "      <td>0.033682</td>\n",
       "      <td>0.019071</td>\n",
       "      <td>0.014429</td>\n",
       "      <td>0.021417</td>\n",
       "      <td>0.004540</td>\n",
       "      <td>0.015744</td>\n",
       "      <td>0.029056</td>\n",
       "      <td>0.021313</td>\n",
       "      <td>0.007869</td>\n",
       "      <td>0.021122</td>\n",
       "      <td>0.036787</td>\n",
       "      <td>0.021757</td>\n",
       "      <td>0.008530</td>\n",
       "      <td>0.013548</td>\n",
       "      <td>0.013991</td>\n",
       "      <td>0.022306</td>\n",
       "      <td>0.019104</td>\n",
       "      <td>0.004233</td>\n",
       "      <td>0.010825</td>\n",
       "      <td>0.022938</td>\n",
       "    </tr>\n",
       "    <tr>\n",
       "      <th>4</th>\n",
       "      <td>0.034409</td>\n",
       "      <td>0.019274</td>\n",
       "      <td>0.014269</td>\n",
       "      <td>0.021298</td>\n",
       "      <td>0.004377</td>\n",
       "      <td>0.016121</td>\n",
       "      <td>0.029799</td>\n",
       "      <td>0.019993</td>\n",
       "      <td>0.007748</td>\n",
       "      <td>0.021350</td>\n",
       "      <td>0.037390</td>\n",
       "      <td>0.022038</td>\n",
       "      <td>0.008599</td>\n",
       "      <td>0.013408</td>\n",
       "      <td>0.013263</td>\n",
       "      <td>0.022003</td>\n",
       "      <td>0.018803</td>\n",
       "      <td>0.004262</td>\n",
       "      <td>0.010761</td>\n",
       "      <td>0.022810</td>\n",
       "    </tr>\n",
       "    <tr>\n",
       "      <th>5</th>\n",
       "      <td>0.035736</td>\n",
       "      <td>0.019396</td>\n",
       "      <td>0.013807</td>\n",
       "      <td>0.020886</td>\n",
       "      <td>0.004355</td>\n",
       "      <td>0.016258</td>\n",
       "      <td>0.030142</td>\n",
       "      <td>0.018370</td>\n",
       "      <td>0.007647</td>\n",
       "      <td>0.021824</td>\n",
       "      <td>0.038706</td>\n",
       "      <td>0.022112</td>\n",
       "      <td>0.008779</td>\n",
       "      <td>0.013618</td>\n",
       "      <td>0.012196</td>\n",
       "      <td>0.021376</td>\n",
       "      <td>0.018294</td>\n",
       "      <td>0.004380</td>\n",
       "      <td>0.010830</td>\n",
       "      <td>0.022748</td>\n",
       "    </tr>\n",
       "    <tr>\n",
       "      <th>6</th>\n",
       "      <td>0.037054</td>\n",
       "      <td>0.019682</td>\n",
       "      <td>0.013381</td>\n",
       "      <td>0.020377</td>\n",
       "      <td>0.004329</td>\n",
       "      <td>0.016424</td>\n",
       "      <td>0.030507</td>\n",
       "      <td>0.016267</td>\n",
       "      <td>0.007350</td>\n",
       "      <td>0.022178</td>\n",
       "      <td>0.040747</td>\n",
       "      <td>0.022355</td>\n",
       "      <td>0.009011</td>\n",
       "      <td>0.013738</td>\n",
       "      <td>0.010918</td>\n",
       "      <td>0.020788</td>\n",
       "      <td>0.017589</td>\n",
       "      <td>0.004559</td>\n",
       "      <td>0.010841</td>\n",
       "      <td>0.022466</td>\n",
       "    </tr>\n",
       "    <tr>\n",
       "      <th>7</th>\n",
       "      <td>0.038005</td>\n",
       "      <td>0.020475</td>\n",
       "      <td>0.013094</td>\n",
       "      <td>0.019813</td>\n",
       "      <td>0.004239</td>\n",
       "      <td>0.016839</td>\n",
       "      <td>0.031284</td>\n",
       "      <td>0.014677</td>\n",
       "      <td>0.007268</td>\n",
       "      <td>0.022190</td>\n",
       "      <td>0.041145</td>\n",
       "      <td>0.023321</td>\n",
       "      <td>0.008788</td>\n",
       "      <td>0.013578</td>\n",
       "      <td>0.009369</td>\n",
       "      <td>0.020430</td>\n",
       "      <td>0.017123</td>\n",
       "      <td>0.004608</td>\n",
       "      <td>0.010797</td>\n",
       "      <td>0.022170</td>\n",
       "    </tr>\n",
       "    <tr>\n",
       "      <th>8</th>\n",
       "      <td>0.039516</td>\n",
       "      <td>0.021258</td>\n",
       "      <td>0.011713</td>\n",
       "      <td>0.016868</td>\n",
       "      <td>0.004205</td>\n",
       "      <td>0.017430</td>\n",
       "      <td>0.032005</td>\n",
       "      <td>0.012909</td>\n",
       "      <td>0.007266</td>\n",
       "      <td>0.022911</td>\n",
       "      <td>0.043678</td>\n",
       "      <td>0.024379</td>\n",
       "      <td>0.009226</td>\n",
       "      <td>0.014172</td>\n",
       "      <td>0.007666</td>\n",
       "      <td>0.018080</td>\n",
       "      <td>0.015504</td>\n",
       "      <td>0.004700</td>\n",
       "      <td>0.011169</td>\n",
       "      <td>0.022753</td>\n",
       "    </tr>\n",
       "    <tr>\n",
       "      <th>9</th>\n",
       "      <td>0.039620</td>\n",
       "      <td>0.021496</td>\n",
       "      <td>0.012947</td>\n",
       "      <td>0.016898</td>\n",
       "      <td>0.004484</td>\n",
       "      <td>0.017808</td>\n",
       "      <td>0.031576</td>\n",
       "      <td>0.015573</td>\n",
       "      <td>0.007645</td>\n",
       "      <td>0.022473</td>\n",
       "      <td>0.043784</td>\n",
       "      <td>0.024620</td>\n",
       "      <td>0.009377</td>\n",
       "      <td>0.014065</td>\n",
       "      <td>0.004786</td>\n",
       "      <td>0.018667</td>\n",
       "      <td>0.015369</td>\n",
       "      <td>0.004498</td>\n",
       "      <td>0.011177</td>\n",
       "      <td>0.022214</td>\n",
       "    </tr>\n",
       "    <tr>\n",
       "      <th>10</th>\n",
       "      <td>0.038873</td>\n",
       "      <td>0.021615</td>\n",
       "      <td>0.013480</td>\n",
       "      <td>0.016112</td>\n",
       "      <td>0.004602</td>\n",
       "      <td>0.017602</td>\n",
       "      <td>0.028790</td>\n",
       "      <td>0.018688</td>\n",
       "      <td>0.007760</td>\n",
       "      <td>0.022686</td>\n",
       "      <td>0.044193</td>\n",
       "      <td>0.024803</td>\n",
       "      <td>0.009432</td>\n",
       "      <td>0.014116</td>\n",
       "      <td>0.005615</td>\n",
       "      <td>0.018582</td>\n",
       "      <td>0.015404</td>\n",
       "      <td>0.004413</td>\n",
       "      <td>0.011113</td>\n",
       "      <td>0.022233</td>\n",
       "    </tr>\n",
       "    <tr>\n",
       "      <th>11</th>\n",
       "      <td>0.038106</td>\n",
       "      <td>0.021708</td>\n",
       "      <td>0.013868</td>\n",
       "      <td>0.015597</td>\n",
       "      <td>0.004666</td>\n",
       "      <td>0.016879</td>\n",
       "      <td>0.026991</td>\n",
       "      <td>0.019829</td>\n",
       "      <td>0.007849</td>\n",
       "      <td>0.023015</td>\n",
       "      <td>0.044400</td>\n",
       "      <td>0.025219</td>\n",
       "      <td>0.009427</td>\n",
       "      <td>0.014292</td>\n",
       "      <td>0.006853</td>\n",
       "      <td>0.018825</td>\n",
       "      <td>0.015244</td>\n",
       "      <td>0.004400</td>\n",
       "      <td>0.011224</td>\n",
       "      <td>0.022257</td>\n",
       "    </tr>\n",
       "    <tr>\n",
       "      <th>12</th>\n",
       "      <td>0.036570</td>\n",
       "      <td>0.021299</td>\n",
       "      <td>0.014478</td>\n",
       "      <td>0.016920</td>\n",
       "      <td>0.004560</td>\n",
       "      <td>0.016817</td>\n",
       "      <td>0.027927</td>\n",
       "      <td>0.021071</td>\n",
       "      <td>0.008064</td>\n",
       "      <td>0.021825</td>\n",
       "      <td>0.042169</td>\n",
       "      <td>0.025600</td>\n",
       "      <td>0.009019</td>\n",
       "      <td>0.013765</td>\n",
       "      <td>0.008972</td>\n",
       "      <td>0.019602</td>\n",
       "      <td>0.015610</td>\n",
       "      <td>0.004194</td>\n",
       "      <td>0.010991</td>\n",
       "      <td>0.021356</td>\n",
       "    </tr>\n",
       "    <tr>\n",
       "      <th>13</th>\n",
       "      <td>0.035376</td>\n",
       "      <td>0.020654</td>\n",
       "      <td>0.014561</td>\n",
       "      <td>0.017374</td>\n",
       "      <td>0.004581</td>\n",
       "      <td>0.016312</td>\n",
       "      <td>0.027361</td>\n",
       "      <td>0.021970</td>\n",
       "      <td>0.008029</td>\n",
       "      <td>0.021831</td>\n",
       "      <td>0.041253</td>\n",
       "      <td>0.025120</td>\n",
       "      <td>0.008704</td>\n",
       "      <td>0.013880</td>\n",
       "      <td>0.010624</td>\n",
       "      <td>0.019898</td>\n",
       "      <td>0.015989</td>\n",
       "      <td>0.004172</td>\n",
       "      <td>0.011197</td>\n",
       "      <td>0.021819</td>\n",
       "    </tr>\n",
       "    <tr>\n",
       "      <th>14</th>\n",
       "      <td>0.034078</td>\n",
       "      <td>0.019832</td>\n",
       "      <td>0.014518</td>\n",
       "      <td>0.017561</td>\n",
       "      <td>0.004705</td>\n",
       "      <td>0.015784</td>\n",
       "      <td>0.026635</td>\n",
       "      <td>0.022408</td>\n",
       "      <td>0.008077</td>\n",
       "      <td>0.022460</td>\n",
       "      <td>0.041168</td>\n",
       "      <td>0.024209</td>\n",
       "      <td>0.008597</td>\n",
       "      <td>0.014085</td>\n",
       "      <td>0.011603</td>\n",
       "      <td>0.020101</td>\n",
       "      <td>0.016234</td>\n",
       "      <td>0.004259</td>\n",
       "      <td>0.011280</td>\n",
       "      <td>0.022794</td>\n",
       "    </tr>\n",
       "    <tr>\n",
       "      <th>15</th>\n",
       "      <td>0.032877</td>\n",
       "      <td>0.019705</td>\n",
       "      <td>0.014699</td>\n",
       "      <td>0.018317</td>\n",
       "      <td>0.004729</td>\n",
       "      <td>0.015879</td>\n",
       "      <td>0.027106</td>\n",
       "      <td>0.022918</td>\n",
       "      <td>0.008075</td>\n",
       "      <td>0.022013</td>\n",
       "      <td>0.039130</td>\n",
       "      <td>0.024418</td>\n",
       "      <td>0.008176</td>\n",
       "      <td>0.013722</td>\n",
       "      <td>0.012624</td>\n",
       "      <td>0.020522</td>\n",
       "      <td>0.016659</td>\n",
       "      <td>0.004097</td>\n",
       "      <td>0.011118</td>\n",
       "      <td>0.023145</td>\n",
       "    </tr>\n",
       "    <tr>\n",
       "      <th>16</th>\n",
       "      <td>0.032097</td>\n",
       "      <td>0.019528</td>\n",
       "      <td>0.014833</td>\n",
       "      <td>0.019012</td>\n",
       "      <td>0.004644</td>\n",
       "      <td>0.015894</td>\n",
       "      <td>0.027400</td>\n",
       "      <td>0.023089</td>\n",
       "      <td>0.008150</td>\n",
       "      <td>0.021646</td>\n",
       "      <td>0.037493</td>\n",
       "      <td>0.024319</td>\n",
       "      <td>0.007881</td>\n",
       "      <td>0.013512</td>\n",
       "      <td>0.013260</td>\n",
       "      <td>0.020819</td>\n",
       "      <td>0.017090</td>\n",
       "      <td>0.004137</td>\n",
       "      <td>0.011039</td>\n",
       "      <td>0.023463</td>\n",
       "    </tr>\n",
       "  </tbody>\n",
       "</table>\n",
       "</div>"
      ],
      "text/plain": [
       "           A         R         N         D         C         Q         E  \\\n",
       "0   0.031541  0.018760  0.014847  0.021406  0.004548  0.015094  0.027544   \n",
       "1   0.032212  0.018842  0.014792  0.021486  0.004537  0.015262  0.028129   \n",
       "2   0.032896  0.018808  0.014593  0.021507  0.004583  0.015465  0.028490   \n",
       "3   0.033682  0.019071  0.014429  0.021417  0.004540  0.015744  0.029056   \n",
       "4   0.034409  0.019274  0.014269  0.021298  0.004377  0.016121  0.029799   \n",
       "5   0.035736  0.019396  0.013807  0.020886  0.004355  0.016258  0.030142   \n",
       "6   0.037054  0.019682  0.013381  0.020377  0.004329  0.016424  0.030507   \n",
       "7   0.038005  0.020475  0.013094  0.019813  0.004239  0.016839  0.031284   \n",
       "8   0.039516  0.021258  0.011713  0.016868  0.004205  0.017430  0.032005   \n",
       "9   0.039620  0.021496  0.012947  0.016898  0.004484  0.017808  0.031576   \n",
       "10  0.038873  0.021615  0.013480  0.016112  0.004602  0.017602  0.028790   \n",
       "11  0.038106  0.021708  0.013868  0.015597  0.004666  0.016879  0.026991   \n",
       "12  0.036570  0.021299  0.014478  0.016920  0.004560  0.016817  0.027927   \n",
       "13  0.035376  0.020654  0.014561  0.017374  0.004581  0.016312  0.027361   \n",
       "14  0.034078  0.019832  0.014518  0.017561  0.004705  0.015784  0.026635   \n",
       "15  0.032877  0.019705  0.014699  0.018317  0.004729  0.015879  0.027106   \n",
       "16  0.032097  0.019528  0.014833  0.019012  0.004644  0.015894  0.027400   \n",
       "\n",
       "           G         H         I         L         K         M         F  \\\n",
       "0   0.023482  0.008255  0.020796  0.035299  0.021568  0.008371  0.013760   \n",
       "1   0.022952  0.008089  0.020710  0.035455  0.021525  0.008388  0.013714   \n",
       "2   0.022161  0.008009  0.020941  0.036123  0.021543  0.008460  0.013745   \n",
       "3   0.021313  0.007869  0.021122  0.036787  0.021757  0.008530  0.013548   \n",
       "4   0.019993  0.007748  0.021350  0.037390  0.022038  0.008599  0.013408   \n",
       "5   0.018370  0.007647  0.021824  0.038706  0.022112  0.008779  0.013618   \n",
       "6   0.016267  0.007350  0.022178  0.040747  0.022355  0.009011  0.013738   \n",
       "7   0.014677  0.007268  0.022190  0.041145  0.023321  0.008788  0.013578   \n",
       "8   0.012909  0.007266  0.022911  0.043678  0.024379  0.009226  0.014172   \n",
       "9   0.015573  0.007645  0.022473  0.043784  0.024620  0.009377  0.014065   \n",
       "10  0.018688  0.007760  0.022686  0.044193  0.024803  0.009432  0.014116   \n",
       "11  0.019829  0.007849  0.023015  0.044400  0.025219  0.009427  0.014292   \n",
       "12  0.021071  0.008064  0.021825  0.042169  0.025600  0.009019  0.013765   \n",
       "13  0.021970  0.008029  0.021831  0.041253  0.025120  0.008704  0.013880   \n",
       "14  0.022408  0.008077  0.022460  0.041168  0.024209  0.008597  0.014085   \n",
       "15  0.022918  0.008075  0.022013  0.039130  0.024418  0.008176  0.013722   \n",
       "16  0.023089  0.008150  0.021646  0.037493  0.024319  0.007881  0.013512   \n",
       "\n",
       "           P         S         T         W         Y         V  \n",
       "0   0.015647  0.022886  0.019566  0.004238  0.011174  0.023456  \n",
       "1   0.015169  0.022870  0.019517  0.004237  0.011110  0.023317  \n",
       "2   0.014611  0.022664  0.019386  0.004250  0.010954  0.023145  \n",
       "3   0.013991  0.022306  0.019104  0.004233  0.010825  0.022938  \n",
       "4   0.013263  0.022003  0.018803  0.004262  0.010761  0.022810  \n",
       "5   0.012196  0.021376  0.018294  0.004380  0.010830  0.022748  \n",
       "6   0.010918  0.020788  0.017589  0.004559  0.010841  0.022466  \n",
       "7   0.009369  0.020430  0.017123  0.004608  0.010797  0.022170  \n",
       "8   0.007666  0.018080  0.015504  0.004700  0.011169  0.022753  \n",
       "9   0.004786  0.018667  0.015369  0.004498  0.011177  0.022214  \n",
       "10  0.005615  0.018582  0.015404  0.004413  0.011113  0.022233  \n",
       "11  0.006853  0.018825  0.015244  0.004400  0.011224  0.022257  \n",
       "12  0.008972  0.019602  0.015610  0.004194  0.010991  0.021356  \n",
       "13  0.010624  0.019898  0.015989  0.004172  0.011197  0.021819  \n",
       "14  0.011603  0.020101  0.016234  0.004259  0.011280  0.022794  \n",
       "15  0.012624  0.020522  0.016659  0.004097  0.011118  0.023145  \n",
       "16  0.013260  0.020819  0.017090  0.004137  0.011039  0.023463  "
      ]
     },
     "metadata": {},
     "output_type": "display_data"
    }
   ],
   "source": [
    "H = pd.read_csv('/Users/ila/01-Unibo/02_Lab2/files_lab2_project/all_data/outputs/gor_train_out/gor_training_out_H.csv', index_col=[0])\n",
    "E = pd.read_csv('/Users/ila/01-Unibo/02_Lab2/files_lab2_project/all_data/outputs/gor_train_out/gor_training_out_E.csv', index_col=[0])\n",
    "C = pd.read_csv('/Users/ila/01-Unibo/02_Lab2/files_lab2_project/all_data/outputs/gor_train_out/gor_training_out_C.csv', index_col=[0])\n",
    "R = pd.read_csv('/Users/ila/01-Unibo/02_Lab2/files_lab2_project/all_data/outputs/gor_train_out/gor_training_out_marg_prob_R.csv', index_col=[0])\n",
    "\n",
    "display(H)"
   ]
  },
  {
   "cell_type": "markdown",
   "metadata": {},
   "source": [
    "# Converting to probablilties:\n",
    "\n",
    "**Q:** When calculating the frequency for the different amino acids and conformations the total number that I’m dividing by is different for the 3 windows positions? Or is it always the same? \n",
    "\n",
    "**A:** in principle it should be different because you’re always observing less like minus 1 or minus d or plus d windows. In order to get proper probabilities you should divide by the times of numbers you see a -k position or a + k position. To be sure that you are getting ‘proper probabilities’ the best thing to do is dividing by the sum of the counts computed by the overall matrix.  If I have the matrix for the marginal probability- \n",
    "For a windows size 3 you observe at position R-1 and the position R+1 a number of times which (n-1) times where n is the total number of residues used in the training. So n should be the number you obtain when summing the #R_0 row (so total number of residues). If you sum #R_-1 you will get (n-1).\n",
    "Thus in order to get a proper normalization matrix is to take the final #R (marginal probability) matrix and then sum each row #R_d. Each row will yield a different value. These values are then used to normalize their corresponding rows.  → R_ss_-1/sum(#R_-1). \n",
    "\n",
    "**Q:** Ah so I cannot use the total count for normalizing each window position? \n",
    "\n",
    "**A** NO! If you have many sequences: This would be n-(n*d) so its a but difficult to be computed. The easiest way is to scan the entire training set: then compute all the counts R_H, R_E, R_C, #R, #SS. Then look at the #R matrix - sum each row to obtain the n specific to the d position within the window. Each particular n of #R_d must be used to normalize the corresponding positions in all the matrices. \n",
    "\n",
    "Prof Remark; Later on: Even if you use the over-all N your are computing a log odd and the denominator is always the same ⇒ thus not changing the result by much… But to obtain proper probabilities you should divide by window-position-specific sum of n.  E.g n_0 = sum of #R_0 ⇒ divide all H_0, E_0, C_0 rows by n_0. Or n_7 = sum of #R_7 ⇒ divide all H_7, E_7, C_7 by n_7!!!\n",
    "\n",
    "* Thus I have to re calculate the probablilities using the correct **n_d**"
   ]
  },
  {
   "cell_type": "code",
   "execution_count": 212,
   "metadata": {},
   "outputs": [
    {
     "data": {
      "text/plain": [
       "0     0.911652\n",
       "1     0.917366\n",
       "2     0.923045\n",
       "3     0.928692\n",
       "4     0.934314\n",
       "5     0.939895\n",
       "6     0.945370\n",
       "7     0.950700\n",
       "8     0.955707\n",
       "9     0.950822\n",
       "10    0.945537\n",
       "11    0.940083\n",
       "12    0.934533\n",
       "13    0.928915\n",
       "14    0.923266\n",
       "15    0.917551\n",
       "16    0.911830\n",
       "dtype: float64"
      ]
     },
     "execution_count": 212,
     "metadata": {},
     "output_type": "execute_result"
    }
   ],
   "source": [
    "\n",
    "n_series = R.sum(axis=1)\n",
    "n_series"
   ]
  },
  {
   "cell_type": "code",
   "execution_count": 226,
   "metadata": {},
   "outputs": [
    {
     "data": {
      "text/html": [
       "<div>\n",
       "<style scoped>\n",
       "    .dataframe tbody tr th:only-of-type {\n",
       "        vertical-align: middle;\n",
       "    }\n",
       "\n",
       "    .dataframe tbody tr th {\n",
       "        vertical-align: top;\n",
       "    }\n",
       "\n",
       "    .dataframe thead th {\n",
       "        text-align: right;\n",
       "    }\n",
       "</style>\n",
       "<table border=\"1\" class=\"dataframe\">\n",
       "  <thead>\n",
       "    <tr style=\"text-align: right;\">\n",
       "      <th></th>\n",
       "      <th>sum = n_d</th>\n",
       "    </tr>\n",
       "  </thead>\n",
       "  <tbody>\n",
       "    <tr>\n",
       "      <th>0</th>\n",
       "      <td>0.911652</td>\n",
       "    </tr>\n",
       "    <tr>\n",
       "      <th>1</th>\n",
       "      <td>0.917366</td>\n",
       "    </tr>\n",
       "    <tr>\n",
       "      <th>2</th>\n",
       "      <td>0.923045</td>\n",
       "    </tr>\n",
       "    <tr>\n",
       "      <th>3</th>\n",
       "      <td>0.928692</td>\n",
       "    </tr>\n",
       "    <tr>\n",
       "      <th>4</th>\n",
       "      <td>0.934314</td>\n",
       "    </tr>\n",
       "    <tr>\n",
       "      <th>5</th>\n",
       "      <td>0.939895</td>\n",
       "    </tr>\n",
       "    <tr>\n",
       "      <th>6</th>\n",
       "      <td>0.945370</td>\n",
       "    </tr>\n",
       "    <tr>\n",
       "      <th>7</th>\n",
       "      <td>0.950700</td>\n",
       "    </tr>\n",
       "    <tr>\n",
       "      <th>8</th>\n",
       "      <td>0.955707</td>\n",
       "    </tr>\n",
       "    <tr>\n",
       "      <th>9</th>\n",
       "      <td>0.950822</td>\n",
       "    </tr>\n",
       "    <tr>\n",
       "      <th>10</th>\n",
       "      <td>0.945537</td>\n",
       "    </tr>\n",
       "    <tr>\n",
       "      <th>11</th>\n",
       "      <td>0.940083</td>\n",
       "    </tr>\n",
       "    <tr>\n",
       "      <th>12</th>\n",
       "      <td>0.934533</td>\n",
       "    </tr>\n",
       "    <tr>\n",
       "      <th>13</th>\n",
       "      <td>0.928915</td>\n",
       "    </tr>\n",
       "    <tr>\n",
       "      <th>14</th>\n",
       "      <td>0.923266</td>\n",
       "    </tr>\n",
       "    <tr>\n",
       "      <th>15</th>\n",
       "      <td>0.917551</td>\n",
       "    </tr>\n",
       "    <tr>\n",
       "      <th>16</th>\n",
       "      <td>0.911830</td>\n",
       "    </tr>\n",
       "  </tbody>\n",
       "</table>\n",
       "</div>"
      ],
      "text/plain": [
       "    sum = n_d\n",
       "0    0.911652\n",
       "1    0.917366\n",
       "2    0.923045\n",
       "3    0.928692\n",
       "4    0.934314\n",
       "5    0.939895\n",
       "6    0.945370\n",
       "7    0.950700\n",
       "8    0.955707\n",
       "9    0.950822\n",
       "10   0.945537\n",
       "11   0.940083\n",
       "12   0.934533\n",
       "13   0.928915\n",
       "14   0.923266\n",
       "15   0.917551\n",
       "16   0.911830"
      ]
     },
     "execution_count": 226,
     "metadata": {},
     "output_type": "execute_result"
    }
   ],
   "source": [
    "n_d = pd.DataFrame(data=n_series, columns=['sum = n_d'])\n",
    "n_d"
   ]
  },
  {
   "cell_type": "code",
   "execution_count": 232,
   "metadata": {},
   "outputs": [
    {
     "data": {
      "text/html": [
       "<div>\n",
       "<style scoped>\n",
       "    .dataframe tbody tr th:only-of-type {\n",
       "        vertical-align: middle;\n",
       "    }\n",
       "\n",
       "    .dataframe tbody tr th {\n",
       "        vertical-align: top;\n",
       "    }\n",
       "\n",
       "    .dataframe thead th {\n",
       "        text-align: right;\n",
       "    }\n",
       "</style>\n",
       "<table border=\"1\" class=\"dataframe\">\n",
       "  <thead>\n",
       "    <tr style=\"text-align: right;\">\n",
       "      <th></th>\n",
       "      <th>A</th>\n",
       "      <th>R</th>\n",
       "      <th>N</th>\n",
       "      <th>D</th>\n",
       "      <th>C</th>\n",
       "      <th>Q</th>\n",
       "      <th>E</th>\n",
       "      <th>G</th>\n",
       "      <th>H</th>\n",
       "      <th>I</th>\n",
       "      <th>L</th>\n",
       "      <th>K</th>\n",
       "      <th>M</th>\n",
       "      <th>F</th>\n",
       "      <th>P</th>\n",
       "      <th>S</th>\n",
       "      <th>T</th>\n",
       "      <th>W</th>\n",
       "      <th>Y</th>\n",
       "      <th>V</th>\n",
       "    </tr>\n",
       "  </thead>\n",
       "  <tbody>\n",
       "    <tr>\n",
       "      <th>0</th>\n",
       "      <td>0.028754</td>\n",
       "      <td>0.017102</td>\n",
       "      <td>0.013535</td>\n",
       "      <td>0.019515</td>\n",
       "      <td>0.004146</td>\n",
       "      <td>0.013761</td>\n",
       "      <td>0.025110</td>\n",
       "      <td>0.021407</td>\n",
       "      <td>0.007526</td>\n",
       "      <td>0.018959</td>\n",
       "      <td>0.032180</td>\n",
       "      <td>0.019663</td>\n",
       "      <td>0.007632</td>\n",
       "      <td>0.012545</td>\n",
       "      <td>0.014265</td>\n",
       "      <td>0.020864</td>\n",
       "      <td>0.017838</td>\n",
       "      <td>0.003864</td>\n",
       "      <td>0.010187</td>\n",
       "      <td>0.021384</td>\n",
       "    </tr>\n",
       "    <tr>\n",
       "      <th>1</th>\n",
       "      <td>0.029550</td>\n",
       "      <td>0.017285</td>\n",
       "      <td>0.013570</td>\n",
       "      <td>0.019710</td>\n",
       "      <td>0.004163</td>\n",
       "      <td>0.014001</td>\n",
       "      <td>0.025805</td>\n",
       "      <td>0.021055</td>\n",
       "      <td>0.007421</td>\n",
       "      <td>0.018998</td>\n",
       "      <td>0.032526</td>\n",
       "      <td>0.019747</td>\n",
       "      <td>0.007695</td>\n",
       "      <td>0.012581</td>\n",
       "      <td>0.013915</td>\n",
       "      <td>0.020980</td>\n",
       "      <td>0.017904</td>\n",
       "      <td>0.003887</td>\n",
       "      <td>0.010192</td>\n",
       "      <td>0.021390</td>\n",
       "    </tr>\n",
       "    <tr>\n",
       "      <th>2</th>\n",
       "      <td>0.030365</td>\n",
       "      <td>0.017361</td>\n",
       "      <td>0.013470</td>\n",
       "      <td>0.019852</td>\n",
       "      <td>0.004230</td>\n",
       "      <td>0.014275</td>\n",
       "      <td>0.026298</td>\n",
       "      <td>0.020455</td>\n",
       "      <td>0.007393</td>\n",
       "      <td>0.019330</td>\n",
       "      <td>0.033343</td>\n",
       "      <td>0.019885</td>\n",
       "      <td>0.007809</td>\n",
       "      <td>0.012687</td>\n",
       "      <td>0.013487</td>\n",
       "      <td>0.020920</td>\n",
       "      <td>0.017894</td>\n",
       "      <td>0.003923</td>\n",
       "      <td>0.010111</td>\n",
       "      <td>0.021364</td>\n",
       "    </tr>\n",
       "    <tr>\n",
       "      <th>3</th>\n",
       "      <td>0.031280</td>\n",
       "      <td>0.017711</td>\n",
       "      <td>0.013400</td>\n",
       "      <td>0.019890</td>\n",
       "      <td>0.004216</td>\n",
       "      <td>0.014621</td>\n",
       "      <td>0.026984</td>\n",
       "      <td>0.019793</td>\n",
       "      <td>0.007308</td>\n",
       "      <td>0.019616</td>\n",
       "      <td>0.034164</td>\n",
       "      <td>0.020205</td>\n",
       "      <td>0.007921</td>\n",
       "      <td>0.012582</td>\n",
       "      <td>0.012993</td>\n",
       "      <td>0.020715</td>\n",
       "      <td>0.017742</td>\n",
       "      <td>0.003931</td>\n",
       "      <td>0.010053</td>\n",
       "      <td>0.021302</td>\n",
       "    </tr>\n",
       "    <tr>\n",
       "      <th>4</th>\n",
       "      <td>0.032149</td>\n",
       "      <td>0.018008</td>\n",
       "      <td>0.013332</td>\n",
       "      <td>0.019899</td>\n",
       "      <td>0.004090</td>\n",
       "      <td>0.015062</td>\n",
       "      <td>0.027841</td>\n",
       "      <td>0.018680</td>\n",
       "      <td>0.007239</td>\n",
       "      <td>0.019948</td>\n",
       "      <td>0.034934</td>\n",
       "      <td>0.020590</td>\n",
       "      <td>0.008034</td>\n",
       "      <td>0.012527</td>\n",
       "      <td>0.012392</td>\n",
       "      <td>0.020558</td>\n",
       "      <td>0.017568</td>\n",
       "      <td>0.003982</td>\n",
       "      <td>0.010054</td>\n",
       "      <td>0.021312</td>\n",
       "    </tr>\n",
       "    <tr>\n",
       "      <th>5</th>\n",
       "      <td>0.033588</td>\n",
       "      <td>0.018230</td>\n",
       "      <td>0.012978</td>\n",
       "      <td>0.019631</td>\n",
       "      <td>0.004094</td>\n",
       "      <td>0.015281</td>\n",
       "      <td>0.028330</td>\n",
       "      <td>0.017266</td>\n",
       "      <td>0.007187</td>\n",
       "      <td>0.020512</td>\n",
       "      <td>0.036380</td>\n",
       "      <td>0.020783</td>\n",
       "      <td>0.008251</td>\n",
       "      <td>0.012800</td>\n",
       "      <td>0.011463</td>\n",
       "      <td>0.020091</td>\n",
       "      <td>0.017194</td>\n",
       "      <td>0.004117</td>\n",
       "      <td>0.010179</td>\n",
       "      <td>0.021381</td>\n",
       "    </tr>\n",
       "    <tr>\n",
       "      <th>6</th>\n",
       "      <td>0.035030</td>\n",
       "      <td>0.018607</td>\n",
       "      <td>0.012650</td>\n",
       "      <td>0.019264</td>\n",
       "      <td>0.004092</td>\n",
       "      <td>0.015527</td>\n",
       "      <td>0.028840</td>\n",
       "      <td>0.015378</td>\n",
       "      <td>0.006949</td>\n",
       "      <td>0.020967</td>\n",
       "      <td>0.038521</td>\n",
       "      <td>0.021133</td>\n",
       "      <td>0.008519</td>\n",
       "      <td>0.012987</td>\n",
       "      <td>0.010322</td>\n",
       "      <td>0.019653</td>\n",
       "      <td>0.016628</td>\n",
       "      <td>0.004310</td>\n",
       "      <td>0.010249</td>\n",
       "      <td>0.021239</td>\n",
       "    </tr>\n",
       "    <tr>\n",
       "      <th>7</th>\n",
       "      <td>0.036131</td>\n",
       "      <td>0.019466</td>\n",
       "      <td>0.012449</td>\n",
       "      <td>0.018836</td>\n",
       "      <td>0.004030</td>\n",
       "      <td>0.016009</td>\n",
       "      <td>0.029742</td>\n",
       "      <td>0.013953</td>\n",
       "      <td>0.006910</td>\n",
       "      <td>0.021096</td>\n",
       "      <td>0.039117</td>\n",
       "      <td>0.022171</td>\n",
       "      <td>0.008355</td>\n",
       "      <td>0.012909</td>\n",
       "      <td>0.008907</td>\n",
       "      <td>0.019422</td>\n",
       "      <td>0.016279</td>\n",
       "      <td>0.004381</td>\n",
       "      <td>0.010265</td>\n",
       "      <td>0.021077</td>\n",
       "    </tr>\n",
       "    <tr>\n",
       "      <th>8</th>\n",
       "      <td>0.037766</td>\n",
       "      <td>0.020316</td>\n",
       "      <td>0.011195</td>\n",
       "      <td>0.016121</td>\n",
       "      <td>0.004018</td>\n",
       "      <td>0.016658</td>\n",
       "      <td>0.030587</td>\n",
       "      <td>0.012337</td>\n",
       "      <td>0.006944</td>\n",
       "      <td>0.021896</td>\n",
       "      <td>0.041744</td>\n",
       "      <td>0.023299</td>\n",
       "      <td>0.008817</td>\n",
       "      <td>0.013544</td>\n",
       "      <td>0.007327</td>\n",
       "      <td>0.017279</td>\n",
       "      <td>0.014817</td>\n",
       "      <td>0.004491</td>\n",
       "      <td>0.010674</td>\n",
       "      <td>0.021746</td>\n",
       "    </tr>\n",
       "    <tr>\n",
       "      <th>9</th>\n",
       "      <td>0.037672</td>\n",
       "      <td>0.020439</td>\n",
       "      <td>0.012310</td>\n",
       "      <td>0.016067</td>\n",
       "      <td>0.004263</td>\n",
       "      <td>0.016932</td>\n",
       "      <td>0.030024</td>\n",
       "      <td>0.014807</td>\n",
       "      <td>0.007269</td>\n",
       "      <td>0.021368</td>\n",
       "      <td>0.041631</td>\n",
       "      <td>0.023409</td>\n",
       "      <td>0.008916</td>\n",
       "      <td>0.013373</td>\n",
       "      <td>0.004551</td>\n",
       "      <td>0.017749</td>\n",
       "      <td>0.014613</td>\n",
       "      <td>0.004276</td>\n",
       "      <td>0.010627</td>\n",
       "      <td>0.021121</td>\n",
       "    </tr>\n",
       "    <tr>\n",
       "      <th>10</th>\n",
       "      <td>0.036756</td>\n",
       "      <td>0.020438</td>\n",
       "      <td>0.012745</td>\n",
       "      <td>0.015235</td>\n",
       "      <td>0.004352</td>\n",
       "      <td>0.016644</td>\n",
       "      <td>0.027222</td>\n",
       "      <td>0.017670</td>\n",
       "      <td>0.007337</td>\n",
       "      <td>0.021450</td>\n",
       "      <td>0.041786</td>\n",
       "      <td>0.023452</td>\n",
       "      <td>0.008919</td>\n",
       "      <td>0.013347</td>\n",
       "      <td>0.005309</td>\n",
       "      <td>0.017570</td>\n",
       "      <td>0.014565</td>\n",
       "      <td>0.004173</td>\n",
       "      <td>0.010508</td>\n",
       "      <td>0.021022</td>\n",
       "    </tr>\n",
       "    <tr>\n",
       "      <th>11</th>\n",
       "      <td>0.035823</td>\n",
       "      <td>0.020407</td>\n",
       "      <td>0.013037</td>\n",
       "      <td>0.014662</td>\n",
       "      <td>0.004386</td>\n",
       "      <td>0.015868</td>\n",
       "      <td>0.025374</td>\n",
       "      <td>0.018641</td>\n",
       "      <td>0.007379</td>\n",
       "      <td>0.021636</td>\n",
       "      <td>0.041740</td>\n",
       "      <td>0.023708</td>\n",
       "      <td>0.008862</td>\n",
       "      <td>0.013436</td>\n",
       "      <td>0.006442</td>\n",
       "      <td>0.017697</td>\n",
       "      <td>0.014330</td>\n",
       "      <td>0.004136</td>\n",
       "      <td>0.010551</td>\n",
       "      <td>0.020923</td>\n",
       "    </tr>\n",
       "    <tr>\n",
       "      <th>12</th>\n",
       "      <td>0.034176</td>\n",
       "      <td>0.019905</td>\n",
       "      <td>0.013530</td>\n",
       "      <td>0.015813</td>\n",
       "      <td>0.004261</td>\n",
       "      <td>0.015716</td>\n",
       "      <td>0.026099</td>\n",
       "      <td>0.019692</td>\n",
       "      <td>0.007536</td>\n",
       "      <td>0.020396</td>\n",
       "      <td>0.039408</td>\n",
       "      <td>0.023924</td>\n",
       "      <td>0.008428</td>\n",
       "      <td>0.012864</td>\n",
       "      <td>0.008385</td>\n",
       "      <td>0.018319</td>\n",
       "      <td>0.014588</td>\n",
       "      <td>0.003919</td>\n",
       "      <td>0.010271</td>\n",
       "      <td>0.019958</td>\n",
       "    </tr>\n",
       "    <tr>\n",
       "      <th>13</th>\n",
       "      <td>0.032861</td>\n",
       "      <td>0.019186</td>\n",
       "      <td>0.013526</td>\n",
       "      <td>0.016139</td>\n",
       "      <td>0.004255</td>\n",
       "      <td>0.015153</td>\n",
       "      <td>0.025416</td>\n",
       "      <td>0.020408</td>\n",
       "      <td>0.007458</td>\n",
       "      <td>0.020279</td>\n",
       "      <td>0.038320</td>\n",
       "      <td>0.023334</td>\n",
       "      <td>0.008086</td>\n",
       "      <td>0.012893</td>\n",
       "      <td>0.009869</td>\n",
       "      <td>0.018484</td>\n",
       "      <td>0.014852</td>\n",
       "      <td>0.003875</td>\n",
       "      <td>0.010401</td>\n",
       "      <td>0.020268</td>\n",
       "    </tr>\n",
       "    <tr>\n",
       "      <th>14</th>\n",
       "      <td>0.031463</td>\n",
       "      <td>0.018310</td>\n",
       "      <td>0.013404</td>\n",
       "      <td>0.016213</td>\n",
       "      <td>0.004344</td>\n",
       "      <td>0.014573</td>\n",
       "      <td>0.024591</td>\n",
       "      <td>0.020689</td>\n",
       "      <td>0.007457</td>\n",
       "      <td>0.020737</td>\n",
       "      <td>0.038009</td>\n",
       "      <td>0.022352</td>\n",
       "      <td>0.007938</td>\n",
       "      <td>0.013004</td>\n",
       "      <td>0.010713</td>\n",
       "      <td>0.018559</td>\n",
       "      <td>0.014989</td>\n",
       "      <td>0.003932</td>\n",
       "      <td>0.010414</td>\n",
       "      <td>0.021045</td>\n",
       "    </tr>\n",
       "    <tr>\n",
       "      <th>15</th>\n",
       "      <td>0.030166</td>\n",
       "      <td>0.018080</td>\n",
       "      <td>0.013487</td>\n",
       "      <td>0.016807</td>\n",
       "      <td>0.004339</td>\n",
       "      <td>0.014570</td>\n",
       "      <td>0.024871</td>\n",
       "      <td>0.021028</td>\n",
       "      <td>0.007410</td>\n",
       "      <td>0.020198</td>\n",
       "      <td>0.035903</td>\n",
       "      <td>0.022405</td>\n",
       "      <td>0.007502</td>\n",
       "      <td>0.012591</td>\n",
       "      <td>0.011583</td>\n",
       "      <td>0.018830</td>\n",
       "      <td>0.015285</td>\n",
       "      <td>0.003759</td>\n",
       "      <td>0.010201</td>\n",
       "      <td>0.021237</td>\n",
       "    </tr>\n",
       "    <tr>\n",
       "      <th>16</th>\n",
       "      <td>0.029267</td>\n",
       "      <td>0.017806</td>\n",
       "      <td>0.013525</td>\n",
       "      <td>0.017335</td>\n",
       "      <td>0.004235</td>\n",
       "      <td>0.014492</td>\n",
       "      <td>0.024984</td>\n",
       "      <td>0.021054</td>\n",
       "      <td>0.007431</td>\n",
       "      <td>0.019738</td>\n",
       "      <td>0.034187</td>\n",
       "      <td>0.022174</td>\n",
       "      <td>0.007186</td>\n",
       "      <td>0.012321</td>\n",
       "      <td>0.012091</td>\n",
       "      <td>0.018983</td>\n",
       "      <td>0.015583</td>\n",
       "      <td>0.003772</td>\n",
       "      <td>0.010065</td>\n",
       "      <td>0.021394</td>\n",
       "    </tr>\n",
       "  </tbody>\n",
       "</table>\n",
       "</div>"
      ],
      "text/plain": [
       "           A         R         N         D         C         Q         E  \\\n",
       "0   0.028754  0.017102  0.013535  0.019515  0.004146  0.013761  0.025110   \n",
       "1   0.029550  0.017285  0.013570  0.019710  0.004163  0.014001  0.025805   \n",
       "2   0.030365  0.017361  0.013470  0.019852  0.004230  0.014275  0.026298   \n",
       "3   0.031280  0.017711  0.013400  0.019890  0.004216  0.014621  0.026984   \n",
       "4   0.032149  0.018008  0.013332  0.019899  0.004090  0.015062  0.027841   \n",
       "5   0.033588  0.018230  0.012978  0.019631  0.004094  0.015281  0.028330   \n",
       "6   0.035030  0.018607  0.012650  0.019264  0.004092  0.015527  0.028840   \n",
       "7   0.036131  0.019466  0.012449  0.018836  0.004030  0.016009  0.029742   \n",
       "8   0.037766  0.020316  0.011195  0.016121  0.004018  0.016658  0.030587   \n",
       "9   0.037672  0.020439  0.012310  0.016067  0.004263  0.016932  0.030024   \n",
       "10  0.036756  0.020438  0.012745  0.015235  0.004352  0.016644  0.027222   \n",
       "11  0.035823  0.020407  0.013037  0.014662  0.004386  0.015868  0.025374   \n",
       "12  0.034176  0.019905  0.013530  0.015813  0.004261  0.015716  0.026099   \n",
       "13  0.032861  0.019186  0.013526  0.016139  0.004255  0.015153  0.025416   \n",
       "14  0.031463  0.018310  0.013404  0.016213  0.004344  0.014573  0.024591   \n",
       "15  0.030166  0.018080  0.013487  0.016807  0.004339  0.014570  0.024871   \n",
       "16  0.029267  0.017806  0.013525  0.017335  0.004235  0.014492  0.024984   \n",
       "\n",
       "           G         H         I         L         K         M         F  \\\n",
       "0   0.021407  0.007526  0.018959  0.032180  0.019663  0.007632  0.012545   \n",
       "1   0.021055  0.007421  0.018998  0.032526  0.019747  0.007695  0.012581   \n",
       "2   0.020455  0.007393  0.019330  0.033343  0.019885  0.007809  0.012687   \n",
       "3   0.019793  0.007308  0.019616  0.034164  0.020205  0.007921  0.012582   \n",
       "4   0.018680  0.007239  0.019948  0.034934  0.020590  0.008034  0.012527   \n",
       "5   0.017266  0.007187  0.020512  0.036380  0.020783  0.008251  0.012800   \n",
       "6   0.015378  0.006949  0.020967  0.038521  0.021133  0.008519  0.012987   \n",
       "7   0.013953  0.006910  0.021096  0.039117  0.022171  0.008355  0.012909   \n",
       "8   0.012337  0.006944  0.021896  0.041744  0.023299  0.008817  0.013544   \n",
       "9   0.014807  0.007269  0.021368  0.041631  0.023409  0.008916  0.013373   \n",
       "10  0.017670  0.007337  0.021450  0.041786  0.023452  0.008919  0.013347   \n",
       "11  0.018641  0.007379  0.021636  0.041740  0.023708  0.008862  0.013436   \n",
       "12  0.019692  0.007536  0.020396  0.039408  0.023924  0.008428  0.012864   \n",
       "13  0.020408  0.007458  0.020279  0.038320  0.023334  0.008086  0.012893   \n",
       "14  0.020689  0.007457  0.020737  0.038009  0.022352  0.007938  0.013004   \n",
       "15  0.021028  0.007410  0.020198  0.035903  0.022405  0.007502  0.012591   \n",
       "16  0.021054  0.007431  0.019738  0.034187  0.022174  0.007186  0.012321   \n",
       "\n",
       "           P         S         T         W         Y         V  \n",
       "0   0.014265  0.020864  0.017838  0.003864  0.010187  0.021384  \n",
       "1   0.013915  0.020980  0.017904  0.003887  0.010192  0.021390  \n",
       "2   0.013487  0.020920  0.017894  0.003923  0.010111  0.021364  \n",
       "3   0.012993  0.020715  0.017742  0.003931  0.010053  0.021302  \n",
       "4   0.012392  0.020558  0.017568  0.003982  0.010054  0.021312  \n",
       "5   0.011463  0.020091  0.017194  0.004117  0.010179  0.021381  \n",
       "6   0.010322  0.019653  0.016628  0.004310  0.010249  0.021239  \n",
       "7   0.008907  0.019422  0.016279  0.004381  0.010265  0.021077  \n",
       "8   0.007327  0.017279  0.014817  0.004491  0.010674  0.021746  \n",
       "9   0.004551  0.017749  0.014613  0.004276  0.010627  0.021121  \n",
       "10  0.005309  0.017570  0.014565  0.004173  0.010508  0.021022  \n",
       "11  0.006442  0.017697  0.014330  0.004136  0.010551  0.020923  \n",
       "12  0.008385  0.018319  0.014588  0.003919  0.010271  0.019958  \n",
       "13  0.009869  0.018484  0.014852  0.003875  0.010401  0.020268  \n",
       "14  0.010713  0.018559  0.014989  0.003932  0.010414  0.021045  \n",
       "15  0.011583  0.018830  0.015285  0.003759  0.010201  0.021237  \n",
       "16  0.012091  0.018983  0.015583  0.003772  0.010065  0.021394  "
      ]
     },
     "metadata": {},
     "output_type": "display_data"
    }
   ],
   "source": [
    "# names H E C\n",
    "display(H)"
   ]
  },
  {
   "cell_type": "code",
   "execution_count": 4,
   "metadata": {},
   "outputs": [
    {
     "data": {
      "text/html": [
       "<div>\n",
       "<style scoped>\n",
       "    .dataframe tbody tr th:only-of-type {\n",
       "        vertical-align: middle;\n",
       "    }\n",
       "\n",
       "    .dataframe tbody tr th {\n",
       "        vertical-align: top;\n",
       "    }\n",
       "\n",
       "    .dataframe thead th {\n",
       "        text-align: right;\n",
       "    }\n",
       "</style>\n",
       "<table border=\"1\" class=\"dataframe\">\n",
       "  <thead>\n",
       "    <tr style=\"text-align: right;\">\n",
       "      <th></th>\n",
       "      <th>a</th>\n",
       "      <th>b</th>\n",
       "      <th>c</th>\n",
       "    </tr>\n",
       "  </thead>\n",
       "  <tbody>\n",
       "    <tr>\n",
       "      <th>0</th>\n",
       "      <td>1.0</td>\n",
       "      <td>4.0</td>\n",
       "      <td>5.0</td>\n",
       "    </tr>\n",
       "    <tr>\n",
       "      <th>1</th>\n",
       "      <td>3.0</td>\n",
       "      <td>8.0</td>\n",
       "      <td>45.0</td>\n",
       "    </tr>\n",
       "    <tr>\n",
       "      <th>2</th>\n",
       "      <td>5.0</td>\n",
       "      <td>3.0</td>\n",
       "      <td>67.0</td>\n",
       "    </tr>\n",
       "    <tr>\n",
       "      <th>3</th>\n",
       "      <td>2.0</td>\n",
       "      <td>7.0</td>\n",
       "      <td>34.0</td>\n",
       "    </tr>\n",
       "  </tbody>\n",
       "</table>\n",
       "</div>"
      ],
      "text/plain": [
       "     a    b     c\n",
       "0  1.0  4.0   5.0\n",
       "1  3.0  8.0  45.0\n",
       "2  5.0  3.0  67.0\n",
       "3  2.0  7.0  34.0"
      ]
     },
     "metadata": {},
     "output_type": "display_data"
    },
    {
     "data": {
      "text/html": [
       "<div>\n",
       "<style scoped>\n",
       "    .dataframe tbody tr th:only-of-type {\n",
       "        vertical-align: middle;\n",
       "    }\n",
       "\n",
       "    .dataframe tbody tr th {\n",
       "        vertical-align: top;\n",
       "    }\n",
       "\n",
       "    .dataframe thead th {\n",
       "        text-align: right;\n",
       "    }\n",
       "</style>\n",
       "<table border=\"1\" class=\"dataframe\">\n",
       "  <thead>\n",
       "    <tr style=\"text-align: right;\">\n",
       "      <th></th>\n",
       "      <th>a</th>\n",
       "    </tr>\n",
       "  </thead>\n",
       "  <tbody>\n",
       "    <tr>\n",
       "      <th>0</th>\n",
       "      <td>4.0</td>\n",
       "    </tr>\n",
       "    <tr>\n",
       "      <th>1</th>\n",
       "      <td>2.0</td>\n",
       "    </tr>\n",
       "    <tr>\n",
       "      <th>2</th>\n",
       "      <td>11.0</td>\n",
       "    </tr>\n",
       "    <tr>\n",
       "      <th>3</th>\n",
       "      <td>5.0</td>\n",
       "    </tr>\n",
       "  </tbody>\n",
       "</table>\n",
       "</div>"
      ],
      "text/plain": [
       "      a\n",
       "0   4.0\n",
       "1   2.0\n",
       "2  11.0\n",
       "3   5.0"
      ]
     },
     "metadata": {},
     "output_type": "display_data"
    },
    {
     "data": {
      "text/html": [
       "<div>\n",
       "<style scoped>\n",
       "    .dataframe tbody tr th:only-of-type {\n",
       "        vertical-align: middle;\n",
       "    }\n",
       "\n",
       "    .dataframe tbody tr th {\n",
       "        vertical-align: top;\n",
       "    }\n",
       "\n",
       "    .dataframe thead th {\n",
       "        text-align: right;\n",
       "    }\n",
       "</style>\n",
       "<table border=\"1\" class=\"dataframe\">\n",
       "  <thead>\n",
       "    <tr style=\"text-align: right;\">\n",
       "      <th></th>\n",
       "      <th>a</th>\n",
       "      <th>b</th>\n",
       "      <th>c</th>\n",
       "    </tr>\n",
       "  </thead>\n",
       "  <tbody>\n",
       "    <tr>\n",
       "      <th>0</th>\n",
       "      <td>0.250000</td>\n",
       "      <td>NaN</td>\n",
       "      <td>NaN</td>\n",
       "    </tr>\n",
       "    <tr>\n",
       "      <th>1</th>\n",
       "      <td>1.500000</td>\n",
       "      <td>NaN</td>\n",
       "      <td>NaN</td>\n",
       "    </tr>\n",
       "    <tr>\n",
       "      <th>2</th>\n",
       "      <td>0.454545</td>\n",
       "      <td>NaN</td>\n",
       "      <td>NaN</td>\n",
       "    </tr>\n",
       "    <tr>\n",
       "      <th>3</th>\n",
       "      <td>0.400000</td>\n",
       "      <td>NaN</td>\n",
       "      <td>NaN</td>\n",
       "    </tr>\n",
       "  </tbody>\n",
       "</table>\n",
       "</div>"
      ],
      "text/plain": [
       "          a   b   c\n",
       "0  0.250000 NaN NaN\n",
       "1  1.500000 NaN NaN\n",
       "2  0.454545 NaN NaN\n",
       "3  0.400000 NaN NaN"
      ]
     },
     "metadata": {},
     "output_type": "display_data"
    },
    {
     "data": {
      "text/html": [
       "<div>\n",
       "<style scoped>\n",
       "    .dataframe tbody tr th:only-of-type {\n",
       "        vertical-align: middle;\n",
       "    }\n",
       "\n",
       "    .dataframe tbody tr th {\n",
       "        vertical-align: top;\n",
       "    }\n",
       "\n",
       "    .dataframe thead th {\n",
       "        text-align: right;\n",
       "    }\n",
       "</style>\n",
       "<table border=\"1\" class=\"dataframe\">\n",
       "  <thead>\n",
       "    <tr style=\"text-align: right;\">\n",
       "      <th></th>\n",
       "      <th>a</th>\n",
       "      <th>b</th>\n",
       "      <th>c</th>\n",
       "    </tr>\n",
       "  </thead>\n",
       "  <tbody>\n",
       "    <tr>\n",
       "      <th>0</th>\n",
       "      <td>0.250000</td>\n",
       "      <td>NaN</td>\n",
       "      <td>NaN</td>\n",
       "    </tr>\n",
       "    <tr>\n",
       "      <th>1</th>\n",
       "      <td>1.500000</td>\n",
       "      <td>NaN</td>\n",
       "      <td>NaN</td>\n",
       "    </tr>\n",
       "    <tr>\n",
       "      <th>2</th>\n",
       "      <td>0.454545</td>\n",
       "      <td>NaN</td>\n",
       "      <td>NaN</td>\n",
       "    </tr>\n",
       "    <tr>\n",
       "      <th>3</th>\n",
       "      <td>0.400000</td>\n",
       "      <td>NaN</td>\n",
       "      <td>NaN</td>\n",
       "    </tr>\n",
       "  </tbody>\n",
       "</table>\n",
       "</div>"
      ],
      "text/plain": [
       "          a   b   c\n",
       "0  0.250000 NaN NaN\n",
       "1  1.500000 NaN NaN\n",
       "2  0.454545 NaN NaN\n",
       "3  0.400000 NaN NaN"
      ]
     },
     "metadata": {},
     "output_type": "display_data"
    }
   ],
   "source": [
    "\n",
    "# for i in range(n_d.shape[0]):\n",
    "#       prob_H = (H.loc[i]/n_d.loc[i])\n",
    "\n",
    "import pandas as pd\n",
    "import numpy as np\n",
    "\n",
    "data1 = {\"a\":[1.,3.,5.,2.],\n",
    "         \"b\":[4.,8.,3.,7.],\n",
    "         \"c\":[5.,45.,67.,34]}\n",
    "data2 = {\"a\":[4., 2., 11, 5]}\n",
    "\n",
    "df1 = pd.DataFrame(data1)\n",
    "df2 = pd.DataFrame(data2) \n",
    "\n",
    "display(df1)\n",
    "display(df2)\n",
    "\n",
    "wrong_div = df1.div(df2, axis='columns')\n",
    "display(wrong_div)\n",
    "\n",
    "also_wrong = df1/df2\n",
    "display(also_wrong)\n",
    "\n",
    "# or you can use df1/df2.values[0,:]"
   ]
  },
  {
   "cell_type": "code",
   "execution_count": 263,
   "metadata": {},
   "outputs": [
    {
     "data": {
      "text/html": [
       "<div>\n",
       "<style scoped>\n",
       "    .dataframe tbody tr th:only-of-type {\n",
       "        vertical-align: middle;\n",
       "    }\n",
       "\n",
       "    .dataframe tbody tr th {\n",
       "        vertical-align: top;\n",
       "    }\n",
       "\n",
       "    .dataframe thead th {\n",
       "        text-align: right;\n",
       "    }\n",
       "</style>\n",
       "<table border=\"1\" class=\"dataframe\">\n",
       "  <thead>\n",
       "    <tr style=\"text-align: right;\">\n",
       "      <th></th>\n",
       "      <th>a</th>\n",
       "      <th>b</th>\n",
       "      <th>c</th>\n",
       "    </tr>\n",
       "  </thead>\n",
       "  <tbody>\n",
       "    <tr>\n",
       "      <th>0</th>\n",
       "      <td>1.0</td>\n",
       "      <td>4.0</td>\n",
       "      <td>5.0</td>\n",
       "    </tr>\n",
       "    <tr>\n",
       "      <th>1</th>\n",
       "      <td>3.0</td>\n",
       "      <td>8.0</td>\n",
       "      <td>45.0</td>\n",
       "    </tr>\n",
       "    <tr>\n",
       "      <th>2</th>\n",
       "      <td>5.0</td>\n",
       "      <td>3.0</td>\n",
       "      <td>67.0</td>\n",
       "    </tr>\n",
       "    <tr>\n",
       "      <th>3</th>\n",
       "      <td>2.0</td>\n",
       "      <td>7.0</td>\n",
       "      <td>34.0</td>\n",
       "    </tr>\n",
       "  </tbody>\n",
       "</table>\n",
       "</div>"
      ],
      "text/plain": [
       "     a    b     c\n",
       "0  1.0  4.0   5.0\n",
       "1  3.0  8.0  45.0\n",
       "2  5.0  3.0  67.0\n",
       "3  2.0  7.0  34.0"
      ]
     },
     "metadata": {},
     "output_type": "display_data"
    },
    {
     "data": {
      "text/html": [
       "<div>\n",
       "<style scoped>\n",
       "    .dataframe tbody tr th:only-of-type {\n",
       "        vertical-align: middle;\n",
       "    }\n",
       "\n",
       "    .dataframe tbody tr th {\n",
       "        vertical-align: top;\n",
       "    }\n",
       "\n",
       "    .dataframe thead th {\n",
       "        text-align: right;\n",
       "    }\n",
       "</style>\n",
       "<table border=\"1\" class=\"dataframe\">\n",
       "  <thead>\n",
       "    <tr style=\"text-align: right;\">\n",
       "      <th></th>\n",
       "      <th>a</th>\n",
       "    </tr>\n",
       "  </thead>\n",
       "  <tbody>\n",
       "    <tr>\n",
       "      <th>0</th>\n",
       "      <td>4.0</td>\n",
       "    </tr>\n",
       "    <tr>\n",
       "      <th>1</th>\n",
       "      <td>2.0</td>\n",
       "    </tr>\n",
       "    <tr>\n",
       "      <th>2</th>\n",
       "      <td>11.0</td>\n",
       "    </tr>\n",
       "    <tr>\n",
       "      <th>3</th>\n",
       "      <td>5.0</td>\n",
       "    </tr>\n",
       "  </tbody>\n",
       "</table>\n",
       "</div>"
      ],
      "text/plain": [
       "      a\n",
       "0   4.0\n",
       "1   2.0\n",
       "2  11.0\n",
       "3   5.0"
      ]
     },
     "metadata": {},
     "output_type": "display_data"
    }
   ],
   "source": [
    "display(df1, df2)"
   ]
  },
  {
   "cell_type": "code",
   "execution_count": 8,
   "metadata": {},
   "outputs": [],
   "source": [
    "# for i in range(df1.shape[0]):\n",
    "# #     print(df2.loc[i])\n",
    "#     print(df1.loc[i]/df2.loc[i])\n",
    "    \n",
    "# display(df1)    \n",
    "\n",
    "df3 = np.divide(df1, df2)\n",
    "df3.to_csv('test.csv')"
   ]
  },
  {
   "cell_type": "markdown",
   "metadata": {},
   "source": [
    "## Running gor_train.py"
   ]
  },
  {
   "cell_type": "code",
   "execution_count": 9,
   "metadata": {},
   "outputs": [
    {
     "name": "stdout",
     "output_type": "stream",
     "text": [
      "--- 14.416290330886842 minutes ---\n"
     ]
    }
   ],
   "source": [
    "# Re ran --> probabilities had to be recalculated\n",
    "!/Users/ila/01-Unibo/02_Lab2/files_lab2_project/scripts/gor_training.py -p=\"/Users/ila/01-Unibo/02_Lab2/files_lab2_project/all_data/trainingset/seqprofile_training/\" -s\"/Users/ila/01-Unibo/02_Lab2/files_lab2_project/all_data/trainingset/dssp/\" -w=17 -o='/Users/ila/01-Unibo/02_Lab2/files_lab2_project/all_data/outputs/gor_train_out/'\n"
   ]
  },
  {
   "cell_type": "markdown",
   "metadata": {},
   "source": [
    "## Rerun after imporving speed by changing dataframes to np.arrays"
   ]
  },
  {
   "cell_type": "code",
   "execution_count": 51,
   "metadata": {},
   "outputs": [
    {
     "name": "stdout",
     "output_type": "stream",
     "text": [
      "--- 4.130448051293691 minutes ---\n"
     ]
    }
   ],
   "source": [
    "\n",
    "!/Users/ila/01-Unibo/02_Lab2/files_lab2_project/scripts/gor_training.py -p=\"/Users/ila/01-Unibo/02_Lab2/files_lab2_project/all_data/trainingset/seqprofile_training/\" -s\"/Users/ila/01-Unibo/02_Lab2/files_lab2_project/all_data/trainingset/dssp/\" -w=17 -o='/Users/ila/01-Unibo/02_Lab2/files_lab2_project/all_data/outputs/gor_train_out_improved/'\n"
   ]
  },
  {
   "cell_type": "code",
   "execution_count": 5,
   "metadata": {},
   "outputs": [
    {
     "data": {
      "text/plain": [
       "'/Users/ila/01-Unibo/02_Lab2/files_lab2_project/documentation_notebooks/GOR'"
      ]
     },
     "execution_count": 5,
     "metadata": {},
     "output_type": "execute_result"
    }
   ],
   "source": [
    "pwd"
   ]
  },
  {
   "cell_type": "code",
   "execution_count": 158,
   "metadata": {},
   "outputs": [],
   "source": [
    "win_arr = np.array([17])"
   ]
  },
  {
   "cell_type": "code",
   "execution_count": 161,
   "metadata": {},
   "outputs": [],
   "source": [
    "np.savetxt('/Users/ila/01-Unibo/02_Lab2/files_lab2_project/documentation_notebooks/GOR/win_size.txt',win_arr)\n",
    "a = np.loadtxt('/Users/ila/01-Unibo/02_Lab2/files_lab2_project/documentation_notebooks/GOR/win_size.txt', dtype=np.int32)"
   ]
  },
  {
   "cell_type": "code",
   "execution_count": 184,
   "metadata": {},
   "outputs": [
    {
     "name": "stdout",
     "output_type": "stream",
     "text": [
      "gor_training_out_C.csv           gor_training_out_marg_prob_R.csv\n",
      "gor_training_out_E.csv           gor_training_output_SS.csv\n",
      "gor_training_out_H.csv           win_size.txt\n"
     ]
    }
   ],
   "source": [
    "!mv win_size.txt /Users/ila/01-Unibo/02_Lab2/files_lab2_project/all_data/outputs/gor_train_out/\n",
    "!ls /Users/ila/01-Unibo/02_Lab2/files_lab2_project/all_data/outputs/gor_train_out/"
   ]
  },
  {
   "cell_type": "markdown",
   "metadata": {},
   "source": [
    "Finding a way to get to basename:\n",
    "* throwing away the path"
   ]
  },
  {
   "cell_type": "code",
   "execution_count": 186,
   "metadata": {},
   "outputs": [
    {
     "data": {
      "text/plain": [
       "'4uiq'"
      ]
     },
     "execution_count": 186,
     "metadata": {},
     "output_type": "execute_result"
    }
   ],
   "source": [
    "\n",
    "ID = os.path.basename('/Users/ila/01-Unibo/02_Lab2/files_lab2_project/all_data/blindset/seqprofile_blind/4uiq.profile')[:-8]\n",
    "ID"
   ]
  },
  {
   "cell_type": "markdown",
   "metadata": {},
   "source": [
    "# Running gor_predict.py on Blind Set\n",
    "\n",
    "For testing purposes...\n",
    "All outputs are saved to:\n",
    "\n",
    "    '/Users/ila/01-Unibo/02_Lab2/files_lab2_project/all_data/outputs/gor_predict_out'"
   ]
  },
  {
   "cell_type": "code",
   "execution_count": 190,
   "metadata": {},
   "outputs": [
    {
     "name": "stdout",
     "output_type": "stream",
     "text": [
      "--- 1.7891995310783386 minutes ---\n"
     ]
    }
   ],
   "source": [
    "\n",
    "!/Users/ila/01-Unibo/02_Lab2/files_lab2_project/scripts/gor_prediction.py -m='/Users/ila/01-Unibo/02_Lab2/files_lab2_project/all_data/outputs/gor_train_out' -q='/Users/ila/01-Unibo/02_Lab2/files_lab2_project/all_data/blindset/seqprofile_blind/' -o='/Users/ila/01-Unibo/02_Lab2/files_lab2_project/all_data/outputs/gor_predict_out'\n"
   ]
  },
  {
   "cell_type": "code",
   "execution_count": 14,
   "metadata": {},
   "outputs": [
    {
     "name": "stdout",
     "output_type": "stream",
     "text": [
      "--- 1.5586898803710938 minutes ---\n"
     ]
    }
   ],
   "source": [
    "# rerun after fixing probabilities of HEC and R\n",
    "!/Users/ila/01-Unibo/02_Lab2/files_lab2_project/scripts/gor_prediction.py -m='/Users/ila/01-Unibo/02_Lab2/files_lab2_project/all_data/outputs/gor_train_out' -q='/Users/ila/01-Unibo/02_Lab2/files_lab2_project/all_data/blindset/seqprofile_blind/' -o='/Users/ila/01-Unibo/02_Lab2/files_lab2_project/all_data/outputs/gor_predict_out'\n"
   ]
  },
  {
   "cell_type": "markdown",
   "metadata": {},
   "source": [
    "# Re-running gor_predict.py on Blind Set\n",
    "\n",
    "Modifyed script: replaced dataframes whith np.arrays wherever useful \n",
    "\n",
    "### As arrays seem to be processed much faster than pandas dataframes:\n",
    "\n",
    "I've modifyed the code to have np.arrys wherever possible.\n",
    "Rerunning to test if the performance improves as expected."
   ]
  },
  {
   "cell_type": "code",
   "execution_count": 53,
   "metadata": {},
   "outputs": [],
   "source": [
    "!chmod u+x /Users/ila/01-Unibo/02_Lab2/files_lab2_project/scripts/gor_predict_arr.py"
   ]
  },
  {
   "cell_type": "code",
   "execution_count": 60,
   "metadata": {},
   "outputs": [
    {
     "name": "stdout",
     "output_type": "stream",
     "text": [
      "--- 2.1680989265441895 seconds ---\n"
     ]
    }
   ],
   "source": [
    "\n",
    "!/Users/ila/01-Unibo/02_Lab2/files_lab2_project/scripts/gor_predict_arr.py -m='/Users/ila/01-Unibo/02_Lab2/files_lab2_project/all_data/outputs/gor_train_out_improved/' -q='/Users/ila/01-Unibo/02_Lab2/files_lab2_project/all_data/blindset/seqprofile_blind/' -o='/Users/ila/01-Unibo/02_Lab2/files_lab2_project/all_data/outputs/gor_pred_out_improved/'\n"
   ]
  },
  {
   "cell_type": "markdown",
   "metadata": {},
   "source": [
    "## Checking if prediction remained the same:\n",
    "\n",
    "Result: no diff"
   ]
  },
  {
   "cell_type": "code",
   "execution_count": 61,
   "metadata": {},
   "outputs": [],
   "source": [
    "!diff -q /Users/ila/01-Unibo/02_Lab2/files_lab2_project/all_data/outputs/gor_predict_out/ /Users/ila/01-Unibo/02_Lab2/files_lab2_project/all_data/outputs/gor_pred_out_improved/"
   ]
  },
  {
   "cell_type": "code",
   "execution_count": 191,
   "metadata": {},
   "outputs": [
    {
     "name": "stdout",
     "output_type": "stream",
     "text": [
      "4uiq.dssp 5bn2.dssp 5eiv.dssp 5kqa.dssp 5uni.dssp 5zry.dssp 6ia7.dssp 6ovi.dssp\n",
      "4y0l.dssp 5bp5.dssp 5f1s.dssp 5kwv.dssp 5v2i.dssp 6aoz.dssp 6iqo.dssp 6q7n.dssp\n",
      "4y0o.dssp 5bpk.dssp 5f2a.dssp 5ldd.dssp 5vog.dssp 6dew.dssp 6isu.dssp 6q8j.dssp\n",
      "4yte.dssp 5bpu.dssp 5fb9.dssp 5ltf.dssp 5wd6.dssp 6dn4.dssp 6j0y.dssp 6r5w.dssp\n",
      "4ywn.dssp 5bxq.dssp 5ffl.dssp 5m9o.dssp 5wnw.dssp 6ei6.dssp 6k6l.dssp 6r82.dssp\n",
      "4zc4.dssp 5c5z.dssp 5fq0.dssp 5mc9.dssp 5woq.dssp 6exx.dssp 6k7q.dssp 6slk.dssp\n",
      "4zey.dssp 5c8a.dssp 5ghl.dssp 5mmh.dssp 5wuj.dssp 6fsf.dssp 6kok.dssp 6t7o.dssp\n",
      "4zkp.dssp 5ceg.dssp 5gke.dssp 5n07.dssp 5x4b.dssp 6fwt.dssp 6l77.dssp 6usc.dssp\n",
      "4zlr.dssp 5ctd.dssp 5gna.dssp 5nl9.dssp 5xga.dssp 6g3z.dssp 6ltz.dssp 6vci.dssp\n",
      "5a88.dssp 5d16.dssp 5hjf.dssp 5t2y.dssp 5xks.dssp 6gbi.dssp 6md3.dssp 6vk4.dssp\n",
      "5abr.dssp 5d6t.dssp 5ht8.dssp 5u39.dssp 5xvk.dssp 6gw6.dssp 6mdw.dssp 6wk3.dssp\n",
      "5anp.dssp 5d71.dssp 5ib0.dssp 5u4u.dssp 5xyf.dssp 6h9e.dssp 6mlx.dssp 6yj1.dssp\n",
      "5aun.dssp 5dcf.dssp 5ii0.dssp 5u5n.dssp 5y7w.dssp 6hfg.dssp 6ndr.dssp 7bvv.dssp\n",
      "5av5.dssp 5dd8.dssp 5ir2.dssp 5u7e.dssp 5yei.dssp 6hks.dssp 6okm.dssp 7bwf.dssp\n",
      "5azw.dssp 5dg6.dssp 5jsn.dssp 5uiv.dssp 5ymx.dssp 6hsv.dssp 6ood.dssp 7jtl.dssp\n",
      "5b71.dssp 5dq0.dssp 5jwo.dssp 5umv.dssp 5ysn.dssp 6i9l.dssp 6or3.dssp\n"
     ]
    }
   ],
   "source": [
    "!ls '/Users/ila/01-Unibo/02_Lab2/files_lab2_project/all_data/outputs/gor_predict_out' |wc -l"
   ]
  },
  {
   "cell_type": "code",
   "execution_count": 192,
   "metadata": {},
   "outputs": [
    {
     "name": "stdout",
     "output_type": "stream",
     "text": [
      "     127\n"
     ]
    }
   ],
   "source": [
    "!ls '/Users/ila/01-Unibo/02_Lab2/files_lab2_project/all_data/outputs/gor_predict_out' |wc -l"
   ]
  },
  {
   "cell_type": "code",
   "execution_count": 42,
   "metadata": {},
   "outputs": [],
   "source": [
    "a = np.asarray([[5, 2, 3], [10, 4, 6]])\n",
    "\n"
   ]
  },
  {
   "cell_type": "code",
   "execution_count": 43,
   "metadata": {},
   "outputs": [
    {
     "data": {
      "text/plain": [
       "array([10, 20])"
      ]
     },
     "execution_count": 43,
     "metadata": {},
     "output_type": "execute_result"
    }
   ],
   "source": [
    "b =  np.sum(a, axis=1)\n",
    "b"
   ]
  },
  {
   "cell_type": "code",
   "execution_count": 45,
   "metadata": {},
   "outputs": [
    {
     "data": {
      "text/plain": [
       "numpy.ndarray"
      ]
     },
     "execution_count": 45,
     "metadata": {},
     "output_type": "execute_result"
    }
   ],
   "source": [
    "b.shape\n",
    "type(b)"
   ]
  },
  {
   "cell_type": "code",
   "execution_count": 49,
   "metadata": {},
   "outputs": [
    {
     "data": {
      "text/plain": [
       "array([[10],\n",
       "       [20]])"
      ]
     },
     "execution_count": 49,
     "metadata": {},
     "output_type": "execute_result"
    }
   ],
   "source": [
    "d = b.reshape(2,1)\n",
    "d"
   ]
  },
  {
   "cell_type": "code",
   "execution_count": 50,
   "metadata": {},
   "outputs": [
    {
     "data": {
      "text/plain": [
       "array([[0.5, 0.2, 0.3],\n",
       "       [0.5, 0.2, 0.3]])"
      ]
     },
     "execution_count": 50,
     "metadata": {},
     "output_type": "execute_result"
    }
   ],
   "source": [
    "a/d"
   ]
  },
  {
   "cell_type": "code",
   "execution_count": 29,
   "metadata": {},
   "outputs": [
    {
     "data": {
      "text/plain": [
       "array([ 6, 15])"
      ]
     },
     "execution_count": 29,
     "metadata": {},
     "output_type": "execute_result"
    }
   ],
   "source": [
    "c = np.sum(a, axis=1)\n",
    "c"
   ]
  },
  {
   "cell_type": "code",
   "execution_count": 39,
   "metadata": {},
   "outputs": [
    {
     "data": {
      "text/plain": [
       "numpy.ndarray"
      ]
     },
     "execution_count": 39,
     "metadata": {},
     "output_type": "execute_result"
    }
   ],
   "source": [
    "c.shape\n",
    "type(b)"
   ]
  },
  {
   "cell_type": "code",
   "execution_count": 35,
   "metadata": {},
   "outputs": [
    {
     "data": {
      "text/plain": [
       "array([[ 6, 15]])"
      ]
     },
     "execution_count": 35,
     "metadata": {},
     "output_type": "execute_result"
    }
   ],
   "source": [
    "d = c.reshape(1,2)\n",
    "d"
   ]
  },
  {
   "cell_type": "code",
   "execution_count": 33,
   "metadata": {},
   "outputs": [
    {
     "ename": "ValueError",
     "evalue": "operands could not be broadcast together with shapes (2,3) (2,) ",
     "output_type": "error",
     "traceback": [
      "\u001b[0;31m---------------------------------------------------------------------------\u001b[0m",
      "\u001b[0;31mValueError\u001b[0m                                Traceback (most recent call last)",
      "\u001b[0;32m<ipython-input-33-205b9bd763e5>\u001b[0m in \u001b[0;36m<module>\u001b[0;34m\u001b[0m\n\u001b[0;32m----> 1\u001b[0;31m \u001b[0md\u001b[0m \u001b[0;34m=\u001b[0m \u001b[0mnp\u001b[0m\u001b[0;34m.\u001b[0m\u001b[0mdivide\u001b[0m\u001b[0;34m(\u001b[0m\u001b[0ma\u001b[0m\u001b[0;34m,\u001b[0m \u001b[0mc\u001b[0m\u001b[0;34m.\u001b[0m\u001b[0mT\u001b[0m\u001b[0;34m)\u001b[0m\u001b[0;34m\u001b[0m\u001b[0;34m\u001b[0m\u001b[0m\n\u001b[0m",
      "\u001b[0;31mValueError\u001b[0m: operands could not be broadcast together with shapes (2,3) (2,) "
     ]
    }
   ],
   "source": [
    "d = np.divide(a, c.T)"
   ]
  },
  {
   "cell_type": "code",
   "execution_count": 41,
   "metadata": {},
   "outputs": [
    {
     "data": {
      "text/plain": [
       "array([[0.16666667, 0.33333333, 0.5       ],\n",
       "       [0.26666667, 0.33333333, 0.4       ]])"
      ]
     },
     "execution_count": 41,
     "metadata": {},
     "output_type": "execute_result"
    }
   ],
   "source": [
    "a/(d.T)\n"
   ]
  },
  {
   "cell_type": "code",
   "execution_count": 8,
   "metadata": {},
   "outputs": [
    {
     "name": "stdout",
     "output_type": "stream",
     "text": [
      "/Users/ila/01-Unibo/02_Lab2/files_lab2_project/scripts/gor_training.py -p=\"/Users/ila/01-Unibo/02_Lab2/files_lab2_project/all_data/trainingset\" -s=\"/Users/ila/01-Unibo/02_Lab2/files_lab2_project/all_data/trainingset/dssp\" -i=\"/Users/ila/01-Unibo/02_Lab2/files_lab2_project/all_data/trainingset/test_cv_ids/set0_clean\" -w=17 -o=\"/Users/ila/01-Unibo/02_Lab2/files_lab2_project/all_data/outputs/gor_train_out/train0\"\n",
      "/Users/ila/01-Unibo/02_Lab2/files_lab2_project/scripts/gor_training.py -p=\"/Users/ila/01-Unibo/02_Lab2/files_lab2_project/all_data/trainingset\" -s=\"/Users/ila/01-Unibo/02_Lab2/files_lab2_project/all_data/trainingset/dssp\" -i=\"/Users/ila/01-Unibo/02_Lab2/files_lab2_project/all_data/trainingset/test_cv_ids/set1_clean\" -w=17 -o=\"/Users/ila/01-Unibo/02_Lab2/files_lab2_project/all_data/outputs/gor_train_out/train1\"\n",
      "/Users/ila/01-Unibo/02_Lab2/files_lab2_project/scripts/gor_training.py -p=\"/Users/ila/01-Unibo/02_Lab2/files_lab2_project/all_data/trainingset\" -s=\"/Users/ila/01-Unibo/02_Lab2/files_lab2_project/all_data/trainingset/dssp\" -i=\"/Users/ila/01-Unibo/02_Lab2/files_lab2_project/all_data/trainingset/test_cv_ids/set2_clean\" -w=17 -o=\"/Users/ila/01-Unibo/02_Lab2/files_lab2_project/all_data/outputs/gor_train_out/train2\"\n",
      "/Users/ila/01-Unibo/02_Lab2/files_lab2_project/scripts/gor_training.py -p=\"/Users/ila/01-Unibo/02_Lab2/files_lab2_project/all_data/trainingset\" -s=\"/Users/ila/01-Unibo/02_Lab2/files_lab2_project/all_data/trainingset/dssp\" -i=\"/Users/ila/01-Unibo/02_Lab2/files_lab2_project/all_data/trainingset/test_cv_ids/set3_clean\" -w=17 -o=\"/Users/ila/01-Unibo/02_Lab2/files_lab2_project/all_data/outputs/gor_train_out/train3\"\n",
      "/Users/ila/01-Unibo/02_Lab2/files_lab2_project/scripts/gor_training.py -p=\"/Users/ila/01-Unibo/02_Lab2/files_lab2_project/all_data/trainingset\" -s=\"/Users/ila/01-Unibo/02_Lab2/files_lab2_project/all_data/trainingset/dssp\" -i=\"/Users/ila/01-Unibo/02_Lab2/files_lab2_project/all_data/trainingset/test_cv_ids/set4_clean\" -w=17 -o=\"/Users/ila/01-Unibo/02_Lab2/files_lab2_project/all_data/outputs/gor_train_out/train4\"\n"
     ]
    }
   ],
   "source": [
    "for i in {0..4}\n",
    "do\n",
    "    # Vars that remain the same in each iteration:\n",
    "    p=\"\\\"/Users/ila/01-Unibo/02_Lab2/files_lab2_project/all_data/trainingset\\\"\"\n",
    "    s=\"\\\"/Users/ila/01-Unibo/02_Lab2/files_lab2_project/all_data/trainingset/dssp\\\"\"\n",
    "    ipath=\"\\\"/Users/ila/01-Unibo/02_Lab2/files_lab2_project/all_data/trainingset/test_cv_ids/set${i}_clean\\\"\"\n",
    "    o=\"\\\"/Users/ila/01-Unibo/02_Lab2/files_lab2_project/all_data/outputs/gor_train_out/train$i\"\\\"\n",
    "    echo /Users/ila/01-Unibo/02_Lab2/files_lab2_project/scripts/gor_training.py -p=\"$p\" -s=\"$s\" -i=\"$ipath\" -w=\"17\" -o=\"$o\"\n",
    "done"
   ]
  },
  {
   "cell_type": "code",
   "execution_count": 7,
   "metadata": {},
   "outputs": [],
   "source": [
    "for i in {0..4}\n",
    "do\n",
    "head -5 /Users/ila/01-Unibo/02_Lab2/files_lab2_project/all_data/trainingset/cv_ids_clean/set${i}_clean > /Users/ila/01-Unibo/02_Lab2/files_lab2_project/all_data/trainingset/test_cv_ids/train${i}\n",
    "done\n"
   ]
  },
  {
   "cell_type": "code",
   "execution_count": null,
   "metadata": {},
   "outputs": [],
   "source": [
    "\n",
    "# !/Users/ila/01-Unibo/02_Lab2/files_lab2_project/scripts/gor_training.py -p=\"/Users/ila/01-Unibo/02_Lab2/files_lab2_project/all_data/trainingset/seqprofile_training/\" -s\"/Users/ila/01-Unibo/02_Lab2/files_lab2_project/all_data/trainingset/dssp/\" -w=17 -o='/Users/ila/01-Unibo/02_Lab2/files_lab2_project/all_data/outputs/gor_train_out_improved/'\n"
   ]
  }
 ],
 "metadata": {
  "kernelspec": {
   "display_name": "Bash",
   "language": "bash",
   "name": "bash"
  },
  "language_info": {
   "codemirror_mode": "shell",
   "file_extension": ".sh",
   "mimetype": "text/x-sh",
   "name": "bash"
  }
 },
 "nbformat": 4,
 "nbformat_minor": 4
}
