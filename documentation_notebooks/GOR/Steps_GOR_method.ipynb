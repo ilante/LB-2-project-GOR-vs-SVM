{
 "cells": [
  {
   "cell_type": "markdown",
   "metadata": {},
   "source": [
    "%%markdown\n",
    "# [1. Implementation of the GOR Method](#Implementation-of-GOR)\n",
    "\n",
    "## [2. GOR Training](#GOR-training)\n",
    "\n",
    "Training set:\n",
    "* Set of proteins with known structure\n",
    "* For each id we have:\n",
    "    * One file containing the primary sequence\n",
    "    * One file containing the secondary structure\n",
    "  \n",
    "![](imgs/1.png)\n",
    "\n",
    "Need to count:\n",
    "* Number of times we observe residue R in conformation S divided by N, the total number of residues &rarr; P(R,S) ~ f(R,S) = (# R,S)/N \n",
    "* Number of times we observe residue R divided by the total N of residues &rarr; marginal probability of residue R\n",
    "* Number of occurrence of the conformation S divided by the total N of residues. &rarr; marginal probability of observing S\n",
    "\n",
    "Observed frequencies in the training set (TS) are used for **estimating**/approximating these probabilities.\n",
    "\n",
    "Example &rarr; training set containing just 2 sequences (for simplicity). \n",
    "\n",
    "![](imgs/2.png)\n",
    "\n",
    "Defining a table to store counts\n",
    "* Rows: counts corresponding to joint frequency of R and given SS:\n",
    "    * \\#R, H\n",
    "    * \\#R, E\n",
    "    * \\#R, C\n",
    "* \\# R &rarr; overall frequency of residue type R\t\t\n",
    "\n",
    "![](imgs/3.png)\n",
    "\n",
    "Defining a small table that stores the frequencies of helix (H), strand (E) and coil (C).\n",
    "![](imgs/4.png)\n",
    "\n",
    "* Each matrix is initialized with zeroes\n",
    "* Scanning each position &rarr; starting from index 0:\n",
    "    * reading R and S &rarr; updating the field Pij according to the values.\n",
    "    \n",
    "In our example the window size is just 1!\n",
    "![](imgs/5.png)\n",
    "\n",
    "* We scan each sequence updating the values in the column\n",
    "    * updating the counts of \n",
    "        * \\#R, H\n",
    "        * \\#R, E\n",
    "        * \\#R, C\n",
    "        \n",
    "and the counts of total H, E and C in the smaller table.\n",
    "\n",
    "* For transforming the above **frequencies** into **probabilities**\n",
    "    * **Devide** each number (counts) by the total lenght of all sequences used in the training\n",
    "    \n",
    "&rarr; in our case we divide by 78:"
   ]
  },
  {
   "cell_type": "code",
   "execution_count": 26,
   "metadata": {},
   "outputs": [
    {
     "data": {
      "text/plain": [
       "78"
      ]
     },
     "execution_count": 26,
     "metadata": {},
     "output_type": "execute_result"
    }
   ],
   "source": [
    "sequence_1 = 'EYFTLQIRGRERFEMFRELNEALELKDAQAG'\n",
    "ss_1 = 'CCCCCCCCCHHHHHHHHHHHHHHHHHHHHCC'\n",
    "\n",
    "sequence_2 = 'KTCENLADTFRGPCFTDGSCDDHCKNKEHLIKGRCRDDFRCWCTRNC'\n",
    "ss_2 = 'CEEEEECCCCCCCCCCHHHHHHHHHHCCCCCEEEECCCCCEEEEEEC'\n",
    "\n",
    "len(sequence_1+sequence_2)"
   ]
  },
  {
   "cell_type": "markdown",
   "metadata": {},
   "source": [
    "![](imgs/6.png)\n",
    "\n",
    "## [3. GOR Prediction](#GOR-prediction)\n",
    "\n",
    "* GOR model is used for predicting SS on unseen protein sequences\n",
    "* Each residue positon of a query sequence is analyzed\n",
    "* The highest value of \n",
    "    * The function $S^* = argmax_S I(S;R)$ finds the highest scoring predicted conformation \"$S^*$\" of the residue R\n",
    "        * The conformation $S^*$ which maximizes log ratio of the information function $I$ is our predicted conformation\n",
    "        \n",
    "![](imgs/7.png)       \n",
    "\n",
    "\n",
    "Given any sequence:\n",
    "\n",
    "* >NewSequence\n",
    "* GLKRR\n",
    "\n",
    "* Each residue R is located in the table\n",
    "    * the probabilities for\n",
    "        * \\#R, H\n",
    "        * \\#R, E\n",
    "        * \\#R, C\n",
    "* Are extracted and used in the function $I$\n",
    "* The conformation with the highest value is our predicted conformation $S^*$\n",
    "\n",
    "* Here an example of residue NewSequence[0] = G:\n",
    "\n",
    "\n",
    "\n",
    "![](imgs/8.png)\n",
    "\n",
    "![](imgs/9.png)\n",
    "\n",
    "The maximum is C thus it is predicted that residue G has the conformation C.\n",
    "\n",
    "## [4. Using Windows of Flanking Residues](#Windows) \n",
    "\n",
    "* We extend the information function over a 'window' of residues\n",
    "* Symmetric windows are centered at a given residue position\n",
    "* Central residue is indexed as $R_0$ which is assigend the conformation $S^*$\n",
    "    * Residues to the left of $R_0$ hold negative indeces up to $-d$\n",
    "    * Residues to the right of $R_0$ hold positive indeces up to $d$\n",
    "    \n",
    "* The information function is updated as follows:\n",
    "![](imgs/10.png)\n",
    "\n",
    "[p1 45:00]\n",
    "\n",
    "* The fromula requires us to solve terms involving w residues:\n",
    "    * Exponential number of possible configurations &rarr; computationally to expensive \n",
    "        * we have 20^w possibilities!!!\n",
    "    * Need for very large DB to estimate reliable distributions\n",
    "* Simplification;\n",
    "    * **Assumption of statistical independence**: Makes assumption about the contribution of the sequence context to the central residue conformation.\n",
    "    * Residues $R_-d, ... , R_d$ are treated to be statistically independent\n",
    "    \n",
    "![](imgs/11.png)\n",
    "\n",
    "## [5. Windows Based GOR](#sliding-window) \n",
    "\n",
    "* That way we can factorize the joint probability of the full context into the product of marginal probability of residues in the context.\n",
    "* Joint probability == all the marginal probabilities\n",
    "\n",
    "&rarr; Keep in mind that residues are NOT independent along the sequence. \n",
    "\n",
    "* By using the \n",
    "    * chainrule\n",
    "    * independence assumption \n",
    "    * and making the log of products which is the sum of the logs\n",
    "\n",
    "*$I$ can be rewritten as: \n",
    "\n",
    "![](imgs/12.png)\n",
    "\n",
    "* As shown in the last line above the joint probability can be writen as a sum of individual information funcitons\n",
    "* Taking the different residues in the window into consideration\n",
    "    * Resulting in individual contributions of each residue in the window to the calculation of the joint $I$ function\n",
    "    \n",
    "\n",
    "* What to do with the window falling out of the seuqence in the beginning and the end:\n",
    "    * Initialize scanning postion at an index for which the window is full e.g. window size 17 setting first $R_0$ on index 8 of the string of the sequence\n",
    "    * Adding zeros to undifined regions of **partial windows**\n",
    "        * First $R_0$ is on index 0\n",
    "        * You don't have any contribution from partial windows\n",
    "        \n",
    "* GOR is a linear model\n",
    "* The sliding window approach influences the accuracy of the prediction in a negative way\n",
    "    * The first few residues are affected more than residues in the middle of the sequence\n",
    "   \n",
    " \n",
    "### Now our Parameters are:\n",
    "* $P(R,S)$ the probability of observingg a conformation S"
   ]
  },
  {
   "cell_type": "markdown",
   "metadata": {},
   "source": [
    "### gor_train.py\n",
    "Training GRO model from user-defined training set and stores all trained parameters (=the GOR model) into an output file"
   ]
  },
  {
   "cell_type": "markdown",
   "metadata": {},
   "source": [
    "# 1. I need to make several matrices --> np.arrays\n",
    "\n",
    "\n",
    "first field f[0,0] \n",
    "should contain the index of the fileds\n",
    "\n",
    "1. First test on one sequence.\n",
    "1. Then testing on a simplified profile as input\n",
    "     * profile should have 5 sequences ---> lines\n",
    "     \n",
    "3. Remember that for coil:\n",
    "    * Training files contain '-' \n",
    "    * Blindset contains 'C'  \n",
    "        * Make an if.\n"
   ]
  },
  {
   "cell_type": "code",
   "execution_count": 20,
   "metadata": {},
   "outputs": [
    {
     "data": {
      "text/plain": [
       "'/Users/ila/01-Unibo/02_Lab2/files_lab2_project/documentation_notebooks/GOR'"
      ]
     },
     "execution_count": 20,
     "metadata": {},
     "output_type": "execute_result"
    }
   ],
   "source": [
    "pwd"
   ]
  },
  {
   "cell_type": "code",
   "execution_count": 1,
   "metadata": {},
   "outputs": [],
   "source": [
    "import sys\n",
    "import os\n",
    "import pandas as pd\n",
    "import numpy as np\n",
    "import argparse\n",
    "\n",
    "# d1g2ya_.dssp\n",
    "# d1g2ya_.fasta from training files.\n",
    "\n",
    "'''Make function: Takes fasta and dssp sequence as parameters as input.'''\n",
    "\n",
    "\n",
    "\n",
    "# win_size = 3 # has to be an odd number pass through argparse later\n",
    "# num_rows = win_size*4 #adapts to desired window size\n",
    "\n",
    "# R_tot\n",
    "# SS_tot\n",
    "\n",
    "\n",
    "\n",
    "def make_frequency_array():\n",
    "    '''\n",
    "    Takes window size and the name of the array as arguments.\n",
    "    Makes an array that has as many lines as the win_size and \n",
    "    the number of columns is defined by the number of naturally \n",
    "    occurring aa in eukaryotes. Returns the array.\n",
    "    '''\n",
    "    array = np.zeros((1,20))#, dtype= 'float64')\n",
    "    return array\n",
    "    \n",
    "R_H = make_frequency_array()           # generating arrays holding the counts of residue in conformation X --> R_X\n",
    "R_E = make_frequency_array()\n",
    "R_C = make_frequency_array()\n",
    "R_count = make_frequency_array()       # generating array holding the total residue count\n",
    "SS_count = make_frequency_array()      # generating array holding the total secondary structure count\n",
    "\n",
    "\n",
    "# ---> at some point: transform 'counts'   into **probabilities** by dividing by total number of residues\n",
    "# Which is the number of lines of the sequ pro_file.\n",
    "# profile_matrix = np.loadtxt(\"/Users/ila/Downloads/test.txt\")\n",
    "# print(profile_matrix)\n"
   ]
  },
  {
   "cell_type": "code",
   "execution_count": 2,
   "metadata": {},
   "outputs": [
    {
     "name": "stdout",
     "output_type": "stream",
     "text": [
      "MVSKLSQLQTEMLAALLESGLSKEALIQALG\n",
      "---HHHHHHHHHHHHHHH----HHHHHHHH-\n"
     ]
    }
   ],
   "source": [
    "# ss_array = np.zeros((2,4)) # maybe change it to 1, 3\n",
    "def make_frequency_df(zeroarray):\n",
    "    header_col = ['A', 'R', 'N', 'D', 'C', 'Q', 'E', 'G', 'H', 'I', 'L', 'K', 'M', 'F', 'P', 'S', 'T', 'W', 'Y', 'V']\n",
    "#     row_names = ['#R,H', '#R,E', '#R,C', '#R']\n",
    "#     freq_array = make_frequency_array(win_size)\n",
    "    freq_df = pd.DataFrame(data = zeroarray,  columns=header_col)\n",
    "    return freq_df\n",
    "\n",
    "# generating dataframes holding the counts of residue in conformation X --> R_X\n",
    "df_R_H = make_frequency_df(R_H)           \n",
    "df_R_E = make_frequency_df(R_E)\n",
    "df_R_C = make_frequency_df(R_C)\n",
    "df_R_count=make_frequency_df(R_count)\n",
    "# df_SS_count = make_frequency_df(SS_count)     \n",
    "\n",
    "tot_H = 0\n",
    "tot_E = 0\n",
    "tot_C = 0\n",
    "\n",
    "def read_clean_lines(infile1):\n",
    "    ''' Reads all lines from a file. Returns string of second line. The '\\n' is stripped.'''\n",
    "    with open(infile1, 'r') as rfile:\n",
    "        newline_list = rfile.readlines()\n",
    "        cleanstring = newline_list[1].rstrip()\n",
    "        return cleanstring\n",
    "\n",
    "aa_string = read_clean_lines('/Users/ila/01-Unibo/02_Lab2/files_lab2_project/all_data/trainingset/fasta/d1g2ya_.fasta')\n",
    "print(aa_string)\n",
    "\n",
    "ss_string = read_clean_lines('/Users/ila/01-Unibo/02_Lab2/files_lab2_project/all_data/trainingset/dssp/d1g2ya_.dssp')\n",
    "print(ss_string)\n"
   ]
  },
  {
   "cell_type": "code",
   "execution_count": 3,
   "metadata": {},
   "outputs": [
    {
     "data": {
      "text/html": [
       "<div>\n",
       "<style scoped>\n",
       "    .dataframe tbody tr th:only-of-type {\n",
       "        vertical-align: middle;\n",
       "    }\n",
       "\n",
       "    .dataframe tbody tr th {\n",
       "        vertical-align: top;\n",
       "    }\n",
       "\n",
       "    .dataframe thead th {\n",
       "        text-align: right;\n",
       "    }\n",
       "</style>\n",
       "<table border=\"1\" class=\"dataframe\">\n",
       "  <thead>\n",
       "    <tr style=\"text-align: right;\">\n",
       "      <th></th>\n",
       "      <th>A</th>\n",
       "      <th>R</th>\n",
       "      <th>N</th>\n",
       "      <th>D</th>\n",
       "      <th>C</th>\n",
       "      <th>Q</th>\n",
       "      <th>E</th>\n",
       "      <th>G</th>\n",
       "      <th>H</th>\n",
       "      <th>I</th>\n",
       "      <th>L</th>\n",
       "      <th>K</th>\n",
       "      <th>M</th>\n",
       "      <th>F</th>\n",
       "      <th>P</th>\n",
       "      <th>S</th>\n",
       "      <th>T</th>\n",
       "      <th>W</th>\n",
       "      <th>Y</th>\n",
       "      <th>V</th>\n",
       "    </tr>\n",
       "  </thead>\n",
       "  <tbody>\n",
       "    <tr>\n",
       "      <th>0</th>\n",
       "      <td>0.0</td>\n",
       "      <td>0.0</td>\n",
       "      <td>0.0</td>\n",
       "      <td>0.0</td>\n",
       "      <td>0.0</td>\n",
       "      <td>0.0</td>\n",
       "      <td>0.0</td>\n",
       "      <td>0.0</td>\n",
       "      <td>0.0</td>\n",
       "      <td>0.0</td>\n",
       "      <td>0.0</td>\n",
       "      <td>0.0</td>\n",
       "      <td>0.0</td>\n",
       "      <td>0.0</td>\n",
       "      <td>0.0</td>\n",
       "      <td>0.0</td>\n",
       "      <td>0.0</td>\n",
       "      <td>0.0</td>\n",
       "      <td>0.0</td>\n",
       "      <td>0.0</td>\n",
       "    </tr>\n",
       "  </tbody>\n",
       "</table>\n",
       "</div>"
      ],
      "text/plain": [
       "     A    R    N    D    C    Q    E    G    H    I    L    K    M    F    P  \\\n",
       "0  0.0  0.0  0.0  0.0  0.0  0.0  0.0  0.0  0.0  0.0  0.0  0.0  0.0  0.0  0.0   \n",
       "\n",
       "     S    T    W    Y    V  \n",
       "0  0.0  0.0  0.0  0.0  0.0  "
      ]
     },
     "execution_count": 3,
     "metadata": {},
     "output_type": "execute_result"
    }
   ],
   "source": [
    "df_R_H \n",
    "df_R_E \n",
    "df_R_C "
   ]
  },
  {
   "cell_type": "code",
   "execution_count": 9,
   "metadata": {},
   "outputs": [],
   "source": [
    "'''Increments corresponding positions according to R and H in each field.'''\n",
    "l = len(aa_string)\n",
    "for i in range(l):\n",
    "    ss = ss_string[i]\n",
    "    aa = aa_string[i]\n",
    "    df_R_count[aa]+=1     # Increment each df\n",
    "    if ss == 'H':\n",
    "        df_R_H[aa]+=1\n",
    "    elif ss == 'E':\n",
    "        df_R_E[aa]+=1\n",
    "    else:                       # so if ss == '-' or ss == 'C' or even if i got some X:\n",
    "        df_R_C[aa]+=1\n",
    "\n",
    "# check sum of residue R in HEC conformation."
   ]
  },
  {
   "cell_type": "code",
   "execution_count": 5,
   "metadata": {},
   "outputs": [
    {
     "data": {
      "text/html": [
       "<div>\n",
       "<style scoped>\n",
       "    .dataframe tbody tr th:only-of-type {\n",
       "        vertical-align: middle;\n",
       "    }\n",
       "\n",
       "    .dataframe tbody tr th {\n",
       "        vertical-align: top;\n",
       "    }\n",
       "\n",
       "    .dataframe thead th {\n",
       "        text-align: right;\n",
       "    }\n",
       "</style>\n",
       "<table border=\"1\" class=\"dataframe\">\n",
       "  <thead>\n",
       "    <tr style=\"text-align: right;\">\n",
       "      <th></th>\n",
       "      <th>A</th>\n",
       "      <th>R</th>\n",
       "      <th>N</th>\n",
       "      <th>D</th>\n",
       "      <th>C</th>\n",
       "      <th>Q</th>\n",
       "      <th>E</th>\n",
       "      <th>G</th>\n",
       "      <th>H</th>\n",
       "      <th>I</th>\n",
       "      <th>L</th>\n",
       "      <th>K</th>\n",
       "      <th>M</th>\n",
       "      <th>F</th>\n",
       "      <th>P</th>\n",
       "      <th>S</th>\n",
       "      <th>T</th>\n",
       "      <th>W</th>\n",
       "      <th>Y</th>\n",
       "      <th>V</th>\n",
       "    </tr>\n",
       "  </thead>\n",
       "  <tbody>\n",
       "    <tr>\n",
       "      <th>0</th>\n",
       "      <td>4.0</td>\n",
       "      <td>0.0</td>\n",
       "      <td>0.0</td>\n",
       "      <td>0.0</td>\n",
       "      <td>0.0</td>\n",
       "      <td>3.0</td>\n",
       "      <td>3.0</td>\n",
       "      <td>0.0</td>\n",
       "      <td>0.0</td>\n",
       "      <td>1.0</td>\n",
       "      <td>7.0</td>\n",
       "      <td>2.0</td>\n",
       "      <td>1.0</td>\n",
       "      <td>0.0</td>\n",
       "      <td>0.0</td>\n",
       "      <td>1.0</td>\n",
       "      <td>1.0</td>\n",
       "      <td>0.0</td>\n",
       "      <td>0.0</td>\n",
       "      <td>0.0</td>\n",
       "    </tr>\n",
       "  </tbody>\n",
       "</table>\n",
       "</div>"
      ],
      "text/plain": [
       "     A    R    N    D    C    Q    E    G    H    I    L    K    M    F    P  \\\n",
       "0  4.0  0.0  0.0  0.0  0.0  3.0  3.0  0.0  0.0  1.0  7.0  2.0  1.0  0.0  0.0   \n",
       "\n",
       "     S    T    W    Y    V  \n",
       "0  1.0  1.0  0.0  0.0  0.0  "
      ]
     },
     "execution_count": 5,
     "metadata": {},
     "output_type": "execute_result"
    }
   ],
   "source": [
    "df_R_H"
   ]
  },
  {
   "cell_type": "code",
   "execution_count": 6,
   "metadata": {},
   "outputs": [
    {
     "data": {
      "text/html": [
       "<div>\n",
       "<style scoped>\n",
       "    .dataframe tbody tr th:only-of-type {\n",
       "        vertical-align: middle;\n",
       "    }\n",
       "\n",
       "    .dataframe tbody tr th {\n",
       "        vertical-align: top;\n",
       "    }\n",
       "\n",
       "    .dataframe thead th {\n",
       "        text-align: right;\n",
       "    }\n",
       "</style>\n",
       "<table border=\"1\" class=\"dataframe\">\n",
       "  <thead>\n",
       "    <tr style=\"text-align: right;\">\n",
       "      <th></th>\n",
       "      <th>A</th>\n",
       "      <th>R</th>\n",
       "      <th>N</th>\n",
       "      <th>D</th>\n",
       "      <th>C</th>\n",
       "      <th>Q</th>\n",
       "      <th>E</th>\n",
       "      <th>G</th>\n",
       "      <th>H</th>\n",
       "      <th>I</th>\n",
       "      <th>L</th>\n",
       "      <th>K</th>\n",
       "      <th>M</th>\n",
       "      <th>F</th>\n",
       "      <th>P</th>\n",
       "      <th>S</th>\n",
       "      <th>T</th>\n",
       "      <th>W</th>\n",
       "      <th>Y</th>\n",
       "      <th>V</th>\n",
       "    </tr>\n",
       "  </thead>\n",
       "  <tbody>\n",
       "    <tr>\n",
       "      <th>0</th>\n",
       "      <td>0.0</td>\n",
       "      <td>0.0</td>\n",
       "      <td>0.0</td>\n",
       "      <td>0.0</td>\n",
       "      <td>0.0</td>\n",
       "      <td>0.0</td>\n",
       "      <td>0.0</td>\n",
       "      <td>0.0</td>\n",
       "      <td>0.0</td>\n",
       "      <td>0.0</td>\n",
       "      <td>0.0</td>\n",
       "      <td>0.0</td>\n",
       "      <td>0.0</td>\n",
       "      <td>0.0</td>\n",
       "      <td>0.0</td>\n",
       "      <td>0.0</td>\n",
       "      <td>0.0</td>\n",
       "      <td>0.0</td>\n",
       "      <td>0.0</td>\n",
       "      <td>0.0</td>\n",
       "    </tr>\n",
       "  </tbody>\n",
       "</table>\n",
       "</div>"
      ],
      "text/plain": [
       "     A    R    N    D    C    Q    E    G    H    I    L    K    M    F    P  \\\n",
       "0  0.0  0.0  0.0  0.0  0.0  0.0  0.0  0.0  0.0  0.0  0.0  0.0  0.0  0.0  0.0   \n",
       "\n",
       "     S    T    W    Y    V  \n",
       "0  0.0  0.0  0.0  0.0  0.0  "
      ]
     },
     "execution_count": 6,
     "metadata": {},
     "output_type": "execute_result"
    }
   ],
   "source": [
    "df_R_E"
   ]
  },
  {
   "cell_type": "code",
   "execution_count": 7,
   "metadata": {},
   "outputs": [
    {
     "data": {
      "text/html": [
       "<div>\n",
       "<style scoped>\n",
       "    .dataframe tbody tr th:only-of-type {\n",
       "        vertical-align: middle;\n",
       "    }\n",
       "\n",
       "    .dataframe tbody tr th {\n",
       "        vertical-align: top;\n",
       "    }\n",
       "\n",
       "    .dataframe thead th {\n",
       "        text-align: right;\n",
       "    }\n",
       "</style>\n",
       "<table border=\"1\" class=\"dataframe\">\n",
       "  <thead>\n",
       "    <tr style=\"text-align: right;\">\n",
       "      <th></th>\n",
       "      <th>A</th>\n",
       "      <th>R</th>\n",
       "      <th>N</th>\n",
       "      <th>D</th>\n",
       "      <th>C</th>\n",
       "      <th>Q</th>\n",
       "      <th>E</th>\n",
       "      <th>G</th>\n",
       "      <th>H</th>\n",
       "      <th>I</th>\n",
       "      <th>L</th>\n",
       "      <th>K</th>\n",
       "      <th>M</th>\n",
       "      <th>F</th>\n",
       "      <th>P</th>\n",
       "      <th>S</th>\n",
       "      <th>T</th>\n",
       "      <th>W</th>\n",
       "      <th>Y</th>\n",
       "      <th>V</th>\n",
       "    </tr>\n",
       "  </thead>\n",
       "  <tbody>\n",
       "    <tr>\n",
       "      <th>0</th>\n",
       "      <td>0.0</td>\n",
       "      <td>0.0</td>\n",
       "      <td>0.0</td>\n",
       "      <td>0.0</td>\n",
       "      <td>0.0</td>\n",
       "      <td>0.0</td>\n",
       "      <td>0.0</td>\n",
       "      <td>2.0</td>\n",
       "      <td>0.0</td>\n",
       "      <td>0.0</td>\n",
       "      <td>1.0</td>\n",
       "      <td>0.0</td>\n",
       "      <td>1.0</td>\n",
       "      <td>0.0</td>\n",
       "      <td>0.0</td>\n",
       "      <td>3.0</td>\n",
       "      <td>0.0</td>\n",
       "      <td>0.0</td>\n",
       "      <td>0.0</td>\n",
       "      <td>1.0</td>\n",
       "    </tr>\n",
       "  </tbody>\n",
       "</table>\n",
       "</div>"
      ],
      "text/plain": [
       "     A    R    N    D    C    Q    E    G    H    I    L    K    M    F    P  \\\n",
       "0  0.0  0.0  0.0  0.0  0.0  0.0  0.0  2.0  0.0  0.0  1.0  0.0  1.0  0.0  0.0   \n",
       "\n",
       "     S    T    W    Y    V  \n",
       "0  3.0  0.0  0.0  0.0  1.0  "
      ]
     },
     "execution_count": 7,
     "metadata": {},
     "output_type": "execute_result"
    }
   ],
   "source": [
    "df_R_C"
   ]
  },
  {
   "cell_type": "code",
   "execution_count": 8,
   "metadata": {},
   "outputs": [
    {
     "name": "stdout",
     "output_type": "stream",
     "text": [
      "Residue count: \n",
      "\n"
     ]
    },
    {
     "data": {
      "text/html": [
       "<div>\n",
       "<style scoped>\n",
       "    .dataframe tbody tr th:only-of-type {\n",
       "        vertical-align: middle;\n",
       "    }\n",
       "\n",
       "    .dataframe tbody tr th {\n",
       "        vertical-align: top;\n",
       "    }\n",
       "\n",
       "    .dataframe thead th {\n",
       "        text-align: right;\n",
       "    }\n",
       "</style>\n",
       "<table border=\"1\" class=\"dataframe\">\n",
       "  <thead>\n",
       "    <tr style=\"text-align: right;\">\n",
       "      <th></th>\n",
       "      <th>A</th>\n",
       "      <th>R</th>\n",
       "      <th>N</th>\n",
       "      <th>D</th>\n",
       "      <th>C</th>\n",
       "      <th>Q</th>\n",
       "      <th>E</th>\n",
       "      <th>G</th>\n",
       "      <th>H</th>\n",
       "      <th>I</th>\n",
       "      <th>L</th>\n",
       "      <th>K</th>\n",
       "      <th>M</th>\n",
       "      <th>F</th>\n",
       "      <th>P</th>\n",
       "      <th>S</th>\n",
       "      <th>T</th>\n",
       "      <th>W</th>\n",
       "      <th>Y</th>\n",
       "      <th>V</th>\n",
       "    </tr>\n",
       "  </thead>\n",
       "  <tbody>\n",
       "    <tr>\n",
       "      <th>0</th>\n",
       "      <td>4.0</td>\n",
       "      <td>0.0</td>\n",
       "      <td>0.0</td>\n",
       "      <td>0.0</td>\n",
       "      <td>0.0</td>\n",
       "      <td>3.0</td>\n",
       "      <td>3.0</td>\n",
       "      <td>2.0</td>\n",
       "      <td>0.0</td>\n",
       "      <td>1.0</td>\n",
       "      <td>8.0</td>\n",
       "      <td>2.0</td>\n",
       "      <td>2.0</td>\n",
       "      <td>0.0</td>\n",
       "      <td>0.0</td>\n",
       "      <td>4.0</td>\n",
       "      <td>1.0</td>\n",
       "      <td>0.0</td>\n",
       "      <td>0.0</td>\n",
       "      <td>1.0</td>\n",
       "    </tr>\n",
       "  </tbody>\n",
       "</table>\n",
       "</div>"
      ],
      "text/plain": [
       "     A    R    N    D    C    Q    E    G    H    I    L    K    M    F    P  \\\n",
       "0  4.0  0.0  0.0  0.0  0.0  3.0  3.0  2.0  0.0  1.0  8.0  2.0  2.0  0.0  0.0   \n",
       "\n",
       "     S    T    W    Y    V  \n",
       "0  4.0  1.0  0.0  0.0  1.0  "
      ]
     },
     "execution_count": 8,
     "metadata": {},
     "output_type": "execute_result"
    }
   ],
   "source": [
    "print(\"Residue count: \\n\")\n",
    "df_R_count"
   ]
  },
  {
   "cell_type": "code",
   "execution_count": null,
   "metadata": {},
   "outputs": [],
   "source": [
    "# row_names = ['#R,H', '#R,E', '#R,C', '#R']\n",
    "# # new = -1 0 1\n",
    "\n",
    "# win_adapted_row_names = []\n",
    "# for i in range(3):\n",
    "#     win_adapted_row_names += row_names[i]+str(i)\n",
    "    \n",
    "\n",
    "# print(win_adapted_row_names)\n",
    "\n",
    "negwin = (9//2)*-1\n",
    "poswin = 9//2\n",
    "indexes = []\n",
    "for i in range([-4:4]):\n",
    "    indexes += i\n",
    "\n",
    "print(indexes)    \n",
    "# print(negwin)\n",
    "# print(poswin)"
   ]
  },
  {
   "cell_type": "markdown",
   "metadata": {},
   "source": [
    "### sort() returns None type\n",
    "\n",
    "&rarr; apply to list directly and return list instead"
   ]
  },
  {
   "cell_type": "code",
   "execution_count": 39,
   "metadata": {},
   "outputs": [
    {
     "name": "stdout",
     "output_type": "stream",
     "text": [
      "cant return \"a\" becaues it is None\n",
      "['4ywn.fasta', '6g3z.fasta']\n"
     ]
    }
   ],
   "source": [
    "import os\n",
    "z= os.listdir('/Users/ila/01-Unibo/02_Lab2/files_lab2_project/all_data/test_data/fasta/')\n",
    "a = z.sort()\n",
    "print('cant return \"a\" becaues it is', a)\n",
    "print(z)\n"
   ]
  },
  {
   "cell_type": "code",
   "execution_count": 20,
   "metadata": {},
   "outputs": [
    {
     "name": "stdout",
     "output_type": "stream",
     "text": [
      "['4ywn.fasta', '6g3z.fasta']\n"
     ]
    }
   ],
   "source": []
  },
  {
   "cell_type": "code",
   "execution_count": 22,
   "metadata": {},
   "outputs": [
    {
     "name": "stdout",
     "output_type": "stream",
     "text": [
      "list now :  None\n"
     ]
    }
   ],
   "source": [
    "list1 = ['physics', 'Biology', 'chemistry', 'maths']\n",
    "# x = list1.sort()\n",
    "print (\"list now : \", list1)"
   ]
  },
  {
   "cell_type": "markdown",
   "metadata": {},
   "source": [
    "Found X in my fasta sequences along the way:\n",
    "   * cheking if 'X' sequences have a corresponding profile"
   ]
  },
  {
   "cell_type": "code",
   "execution_count": 3,
   "metadata": {},
   "outputs": [
    {
     "name": "stdout",
     "output_type": "stream",
     "text": [
      "6l77\n",
      "6kko\n",
      "5xyf\n",
      "5v0m\n",
      "5uc0\n",
      "6dhx\n",
      "5ir2\n",
      "4y0o\n",
      "5c5z\n",
      "6mdw\n",
      "7bvv\n",
      "5t2x\n",
      "4zey\n",
      "5wd6\n",
      "6iqo\n",
      "5wd8 \n"
     ]
    }
   ],
   "source": [
    "# Sequences containing X:\n",
    "!cat ~/01-Unibo/02_Lab2/files_lab2_project/all_data/blindset/findX_ids_only"
   ]
  },
  {
   "cell_type": "code",
   "execution_count": 7,
   "metadata": {},
   "outputs": [
    {
     "name": "stdout",
     "output_type": "stream",
     "text": [
      "6l77.profile\n",
      "6kko.profile\n",
      "5xyf.profile\n",
      "5v0m.profile\n",
      "5uc0.profile\n",
      "6dhx.profile\n",
      "5ir2.profile\n",
      "4y0o.profile\n",
      "5c5z.profile\n",
      "6mdw.profile\n",
      "7bvv.profile\n",
      "5t2x.profile\n",
      "4zey.profile\n",
      "5wd6.profile\n",
      "6iqo.profile\n",
      "5wd8.profile \n"
     ]
    }
   ],
   "source": [
    "#Adding '.profile' in vim\n",
    "!cat ~/01-Unibo/02_Lab2/files_lab2_project/all_data/blindset/findX_ids_only"
   ]
  },
  {
   "cell_type": "code",
   "execution_count": 10,
   "metadata": {},
   "outputs": [
    {
     "data": {
      "text/plain": [
       "'/Users/ila/01-Unibo/02_Lab2/files_lab2_project/documentation_notebooks/GOR'"
      ]
     },
     "execution_count": 10,
     "metadata": {},
     "output_type": "execute_result"
    }
   ],
   "source": [
    "pwd"
   ]
  },
  {
   "cell_type": "code",
   "execution_count": 14,
   "metadata": {},
   "outputs": [],
   "source": [
    "!ls  /Users/ila/01-Unibo/02_Lab2/files_lab2_project/all_data/blindset/seqprofile_blind/ > sequprofile_list"
   ]
  },
  {
   "cell_type": "code",
   "execution_count": 15,
   "metadata": {},
   "outputs": [
    {
     "name": "stdout",
     "output_type": "stream",
     "text": [
      "['4uiq.profile', '4y0l.profile', '4y0o.profile', '4yte.profile', '4ywn.profile', '4zc4.profile', '4zey.profile', '4zkp.profile', '4zlr.profile', '5a88.profile', '5abr.profile', '5anp.profile', '5aun.profile', '5av5.profile', '5azw.profile', '5b71.profile', '5bn2.profile', '5bp5.profile', '5bpk.profile', '5bpu.profile', '5bxq.profile', '5c5z.profile', '5c8a.profile', '5ceg.profile', '5ctd.profile', '5d16.profile', '5d6t.profile', '5d71.profile', '5dcf.profile', '5dd8.profile', '5dg6.profile', '5dq0.profile', '5eiv.profile', '5f1s.profile', '5f2a.profile', '5fb9.profile', '5ffl.profile', '5fq0.profile', '5ghl.profile', '5gke.profile', '5gna.profile', '5hjf.profile', '5ht8.profile', '5ib0.profile', '5ii0.profile', '5ir2.profile', '5jsn.profile', '5jwo.profile', '5kqa.profile', '5kwv.profile', '5ldd.profile', '5ltf.profile', '5m9o.profile', '5mc9.profile', '5mmh.profile', '5n07.profile', '5nl9.profile', '5t2y.profile', '5u39.profile', '5u4u.profile', '5u5n.profile', '5u7e.profile', '5uiv.profile', '5umv.profile', '5uni.profile', '5v2i.profile', '5vog.profile', '5wd6.profile', '5wnw.profile', '5woq.profile', '5wuj.profile', '5x4b.profile', '5xga.profile', '5xks.profile', '5xvk.profile', '5xyf.profile', '5y7w.profile', '5yei.profile', '5ymx.profile', '5ysn.profile', '5zry.profile', '6aoz.profile', '6dew.profile', '6dn4.profile', '6ei6.profile', '6exx.profile', '6fsf.profile', '6fwt.profile', '6g3z.profile', '6gbi.profile', '6gw6.profile', '6h9e.profile', '6hfg.profile', '6hks.profile', '6hsv.profile', '6i9l.profile', '6ia7.profile', '6iqo.profile', '6isu.profile', '6j0y.profile', '6k6l.profile', '6k7q.profile', '6kok.profile', '6l77.profile', '6ltz.profile', '6md3.profile', '6mdw.profile', '6mlx.profile', '6ndr.profile', '6okm.profile', '6ood.profile', '6or3.profile', '6ovi.profile', '6q7n.profile', '6q8j.profile', '6r5w.profile', '6r82.profile', '6slk.profile', '6t7o.profile', '6usc.profile', '6vci.profile', '6vk4.profile', '6wk3.profile', '6yj1.profile', '7bvv.profile', '7bwf.profile', '7jtl.profile']\n"
     ]
    }
   ],
   "source": [
    "all_profiles = lines_list('./sequprofile_list')"
   ]
  },
  {
   "cell_type": "code",
   "execution_count": 29,
   "metadata": {},
   "outputs": [],
   "source": [
    "def lines_list(file1):\n",
    "    cleanlines = []\n",
    "    with open (file1, 'r') as rfile:\n",
    "        lines_list = rfile.readlines()\n",
    "        for line in lines_list:\n",
    "            nonewline = line.rstrip()\n",
    "            cleanlines.append(nonewline)\n",
    "    return cleanlines  "
   ]
  },
  {
   "cell_type": "code",
   "execution_count": 34,
   "metadata": {},
   "outputs": [
    {
     "name": "stdout",
     "output_type": "stream",
     "text": [
      "X  16\n",
      "all  127\n",
      "Matching 10\n",
      "{'4zey.profile', '4y0o.profile', '5c5z.profile', '5wd6.profile', '5ir2.profile', '7bvv.profile', '6iqo.profile', '6mdw.profile', '5xyf.profile', '6l77.profile'}\n"
     ]
    }
   ],
   "source": [
    "path = '../../all_data/blindset/findX_ids_only'\n",
    "X_seqs = lines_list(path)    \n",
    "all_profiles = lines_list('./sequprofile_list')\n",
    "\n",
    "print(\"X \", len(X_seqs))\n",
    "print('all ',len(all_profiles))\n",
    "intersec = set(X_seqs) & set(all_profiles)\n",
    "print('Matching',len(intersec))\n",
    "\n",
    "print(intersec)"
   ]
  },
  {
   "cell_type": "markdown",
   "metadata": {},
   "source": [
    "### So I assume I have only 117 blind sequences...\n",
    "No I can keep them because only the \"matching residues\" of the 20 aa list are considered when filling the GOR matrices."
   ]
  },
  {
   "cell_type": "code",
   "execution_count": 40,
   "metadata": {},
   "outputs": [
    {
     "name": "stdout",
     "output_type": "stream",
     "text": [
      "0.55\t0.45\t0.0\t0.0\t0.0\t0.0\t0.0\t0.0\t0.0\t0.0\t0.0\t0.0\t0.0\t0.0\t0.0\t0.0\t0.0\t0.0\t0.0\t0.0\t\n",
      "0.0\t0.0\t0.45\t0.0\t0.0\t0.0\t0.55\t0.0\t0.0\t0.0\t0.0\t0.0\t0.0\t0.0\t0.0\t0.0\t0.0\t0.0\t0.0\t0.0\t\n",
      "0.0\t0.0\t0.0\t0.0\t0.0\t0.0\t0.0\t0.0\t0.0\t0.55\t0.0\t0.0\t0.0\t0.0\t0.0\t0.0\t0.0\t0.0\t0.0\t0.45\t\n",
      "0.55\t0.0\t0.0\t0.0\t0.0\t0.0\t0.0\t0.0\t0.0\t0.0\t0.0\t0.0\t0.0\t0.0\t0.0\t0.0\t0.0\t0.0\t0.0\t0.45\t\n",
      "0.0\t0.0\t0.0\t0.0\t0.0\t0.0\t0.0\t0.0\t0.0\t0.0\t0.0\t0.0\t0.0\t0.0\t0.0\t0.0\t0.45\t0.0\t0.0\t0.55\t\n",
      "1.0\t0.0\t0.0\t0.0\t0.0\t0.0\t0.0\t0.0\t0.0\t0.0\t0.0\t0.0\t0.0\t0.0\t0.0\t0.0\t0.0\t0.0\t0.0\t0.0\t\n",
      "0.0\t0.0\t0.45\t0.0\t0.0\t0.0\t0.0\t0.0\t0.55\t0.0\t0.0\t0.0\t0.0\t0.0\t0.0\t0.0\t0.0\t0.0\t0.0\t0.0\t\n",
      "0.55\t0.0\t0.0\t0.0\t0.0\t0.0\t0.0\t0.0\t0.0\t0.0\t0.0\t0.45\t0.0\t0.0\t0.0\t0.0\t0.0\t0.0\t0.0\t0.0\t\n",
      "0.45\t0.0\t0.0\t0.0\t0.0\t0.0\t0.0\t0.0\t0.55\t0.0\t0.0\t0.0\t0.0\t0.0\t0.0\t0.0\t0.0\t0.0\t0.0\t0.0\t"
     ]
    }
   ],
   "source": [
    "cat /Users/ila/01-Unibo/02_Lab2/files_lab2_project/all_data/test_data/profiles/test_profile"
   ]
  },
  {
   "cell_type": "code",
   "execution_count": 73,
   "metadata": {},
   "outputs": [],
   "source": [
    "import sys\n",
    "import os\n",
    "import pandas as pd\n",
    "import numpy as np\n",
    "\n",
    "def read_clean_lines(infile1):\n",
    "    ''' Reads all lines from a file. Returns string of second line. The '\\n' is stripped.'''\n",
    "    with open(infile1, 'r') as rfile:\n",
    "        newline_list = rfile.readlines()\n",
    "#         cleanstring = newline_list[1].rstrip()\n",
    "        return newline_list"
   ]
  },
  {
   "cell_type": "code",
   "execution_count": 128,
   "metadata": {},
   "outputs": [],
   "source": [
    "list1 = read_clean_lines('/Users/ila/01-Unibo/02_Lab2/files_lab2_project/all_data/test_data/profiles/test_profile')\n",
    "list1\n",
    "\n",
    "cleanlines = []\n",
    "floats = []\n",
    "# for i in list1:"
   ]
  },
  {
   "cell_type": "markdown",
   "metadata": {},
   "source": [
    "### Better to loadtxt dicrectly into np array:"
   ]
  },
  {
   "cell_type": "code",
   "execution_count": 140,
   "metadata": {},
   "outputs": [
    {
     "name": "stdout",
     "output_type": "stream",
     "text": [
      "[0.55 0.45 0.   0.   0.   0.   0.   0.   0.   0.   0.   0.   0.   0.\n",
      " 0.   0.   0.   0.   0.   0.  ]\n",
      "[0.   0.   0.45 0.   0.   0.   0.55 0.   0.   0.   0.   0.   0.   0.\n",
      " 0.   0.   0.   0.   0.   0.  ]\n"
     ]
    }
   ],
   "source": [
    "profile_arr = np.loadtxt(\"/Users/ila/01-Unibo/02_Lab2/files_lab2_project/all_data/test_data/profiles/test_profile\", usecols=range(0,20), dtype=np.float64)\n",
    "profile_arr\n",
    "profile_arr.shape\n",
    "\n",
    "rows, cols = profile_arr.shape\n",
    "\n",
    "print(profile_arr[0])\n",
    "print(profile_arr[1])\n",
    "\n",
    "\n",
    "\n",
    "# for i in range(8):\n",
    "#     for j in range(19):\n",
    "#         print(profile_arr[i][j])\n"
   ]
  },
  {
   "cell_type": "markdown",
   "metadata": {},
   "source": [
    "### You can add entire rows of np arrays;"
   ]
  },
  {
   "cell_type": "code",
   "execution_count": 138,
   "metadata": {},
   "outputs": [
    {
     "data": {
      "text/plain": [
       "array([0.55, 0.45, 0.45, 0.  , 0.  , 0.  , 0.55, 0.  , 0.  , 0.  , 0.  ,\n",
       "       0.  , 0.  , 0.  , 0.  , 0.  , 0.  , 0.  , 0.  , 0.  ])"
      ]
     },
     "execution_count": 138,
     "metadata": {},
     "output_type": "execute_result"
    }
   ],
   "source": [
    "sum_of_2rows = profile_arr[0]+profile_arr[1]\n",
    "sum_of_2rows"
   ]
  },
  {
   "cell_type": "code",
   "execution_count": 137,
   "metadata": {},
   "outputs": [
    {
     "name": "stdout",
     "output_type": "stream",
     "text": [
      "[0, 1, 2, 3, 4, 5, 6, 7, 8, 9, 10, 11, 12, 13, 14, 15, 16, 17, 18, 19]\n"
     ]
    }
   ],
   "source": [
    "header_col = ['A', 'R', 'N', 'D', 'C', 'Q', 'E', 'G', 'H', 'I', 'L', 'K', 'M', 'F', 'P', 'S', 'T', 'W', 'Y', 'V']\n",
    "nospace = \"\"\n",
    "for i in a:\n",
    "#     print(i, end='')\n",
    "    nospace+=i\n",
    "nospace\n",
    "\n",
    "num_li = []\n",
    "for j in range(len(header_col)):\n",
    "    num_li.append(j)\n",
    "    \n",
    "print(num_li)    "
   ]
  },
  {
   "cell_type": "markdown",
   "metadata": {},
   "source": [
    "### Need to check that numcols == numcols no\n",
    "\n",
    "### Need to check that len(dssp_string) == number of rows in profile"
   ]
  },
  {
   "cell_type": "code",
   "execution_count": 152,
   "metadata": {},
   "outputs": [],
   "source": [
    "#!/anaconda3/bin/python\n",
    "import sys\n",
    "import os\n",
    "import glob\n",
    "import pandas as pd\n",
    "import numpy as np\n",
    "import argparse \n",
    "\n",
    "'''For the first try: Make function: Takes fasta and dssp sequence as parameters as input.'''\n",
    "# d1g2ya_.dssp\n",
    "# d1g2ya_.fasta from training files.\n",
    "\n",
    "win_size = 3 # has to be an odd number pass through argparse later\n",
    "\n",
    "def make_zero_array(window_size):\n",
    "    '''\n",
    "    Takes window size and the name of the array as arguments.\n",
    "    Makes an array that has as many lines as the win_size and \n",
    "    the number of columns is defined by the number of naturally \n",
    "    occurring aa in eukaryotes. Returns the array.\n",
    "    '''\n",
    "    array = np.zeros((window_size,20)) #, dtype= 'float64' is allready default - not necessary to specify!!!\n",
    "    return array\n",
    "    \n",
    "R_H = make_zero_array(win_size)           # generating arrays holding the counts of residue in conformation X --> R_X\n",
    "R_E = make_zero_array(win_size)\n",
    "R_C = make_zero_array(win_size)\n",
    "R_count = make_zero_array(win_size)       # generating array holding the total residue count\n",
    "SS_count = make_zero_array(win_size)      # generating array holding the total secondary structure count\n",
    "\n",
    "def make_frequency_df(zeroarray):\n",
    "    '''\n",
    "    Makes dataframe from zero array to better vizualize whats going on.\n",
    "    That enables us to index columns by residue name.\n",
    "    '''\n",
    "    header_col = ['A', 'R', 'N', 'D', 'C', 'Q', 'E', 'G', 'H', 'I', 'L', 'K', 'M', 'F', 'P', 'S', 'T', 'W', 'Y', 'V']\n",
    "    # row_names = ['R_0'] #['#R,H', '#R,E', '#R,C', '#R'] # want to implement using -1 0 1 according to window....\n",
    "#     freq_array = make_zero_array(win_size)\n",
    "    freq_df = pd.DataFrame(data = zeroarray,  columns=header_col) # index=row_names\n",
    "    return freq_df\n",
    "\n",
    "''' generating dataframes holding the counts of residue in conformation X --> R_X'''\n",
    "df_R_H = make_frequency_df(R_H)           \n",
    "df_R_E = make_frequency_df(R_E)\n",
    "df_R_C = make_frequency_df(R_C)\n",
    "df_R_count=make_frequency_df(R_count)\n",
    "# df_SS_count = make_frequency_df(SS_count)     \n",
    "\n",
    "''' generating smaller datafram holding the total counts conformations'''\n",
    "ss_array = np.zeros((1,3)) # making array holding total n of R in H, E or C\n",
    "df_all_SS = pd.DataFrame(data=ss_array, columns=['H', 'E', 'C'], index= ['#S'])\n",
    "# print(\"HEC df\")\n",
    "# print(df_all_SS)\n",
    "\n",
    "def read_clean_lines(infile1):\n",
    "    ''' Reads all lines from a file. Returns string of second line. The '\\n' is stripped.'''\n",
    "    with open(infile1, 'r') as rfile:\n",
    "        newline_list = rfile.readlines()\n",
    "        cleanstring = newline_list[1].rstrip()\n",
    "        return cleanstring\n",
    "\n",
    "def read_profile_into_array(infile2):\n",
    "    '''\n",
    "    Takes a seq profile file as input. Reads it into an np.array.\n",
    "    'NaN' column (index 20) is excluded. Returns the array\n",
    "    '''\n",
    "    profile_array = np.loadtxt(infile2, usecols=range(0,20), dtype=np.float64) # need to indicate range to get rid of last col containing 'nan'\n",
    "    return profile_array\n",
    "\n",
    "def dict_from_2_lists(list1, list2):\n",
    "    '''\n",
    "    Makes dictionary from 20 numbers list and all header of profile.\n",
    "    keys: [0, 1, 2, 3, 4, 5, 6, 7, 8, 9, 10, 11, 12, 13, 14, 15, 16, 17, 18, 19] \n",
    "    values: ['A', 'R', 'N', 'D', 'C', 'Q', 'E', 'G', 'H', 'I', 'L', 'K', 'M', 'F', 'P', 'S', 'T', 'W', 'Y', 'V']\n",
    "    used to access correct column in GOR arrays.\n",
    "    '''\n",
    "    keys = list1\n",
    "    values = list2\n",
    "    index_dict = dict(zip(keys, values))\n",
    "    return index_dict\n",
    "\n",
    "indexes = dict_from_2_lists([0, 1, 2, 3, 4, 5, 6, 7, 8, 9, 10, 11, 12, 13, 14, 15, 16, 17, 18, 19], ['A', 'R', 'N', 'D', 'C', 'Q', 'E', 'G', 'H', 'I', 'L', 'K', 'M', 'F', 'P', 'S', 'T', 'W', 'Y', 'V'])\n",
    "\n",
    "def train_gor(profile, ssfile, RH, RE, RC, total_R, total_SS):\n",
    "    '''\n",
    "    Takes as input: (1) np.array of seq profile (2) ss from dssp file (3) dataframes comprising the gor model \n",
    "    (RH, RE, RC, total_R and total_SS). Increments corresponding positions according to R in given conformation \n",
    "    in each field. Returns the trained GOR model.\n",
    "    '''\n",
    "    # aa_string = read_clean_lines(profile)\n",
    "    profile_arr = read_profile_into_array(profile)          # np.array\n",
    "    print(profile_arr)\n",
    "\n",
    "    ss_string = read_clean_lines(ssfile)\n",
    "    print(ss_string)                                        \n",
    "\n",
    "    rows, cols = profile_arr.shape                          # len(ss_string) must be == number of rows \n",
    "\n",
    "    if len(ss_string) != rows:\n",
    "        print('Error: ', ssfile, 'length not the same as in profile! ')\n",
    "        return RH, RE, RC, total_R, total_SS\n",
    "\n",
    "    for i in range(rows):\n",
    "        ss = ss_string[i]                   # type of structure at index i\n",
    "        profile_row = profile_arr[i]              # Profile row at index i\n",
    "        total_R += profile_row                    # Incrementing each df by adding one row of the profile\n",
    "        \n",
    "        if ss == 'H':\n",
    "            RH += profile_row\n",
    "            total_SS[ss] += 1\n",
    "\n",
    "        elif ss == 'E':\n",
    "            RE += profile_row\n",
    "            total_SS[ss] += 1\n",
    "\n",
    "        else:                               \n",
    "            RC += profile_row\n",
    "            total_SS['C'] += 1                # If not H or E --> its assigned to 'C' compatible with training and blind files.\n",
    "    return RH, RE, RC, total_R, total_SS"
   ]
  },
  {
   "cell_type": "code",
   "execution_count": 153,
   "metadata": {},
   "outputs": [
    {
     "name": "stdout",
     "output_type": "stream",
     "text": [
      "{0: 'A', 1: 'R', 2: 'N', 3: 'D', 4: 'C', 5: 'Q', 6: 'E', 7: 'G', 8: 'H', 9: 'I', 10: 'L', 11: 'K', 12: 'M', 13: 'F', 14: 'P', 15: 'S', 16: 'T', 17: 'W', 18: 'Y', 19: 'V'}\n"
     ]
    }
   ],
   "source": [
    "df_R_H\n",
    "print(indexes)"
   ]
  },
  {
   "cell_type": "code",
   "execution_count": 158,
   "metadata": {},
   "outputs": [
    {
     "name": "stdout",
     "output_type": "stream",
     "text": [
      "[[0.55 0.45 0.   0.   0.   0.   0.   0.   0.   0.   0.   0.   0.   0.\n",
      "  0.   0.   0.   0.   0.   0.  ]\n",
      " [0.   0.   0.45 0.   0.   0.   0.55 0.   0.   0.   0.   0.   0.   0.\n",
      "  0.   0.   0.   0.   0.   0.  ]\n",
      " [0.   0.   0.   0.   0.   0.   0.   0.   0.   0.55 0.   0.   0.   0.\n",
      "  0.   0.   0.   0.   0.   0.45]\n",
      " [0.55 0.   0.   0.   0.   0.   0.   0.   0.   0.   0.   0.   0.   0.\n",
      "  0.   0.   0.   0.   0.   0.45]\n",
      " [0.   0.   0.   0.   0.   0.   0.   0.   0.   0.   0.   0.   0.   0.\n",
      "  0.   0.   0.45 0.   0.   0.55]\n",
      " [1.   0.   0.   0.   0.   0.   0.   0.   0.   0.   0.   0.   0.   0.\n",
      "  0.   0.   0.   0.   0.   0.  ]\n",
      " [0.   0.   0.45 0.   0.   0.   0.   0.   0.55 0.   0.   0.   0.   0.\n",
      "  0.   0.   0.   0.   0.   0.  ]\n",
      " [0.55 0.   0.   0.   0.   0.   0.   0.   0.   0.   0.   0.45 0.   0.\n",
      "  0.   0.   0.   0.   0.   0.  ]\n",
      " [0.45 0.   0.   0.   0.   0.   0.   0.   0.55 0.   0.   0.   0.   0.\n",
      "  0.   0.   0.   0.   0.   0.  ]]\n",
      "CEEEEECCC\n"
     ]
    },
    {
     "data": {
      "text/html": [
       "<div>\n",
       "<style scoped>\n",
       "    .dataframe tbody tr th:only-of-type {\n",
       "        vertical-align: middle;\n",
       "    }\n",
       "\n",
       "    .dataframe tbody tr th {\n",
       "        vertical-align: top;\n",
       "    }\n",
       "\n",
       "    .dataframe thead th {\n",
       "        text-align: right;\n",
       "    }\n",
       "</style>\n",
       "<table border=\"1\" class=\"dataframe\">\n",
       "  <thead>\n",
       "    <tr style=\"text-align: right;\">\n",
       "      <th></th>\n",
       "      <th>A</th>\n",
       "      <th>R</th>\n",
       "      <th>N</th>\n",
       "      <th>D</th>\n",
       "      <th>C</th>\n",
       "      <th>Q</th>\n",
       "      <th>E</th>\n",
       "      <th>G</th>\n",
       "      <th>H</th>\n",
       "      <th>I</th>\n",
       "      <th>L</th>\n",
       "      <th>K</th>\n",
       "      <th>M</th>\n",
       "      <th>F</th>\n",
       "      <th>P</th>\n",
       "      <th>S</th>\n",
       "      <th>T</th>\n",
       "      <th>W</th>\n",
       "      <th>Y</th>\n",
       "      <th>V</th>\n",
       "    </tr>\n",
       "  </thead>\n",
       "  <tbody>\n",
       "    <tr>\n",
       "      <th>0</th>\n",
       "      <td>0.0</td>\n",
       "      <td>0.0</td>\n",
       "      <td>0.0</td>\n",
       "      <td>0.0</td>\n",
       "      <td>0.0</td>\n",
       "      <td>0.0</td>\n",
       "      <td>0.0</td>\n",
       "      <td>0.0</td>\n",
       "      <td>0.0</td>\n",
       "      <td>0.0</td>\n",
       "      <td>0.0</td>\n",
       "      <td>0.0</td>\n",
       "      <td>0.0</td>\n",
       "      <td>0.0</td>\n",
       "      <td>0.0</td>\n",
       "      <td>0.0</td>\n",
       "      <td>0.0</td>\n",
       "      <td>0.0</td>\n",
       "      <td>0.0</td>\n",
       "      <td>0.0</td>\n",
       "    </tr>\n",
       "    <tr>\n",
       "      <th>1</th>\n",
       "      <td>0.0</td>\n",
       "      <td>0.0</td>\n",
       "      <td>0.0</td>\n",
       "      <td>0.0</td>\n",
       "      <td>0.0</td>\n",
       "      <td>0.0</td>\n",
       "      <td>0.0</td>\n",
       "      <td>0.0</td>\n",
       "      <td>0.0</td>\n",
       "      <td>0.0</td>\n",
       "      <td>0.0</td>\n",
       "      <td>0.0</td>\n",
       "      <td>0.0</td>\n",
       "      <td>0.0</td>\n",
       "      <td>0.0</td>\n",
       "      <td>0.0</td>\n",
       "      <td>0.0</td>\n",
       "      <td>0.0</td>\n",
       "      <td>0.0</td>\n",
       "      <td>0.0</td>\n",
       "    </tr>\n",
       "    <tr>\n",
       "      <th>2</th>\n",
       "      <td>0.0</td>\n",
       "      <td>0.0</td>\n",
       "      <td>0.0</td>\n",
       "      <td>0.0</td>\n",
       "      <td>0.0</td>\n",
       "      <td>0.0</td>\n",
       "      <td>0.0</td>\n",
       "      <td>0.0</td>\n",
       "      <td>0.0</td>\n",
       "      <td>0.0</td>\n",
       "      <td>0.0</td>\n",
       "      <td>0.0</td>\n",
       "      <td>0.0</td>\n",
       "      <td>0.0</td>\n",
       "      <td>0.0</td>\n",
       "      <td>0.0</td>\n",
       "      <td>0.0</td>\n",
       "      <td>0.0</td>\n",
       "      <td>0.0</td>\n",
       "      <td>0.0</td>\n",
       "    </tr>\n",
       "  </tbody>\n",
       "</table>\n",
       "</div>"
      ],
      "text/plain": [
       "     A    R    N    D    C    Q    E    G    H    I    L    K    M    F    P  \\\n",
       "0  0.0  0.0  0.0  0.0  0.0  0.0  0.0  0.0  0.0  0.0  0.0  0.0  0.0  0.0  0.0   \n",
       "1  0.0  0.0  0.0  0.0  0.0  0.0  0.0  0.0  0.0  0.0  0.0  0.0  0.0  0.0  0.0   \n",
       "2  0.0  0.0  0.0  0.0  0.0  0.0  0.0  0.0  0.0  0.0  0.0  0.0  0.0  0.0  0.0   \n",
       "\n",
       "     S    T    W    Y    V  \n",
       "0  0.0  0.0  0.0  0.0  0.0  \n",
       "1  0.0  0.0  0.0  0.0  0.0  \n",
       "2  0.0  0.0  0.0  0.0  0.0  "
      ]
     },
     "execution_count": 158,
     "metadata": {},
     "output_type": "execute_result"
    }
   ],
   "source": [
    "RH, RE, RC, total_R, total_SS = train_gor(\"/Users/ila/01-Unibo/02_Lab2/files_lab2_project/all_data/test_data/profiles/test_profile\", \"/Users/ila/01-Unibo/02_Lab2/files_lab2_project/all_data/test_data/dssp/test_ss.dssp\", df_R_H, df_R_E, df_R_C, df_R_count, df_all_SS)\n",
    "# make_frequency_df(RH)\n",
    "df_R_H = make_frequency_df(RH)           \n",
    "df_R_E = make_frequency_df(RE)\n",
    "df_R_C = make_frequency_df(RC)\n",
    "df_R_H"
   ]
  },
  {
   "cell_type": "code",
   "execution_count": 151,
   "metadata": {},
   "outputs": [
    {
     "data": {
      "text/html": [
       "<div>\n",
       "<style scoped>\n",
       "    .dataframe tbody tr th:only-of-type {\n",
       "        vertical-align: middle;\n",
       "    }\n",
       "\n",
       "    .dataframe tbody tr th {\n",
       "        vertical-align: top;\n",
       "    }\n",
       "\n",
       "    .dataframe thead th {\n",
       "        text-align: right;\n",
       "    }\n",
       "</style>\n",
       "<table border=\"1\" class=\"dataframe\">\n",
       "  <thead>\n",
       "    <tr style=\"text-align: right;\">\n",
       "      <th></th>\n",
       "      <th>A</th>\n",
       "      <th>R</th>\n",
       "      <th>N</th>\n",
       "      <th>D</th>\n",
       "      <th>C</th>\n",
       "      <th>Q</th>\n",
       "      <th>E</th>\n",
       "      <th>G</th>\n",
       "      <th>H</th>\n",
       "      <th>I</th>\n",
       "      <th>L</th>\n",
       "      <th>K</th>\n",
       "      <th>M</th>\n",
       "      <th>F</th>\n",
       "      <th>P</th>\n",
       "      <th>S</th>\n",
       "      <th>T</th>\n",
       "      <th>W</th>\n",
       "      <th>Y</th>\n",
       "      <th>V</th>\n",
       "    </tr>\n",
       "  </thead>\n",
       "  <tbody>\n",
       "    <tr>\n",
       "      <th>0</th>\n",
       "      <td>0.55</td>\n",
       "      <td>0.45</td>\n",
       "      <td>0.0</td>\n",
       "      <td>0.0</td>\n",
       "      <td>0.0</td>\n",
       "      <td>0.0</td>\n",
       "      <td>0.0</td>\n",
       "      <td>0.0</td>\n",
       "      <td>0.0</td>\n",
       "      <td>0.0</td>\n",
       "      <td>0.0</td>\n",
       "      <td>0.0</td>\n",
       "      <td>0.0</td>\n",
       "      <td>0.0</td>\n",
       "      <td>0.0</td>\n",
       "      <td>0.0</td>\n",
       "      <td>0.0</td>\n",
       "      <td>0.0</td>\n",
       "      <td>0.0</td>\n",
       "      <td>0.0</td>\n",
       "    </tr>\n",
       "  </tbody>\n",
       "</table>\n",
       "</div>"
      ],
      "text/plain": [
       "      A     R    N    D    C    Q    E    G    H    I    L    K    M    F  \\\n",
       "0  0.55  0.45  0.0  0.0  0.0  0.0  0.0  0.0  0.0  0.0  0.0  0.0  0.0  0.0   \n",
       "\n",
       "     P    S    T    W    Y    V  \n",
       "0  0.0  0.0  0.0  0.0  0.0  0.0  "
      ]
     },
     "execution_count": 151,
     "metadata": {},
     "output_type": "execute_result"
    }
   ],
   "source": [
    "df_R_E.loc[[0]]+profile_arr[0]"
   ]
  },
  {
   "cell_type": "markdown",
   "metadata": {},
   "source": [
    "### About the axis in np.arrays\n",
    "\n",
    "Found [here](https://www.sharpsightlabs.com/blog/numpy-axes-explained/) exerzizes [here](https://machinelearningmastery.com/numpy-axis-for-rows-and-columns/)"
   ]
  },
  {
   "cell_type": "markdown",
   "metadata": {},
   "source": [
    "When ever we need to do \n",
    "* Column wise **or**\n",
    "* Row wise\n",
    "\n",
    "operations we cant use the intuiteve row and column indexing but we have to use \n",
    "\n",
    "    axis \n",
    "    \n",
    "instead!    \n",
    "\n",
    "Operations such as the sum can be performed \n",
    "* Column wise using\n",
    "    * ```axis=0```\n",
    "* Row wise using\n",
    "    * ```axis=1```\n",
    "* Apply operation to the entire array\n",
    "    * ```axis=None```\n",
    "    \n",
    "Example:    "
   ]
  },
  {
   "cell_type": "code",
   "execution_count": 160,
   "metadata": {},
   "outputs": [],
   "source": [
    "import numpy as np"
   ]
  },
  {
   "cell_type": "code",
   "execution_count": 161,
   "metadata": {},
   "outputs": [],
   "source": [
    "#Defining data as a list of lists\n",
    "data = [[1,2,3], [4,5,6]]"
   ]
  },
  {
   "cell_type": "code",
   "execution_count": 167,
   "metadata": {},
   "outputs": [
    {
     "name": "stdout",
     "output_type": "stream",
     "text": [
      "[[1 2 3]\n",
      " [4 5 6]]\n"
     ]
    }
   ],
   "source": [
    "# Converting to np array\n",
    "data = np.asarray(data)\n",
    "print(data)"
   ]
  },
  {
   "cell_type": "code",
   "execution_count": 262,
   "metadata": {},
   "outputs": [
    {
     "name": "stdout",
     "output_type": "stream",
     "text": [
      "(2, 3)\n"
     ]
    }
   ],
   "source": [
    "# Get shape of the array = tuple\n",
    "axis = data.shape\n",
    "print(data.shape)"
   ]
  },
  {
   "cell_type": "code",
   "execution_count": 266,
   "metadata": {},
   "outputs": [
    {
     "data": {
      "text/plain": [
       "array([1, 2, 3])"
      ]
     },
     "execution_count": 266,
     "metadata": {},
     "output_type": "execute_result"
    }
   ],
   "source": []
  },
  {
   "cell_type": "code",
   "execution_count": 263,
   "metadata": {},
   "outputs": [
    {
     "data": {
      "text/plain": [
       "3"
      ]
     },
     "execution_count": 263,
     "metadata": {},
     "output_type": "execute_result"
    }
   ],
   "source": [
    "axis[1]"
   ]
  },
  {
   "cell_type": "markdown",
   "metadata": {},
   "source": [
    "With shape we can visualize that\n",
    "* x=0 (2) is the number of lines \n",
    "* while x=1 (3) is the number of columns"
   ]
  },
  {
   "cell_type": "code",
   "execution_count": 169,
   "metadata": {},
   "outputs": [
    {
     "data": {
      "text/plain": [
       "2"
      ]
     },
     "execution_count": 169,
     "metadata": {},
     "output_type": "execute_result"
    }
   ],
   "source": [
    "data.shape[0]"
   ]
  },
  {
   "cell_type": "code",
   "execution_count": 170,
   "metadata": {},
   "outputs": [
    {
     "data": {
      "text/plain": [
       "3"
      ]
     },
     "execution_count": 170,
     "metadata": {},
     "output_type": "execute_result"
    }
   ],
   "source": [
    "data.shape[1]"
   ]
  },
  {
   "cell_type": "markdown",
   "metadata": {},
   "source": [
    "Acessing first row and first colum:"
   ]
  },
  {
   "cell_type": "code",
   "execution_count": 174,
   "metadata": {},
   "outputs": [
    {
     "data": {
      "text/plain": [
       "1"
      ]
     },
     "execution_count": 174,
     "metadata": {},
     "output_type": "execute_result"
    }
   ],
   "source": [
    "data[0,0]"
   ]
  },
  {
   "cell_type": "markdown",
   "metadata": {},
   "source": [
    "Accessing first row and **all** columns"
   ]
  },
  {
   "cell_type": "code",
   "execution_count": 177,
   "metadata": {},
   "outputs": [
    {
     "data": {
      "text/plain": [
       "array([1, 2, 3])"
      ]
     },
     "execution_count": 177,
     "metadata": {},
     "output_type": "execute_result"
    }
   ],
   "source": [
    "data[0,:]"
   ]
  },
  {
   "cell_type": "markdown",
   "metadata": {},
   "source": [
    "### Sum of entire array:"
   ]
  },
  {
   "cell_type": "code",
   "execution_count": 179,
   "metadata": {},
   "outputs": [
    {
     "name": "stdout",
     "output_type": "stream",
     "text": [
      "[[1 2 3]\n",
      " [4 5 6]]\n"
     ]
    }
   ],
   "source": [
    "print(data)"
   ]
  },
  {
   "cell_type": "code",
   "execution_count": 181,
   "metadata": {},
   "outputs": [
    {
     "name": "stdout",
     "output_type": "stream",
     "text": [
      "21\n"
     ]
    }
   ],
   "source": [
    "result = data.sum(axis=None)\n",
    "print(result)"
   ]
  },
  {
   "cell_type": "markdown",
   "metadata": {},
   "source": [
    "### Summing data by column"
   ]
  },
  {
   "cell_type": "code",
   "execution_count": 187,
   "metadata": {},
   "outputs": [
    {
     "name": "stdout",
     "output_type": "stream",
     "text": [
      "[5 7 9]\n"
     ]
    }
   ],
   "source": [
    "col_sum = data.sum(axis=0)\n",
    "print(col_sum)"
   ]
  },
  {
   "cell_type": "code",
   "execution_count": 186,
   "metadata": {},
   "outputs": [
    {
     "name": "stdout",
     "output_type": "stream",
     "text": [
      "[5 7 9]\n"
     ]
    }
   ],
   "source": []
  },
  {
   "cell_type": "markdown",
   "metadata": {},
   "source": [
    "## Note that this doenst work"
   ]
  },
  {
   "cell_type": "code",
   "execution_count": 217,
   "metadata": {},
   "outputs": [
    {
     "name": "stdout",
     "output_type": "stream",
     "text": [
      "Shape:  (3,)\n"
     ]
    },
    {
     "ename": "ValueError",
     "evalue": "all the input arrays must have same number of dimensions",
     "output_type": "error",
     "traceback": [
      "\u001b[0;31m---------------------------------------------------------------------------\u001b[0m",
      "\u001b[0;31mValueError\u001b[0m                                Traceback (most recent call last)",
      "\u001b[0;32m<ipython-input-217-b6785eaac190>\u001b[0m in \u001b[0;36m<module>\u001b[0;34m\u001b[0m\n\u001b[1;32m      4\u001b[0m \u001b[0mprint\u001b[0m\u001b[0;34m(\u001b[0m\u001b[0;34m\"Shape: \"\u001b[0m\u001b[0;34m,\u001b[0m \u001b[0mnp\u001b[0m\u001b[0;34m.\u001b[0m\u001b[0mshape\u001b[0m\u001b[0;34m(\u001b[0m\u001b[0mtop\u001b[0m\u001b[0;34m)\u001b[0m\u001b[0;34m)\u001b[0m\u001b[0;34m\u001b[0m\u001b[0;34m\u001b[0m\u001b[0m\n\u001b[1;32m      5\u001b[0m \u001b[0;34m\u001b[0m\u001b[0m\n\u001b[0;32m----> 6\u001b[0;31m \u001b[0moverhang\u001b[0m \u001b[0;34m=\u001b[0m \u001b[0mnp\u001b[0m\u001b[0;34m.\u001b[0m\u001b[0mconcatenate\u001b[0m\u001b[0;34m(\u001b[0m\u001b[0;34m(\u001b[0m\u001b[0mtop\u001b[0m\u001b[0;34m,\u001b[0m \u001b[0mdata\u001b[0m\u001b[0;34m,\u001b[0m \u001b[0mbottom\u001b[0m\u001b[0;34m)\u001b[0m\u001b[0;34m,\u001b[0m \u001b[0maxis\u001b[0m\u001b[0;34m=\u001b[0m\u001b[0;36m0\u001b[0m\u001b[0;34m)\u001b[0m\u001b[0;34m\u001b[0m\u001b[0;34m\u001b[0m\u001b[0m\n\u001b[0m\u001b[1;32m      7\u001b[0m \u001b[0mprint\u001b[0m\u001b[0;34m(\u001b[0m\u001b[0moverhang\u001b[0m\u001b[0;34m)\u001b[0m\u001b[0;34m\u001b[0m\u001b[0;34m\u001b[0m\u001b[0m\n",
      "\u001b[0;31mValueError\u001b[0m: all the input arrays must have same number of dimensions"
     ]
    }
   ],
   "source": [
    "top = np.asarray([-1,-1,-1])\n",
    "bottom = np.asarray([1,1,1])\n",
    "\n",
    "print(\"Shape: \", np.shape(top))\n",
    "\n",
    "overhang = np.concatenate((top, data, bottom), axis=0)\n",
    "print(overhang)"
   ]
  },
  {
   "cell_type": "markdown",
   "metadata": {},
   "source": [
    "### But this works:"
   ]
  },
  {
   "cell_type": "code",
   "execution_count": 216,
   "metadata": {},
   "outputs": [
    {
     "name": "stdout",
     "output_type": "stream",
     "text": [
      "Shape:  (1, 3)\n",
      "[[-1 -1 -1]\n",
      " [ 1  2  3]\n",
      " [ 4  5  6]\n",
      " [ 1  1  1]]\n"
     ]
    }
   ],
   "source": [
    "top = np.asarray([[-1,-1,-1]])\n",
    "bottom = np.asarray([[1,1,1]])\n",
    "\n",
    "print(\"Shape: \", np.shape(top))\n",
    "\n",
    "overhang = np.concatenate((top, data, bottom), axis=0)\n",
    "print(overhang)\n"
   ]
  },
  {
   "cell_type": "markdown",
   "metadata": {},
   "source": [
    "## Add over rows"
   ]
  },
  {
   "cell_type": "code",
   "execution_count": 218,
   "metadata": {},
   "outputs": [
    {
     "data": {
      "text/plain": [
       "array([[0, 0, 0, 1, 2, 3, 1, 1, 1],\n",
       "       [0, 0, 0, 4, 5, 6, 1, 1, 1]])"
      ]
     },
     "execution_count": 218,
     "metadata": {},
     "output_type": "execute_result"
    }
   ],
   "source": [
    "single1 = np.asarray([[0,0,0], [0,0,0]])\n",
    "single2 = np.asarray([[1,1,1], [1,1,1]])\n",
    "middle = np.asarray([[2,2,2], [3,3,3], [4,4,4]])\n",
    "test1 = np.concatenate((single1,data,single2), axis=1) \n",
    "test1"
   ]
  },
  {
   "cell_type": "code",
   "execution_count": 219,
   "metadata": {},
   "outputs": [
    {
     "data": {
      "text/plain": [
       "3"
      ]
     },
     "execution_count": 219,
     "metadata": {},
     "output_type": "execute_result"
    }
   ],
   "source": [
    "7//2"
   ]
  },
  {
   "cell_type": "code",
   "execution_count": 269,
   "metadata": {},
   "outputs": [
    {
     "data": {
      "text/plain": [
       "array([['H', 38, 0],\n",
       "       ['E', 148, 0],\n",
       "       ['-', 0, 0],\n",
       "       ['TOT', 186, 0]], dtype=object)"
      ]
     },
     "execution_count": 269,
     "metadata": {},
     "output_type": "execute_result"
    }
   ],
   "source": [
    "ss_count_matrix \n"
   ]
  },
  {
   "cell_type": "code",
   "execution_count": 274,
   "metadata": {},
   "outputs": [
    {
     "data": {
      "text/plain": [
       "array([['E', 148, 0],\n",
       "       ['-', 0, 0]], dtype=object)"
      ]
     },
     "execution_count": 274,
     "metadata": {},
     "output_type": "execute_result"
    }
   ],
   "source": [
    "ss_count_matrix[1:3]"
   ]
  },
  {
   "cell_type": "code",
   "execution_count": 253,
   "metadata": {},
   "outputs": [],
   "source": [
    "def test_matrices(dssp_file,profile_file, H_matrix, E_matrix, C_matrix, aa_freq_matrix, ss_count_matrix):\n",
    "    \n",
    "\n",
    "    #open the current dssp file and obtain the ss sequence\n",
    "    dssp_opened = open(dssp_file, \"r\")\n",
    "    for line in dssp_opened:\n",
    "        if line[0] == \">\":\n",
    "            continue\n",
    "        else:\n",
    "            dssp_seq = line.rstrip()\n",
    "\n",
    "\n",
    "    #load the current sequence profile and initiate the window matrix with padding before and after the profile\n",
    "    pad = (int(w)//2)\n",
    "    padding_matrix = np.zeros((pad, 20))\n",
    "    profile_matrix = np.loadtxt(profile_file, dtype= 'float64')\n",
    "    padded_profile = np.concatenate((padding_matrix,profile_matrix,padding_matrix), axis = 0 )\n",
    "    \n",
    "#iterate over the dssp sequence and add the current window matrix to the corresponding matrices \n",
    "#     c = -1\n",
    "    \n",
    "    for i in range(len(dssp_seq)):    # len dssp_seq == number of lines in profile_file!!!\n",
    "#         c += 1            # do I need to take his indexing? No better way to do this?\n",
    "        \n",
    "#         why does he divide by 100 at every step\n",
    "        window_matrix = np.divide(padded_profile[i:(i+(window)],100)\n",
    "        \n",
    "        ss = dssp_seq[i]           \n",
    "                   \n",
    "        if ss == \"H\":\n",
    "            np.add(H_matrix, window_matrix, out = H_matrix)\n",
    "            np.add(aa_freq_matrix, window_matrix, out = aa_freq_matrix)\n",
    "            ss_count_matrix[0][1] += 1\n",
    "            ss_count_matrix[3][1] += 1\n",
    "            \n",
    "        elif ss == \"E\":\n",
    "            np.add(E_matrix, window_matrix, out = E_matrix)\n",
    "            np.add(aa_freq_matrix, window_matrix, out = aa_freq_matrix)\n",
    "            ss_count_matrix[1][1] += 1\n",
    "            ss_count_matrix[3][1] += 1\n",
    "\n",
    "        elif ss == \"-\":\n",
    "            np.add(C_matrix, window_matrix, out = C_matrix)\n",
    "            np.add(aa_freq_matrix, window_matrix, out = aa_freq_matrix)\n",
    "            ss_count_matrix[2][1] += 1\n",
    "            ss_count_matrix[3][1] += 1\n",
    "            \n",
    "        print(\"**\")\n",
    "        print(\"Here C\", c, \"Here window matrix\", window_matrix)\n",
    "\n",
    "    return()"
   ]
  },
  {
   "cell_type": "code",
   "execution_count": 228,
   "metadata": {},
   "outputs": [
    {
     "data": {
      "text/plain": [
       "'/Users/ila/01-Unibo/02_Lab2/files_lab2_project/documentation_notebooks/GOR'"
      ]
     },
     "execution_count": 228,
     "metadata": {},
     "output_type": "execute_result"
    }
   ],
   "source": [
    "pwd"
   ]
  },
  {
   "cell_type": "code",
   "execution_count": 255,
   "metadata": {},
   "outputs": [
    {
     "data": {
      "text/plain": [
       "array([0, 1, 2, 3, 4])"
      ]
     },
     "execution_count": 255,
     "metadata": {},
     "output_type": "execute_result"
    }
   ],
   "source": [
    "x = np.arange(5)\n",
    "\n",
    "x"
   ]
  },
  {
   "cell_type": "code",
   "execution_count": 256,
   "metadata": {},
   "outputs": [
    {
     "data": {
      "text/plain": [
       "array([0.  , 0.25, 0.5 , 0.75, 1.  ])"
      ]
     },
     "execution_count": 256,
     "metadata": {},
     "output_type": "execute_result"
    }
   ],
   "source": [
    "np.true_divide(x, 4)\n"
   ]
  },
  {
   "cell_type": "code",
   "execution_count": 278,
   "metadata": {},
   "outputs": [
    {
     "name": "stdout",
     "output_type": "stream",
     "text": [
      "C\n",
      "E\n",
      "E\n",
      "E\n",
      "C\n",
      "H\n",
      "H\n",
      "H\n",
      "H\n"
     ]
    }
   ],
   "source": [
    "st='CEEECHHHH'\n",
    "for i in st:\n",
    "    print(i)"
   ]
  },
  {
   "cell_type": "code",
   "execution_count": 282,
   "metadata": {},
   "outputs": [
    {
     "data": {
      "text/plain": [
       "list"
      ]
     },
     "execution_count": 282,
     "metadata": {},
     "output_type": "execute_result"
    }
   ],
   "source": [
    "li = list(st)\n",
    "type(li)"
   ]
  },
  {
   "cell_type": "code",
   "execution_count": 279,
   "metadata": {},
   "outputs": [
    {
     "data": {
      "text/plain": [
       "0"
      ]
     },
     "execution_count": 279,
     "metadata": {},
     "output_type": "execute_result"
    }
   ],
   "source": [
    "'C'.count(st)"
   ]
  },
  {
   "cell_type": "code",
   "execution_count": 285,
   "metadata": {},
   "outputs": [],
   "source": [
    "from collections import Counter\n",
    "cnt = Counter(li)"
   ]
  },
  {
   "cell_type": "code",
   "execution_count": 286,
   "metadata": {},
   "outputs": [],
   "source": [
    "common = cnt.most_common()"
   ]
  },
  {
   "cell_type": "code",
   "execution_count": 287,
   "metadata": {},
   "outputs": [
    {
     "data": {
      "text/plain": [
       "[('H', 4), ('E', 3), ('C', 2)]"
      ]
     },
     "execution_count": 287,
     "metadata": {},
     "output_type": "execute_result"
    }
   ],
   "source": [
    "common"
   ]
  },
  {
   "cell_type": "code",
   "execution_count": 288,
   "metadata": {},
   "outputs": [
    {
     "data": {
      "text/plain": [
       "array([[0, 1, 1],\n",
       "       [1, 2, 2],\n",
       "       [2, 3, 3]])"
      ]
     },
     "execution_count": 288,
     "metadata": {},
     "output_type": "execute_result"
    }
   ],
   "source": [
    "my_arr = np.asarray([[0,1,1],[1,2,2],[2,3,3]])\n",
    "my_arr"
   ]
  },
  {
   "cell_type": "code",
   "execution_count": 289,
   "metadata": {},
   "outputs": [
    {
     "name": "stdout",
     "output_type": "stream",
     "text": [
      "[3 6 6]\n"
     ]
    }
   ],
   "source": [
    "print(np.sum(my_arr, axis=0))"
   ]
  },
  {
   "cell_type": "code",
   "execution_count": 290,
   "metadata": {},
   "outputs": [
    {
     "name": "stdout",
     "output_type": "stream",
     "text": [
      "[2 5 8]\n"
     ]
    }
   ],
   "source": [
    "print(np.sum(my_arr, axis=1))"
   ]
  },
  {
   "cell_type": "code",
   "execution_count": 296,
   "metadata": {},
   "outputs": [
    {
     "name": "stdout",
     "output_type": "stream",
     "text": [
      "[1.   1.   1.   1.   1.   1.   1.   1.   1.   1.   1.   1.   1.   1.\n",
      " 1.   1.   1.   1.   1.   1.   1.   1.   1.   1.   0.99 1.   1.   1.\n",
      " 1.   1.   1.   1.   1.   1.   1.   1.   1.   1.   1.   1.   1.   1.\n",
      " 1.01 1.   1.   1.   1.   1.   1.   1.   1.   1.   1.   1.   1.   1.\n",
      " 1.   1.   1.   1.   1.   1.   1.   1.   1.   1.   1.   1.   1.   1.\n",
      " 1.   1.   1.   1.   1.   1.   1.   1.   1.   1.   1.   1.   1.   1.\n",
      " 1.   1.   1.   1.   1.   1.   1.   1.   1.   1.   1.   1.   1.   1.\n",
      " 1.   1.   1.   1.   1.   1.   1.   1.   1.   1.   1.  ]\n"
     ]
    }
   ],
   "source": [
    "# with open(\"/Users/ila/01-Unibo/02_Lab2/files_lab2_project/all_data/blindset/seqprofile_blind/4ywn.profile\") as profile:\n",
    "profile1 = np.loadtxt('/Users/ila/01-Unibo/02_Lab2/files_lab2_project/all_data/trainingset/seqprofile_training/d1dcea2.profile', dtype=np.float64)    \n",
    "print(np.sum(profile1, axis=1))"
   ]
  },
  {
   "cell_type": "code",
   "execution_count": 305,
   "metadata": {},
   "outputs": [
    {
     "data": {
      "text/html": [
       "<div>\n",
       "<style scoped>\n",
       "    .dataframe tbody tr th:only-of-type {\n",
       "        vertical-align: middle;\n",
       "    }\n",
       "\n",
       "    .dataframe tbody tr th {\n",
       "        vertical-align: top;\n",
       "    }\n",
       "\n",
       "    .dataframe thead th {\n",
       "        text-align: right;\n",
       "    }\n",
       "</style>\n",
       "<table border=\"1\" class=\"dataframe\">\n",
       "  <thead>\n",
       "    <tr style=\"text-align: right;\">\n",
       "      <th></th>\n",
       "      <th>0</th>\n",
       "      <th>1</th>\n",
       "      <th>2</th>\n",
       "      <th>3</th>\n",
       "      <th>4</th>\n",
       "      <th>5</th>\n",
       "      <th>6</th>\n",
       "      <th>7</th>\n",
       "      <th>8</th>\n",
       "      <th>9</th>\n",
       "      <th>10</th>\n",
       "      <th>11</th>\n",
       "      <th>12</th>\n",
       "      <th>13</th>\n",
       "      <th>14</th>\n",
       "      <th>15</th>\n",
       "      <th>16</th>\n",
       "      <th>17</th>\n",
       "      <th>18</th>\n",
       "      <th>19</th>\n",
       "    </tr>\n",
       "  </thead>\n",
       "  <tbody>\n",
       "    <tr>\n",
       "      <th>0</th>\n",
       "      <td>0.0</td>\n",
       "      <td>0.0</td>\n",
       "      <td>0.0</td>\n",
       "      <td>0.0</td>\n",
       "      <td>0.0</td>\n",
       "      <td>0.0</td>\n",
       "      <td>0.0</td>\n",
       "      <td>0.0</td>\n",
       "      <td>0.0</td>\n",
       "      <td>0.0</td>\n",
       "      <td>0.0</td>\n",
       "      <td>0.0</td>\n",
       "      <td>0.0</td>\n",
       "      <td>0.0</td>\n",
       "      <td>0.0</td>\n",
       "      <td>0.0</td>\n",
       "      <td>0.0</td>\n",
       "      <td>0.0</td>\n",
       "      <td>0.0</td>\n",
       "      <td>0.0</td>\n",
       "    </tr>\n",
       "    <tr>\n",
       "      <th>1</th>\n",
       "      <td>0.0</td>\n",
       "      <td>0.0</td>\n",
       "      <td>0.0</td>\n",
       "      <td>0.0</td>\n",
       "      <td>0.0</td>\n",
       "      <td>0.0</td>\n",
       "      <td>0.0</td>\n",
       "      <td>0.0</td>\n",
       "      <td>0.0</td>\n",
       "      <td>0.0</td>\n",
       "      <td>0.0</td>\n",
       "      <td>0.0</td>\n",
       "      <td>0.0</td>\n",
       "      <td>0.0</td>\n",
       "      <td>0.0</td>\n",
       "      <td>0.0</td>\n",
       "      <td>0.0</td>\n",
       "      <td>0.0</td>\n",
       "      <td>0.0</td>\n",
       "      <td>0.0</td>\n",
       "    </tr>\n",
       "    <tr>\n",
       "      <th>2</th>\n",
       "      <td>0.0</td>\n",
       "      <td>0.0</td>\n",
       "      <td>0.0</td>\n",
       "      <td>0.0</td>\n",
       "      <td>0.0</td>\n",
       "      <td>0.0</td>\n",
       "      <td>0.0</td>\n",
       "      <td>0.0</td>\n",
       "      <td>0.0</td>\n",
       "      <td>0.0</td>\n",
       "      <td>0.0</td>\n",
       "      <td>0.0</td>\n",
       "      <td>0.0</td>\n",
       "      <td>0.0</td>\n",
       "      <td>0.0</td>\n",
       "      <td>0.0</td>\n",
       "      <td>0.0</td>\n",
       "      <td>0.0</td>\n",
       "      <td>0.0</td>\n",
       "      <td>0.0</td>\n",
       "    </tr>\n",
       "  </tbody>\n",
       "</table>\n",
       "</div>"
      ],
      "text/plain": [
       "     0    1    2    3    4    5    6    7    8    9   10   11   12   13   14  \\\n",
       "0  0.0  0.0  0.0  0.0  0.0  0.0  0.0  0.0  0.0  0.0  0.0  0.0  0.0  0.0  0.0   \n",
       "1  0.0  0.0  0.0  0.0  0.0  0.0  0.0  0.0  0.0  0.0  0.0  0.0  0.0  0.0  0.0   \n",
       "2  0.0  0.0  0.0  0.0  0.0  0.0  0.0  0.0  0.0  0.0  0.0  0.0  0.0  0.0  0.0   \n",
       "\n",
       "    15   16   17   18   19  \n",
       "0  0.0  0.0  0.0  0.0  0.0  \n",
       "1  0.0  0.0  0.0  0.0  0.0  \n",
       "2  0.0  0.0  0.0  0.0  0.0  "
      ]
     },
     "execution_count": 305,
     "metadata": {},
     "output_type": "execute_result"
    }
   ],
   "source": [
    "import pandas as pd\n",
    "\n",
    "\n",
    "total_R = np.zeros((3, 20))\n",
    "total_Rdf = pd.DataFrame(data = total_R) # index=row_names\n",
    "total_Rdf"
   ]
  },
  {
   "cell_type": "code",
   "execution_count": null,
   "metadata": {},
   "outputs": [],
   "source": [
    "cur_window_arr = np.ones((3,20))\n",
    "cur_window_arr"
   ]
  },
  {
   "cell_type": "code",
   "execution_count": 303,
   "metadata": {},
   "outputs": [
    {
     "data": {
      "text/plain": [
       "(3, 20)"
      ]
     },
     "execution_count": 303,
     "metadata": {},
     "output_type": "execute_result"
    }
   ],
   "source": [
    "total_R.shape"
   ]
  },
  {
   "cell_type": "code",
   "execution_count": 309,
   "metadata": {},
   "outputs": [
    {
     "data": {
      "text/html": [
       "<div>\n",
       "<style scoped>\n",
       "    .dataframe tbody tr th:only-of-type {\n",
       "        vertical-align: middle;\n",
       "    }\n",
       "\n",
       "    .dataframe tbody tr th {\n",
       "        vertical-align: top;\n",
       "    }\n",
       "\n",
       "    .dataframe thead th {\n",
       "        text-align: right;\n",
       "    }\n",
       "</style>\n",
       "<table border=\"1\" class=\"dataframe\">\n",
       "  <thead>\n",
       "    <tr style=\"text-align: right;\">\n",
       "      <th></th>\n",
       "      <th>0</th>\n",
       "      <th>1</th>\n",
       "      <th>2</th>\n",
       "      <th>3</th>\n",
       "      <th>4</th>\n",
       "      <th>5</th>\n",
       "      <th>6</th>\n",
       "      <th>7</th>\n",
       "      <th>8</th>\n",
       "      <th>9</th>\n",
       "      <th>10</th>\n",
       "      <th>11</th>\n",
       "      <th>12</th>\n",
       "      <th>13</th>\n",
       "      <th>14</th>\n",
       "      <th>15</th>\n",
       "      <th>16</th>\n",
       "      <th>17</th>\n",
       "      <th>18</th>\n",
       "      <th>19</th>\n",
       "    </tr>\n",
       "  </thead>\n",
       "  <tbody>\n",
       "    <tr>\n",
       "      <th>0</th>\n",
       "      <td>4.0</td>\n",
       "      <td>4.0</td>\n",
       "      <td>4.0</td>\n",
       "      <td>4.0</td>\n",
       "      <td>4.0</td>\n",
       "      <td>4.0</td>\n",
       "      <td>4.0</td>\n",
       "      <td>4.0</td>\n",
       "      <td>4.0</td>\n",
       "      <td>4.0</td>\n",
       "      <td>4.0</td>\n",
       "      <td>4.0</td>\n",
       "      <td>4.0</td>\n",
       "      <td>4.0</td>\n",
       "      <td>4.0</td>\n",
       "      <td>4.0</td>\n",
       "      <td>4.0</td>\n",
       "      <td>4.0</td>\n",
       "      <td>4.0</td>\n",
       "      <td>4.0</td>\n",
       "    </tr>\n",
       "    <tr>\n",
       "      <th>1</th>\n",
       "      <td>4.0</td>\n",
       "      <td>4.0</td>\n",
       "      <td>4.0</td>\n",
       "      <td>4.0</td>\n",
       "      <td>4.0</td>\n",
       "      <td>4.0</td>\n",
       "      <td>4.0</td>\n",
       "      <td>4.0</td>\n",
       "      <td>4.0</td>\n",
       "      <td>4.0</td>\n",
       "      <td>4.0</td>\n",
       "      <td>4.0</td>\n",
       "      <td>4.0</td>\n",
       "      <td>4.0</td>\n",
       "      <td>4.0</td>\n",
       "      <td>4.0</td>\n",
       "      <td>4.0</td>\n",
       "      <td>4.0</td>\n",
       "      <td>4.0</td>\n",
       "      <td>4.0</td>\n",
       "    </tr>\n",
       "    <tr>\n",
       "      <th>2</th>\n",
       "      <td>4.0</td>\n",
       "      <td>4.0</td>\n",
       "      <td>4.0</td>\n",
       "      <td>4.0</td>\n",
       "      <td>4.0</td>\n",
       "      <td>4.0</td>\n",
       "      <td>4.0</td>\n",
       "      <td>4.0</td>\n",
       "      <td>4.0</td>\n",
       "      <td>4.0</td>\n",
       "      <td>4.0</td>\n",
       "      <td>4.0</td>\n",
       "      <td>4.0</td>\n",
       "      <td>4.0</td>\n",
       "      <td>4.0</td>\n",
       "      <td>4.0</td>\n",
       "      <td>4.0</td>\n",
       "      <td>4.0</td>\n",
       "      <td>4.0</td>\n",
       "      <td>4.0</td>\n",
       "    </tr>\n",
       "  </tbody>\n",
       "</table>\n",
       "</div>"
      ],
      "text/plain": [
       "     0    1    2    3    4    5    6    7    8    9   10   11   12   13   14  \\\n",
       "0  4.0  4.0  4.0  4.0  4.0  4.0  4.0  4.0  4.0  4.0  4.0  4.0  4.0  4.0  4.0   \n",
       "1  4.0  4.0  4.0  4.0  4.0  4.0  4.0  4.0  4.0  4.0  4.0  4.0  4.0  4.0  4.0   \n",
       "2  4.0  4.0  4.0  4.0  4.0  4.0  4.0  4.0  4.0  4.0  4.0  4.0  4.0  4.0  4.0   \n",
       "\n",
       "    15   16   17   18   19  \n",
       "0  4.0  4.0  4.0  4.0  4.0  \n",
       "1  4.0  4.0  4.0  4.0  4.0  \n",
       "2  4.0  4.0  4.0  4.0  4.0  "
      ]
     },
     "execution_count": 309,
     "metadata": {},
     "output_type": "execute_result"
    }
   ],
   "source": [
    "total_Rdf += cur_window_arr \n",
    "total_Rdf"
   ]
  },
  {
   "cell_type": "code",
   "execution_count": 327,
   "metadata": {},
   "outputs": [
    {
     "data": {
      "text/plain": [
       "'/Users/ila/01-Unibo/02_Lab2/files_lab2_project/documentation_notebooks/GOR'"
      ]
     },
     "execution_count": 327,
     "metadata": {},
     "output_type": "execute_result"
    }
   ],
   "source": [
    "pwd"
   ]
  },
  {
   "cell_type": "markdown",
   "metadata": {},
   "source": [
    "# Testing GOR Training Script on Minimal Example:\n",
    "\n",
    "Used first 4 columns of 4ywn files (dssp and profile)\n",
    "Note that the matrix contains zerovalues in all columns following col 4!\n",
    "\n",
    "I manually calculated the algo on a piece of paper.\n",
    "\n",
    "The input files looked as follows:"
   ]
  },
  {
   "cell_type": "code",
   "execution_count": 325,
   "metadata": {},
   "outputs": [
    {
     "name": "stdout",
     "output_type": "stream",
     "text": [
      ">4ywn_A\n",
      "CEEECHHHH"
     ]
    }
   ],
   "source": [
    "!cat /Users/ila/01-Unibo/02_Lab2/files_lab2_project/all_data/test_data/tiny_test/d/tiny4ywn.dssp"
   ]
  },
  {
   "cell_type": "code",
   "execution_count": 326,
   "metadata": {},
   "outputs": [
    {
     "name": "stdout",
     "output_type": "stream",
     "text": [
      "0.0\t0.0\t0.0\t0.0\t0.0\t0.0\t0.0\t0.0\t0.0\t0.0\t0.0\t0.0\t0.0\t0.0\t0.0\t0.0\t0.0\t0.0\t0.0\t0.0\n",
      "0.06\t0.0\t0.0\t0.5 \t0.0\t0.0\t0.0\t0.0\t0.0\t0.0\t0.0\t0.0\t0.0\t0.0\t0.0\t0.0\t0.0\t0.0\t0.0\t0.0\n",
      "0.24\t0.08\t0.0\t0.0 \t0.0\t0.0\t0.0\t0.0\t0.0\t0.0\t0.0\t0.0\t0.0\t0.0\t0.0\t0.0\t0.0\t0.0\t0.0\t0.0\n",
      "0.15\t0.07\t0.0\t0.03\t0.0\t0.0\t0.0\t0.0\t0.0\t0.0\t0.0\t0.0\t0.0\t0.0\t0.0\t0.0\t0.0\t0.0\t0.0\t0.0\n",
      "0.25\t0.02\t0.03\t0.22\t0.0\t0.0\t0.0\t0.0\t0.0\t0.0\t0.0\t0.0\t0.0\t0.0\t0.0\t0.0\t0.0\t0.0\t0.0\t0.0\n",
      "0.0\t0.0\t0.0\t0.0 \t0.0\t0.0\t0.0\t0.0\t0.0\t0.0\t0.0\t0.0\t0.0\t0.0\t0.0\t0.0\t0.0\t0.0\t0.0\t0.0\n",
      "0.0\t0.72\t0.02\t0.03\t0.0\t0.0\t0.0\t0.0\t0.0\t0.0\t0.0\t0.0\t0.0\t0.0\t0.0\t0.0\t0.0\t0.0\t0.0\t0.0\n",
      "0.05\t0.04\t0.08\t0.28\t0.0\t0.0\t0.0\t0.0\t0.0\t0.0\t0.0\t0.0\t0.0\t0.0\t0.0\t0.0\t0.0\t0.0\t0.0\t0.0\n",
      "0.79\t0.0\t0.0\t0.0 \t0.0\t0.0\t0.0\t0.0\t0.0\t0.0\t0.0\t0.0\t0.0\t0.0\t0.0\t0.0\t0.0\t0.0\t0.0\t0.0\n"
     ]
    }
   ],
   "source": [
    "!cat /Users/ila/01-Unibo/02_Lab2/files_lab2_project/all_data/test_data/tiny_test/p/tiny4ywn.profile"
   ]
  },
  {
   "cell_type": "markdown",
   "metadata": {},
   "source": [
    "## Manual Model for Comparisson:\n",
    "\n",
    "I transferred the computation to an excel sheet as it looks tidyier:\n",
    "\n",
    "![manual GOR](imgs/sheet.png)\n",
    "\n",
    "Sheet is [here](https://docs.google.com/spreadsheets/d/1wA5H5ZJFLEsr6_o92mE6oa1UeGyt0lNIjqa28POvPgE/edit?usp=sharing)"
   ]
  },
  {
   "cell_type": "markdown",
   "metadata": {},
   "source": [
    "## Output of Testrun:\n",
    "\n",
    "shown below\n",
    "\n",
    "Note that only columns A R N and D are non-zero!\n",
    "\n",
    "Tiny test successful!"
   ]
  },
  {
   "cell_type": "code",
   "execution_count": 335,
   "metadata": {},
   "outputs": [
    {
     "name": "stdout",
     "output_type": "stream",
     "text": [
      "\n",
      "\n",
      "R_H\n",
      "          A         R         N         D    C    Q    E    G    H    I    L    K    M    F    P    S    T    W    Y    V\n",
      "0  0.033333  0.086667  0.014444  0.058889  0.0  0.0  0.0  0.0  0.0  0.0  0.0  0.0  0.0  0.0  0.0  0.0  0.0  0.0  0.0  0.0\n",
      "1  0.093333  0.084444  0.011111  0.034444  0.0  0.0  0.0  0.0  0.0  0.0  0.0  0.0  0.0  0.0  0.0  0.0  0.0  0.0  0.0  0.0\n",
      "2  0.093333  0.084444  0.011111  0.034444  0.0  0.0  0.0  0.0  0.0  0.0  0.0  0.0  0.0  0.0  0.0  0.0  0.0  0.0  0.0  0.0\n",
      "\n",
      "\n",
      "R_E\n",
      "          A         R         N         D    C    Q    E    G    H    I    L    K    M    F    P    S    T    W    Y    V\n",
      "0  0.033333  0.008889  0.000000  0.055556  0.0  0.0  0.0  0.0  0.0  0.0  0.0  0.0  0.0  0.0  0.0  0.0  0.0  0.0  0.0  0.0\n",
      "1  0.050000  0.016667  0.000000  0.058889  0.0  0.0  0.0  0.0  0.0  0.0  0.0  0.0  0.0  0.0  0.0  0.0  0.0  0.0  0.0  0.0\n",
      "2  0.071111  0.018889  0.003333  0.027778  0.0  0.0  0.0  0.0  0.0  0.0  0.0  0.0  0.0  0.0  0.0  0.0  0.0  0.0  0.0  0.0\n",
      "\n",
      "\n",
      "R_C\n",
      "          A         R         N         D    C    Q    E    G    H    I    L    K    M    F    P    S    T    W    Y    V\n",
      "0  0.016667  0.007778  0.000000  0.003333  0.0  0.0  0.0  0.0  0.0  0.0  0.0  0.0  0.0  0.0  0.0  0.0  0.0  0.0  0.0  0.0\n",
      "1  0.027778  0.002222  0.003333  0.024444  0.0  0.0  0.0  0.0  0.0  0.0  0.0  0.0  0.0  0.0  0.0  0.0  0.0  0.0  0.0  0.0\n",
      "2  0.006667  0.000000  0.000000  0.055556  0.0  0.0  0.0  0.0  0.0  0.0  0.0  0.0  0.0  0.0  0.0  0.0  0.0  0.0  0.0  0.0\n",
      "\n",
      "\n",
      "Marginal probablilities of residues\n",
      "          A         R         N         D    C    Q    E    G    H    I    L    K    M    F    P    S    T    W    Y    V\n",
      "0  0.083333  0.103333  0.014444  0.117778  0.0  0.0  0.0  0.0  0.0  0.0  0.0  0.0  0.0  0.0  0.0  0.0  0.0  0.0  0.0  0.0\n",
      "1  0.171111  0.103333  0.014444  0.117778  0.0  0.0  0.0  0.0  0.0  0.0  0.0  0.0  0.0  0.0  0.0  0.0  0.0  0.0  0.0  0.0\n",
      "2  0.171111  0.103333  0.014444  0.117778  0.0  0.0  0.0  0.0  0.0  0.0  0.0  0.0  0.0  0.0  0.0  0.0  0.0  0.0  0.0  0.0\n",
      "\n",
      "\n",
      "Marginal probability of conformations\n",
      "           H         E         C  tot\n",
      "#S  0.444444  0.333333  0.222222  1.0\n",
      "\n",
      "\n",
      "--- 0.12456607818603516 seconds ---\n"
     ]
    }
   ],
   "source": [
    "!/Users/ila/01-Unibo/02_Lab2/files_lab2_project/scripts/gor_training.py -s='/Users/ila/01-Unibo/02_Lab2/files_lab2_project/all_data/test_data/tiny_test/d' -p='/Users/ila/01-Unibo/02_Lab2/files_lab2_project/all_data/test_data/tiny_test/p' -w=3"
   ]
  },
  {
   "cell_type": "markdown",
   "metadata": {},
   "source": [
    "# Running on *Training Set*\n",
    "\n"
   ]
  },
  {
   "cell_type": "code",
   "execution_count": 333,
   "metadata": {},
   "outputs": [
    {
     "name": "stdout",
     "output_type": "stream",
     "text": [
      "    1260\n",
      "    1260\n"
     ]
    }
   ],
   "source": [
    "!ls /Users/ila/01-Unibo/02_Lab2/files_lab2_project/all_data/trainingset/seqprofile_training/ | wc -l\n",
    "!ls /Users/ila/01-Unibo/02_Lab2/files_lab2_project/all_data/trainingset/dssp/ | wc -l"
   ]
  },
  {
   "cell_type": "markdown",
   "metadata": {},
   "source": [
    "**Both sets contain the same number of files &rarr; everything should work just fine.\n",
    "Lets run the script on all 1260 ids.**"
   ]
  },
  {
   "cell_type": "code",
   "execution_count": 336,
   "metadata": {},
   "outputs": [
    {
     "name": "stdout",
     "output_type": "stream",
     "text": [
      "\n",
      "\n",
      "R_H\n",
      "           A         R         N         D         C         Q         E         G         H         I         L         K         M         F         P         S         T         W         Y         V\n",
      "0   0.028754  0.017102  0.013535  0.019515  0.004146  0.013761  0.025110  0.021407  0.007526  0.018959  0.032180  0.019663  0.007632  0.012545  0.014265  0.020864  0.017838  0.003864  0.010187  0.021384\n",
      "1   0.029550  0.017285  0.013570  0.019710  0.004163  0.014001  0.025805  0.021055  0.007421  0.018998  0.032526  0.019747  0.007695  0.012581  0.013915  0.020980  0.017904  0.003887  0.010192  0.021390\n",
      "2   0.030365  0.017361  0.013470  0.019852  0.004230  0.014275  0.026298  0.020455  0.007393  0.019330  0.033343  0.019885  0.007809  0.012687  0.013487  0.020920  0.017894  0.003923  0.010111  0.021364\n",
      "3   0.031280  0.017711  0.013400  0.019890  0.004216  0.014621  0.026984  0.019793  0.007308  0.019616  0.034164  0.020205  0.007921  0.012582  0.012993  0.020715  0.017742  0.003931  0.010053  0.021302\n",
      "4   0.032149  0.018008  0.013332  0.019899  0.004090  0.015062  0.027841  0.018680  0.007239  0.019948  0.034934  0.020590  0.008034  0.012527  0.012392  0.020558  0.017568  0.003982  0.010054  0.021312\n",
      "5   0.033588  0.018230  0.012978  0.019631  0.004094  0.015281  0.028330  0.017266  0.007187  0.020512  0.036380  0.020783  0.008251  0.012800  0.011463  0.020091  0.017194  0.004117  0.010179  0.021381\n",
      "6   0.035030  0.018607  0.012650  0.019264  0.004092  0.015527  0.028840  0.015378  0.006949  0.020967  0.038521  0.021133  0.008519  0.012987  0.010322  0.019653  0.016628  0.004310  0.010249  0.021239\n",
      "7   0.036131  0.019466  0.012449  0.018836  0.004030  0.016009  0.029742  0.013953  0.006910  0.021096  0.039117  0.022171  0.008355  0.012909  0.008907  0.019422  0.016279  0.004381  0.010265  0.021077\n",
      "8   0.037766  0.020316  0.011195  0.016121  0.004018  0.016658  0.030587  0.012337  0.006944  0.021896  0.041744  0.023299  0.008817  0.013544  0.007327  0.017279  0.014817  0.004491  0.010674  0.021746\n",
      "9   0.037672  0.020439  0.012310  0.016067  0.004263  0.016932  0.030024  0.014807  0.007269  0.021368  0.041631  0.023409  0.008916  0.013373  0.004551  0.017749  0.014613  0.004276  0.010627  0.021121\n",
      "10  0.036756  0.020438  0.012745  0.015235  0.004352  0.016644  0.027222  0.017670  0.007337  0.021450  0.041786  0.023452  0.008919  0.013347  0.005309  0.017570  0.014565  0.004173  0.010508  0.021022\n",
      "11  0.035823  0.020407  0.013037  0.014662  0.004386  0.015868  0.025374  0.018641  0.007379  0.021636  0.041740  0.023708  0.008862  0.013436  0.006442  0.017697  0.014330  0.004136  0.010551  0.020923\n",
      "12  0.034176  0.019905  0.013530  0.015813  0.004261  0.015716  0.026099  0.019692  0.007536  0.020396  0.039408  0.023924  0.008428  0.012864  0.008385  0.018319  0.014588  0.003919  0.010271  0.019958\n",
      "13  0.032861  0.019186  0.013526  0.016139  0.004255  0.015153  0.025416  0.020408  0.007458  0.020279  0.038320  0.023334  0.008086  0.012893  0.009869  0.018484  0.014852  0.003875  0.010401  0.020268\n",
      "14  0.031463  0.018310  0.013404  0.016213  0.004344  0.014573  0.024591  0.020689  0.007457  0.020737  0.038009  0.022352  0.007938  0.013004  0.010713  0.018559  0.014989  0.003932  0.010414  0.021045\n",
      "15  0.030166  0.018080  0.013487  0.016807  0.004339  0.014570  0.024871  0.021028  0.007410  0.020198  0.035903  0.022405  0.007502  0.012591  0.011583  0.018830  0.015285  0.003759  0.010201  0.021237\n",
      "16  0.029267  0.017806  0.013525  0.017335  0.004235  0.014492  0.024984  0.021054  0.007431  0.019738  0.034187  0.022174  0.007186  0.012321  0.012091  0.018983  0.015583  0.003772  0.010065  0.021394\n",
      "\n",
      "\n",
      "R_E\n",
      "           A         R         N         D         C         Q         E         G         H         I         L         K         M         F         P         S         T         W         Y         V\n",
      "0   0.015173  0.009948  0.009289  0.012267  0.003090  0.007420  0.013120  0.016328  0.004550  0.011044  0.016834  0.012118  0.003888  0.007675  0.009650  0.013246  0.011449  0.002668  0.006892  0.013925\n",
      "1   0.014833  0.009960  0.010021  0.012838  0.003119  0.007516  0.013150  0.017867  0.004731  0.010454  0.016168  0.012502  0.003771  0.007399  0.009924  0.013496  0.011525  0.002600  0.006675  0.013455\n",
      "2   0.014248  0.010065  0.010464  0.013374  0.003105  0.007587  0.013206  0.019600  0.004840  0.010207  0.015334  0.012898  0.003785  0.007087  0.010294  0.013658  0.011650  0.002419  0.006450  0.013325\n",
      "3   0.013938  0.010433  0.010534  0.013391  0.002946  0.007509  0.013158  0.020576  0.004934  0.010359  0.014642  0.013227  0.003742  0.006956  0.010636  0.013700  0.011944  0.002324  0.006506  0.013765\n",
      "4   0.013879  0.010389  0.009989  0.012574  0.002982  0.007362  0.012566  0.021012  0.005018  0.011244  0.014970  0.013082  0.003812  0.007245  0.010448  0.013413  0.012246  0.002386  0.006974  0.015308\n",
      "5   0.013745  0.010405  0.009574  0.011770  0.003061  0.007143  0.011976  0.020948  0.004952  0.012806  0.015581  0.012586  0.003906  0.007714  0.009248  0.012876  0.012528  0.002642  0.007534  0.017528\n",
      "6   0.013898  0.010129  0.008312  0.009942  0.003234  0.006707  0.010859  0.019668  0.004758  0.015609  0.017480  0.011502  0.004138  0.008929  0.008151  0.011778  0.012389  0.003022  0.008402  0.021077\n",
      "7   0.013771  0.010296  0.006682  0.007918  0.003608  0.006538  0.010469  0.014590  0.004755  0.018337  0.019610  0.011002  0.004523  0.010226  0.006772  0.011336  0.013090  0.003462  0.009398  0.024557\n",
      "8   0.013565  0.010062  0.006216  0.007414  0.003987  0.006285  0.010064  0.011160  0.004727  0.020071  0.021057  0.010152  0.004443  0.011192  0.005625  0.011639  0.013468  0.003586  0.009999  0.026474\n",
      "9   0.013864  0.009424  0.007437  0.009692  0.004173  0.005949  0.010012  0.013228  0.004664  0.018518  0.020657  0.009623  0.004235  0.010278  0.006659  0.012498  0.013361  0.003231  0.009175  0.024350\n",
      "10  0.013926  0.009294  0.008716  0.012272  0.003785  0.005989  0.011055  0.016786  0.004883  0.015122  0.017737  0.010043  0.003786  0.009101  0.009452  0.014025  0.013202  0.002761  0.008027  0.020094\n",
      "11  0.013838  0.009342  0.009941  0.014481  0.003548  0.006414  0.012281  0.018843  0.004946  0.012479  0.015533  0.010716  0.003508  0.008225  0.010353  0.014724  0.013201  0.002496  0.006950  0.016956\n",
      "12  0.013871  0.009377  0.010469  0.014790  0.003320  0.006725  0.012581  0.020951  0.004988  0.010836  0.014449  0.011085  0.003415  0.007654  0.010957  0.014891  0.013092  0.002484  0.006690  0.014758\n",
      "13  0.013624  0.009516  0.010525  0.014800  0.003242  0.006966  0.013083  0.020613  0.004924  0.010230  0.014253  0.011557  0.003504  0.007329  0.011013  0.014857  0.013010  0.002480  0.006658  0.013822\n",
      "14  0.013843  0.009745  0.010147  0.014053  0.003094  0.007057  0.013289  0.019669  0.004953  0.010242  0.014907  0.011680  0.003527  0.007139  0.011081  0.014432  0.012677  0.002612  0.006749  0.013635\n",
      "15  0.014054  0.009895  0.009700  0.013361  0.002918  0.007077  0.013297  0.018674  0.004946  0.010551  0.015424  0.011637  0.003565  0.007295  0.010909  0.014051  0.012422  0.002766  0.006870  0.013827\n",
      "16  0.014505  0.009942  0.009268  0.012859  0.002894  0.007133  0.013230  0.017870  0.004723  0.010778  0.015953  0.011368  0.003642  0.007434  0.010393  0.013677  0.012162  0.002886  0.007096  0.014191\n",
      "\n",
      "\n",
      "R_C\n",
      "           A         R         N         D         C         Q         E         G         H         I         L         K         M         F         P         S         T         W         Y         V\n",
      "0   0.030745  0.019631  0.015972  0.020961  0.006122  0.014231  0.024210  0.027850  0.008688  0.024368  0.036546  0.022214  0.008118  0.015384  0.016100  0.022498  0.020273  0.005271  0.013053  0.028609\n",
      "1   0.030757  0.019799  0.015434  0.020529  0.006185  0.014151  0.023975  0.026968  0.008730  0.025257  0.037456  0.022147  0.008294  0.015809  0.016399  0.022452  0.020413  0.005377  0.013447  0.029411\n",
      "2   0.030938  0.020003  0.015285  0.020097  0.006251  0.014015  0.023877  0.026148  0.008758  0.025552  0.038111  0.021997  0.008280  0.016298  0.016642  0.022653  0.020527  0.005599  0.013936  0.030031\n",
      "3   0.030823  0.019607  0.015468  0.020297  0.006510  0.013978  0.023635  0.026117  0.008906  0.025466  0.038597  0.021795  0.008332  0.016740  0.016986  0.023100  0.020656  0.005774  0.014167  0.030089\n",
      "4   0.030433  0.019643  0.016317  0.021373  0.006698  0.013905  0.023793  0.027073  0.009001  0.024639  0.038120  0.021941  0.008252  0.016745  0.018020  0.023888  0.020825  0.005726  0.013870  0.028956\n",
      "5   0.029555  0.019735  0.017254  0.022710  0.006718  0.014127  0.024347  0.028859  0.009237  0.022860  0.036669  0.022692  0.008067  0.016242  0.020406  0.025162  0.021200  0.005410  0.013367  0.027019\n",
      "6   0.028436  0.019968  0.019016  0.025120  0.006638  0.014540  0.025380  0.032293  0.009773  0.019952  0.033189  0.023884  0.007687  0.015032  0.022924  0.027028  0.022117  0.004922  0.012620  0.024004\n",
      "7   0.027878  0.019268  0.021078  0.027818  0.006424  0.014451  0.025253  0.039104  0.009931  0.017354  0.030994  0.023797  0.007570  0.014027  0.026014  0.028030  0.021994  0.004489  0.011748  0.021031\n",
      "8   0.026825  0.019001  0.022972  0.031264  0.006114  0.014285  0.025207  0.044529  0.010031  0.015058  0.027395  0.023961  0.007291  0.012625  0.029043  0.030167  0.023263  0.004327  0.010859  0.018728\n",
      "9   0.026196  0.019360  0.020458  0.028736  0.005650  0.014207  0.025496  0.039646  0.009664  0.016960  0.027655  0.024147  0.006707  0.013594  0.030527  0.028352  0.023293  0.004863  0.011644  0.021222\n",
      "10  0.026700  0.019188  0.018471  0.026667  0.005865  0.014274  0.026879  0.033023  0.009261  0.019995  0.030059  0.023236  0.006923  0.014631  0.026665  0.026600  0.023127  0.005390  0.012788  0.025238\n",
      "11  0.027333  0.018868  0.016777  0.024767  0.005969  0.014390  0.027159  0.029747  0.009044  0.022137  0.031833  0.021838  0.007108  0.015226  0.024260  0.025361  0.023003  0.005643  0.013668  0.028139\n",
      "12  0.028585  0.019094  0.015569  0.023030  0.006235  0.014002  0.025742  0.026286  0.008713  0.024639  0.034711  0.020888  0.007505  0.016137  0.021429  0.024179  0.022517  0.005794  0.013996  0.030907\n",
      "13  0.029751  0.019394  0.015299  0.022417  0.006238  0.014073  0.025489  0.025648  0.008743  0.024962  0.035434  0.020680  0.007651  0.016226  0.019537  0.023699  0.022012  0.005782  0.013738  0.031075\n",
      "14  0.030550  0.019739  0.015586  0.022796  0.006206  0.014329  0.025678  0.026023  0.008639  0.024040  0.034541  0.021187  0.007661  0.016086  0.018345  0.023738  0.021870  0.005525  0.013437  0.030026\n",
      "15  0.031232  0.019478  0.015750  0.022601  0.006290  0.014068  0.024992  0.026380  0.008561  0.023941  0.035537  0.020744  0.007951  0.016080  0.017412  0.023508  0.021509  0.005455  0.013350  0.029218\n",
      "16  0.031270  0.019374  0.015914  0.022279  0.006303  0.013825  0.024584  0.026843  0.008654  0.023827  0.036087  0.020862  0.008065  0.016011  0.017155  0.023379  0.021157  0.005218  0.013098  0.028296\n",
      "\n",
      "\n",
      "Marginal probablilities of residues\n",
      "           A         R         N         D         C         Q         E         G         H         I         L         K         M         F         P         S         T         W         Y         V\n",
      "0   0.074671  0.046680  0.038797  0.052742  0.013358  0.035412  0.062440  0.065585  0.020764  0.054371  0.085561  0.053995  0.019637  0.035603  0.040015  0.056608  0.049559  0.011803  0.030132  0.063919\n",
      "1   0.075139  0.047044  0.039025  0.053077  0.013467  0.035668  0.062930  0.065891  0.020882  0.054709  0.086149  0.054395  0.019760  0.035788  0.040238  0.056927  0.049842  0.011864  0.030314  0.064256\n",
      "2   0.075551  0.047429  0.039218  0.053322  0.013587  0.035877  0.063380  0.066203  0.020991  0.055089  0.086787  0.054780  0.019875  0.036072  0.040423  0.057231  0.050070  0.011941  0.030497  0.064720\n",
      "3   0.076040  0.047752  0.039402  0.053578  0.013672  0.036108  0.063777  0.066485  0.021148  0.055440  0.087403  0.055227  0.019995  0.036278  0.040615  0.057516  0.050342  0.012030  0.030725  0.065157\n",
      "4   0.076462  0.048039  0.039638  0.053846  0.013770  0.036328  0.064201  0.066765  0.021258  0.055831  0.088024  0.055614  0.020098  0.036517  0.040860  0.057858  0.050640  0.012094  0.030897  0.065576\n",
      "5   0.076887  0.048370  0.039805  0.054111  0.013872  0.036551  0.064653  0.067073  0.021376  0.056178  0.088630  0.056061  0.020224  0.036756  0.041117  0.058129  0.050923  0.012169  0.031080  0.065929\n",
      "6   0.077365  0.048703  0.039978  0.054326  0.013965  0.036773  0.065080  0.067339  0.021480  0.056528  0.089190  0.056519  0.020343  0.036948  0.041396  0.058459  0.051134  0.012253  0.031271  0.066320\n",
      "7   0.077780  0.049030  0.040208  0.054573  0.014061  0.036999  0.065464  0.067647  0.021597  0.056787  0.089721  0.056971  0.020448  0.037162  0.041693  0.058788  0.051364  0.012331  0.031411  0.066666\n",
      "8   0.078156  0.049378  0.040383  0.054798  0.014120  0.037227  0.065858  0.068026  0.021703  0.057025  0.090196  0.057412  0.020551  0.037361  0.041994  0.059085  0.051548  0.012404  0.031533  0.066947\n",
      "9   0.077732  0.049224  0.040205  0.054494  0.014086  0.037088  0.065532  0.067681  0.021597  0.056846  0.089943  0.057179  0.019858  0.037246  0.041737  0.058599  0.051267  0.012371  0.031446  0.066693\n",
      "10  0.077382  0.048920  0.039932  0.054174  0.014002  0.036908  0.065156  0.067479  0.021481  0.056568  0.089581  0.056731  0.019628  0.037079  0.041426  0.058195  0.050894  0.012324  0.031323  0.066354\n",
      "11  0.076994  0.048617  0.039755  0.053910  0.013903  0.036672  0.064814  0.067232  0.021369  0.056252  0.089105  0.056262  0.019478  0.036886  0.041056  0.057781  0.050534  0.012275  0.031169  0.066019\n",
      "12  0.076632  0.048376  0.039569  0.053633  0.013816  0.036443  0.064423  0.066930  0.021238  0.055871  0.088568  0.055898  0.019348  0.036656  0.040771  0.057389  0.050197  0.012198  0.030957  0.065623\n",
      "13  0.076237  0.048096  0.039350  0.053356  0.013735  0.036192  0.063988  0.066669  0.021125  0.055470  0.088007  0.055571  0.019241  0.036448  0.040419  0.057039  0.049874  0.012136  0.030796  0.065165\n",
      "14  0.075855  0.047794  0.039137  0.053062  0.013644  0.035959  0.063558  0.066380  0.021049  0.055019  0.087457  0.055218  0.019126  0.036229  0.040140  0.056728  0.049536  0.012069  0.030600  0.064706\n",
      "15  0.075452  0.047454  0.038938  0.052769  0.013546  0.035716  0.063161  0.066082  0.020916  0.054690  0.086864  0.054787  0.019018  0.035966  0.039903  0.056389  0.049217  0.011980  0.030421  0.064282\n",
      "16  0.075042  0.047122  0.038707  0.052473  0.013431  0.035451  0.062798  0.065767  0.020807  0.054343  0.086228  0.054405  0.018893  0.035767  0.039638  0.056040  0.048902  0.011877  0.030259  0.063882\n",
      "\n",
      "\n",
      "Marginal probability of conformations\n",
      "           H         E         C  tot\n",
      "#S  0.355109  0.221427  0.423465  1.0\n",
      "\n",
      "\n",
      "--- 949.6018581390381 seconds ---\n"
     ]
    }
   ],
   "source": [
    "\n",
    "!/Users/ila/01-Unibo/02_Lab2/files_lab2_project/scripts/gor_training.py -p=\"/Users/ila/01-Unibo/02_Lab2/files_lab2_project/all_data/trainingset/seqprofile_training/\" -s\"/Users/ila/01-Unibo/02_Lab2/files_lab2_project/all_data/trainingset/dssp/\" -w=17\n"
   ]
  },
  {
   "cell_type": "code",
   "execution_count": 338,
   "metadata": {},
   "outputs": [
    {
     "data": {
      "text/plain": [
       "15.826697635650635"
      ]
     },
     "execution_count": 338,
     "metadata": {},
     "output_type": "execute_result"
    }
   ],
   "source": [
    "min = 949.6018581390381/60\n",
    "min"
   ]
  },
  {
   "cell_type": "code",
   "execution_count": null,
   "metadata": {},
   "outputs": [],
   "source": []
  }
 ],
 "metadata": {
  "kernelspec": {
   "display_name": "Python 3",
   "language": "python",
   "name": "python3"
  },
  "language_info": {
   "codemirror_mode": {
    "name": "ipython",
    "version": 3
   },
   "file_extension": ".py",
   "mimetype": "text/x-python",
   "name": "python",
   "nbconvert_exporter": "python",
   "pygments_lexer": "ipython3",
   "version": "3.7.2"
  }
 },
 "nbformat": 4,
 "nbformat_minor": 4
}
