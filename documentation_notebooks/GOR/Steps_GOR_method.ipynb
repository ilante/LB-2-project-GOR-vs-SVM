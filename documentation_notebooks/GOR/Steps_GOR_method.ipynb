{
 "cells": [
  {
   "cell_type": "markdown",
   "metadata": {},
   "source": [
    "%%markdown\n",
    "# [1. Implementation of the GOR Method](#Implementation-of-GOR)\n",
    "\n",
    "## [2. GOR Training](#GOR-training)\n",
    "\n",
    "Training set:\n",
    "* Set of proteins with known structure\n",
    "* For each id we have:\n",
    "    * One file containing the primary sequence\n",
    "    * One file containing the secondary structure\n",
    "  \n",
    "![](imgs/1.png)\n",
    "\n",
    "Need to count:\n",
    "* Number of times we observe residue R in conformation S divided by N, the total number of residues &rarr; P(R,S) ~ f(R,S) = (# R,S)/N \n",
    "* Number of times we observe residue R divided by the total N of residues &rarr; marginal probability of residue R\n",
    "* Number of occurrence of the conformation S divided by the total N of residues. &rarr; marginal probability of observing S\n",
    "\n",
    "Observed frequencies in the training set (TS) are used for **estimating**/approximating these probabilities.\n",
    "\n",
    "Example &rarr; training set containing just 2 sequences (for simplicity). \n",
    "\n",
    "![](imgs/2.png)\n",
    "\n",
    "Defining a table to store counts\n",
    "* Rows: counts corresponding to joint frequency of R and given SS:\n",
    "    * \\#R, H\n",
    "    * \\#R, E\n",
    "    * \\#R, C\n",
    "* \\# R &rarr; overall frequency of residue type R\t\t\n",
    "\n",
    "![](imgs/3.png)\n",
    "\n",
    "Defining a small table that stores the frequencies of helix (H), strand (E) and coil (C).\n",
    "![](imgs/4.png)\n",
    "\n",
    "* Each matrix is initialized with zeroes\n",
    "* Scanning each position &rarr; starting from index 0:\n",
    "    * reading R and S &rarr; updating the field Pij according to the values.\n",
    "    \n",
    "In our example the window size is just 1!\n",
    "![](imgs/5.png)\n",
    "\n",
    "* We scan each sequence updating the values in the column\n",
    "    * updating the counts of \n",
    "        * \\#R, H\n",
    "        * \\#R, E\n",
    "        * \\#R, C\n",
    "        \n",
    "and the counts of total H, E and C in the smaller table.\n",
    "\n",
    "* For transforming the above **frequencies** into **probabilities**\n",
    "    * **Devide** each number (counts) by the total lenght of all sequences used in the training\n",
    "    \n",
    "&rarr; in our case we divide by 78:"
   ]
  },
  {
   "cell_type": "code",
   "execution_count": 26,
   "metadata": {},
   "outputs": [
    {
     "data": {
      "text/plain": [
       "78"
      ]
     },
     "execution_count": 26,
     "metadata": {},
     "output_type": "execute_result"
    }
   ],
   "source": [
    "sequence_1 = 'EYFTLQIRGRERFEMFRELNEALELKDAQAG'\n",
    "ss_1 = 'CCCCCCCCCHHHHHHHHHHHHHHHHHHHHCC'\n",
    "\n",
    "sequence_2 = 'KTCENLADTFRGPCFTDGSCDDHCKNKEHLIKGRCRDDFRCWCTRNC'\n",
    "ss_2 = 'CEEEEECCCCCCCCCCHHHHHHHHHHCCCCCEEEECCCCCEEEEEEC'\n",
    "\n",
    "len(sequence_1+sequence_2)"
   ]
  },
  {
   "cell_type": "markdown",
   "metadata": {},
   "source": [
    "![](imgs/6.png)\n",
    "\n",
    "## [3. GOR Prediction](#GOR-prediction)\n",
    "\n",
    "* GOR model is used for predicting SS on unseen protein sequences\n",
    "* Each residue positon of a query sequence is analyzed\n",
    "* The highest value of \n",
    "    * The function $S^* = argmax_S I(S;R)$ finds the highest scoring predicted conformation \"$S^*$\" of the residue R\n",
    "        * The conformation $S^*$ which maximizes log ratio of the information function $I$ is our predicted conformation\n",
    "        \n",
    "![](imgs/7.png)       \n",
    "\n",
    "\n",
    "Given any sequence:\n",
    "\n",
    "* >NewSequence\n",
    "* GLKRR\n",
    "\n",
    "* Each residue R is located in the table\n",
    "    * the probabilities for\n",
    "        * \\#R, H\n",
    "        * \\#R, E\n",
    "        * \\#R, C\n",
    "* Are extracted and used in the function $I$\n",
    "* The conformation with the highest value is our predicted conformation $S^*$\n",
    "\n",
    "* Here an example of residue NewSequence[0] = G:\n",
    "\n",
    "\n",
    "\n",
    "![](imgs/8.png)\n",
    "\n",
    "![](imgs/9.png)\n",
    "\n",
    "The maximum is C thus it is predicted that residue G has the conformation C.\n",
    "\n",
    "## [4. Using Windows of Flanking Residues](#Windows) \n",
    "\n",
    "* We extend the information function over a 'window' of residues\n",
    "* Symmetric windows are centered at a given residue position\n",
    "* Central residue is indexed as $R_0$ which is assigend the conformation $S^*$\n",
    "    * Residues to the left of $R_0$ hold negative indeces up to $-d$\n",
    "    * Residues to the right of $R_0$ hold positive indeces up to $d$\n",
    "    \n",
    "* The information function is updated as follows:\n",
    "![](imgs/10.png)\n",
    "\n",
    "[p1 45:00]\n",
    "\n",
    "* The fromula requires us to solve terms involving w residues:\n",
    "    * Exponential number of possible configurations &rarr; computationally to expensive \n",
    "        * we have 20^w possibilities!!!\n",
    "    * Need for very large DB to estimate reliable distributions\n",
    "* Simplification;\n",
    "    * **Assumption of statistical independence**: Makes assumption about the contribution of the sequence context to the central residue conformation.\n",
    "    * Residues $R_-d, ... , R_d$ are treated to be statistically independent\n",
    "    \n",
    "![](imgs/11.png)\n",
    "\n",
    "## [5. Windows Based GOR](#sliding-window) \n",
    "\n",
    "* That way we can factorize the joint probability of the full context into the product of marginal probability of residues in the context.\n",
    "* Joint probability == all the marginal probabilities\n",
    "\n",
    "&rarr; Keep in mind that residues are NOT independent along the sequence. \n",
    "\n",
    "* By using the \n",
    "    * chainrule\n",
    "    * independence assumption \n",
    "    * and making the log of products which is the sum of the logs\n",
    "\n",
    "*$I$ can be rewritten as: \n",
    "\n",
    "![](imgs/12.png)\n",
    "\n",
    "* As shown in the last line above the joint probability can be writen as a sum of individual information funcitons\n",
    "* Taking the different residues in the window into consideration\n",
    "    * Resulting in individual contributions of each residue in the window to the calculation of the joint $I$ function\n",
    "    \n",
    "\n",
    "* What to do with the window falling out of the seuqence in the beginning and the end:\n",
    "    * Initialize scanning postion at an index for which the window is full e.g. window size 17 setting first $R_0$ on index 8 of the string of the sequence\n",
    "    * Adding zeros to undifined regions of **partial windows**\n",
    "        * First $R_0$ is on index 0\n",
    "        * You don't have any contribution from partial windows\n",
    "        \n",
    "* GOR is a linear model\n",
    "* The sliding window approach influences the accuracy of the prediction in a negative way\n",
    "    * The first few residues are affected more than residues in the middle of the sequence\n",
    "   \n",
    " \n",
    "### Now our Parameters are:\n",
    "* $P(R,S)$ the probability of observingg a conformation S"
   ]
  },
  {
   "cell_type": "markdown",
   "metadata": {},
   "source": [
    "### gor_train.py\n",
    "Training GRO model from user-defined training set and stores all trained parameters (=the GOR model) into an output file"
   ]
  },
  {
   "cell_type": "markdown",
   "metadata": {},
   "source": [
    "# 1. I need to make several matrices --> np.arrays\n",
    "\n",
    "\n",
    "first field f[0,0] \n",
    "should contain the index of the fileds\n",
    "\n",
    "1. First test on one sequence.\n",
    "1. Then testing on a simplified profile as input\n",
    "     * profile should have 5 sequences ---> lines\n",
    "     \n",
    "3. Remember that for coil:\n",
    "    * Training files contain '-' \n",
    "    * Blindset contains 'C'  \n",
    "        * Make an if.\n"
   ]
  },
  {
   "cell_type": "code",
   "execution_count": 20,
   "metadata": {},
   "outputs": [
    {
     "data": {
      "text/plain": [
       "'/Users/ila/01-Unibo/02_Lab2/files_lab2_project/documentation_notebooks/GOR'"
      ]
     },
     "execution_count": 20,
     "metadata": {},
     "output_type": "execute_result"
    }
   ],
   "source": [
    "pwd"
   ]
  },
  {
   "cell_type": "code",
   "execution_count": 1,
   "metadata": {},
   "outputs": [],
   "source": [
    "import sys\n",
    "import os\n",
    "import pandas as pd\n",
    "import numpy as np\n",
    "import argparse\n",
    "\n",
    "# d1g2ya_.dssp\n",
    "# d1g2ya_.fasta from training files.\n",
    "\n",
    "'''Make function: Takes fasta and dssp sequence as parameters as input.'''\n",
    "\n",
    "\n",
    "\n",
    "# win_size = 3 # has to be an odd number pass through argparse later\n",
    "# num_rows = win_size*4 #adapts to desired window size\n",
    "\n",
    "# R_tot\n",
    "# SS_tot\n",
    "\n",
    "\n",
    "\n",
    "def make_frequency_array():\n",
    "    '''\n",
    "    Takes window size and the name of the array as arguments.\n",
    "    Makes an array that has as many lines as the win_size and \n",
    "    the number of columns is defined by the number of naturally \n",
    "    occurring aa in eukaryotes. Returns the array.\n",
    "    '''\n",
    "    array = np.zeros((1,20))#, dtype= 'float64')\n",
    "    return array\n",
    "    \n",
    "R_H = make_frequency_array()           # generating arrays holding the counts of residue in conformation X --> R_X\n",
    "R_E = make_frequency_array()\n",
    "R_C = make_frequency_array()\n",
    "R_count = make_frequency_array()       # generating array holding the total residue count\n",
    "SS_count = make_frequency_array()      # generating array holding the total secondary structure count\n",
    "\n",
    "\n",
    "# ---> at some point: transform 'counts'   into **probabilities** by dividing by total number of residues\n",
    "# Which is the number of lines of the sequ pro_file.\n",
    "# profile_matrix = np.loadtxt(\"/Users/ila/Downloads/test.txt\")\n",
    "# print(profile_matrix)\n"
   ]
  },
  {
   "cell_type": "code",
   "execution_count": 2,
   "metadata": {},
   "outputs": [
    {
     "name": "stdout",
     "output_type": "stream",
     "text": [
      "MVSKLSQLQTEMLAALLESGLSKEALIQALG\n",
      "---HHHHHHHHHHHHHHH----HHHHHHHH-\n"
     ]
    }
   ],
   "source": [
    "# ss_array = np.zeros((2,4)) # maybe change it to 1, 3\n",
    "def make_frequency_df(zeroarray):\n",
    "    header_col = ['A', 'R', 'N', 'D', 'C', 'Q', 'E', 'G', 'H', 'I', 'L', 'K', 'M', 'F', 'P', 'S', 'T', 'W', 'Y', 'V']\n",
    "#     row_names = ['#R,H', '#R,E', '#R,C', '#R']\n",
    "#     freq_array = make_frequency_array(win_size)\n",
    "    freq_df = pd.DataFrame(data = zeroarray,  columns=header_col)\n",
    "    return freq_df\n",
    "\n",
    "# generating dataframes holding the counts of residue in conformation X --> R_X\n",
    "df_R_H = make_frequency_df(R_H)           \n",
    "df_R_E = make_frequency_df(R_E)\n",
    "df_R_C = make_frequency_df(R_C)\n",
    "df_R_count=make_frequency_df(R_count)\n",
    "# df_SS_count = make_frequency_df(SS_count)     \n",
    "\n",
    "tot_H = 0\n",
    "tot_E = 0\n",
    "tot_C = 0\n",
    "\n",
    "def read_clean_lines(infile1):\n",
    "    ''' Reads all lines from a file. Returns string of second line. The '\\n' is stripped.'''\n",
    "    with open(infile1, 'r') as rfile:\n",
    "        newline_list = rfile.readlines()\n",
    "        cleanstring = newline_list[1].rstrip()\n",
    "        return cleanstring\n",
    "\n",
    "aa_string = read_clean_lines('/Users/ila/01-Unibo/02_Lab2/files_lab2_project/all_data/trainingset/fasta/d1g2ya_.fasta')\n",
    "print(aa_string)\n",
    "\n",
    "ss_string = read_clean_lines('/Users/ila/01-Unibo/02_Lab2/files_lab2_project/all_data/trainingset/dssp/d1g2ya_.dssp')\n",
    "print(ss_string)\n"
   ]
  },
  {
   "cell_type": "code",
   "execution_count": 3,
   "metadata": {},
   "outputs": [
    {
     "data": {
      "text/html": [
       "<div>\n",
       "<style scoped>\n",
       "    .dataframe tbody tr th:only-of-type {\n",
       "        vertical-align: middle;\n",
       "    }\n",
       "\n",
       "    .dataframe tbody tr th {\n",
       "        vertical-align: top;\n",
       "    }\n",
       "\n",
       "    .dataframe thead th {\n",
       "        text-align: right;\n",
       "    }\n",
       "</style>\n",
       "<table border=\"1\" class=\"dataframe\">\n",
       "  <thead>\n",
       "    <tr style=\"text-align: right;\">\n",
       "      <th></th>\n",
       "      <th>A</th>\n",
       "      <th>R</th>\n",
       "      <th>N</th>\n",
       "      <th>D</th>\n",
       "      <th>C</th>\n",
       "      <th>Q</th>\n",
       "      <th>E</th>\n",
       "      <th>G</th>\n",
       "      <th>H</th>\n",
       "      <th>I</th>\n",
       "      <th>L</th>\n",
       "      <th>K</th>\n",
       "      <th>M</th>\n",
       "      <th>F</th>\n",
       "      <th>P</th>\n",
       "      <th>S</th>\n",
       "      <th>T</th>\n",
       "      <th>W</th>\n",
       "      <th>Y</th>\n",
       "      <th>V</th>\n",
       "    </tr>\n",
       "  </thead>\n",
       "  <tbody>\n",
       "    <tr>\n",
       "      <th>0</th>\n",
       "      <td>0.0</td>\n",
       "      <td>0.0</td>\n",
       "      <td>0.0</td>\n",
       "      <td>0.0</td>\n",
       "      <td>0.0</td>\n",
       "      <td>0.0</td>\n",
       "      <td>0.0</td>\n",
       "      <td>0.0</td>\n",
       "      <td>0.0</td>\n",
       "      <td>0.0</td>\n",
       "      <td>0.0</td>\n",
       "      <td>0.0</td>\n",
       "      <td>0.0</td>\n",
       "      <td>0.0</td>\n",
       "      <td>0.0</td>\n",
       "      <td>0.0</td>\n",
       "      <td>0.0</td>\n",
       "      <td>0.0</td>\n",
       "      <td>0.0</td>\n",
       "      <td>0.0</td>\n",
       "    </tr>\n",
       "  </tbody>\n",
       "</table>\n",
       "</div>"
      ],
      "text/plain": [
       "     A    R    N    D    C    Q    E    G    H    I    L    K    M    F    P  \\\n",
       "0  0.0  0.0  0.0  0.0  0.0  0.0  0.0  0.0  0.0  0.0  0.0  0.0  0.0  0.0  0.0   \n",
       "\n",
       "     S    T    W    Y    V  \n",
       "0  0.0  0.0  0.0  0.0  0.0  "
      ]
     },
     "execution_count": 3,
     "metadata": {},
     "output_type": "execute_result"
    }
   ],
   "source": [
    "df_R_H \n",
    "df_R_E \n",
    "df_R_C "
   ]
  },
  {
   "cell_type": "code",
   "execution_count": 9,
   "metadata": {},
   "outputs": [],
   "source": [
    "'''Increments corresponding positions according to R and H in each field.'''\n",
    "l = len(aa_string)\n",
    "for i in range(l):\n",
    "    ss = ss_string[i]\n",
    "    aa = aa_string[i]\n",
    "    df_R_count[aa]+=1     # Increment each df\n",
    "    if ss == 'H':\n",
    "        df_R_H[aa]+=1\n",
    "    elif ss == 'E':\n",
    "        df_R_E[aa]+=1\n",
    "    else:                       # so if ss == '-' or ss == 'C' or even if i got some X:\n",
    "        df_R_C[aa]+=1\n",
    "\n",
    "# check sum of residue R in HEC conformation."
   ]
  },
  {
   "cell_type": "code",
   "execution_count": 5,
   "metadata": {},
   "outputs": [
    {
     "data": {
      "text/html": [
       "<div>\n",
       "<style scoped>\n",
       "    .dataframe tbody tr th:only-of-type {\n",
       "        vertical-align: middle;\n",
       "    }\n",
       "\n",
       "    .dataframe tbody tr th {\n",
       "        vertical-align: top;\n",
       "    }\n",
       "\n",
       "    .dataframe thead th {\n",
       "        text-align: right;\n",
       "    }\n",
       "</style>\n",
       "<table border=\"1\" class=\"dataframe\">\n",
       "  <thead>\n",
       "    <tr style=\"text-align: right;\">\n",
       "      <th></th>\n",
       "      <th>A</th>\n",
       "      <th>R</th>\n",
       "      <th>N</th>\n",
       "      <th>D</th>\n",
       "      <th>C</th>\n",
       "      <th>Q</th>\n",
       "      <th>E</th>\n",
       "      <th>G</th>\n",
       "      <th>H</th>\n",
       "      <th>I</th>\n",
       "      <th>L</th>\n",
       "      <th>K</th>\n",
       "      <th>M</th>\n",
       "      <th>F</th>\n",
       "      <th>P</th>\n",
       "      <th>S</th>\n",
       "      <th>T</th>\n",
       "      <th>W</th>\n",
       "      <th>Y</th>\n",
       "      <th>V</th>\n",
       "    </tr>\n",
       "  </thead>\n",
       "  <tbody>\n",
       "    <tr>\n",
       "      <th>0</th>\n",
       "      <td>4.0</td>\n",
       "      <td>0.0</td>\n",
       "      <td>0.0</td>\n",
       "      <td>0.0</td>\n",
       "      <td>0.0</td>\n",
       "      <td>3.0</td>\n",
       "      <td>3.0</td>\n",
       "      <td>0.0</td>\n",
       "      <td>0.0</td>\n",
       "      <td>1.0</td>\n",
       "      <td>7.0</td>\n",
       "      <td>2.0</td>\n",
       "      <td>1.0</td>\n",
       "      <td>0.0</td>\n",
       "      <td>0.0</td>\n",
       "      <td>1.0</td>\n",
       "      <td>1.0</td>\n",
       "      <td>0.0</td>\n",
       "      <td>0.0</td>\n",
       "      <td>0.0</td>\n",
       "    </tr>\n",
       "  </tbody>\n",
       "</table>\n",
       "</div>"
      ],
      "text/plain": [
       "     A    R    N    D    C    Q    E    G    H    I    L    K    M    F    P  \\\n",
       "0  4.0  0.0  0.0  0.0  0.0  3.0  3.0  0.0  0.0  1.0  7.0  2.0  1.0  0.0  0.0   \n",
       "\n",
       "     S    T    W    Y    V  \n",
       "0  1.0  1.0  0.0  0.0  0.0  "
      ]
     },
     "execution_count": 5,
     "metadata": {},
     "output_type": "execute_result"
    }
   ],
   "source": [
    "df_R_H"
   ]
  },
  {
   "cell_type": "code",
   "execution_count": 6,
   "metadata": {},
   "outputs": [
    {
     "data": {
      "text/html": [
       "<div>\n",
       "<style scoped>\n",
       "    .dataframe tbody tr th:only-of-type {\n",
       "        vertical-align: middle;\n",
       "    }\n",
       "\n",
       "    .dataframe tbody tr th {\n",
       "        vertical-align: top;\n",
       "    }\n",
       "\n",
       "    .dataframe thead th {\n",
       "        text-align: right;\n",
       "    }\n",
       "</style>\n",
       "<table border=\"1\" class=\"dataframe\">\n",
       "  <thead>\n",
       "    <tr style=\"text-align: right;\">\n",
       "      <th></th>\n",
       "      <th>A</th>\n",
       "      <th>R</th>\n",
       "      <th>N</th>\n",
       "      <th>D</th>\n",
       "      <th>C</th>\n",
       "      <th>Q</th>\n",
       "      <th>E</th>\n",
       "      <th>G</th>\n",
       "      <th>H</th>\n",
       "      <th>I</th>\n",
       "      <th>L</th>\n",
       "      <th>K</th>\n",
       "      <th>M</th>\n",
       "      <th>F</th>\n",
       "      <th>P</th>\n",
       "      <th>S</th>\n",
       "      <th>T</th>\n",
       "      <th>W</th>\n",
       "      <th>Y</th>\n",
       "      <th>V</th>\n",
       "    </tr>\n",
       "  </thead>\n",
       "  <tbody>\n",
       "    <tr>\n",
       "      <th>0</th>\n",
       "      <td>0.0</td>\n",
       "      <td>0.0</td>\n",
       "      <td>0.0</td>\n",
       "      <td>0.0</td>\n",
       "      <td>0.0</td>\n",
       "      <td>0.0</td>\n",
       "      <td>0.0</td>\n",
       "      <td>0.0</td>\n",
       "      <td>0.0</td>\n",
       "      <td>0.0</td>\n",
       "      <td>0.0</td>\n",
       "      <td>0.0</td>\n",
       "      <td>0.0</td>\n",
       "      <td>0.0</td>\n",
       "      <td>0.0</td>\n",
       "      <td>0.0</td>\n",
       "      <td>0.0</td>\n",
       "      <td>0.0</td>\n",
       "      <td>0.0</td>\n",
       "      <td>0.0</td>\n",
       "    </tr>\n",
       "  </tbody>\n",
       "</table>\n",
       "</div>"
      ],
      "text/plain": [
       "     A    R    N    D    C    Q    E    G    H    I    L    K    M    F    P  \\\n",
       "0  0.0  0.0  0.0  0.0  0.0  0.0  0.0  0.0  0.0  0.0  0.0  0.0  0.0  0.0  0.0   \n",
       "\n",
       "     S    T    W    Y    V  \n",
       "0  0.0  0.0  0.0  0.0  0.0  "
      ]
     },
     "execution_count": 6,
     "metadata": {},
     "output_type": "execute_result"
    }
   ],
   "source": [
    "df_R_E"
   ]
  },
  {
   "cell_type": "code",
   "execution_count": 7,
   "metadata": {},
   "outputs": [
    {
     "data": {
      "text/html": [
       "<div>\n",
       "<style scoped>\n",
       "    .dataframe tbody tr th:only-of-type {\n",
       "        vertical-align: middle;\n",
       "    }\n",
       "\n",
       "    .dataframe tbody tr th {\n",
       "        vertical-align: top;\n",
       "    }\n",
       "\n",
       "    .dataframe thead th {\n",
       "        text-align: right;\n",
       "    }\n",
       "</style>\n",
       "<table border=\"1\" class=\"dataframe\">\n",
       "  <thead>\n",
       "    <tr style=\"text-align: right;\">\n",
       "      <th></th>\n",
       "      <th>A</th>\n",
       "      <th>R</th>\n",
       "      <th>N</th>\n",
       "      <th>D</th>\n",
       "      <th>C</th>\n",
       "      <th>Q</th>\n",
       "      <th>E</th>\n",
       "      <th>G</th>\n",
       "      <th>H</th>\n",
       "      <th>I</th>\n",
       "      <th>L</th>\n",
       "      <th>K</th>\n",
       "      <th>M</th>\n",
       "      <th>F</th>\n",
       "      <th>P</th>\n",
       "      <th>S</th>\n",
       "      <th>T</th>\n",
       "      <th>W</th>\n",
       "      <th>Y</th>\n",
       "      <th>V</th>\n",
       "    </tr>\n",
       "  </thead>\n",
       "  <tbody>\n",
       "    <tr>\n",
       "      <th>0</th>\n",
       "      <td>0.0</td>\n",
       "      <td>0.0</td>\n",
       "      <td>0.0</td>\n",
       "      <td>0.0</td>\n",
       "      <td>0.0</td>\n",
       "      <td>0.0</td>\n",
       "      <td>0.0</td>\n",
       "      <td>2.0</td>\n",
       "      <td>0.0</td>\n",
       "      <td>0.0</td>\n",
       "      <td>1.0</td>\n",
       "      <td>0.0</td>\n",
       "      <td>1.0</td>\n",
       "      <td>0.0</td>\n",
       "      <td>0.0</td>\n",
       "      <td>3.0</td>\n",
       "      <td>0.0</td>\n",
       "      <td>0.0</td>\n",
       "      <td>0.0</td>\n",
       "      <td>1.0</td>\n",
       "    </tr>\n",
       "  </tbody>\n",
       "</table>\n",
       "</div>"
      ],
      "text/plain": [
       "     A    R    N    D    C    Q    E    G    H    I    L    K    M    F    P  \\\n",
       "0  0.0  0.0  0.0  0.0  0.0  0.0  0.0  2.0  0.0  0.0  1.0  0.0  1.0  0.0  0.0   \n",
       "\n",
       "     S    T    W    Y    V  \n",
       "0  3.0  0.0  0.0  0.0  1.0  "
      ]
     },
     "execution_count": 7,
     "metadata": {},
     "output_type": "execute_result"
    }
   ],
   "source": [
    "df_R_C"
   ]
  },
  {
   "cell_type": "code",
   "execution_count": 8,
   "metadata": {},
   "outputs": [
    {
     "name": "stdout",
     "output_type": "stream",
     "text": [
      "Residue count: \n",
      "\n"
     ]
    },
    {
     "data": {
      "text/html": [
       "<div>\n",
       "<style scoped>\n",
       "    .dataframe tbody tr th:only-of-type {\n",
       "        vertical-align: middle;\n",
       "    }\n",
       "\n",
       "    .dataframe tbody tr th {\n",
       "        vertical-align: top;\n",
       "    }\n",
       "\n",
       "    .dataframe thead th {\n",
       "        text-align: right;\n",
       "    }\n",
       "</style>\n",
       "<table border=\"1\" class=\"dataframe\">\n",
       "  <thead>\n",
       "    <tr style=\"text-align: right;\">\n",
       "      <th></th>\n",
       "      <th>A</th>\n",
       "      <th>R</th>\n",
       "      <th>N</th>\n",
       "      <th>D</th>\n",
       "      <th>C</th>\n",
       "      <th>Q</th>\n",
       "      <th>E</th>\n",
       "      <th>G</th>\n",
       "      <th>H</th>\n",
       "      <th>I</th>\n",
       "      <th>L</th>\n",
       "      <th>K</th>\n",
       "      <th>M</th>\n",
       "      <th>F</th>\n",
       "      <th>P</th>\n",
       "      <th>S</th>\n",
       "      <th>T</th>\n",
       "      <th>W</th>\n",
       "      <th>Y</th>\n",
       "      <th>V</th>\n",
       "    </tr>\n",
       "  </thead>\n",
       "  <tbody>\n",
       "    <tr>\n",
       "      <th>0</th>\n",
       "      <td>4.0</td>\n",
       "      <td>0.0</td>\n",
       "      <td>0.0</td>\n",
       "      <td>0.0</td>\n",
       "      <td>0.0</td>\n",
       "      <td>3.0</td>\n",
       "      <td>3.0</td>\n",
       "      <td>2.0</td>\n",
       "      <td>0.0</td>\n",
       "      <td>1.0</td>\n",
       "      <td>8.0</td>\n",
       "      <td>2.0</td>\n",
       "      <td>2.0</td>\n",
       "      <td>0.0</td>\n",
       "      <td>0.0</td>\n",
       "      <td>4.0</td>\n",
       "      <td>1.0</td>\n",
       "      <td>0.0</td>\n",
       "      <td>0.0</td>\n",
       "      <td>1.0</td>\n",
       "    </tr>\n",
       "  </tbody>\n",
       "</table>\n",
       "</div>"
      ],
      "text/plain": [
       "     A    R    N    D    C    Q    E    G    H    I    L    K    M    F    P  \\\n",
       "0  4.0  0.0  0.0  0.0  0.0  3.0  3.0  2.0  0.0  1.0  8.0  2.0  2.0  0.0  0.0   \n",
       "\n",
       "     S    T    W    Y    V  \n",
       "0  4.0  1.0  0.0  0.0  1.0  "
      ]
     },
     "execution_count": 8,
     "metadata": {},
     "output_type": "execute_result"
    }
   ],
   "source": [
    "print(\"Residue count: \\n\")\n",
    "df_R_count"
   ]
  },
  {
   "cell_type": "code",
   "execution_count": null,
   "metadata": {},
   "outputs": [],
   "source": [
    "# row_names = ['#R,H', '#R,E', '#R,C', '#R']\n",
    "# # new = -1 0 1\n",
    "\n",
    "# win_adapted_row_names = []\n",
    "# for i in range(3):\n",
    "#     win_adapted_row_names += row_names[i]+str(i)\n",
    "    \n",
    "\n",
    "# print(win_adapted_row_names)\n",
    "\n",
    "negwin = (9//2)*-1\n",
    "poswin = 9//2\n",
    "indexes = []\n",
    "for i in range([-4:4]):\n",
    "    indexes += i\n",
    "\n",
    "print(indexes)    \n",
    "# print(negwin)\n",
    "# print(poswin)"
   ]
  },
  {
   "cell_type": "markdown",
   "metadata": {},
   "source": [
    "### sort() returns None type\n",
    "\n",
    "&rarr; apply to list directly and return list instead"
   ]
  },
  {
   "cell_type": "code",
   "execution_count": 39,
   "metadata": {},
   "outputs": [
    {
     "name": "stdout",
     "output_type": "stream",
     "text": [
      "cant return \"a\" becaues it is None\n",
      "['4ywn.fasta', '6g3z.fasta']\n"
     ]
    }
   ],
   "source": [
    "import os\n",
    "z= os.listdir('/Users/ila/01-Unibo/02_Lab2/files_lab2_project/all_data/test_data/fasta/')\n",
    "a = z.sort()\n",
    "print('cant return \"a\" becaues it is', a)\n",
    "print(z)\n"
   ]
  },
  {
   "cell_type": "code",
   "execution_count": 20,
   "metadata": {},
   "outputs": [
    {
     "name": "stdout",
     "output_type": "stream",
     "text": [
      "['4ywn.fasta', '6g3z.fasta']\n"
     ]
    }
   ],
   "source": []
  },
  {
   "cell_type": "code",
   "execution_count": 22,
   "metadata": {},
   "outputs": [
    {
     "name": "stdout",
     "output_type": "stream",
     "text": [
      "list now :  None\n"
     ]
    }
   ],
   "source": [
    "list1 = ['physics', 'Biology', 'chemistry', 'maths']\n",
    "# x = list1.sort()\n",
    "print (\"list now : \", list1)"
   ]
  },
  {
   "cell_type": "markdown",
   "metadata": {},
   "source": [
    "Found X in my fasta sequences along the way:\n",
    "   * cheking if 'X' sequences have a corresponding profile"
   ]
  },
  {
   "cell_type": "code",
   "execution_count": 3,
   "metadata": {},
   "outputs": [
    {
     "name": "stdout",
     "output_type": "stream",
     "text": [
      "6l77\n",
      "6kko\n",
      "5xyf\n",
      "5v0m\n",
      "5uc0\n",
      "6dhx\n",
      "5ir2\n",
      "4y0o\n",
      "5c5z\n",
      "6mdw\n",
      "7bvv\n",
      "5t2x\n",
      "4zey\n",
      "5wd6\n",
      "6iqo\n",
      "5wd8 \n"
     ]
    }
   ],
   "source": [
    "# Sequences containing X:\n",
    "!cat ~/01-Unibo/02_Lab2/files_lab2_project/all_data/blindset/findX_ids_only"
   ]
  },
  {
   "cell_type": "code",
   "execution_count": 7,
   "metadata": {},
   "outputs": [
    {
     "name": "stdout",
     "output_type": "stream",
     "text": [
      "6l77.profile\n",
      "6kko.profile\n",
      "5xyf.profile\n",
      "5v0m.profile\n",
      "5uc0.profile\n",
      "6dhx.profile\n",
      "5ir2.profile\n",
      "4y0o.profile\n",
      "5c5z.profile\n",
      "6mdw.profile\n",
      "7bvv.profile\n",
      "5t2x.profile\n",
      "4zey.profile\n",
      "5wd6.profile\n",
      "6iqo.profile\n",
      "5wd8.profile \n"
     ]
    }
   ],
   "source": [
    "#Adding '.profile' in vim\n",
    "!cat ~/01-Unibo/02_Lab2/files_lab2_project/all_data/blindset/findX_ids_only"
   ]
  },
  {
   "cell_type": "code",
   "execution_count": 10,
   "metadata": {},
   "outputs": [
    {
     "data": {
      "text/plain": [
       "'/Users/ila/01-Unibo/02_Lab2/files_lab2_project/documentation_notebooks/GOR'"
      ]
     },
     "execution_count": 10,
     "metadata": {},
     "output_type": "execute_result"
    }
   ],
   "source": [
    "pwd"
   ]
  },
  {
   "cell_type": "code",
   "execution_count": 14,
   "metadata": {},
   "outputs": [],
   "source": [
    "!ls  /Users/ila/01-Unibo/02_Lab2/files_lab2_project/all_data/blindset/seqprofile_blind/ > sequprofile_list"
   ]
  },
  {
   "cell_type": "code",
   "execution_count": 15,
   "metadata": {},
   "outputs": [
    {
     "name": "stdout",
     "output_type": "stream",
     "text": [
      "['4uiq.profile', '4y0l.profile', '4y0o.profile', '4yte.profile', '4ywn.profile', '4zc4.profile', '4zey.profile', '4zkp.profile', '4zlr.profile', '5a88.profile', '5abr.profile', '5anp.profile', '5aun.profile', '5av5.profile', '5azw.profile', '5b71.profile', '5bn2.profile', '5bp5.profile', '5bpk.profile', '5bpu.profile', '5bxq.profile', '5c5z.profile', '5c8a.profile', '5ceg.profile', '5ctd.profile', '5d16.profile', '5d6t.profile', '5d71.profile', '5dcf.profile', '5dd8.profile', '5dg6.profile', '5dq0.profile', '5eiv.profile', '5f1s.profile', '5f2a.profile', '5fb9.profile', '5ffl.profile', '5fq0.profile', '5ghl.profile', '5gke.profile', '5gna.profile', '5hjf.profile', '5ht8.profile', '5ib0.profile', '5ii0.profile', '5ir2.profile', '5jsn.profile', '5jwo.profile', '5kqa.profile', '5kwv.profile', '5ldd.profile', '5ltf.profile', '5m9o.profile', '5mc9.profile', '5mmh.profile', '5n07.profile', '5nl9.profile', '5t2y.profile', '5u39.profile', '5u4u.profile', '5u5n.profile', '5u7e.profile', '5uiv.profile', '5umv.profile', '5uni.profile', '5v2i.profile', '5vog.profile', '5wd6.profile', '5wnw.profile', '5woq.profile', '5wuj.profile', '5x4b.profile', '5xga.profile', '5xks.profile', '5xvk.profile', '5xyf.profile', '5y7w.profile', '5yei.profile', '5ymx.profile', '5ysn.profile', '5zry.profile', '6aoz.profile', '6dew.profile', '6dn4.profile', '6ei6.profile', '6exx.profile', '6fsf.profile', '6fwt.profile', '6g3z.profile', '6gbi.profile', '6gw6.profile', '6h9e.profile', '6hfg.profile', '6hks.profile', '6hsv.profile', '6i9l.profile', '6ia7.profile', '6iqo.profile', '6isu.profile', '6j0y.profile', '6k6l.profile', '6k7q.profile', '6kok.profile', '6l77.profile', '6ltz.profile', '6md3.profile', '6mdw.profile', '6mlx.profile', '6ndr.profile', '6okm.profile', '6ood.profile', '6or3.profile', '6ovi.profile', '6q7n.profile', '6q8j.profile', '6r5w.profile', '6r82.profile', '6slk.profile', '6t7o.profile', '6usc.profile', '6vci.profile', '6vk4.profile', '6wk3.profile', '6yj1.profile', '7bvv.profile', '7bwf.profile', '7jtl.profile']\n"
     ]
    }
   ],
   "source": [
    "all_profiles = lines_list('./sequprofile_list')"
   ]
  },
  {
   "cell_type": "code",
   "execution_count": 29,
   "metadata": {},
   "outputs": [],
   "source": [
    "def lines_list(file1):\n",
    "    cleanlines = []\n",
    "    with open (file1, 'r') as rfile:\n",
    "        lines_list = rfile.readlines()\n",
    "        for line in lines_list:\n",
    "            nonewline = line.rstrip()\n",
    "            cleanlines.append(nonewline)\n",
    "    return cleanlines  "
   ]
  },
  {
   "cell_type": "code",
   "execution_count": 34,
   "metadata": {},
   "outputs": [
    {
     "name": "stdout",
     "output_type": "stream",
     "text": [
      "X  16\n",
      "all  127\n",
      "Matching 10\n",
      "{'4zey.profile', '4y0o.profile', '5c5z.profile', '5wd6.profile', '5ir2.profile', '7bvv.profile', '6iqo.profile', '6mdw.profile', '5xyf.profile', '6l77.profile'}\n"
     ]
    }
   ],
   "source": [
    "path = '../../all_data/blindset/findX_ids_only'\n",
    "X_seqs = lines_list(path)    \n",
    "all_profiles = lines_list('./sequprofile_list')\n",
    "\n",
    "print(\"X \", len(X_seqs))\n",
    "print('all ',len(all_profiles))\n",
    "intersec = set(X_seqs) & set(all_profiles)\n",
    "print('Matching',len(intersec))\n",
    "\n",
    "print(intersec)"
   ]
  },
  {
   "cell_type": "markdown",
   "metadata": {},
   "source": [
    "### So I assume I have only 117 blind sequences...\n",
    "No I can keep them because only the \"matching residues\" of the 20 aa list are considered when filling the GOR matrices."
   ]
  },
  {
   "cell_type": "code",
   "execution_count": 40,
   "metadata": {},
   "outputs": [
    {
     "name": "stdout",
     "output_type": "stream",
     "text": [
      "0.55\t0.45\t0.0\t0.0\t0.0\t0.0\t0.0\t0.0\t0.0\t0.0\t0.0\t0.0\t0.0\t0.0\t0.0\t0.0\t0.0\t0.0\t0.0\t0.0\t\n",
      "0.0\t0.0\t0.45\t0.0\t0.0\t0.0\t0.55\t0.0\t0.0\t0.0\t0.0\t0.0\t0.0\t0.0\t0.0\t0.0\t0.0\t0.0\t0.0\t0.0\t\n",
      "0.0\t0.0\t0.0\t0.0\t0.0\t0.0\t0.0\t0.0\t0.0\t0.55\t0.0\t0.0\t0.0\t0.0\t0.0\t0.0\t0.0\t0.0\t0.0\t0.45\t\n",
      "0.55\t0.0\t0.0\t0.0\t0.0\t0.0\t0.0\t0.0\t0.0\t0.0\t0.0\t0.0\t0.0\t0.0\t0.0\t0.0\t0.0\t0.0\t0.0\t0.45\t\n",
      "0.0\t0.0\t0.0\t0.0\t0.0\t0.0\t0.0\t0.0\t0.0\t0.0\t0.0\t0.0\t0.0\t0.0\t0.0\t0.0\t0.45\t0.0\t0.0\t0.55\t\n",
      "1.0\t0.0\t0.0\t0.0\t0.0\t0.0\t0.0\t0.0\t0.0\t0.0\t0.0\t0.0\t0.0\t0.0\t0.0\t0.0\t0.0\t0.0\t0.0\t0.0\t\n",
      "0.0\t0.0\t0.45\t0.0\t0.0\t0.0\t0.0\t0.0\t0.55\t0.0\t0.0\t0.0\t0.0\t0.0\t0.0\t0.0\t0.0\t0.0\t0.0\t0.0\t\n",
      "0.55\t0.0\t0.0\t0.0\t0.0\t0.0\t0.0\t0.0\t0.0\t0.0\t0.0\t0.45\t0.0\t0.0\t0.0\t0.0\t0.0\t0.0\t0.0\t0.0\t\n",
      "0.45\t0.0\t0.0\t0.0\t0.0\t0.0\t0.0\t0.0\t0.55\t0.0\t0.0\t0.0\t0.0\t0.0\t0.0\t0.0\t0.0\t0.0\t0.0\t0.0\t"
     ]
    }
   ],
   "source": [
    "cat /Users/ila/01-Unibo/02_Lab2/files_lab2_project/all_data/test_data/profiles/test_profile"
   ]
  },
  {
   "cell_type": "code",
   "execution_count": 73,
   "metadata": {},
   "outputs": [],
   "source": [
    "import sys\n",
    "import os\n",
    "import pandas as pd\n",
    "import numpy as np\n",
    "\n",
    "def read_clean_lines(infile1):\n",
    "    ''' Reads all lines from a file. Returns string of second line. The '\\n' is stripped.'''\n",
    "    with open(infile1, 'r') as rfile:\n",
    "        newline_list = rfile.readlines()\n",
    "#         cleanstring = newline_list[1].rstrip()\n",
    "        return newline_list"
   ]
  },
  {
   "cell_type": "code",
   "execution_count": 128,
   "metadata": {},
   "outputs": [],
   "source": [
    "list1 = read_clean_lines('/Users/ila/01-Unibo/02_Lab2/files_lab2_project/all_data/test_data/profiles/test_profile')\n",
    "list1\n",
    "\n",
    "cleanlines = []\n",
    "floats = []\n",
    "# for i in list1:"
   ]
  },
  {
   "cell_type": "markdown",
   "metadata": {},
   "source": [
    "### Better to loadtxt dicrectly into np array:"
   ]
  },
  {
   "cell_type": "code",
   "execution_count": 140,
   "metadata": {},
   "outputs": [
    {
     "name": "stdout",
     "output_type": "stream",
     "text": [
      "[0.55 0.45 0.   0.   0.   0.   0.   0.   0.   0.   0.   0.   0.   0.\n",
      " 0.   0.   0.   0.   0.   0.  ]\n",
      "[0.   0.   0.45 0.   0.   0.   0.55 0.   0.   0.   0.   0.   0.   0.\n",
      " 0.   0.   0.   0.   0.   0.  ]\n"
     ]
    }
   ],
   "source": [
    "profile_arr = np.loadtxt(\"/Users/ila/01-Unibo/02_Lab2/files_lab2_project/all_data/test_data/profiles/test_profile\", usecols=range(0,20), dtype=np.float64)\n",
    "profile_arr\n",
    "profile_arr.shape\n",
    "\n",
    "rows, cols = profile_arr.shape\n",
    "\n",
    "print(profile_arr[0])\n",
    "print(profile_arr[1])\n",
    "\n",
    "\n",
    "\n",
    "# for i in range(8):\n",
    "#     for j in range(19):\n",
    "#         print(profile_arr[i][j])\n"
   ]
  },
  {
   "cell_type": "markdown",
   "metadata": {},
   "source": [
    "### You can add entire rows of np arrays;"
   ]
  },
  {
   "cell_type": "code",
   "execution_count": 138,
   "metadata": {},
   "outputs": [
    {
     "data": {
      "text/plain": [
       "array([0.55, 0.45, 0.45, 0.  , 0.  , 0.  , 0.55, 0.  , 0.  , 0.  , 0.  ,\n",
       "       0.  , 0.  , 0.  , 0.  , 0.  , 0.  , 0.  , 0.  , 0.  ])"
      ]
     },
     "execution_count": 138,
     "metadata": {},
     "output_type": "execute_result"
    }
   ],
   "source": [
    "sum_of_2rows = profile_arr[0]+profile_arr[1]\n",
    "sum_of_2rows"
   ]
  },
  {
   "cell_type": "code",
   "execution_count": 137,
   "metadata": {},
   "outputs": [
    {
     "name": "stdout",
     "output_type": "stream",
     "text": [
      "[0, 1, 2, 3, 4, 5, 6, 7, 8, 9, 10, 11, 12, 13, 14, 15, 16, 17, 18, 19]\n"
     ]
    }
   ],
   "source": [
    "header_col = ['A', 'R', 'N', 'D', 'C', 'Q', 'E', 'G', 'H', 'I', 'L', 'K', 'M', 'F', 'P', 'S', 'T', 'W', 'Y', 'V']\n",
    "nospace = \"\"\n",
    "for i in a:\n",
    "#     print(i, end='')\n",
    "    nospace+=i\n",
    "nospace\n",
    "\n",
    "num_li = []\n",
    "for j in range(len(header_col)):\n",
    "    num_li.append(j)\n",
    "    \n",
    "print(num_li)    "
   ]
  },
  {
   "cell_type": "markdown",
   "metadata": {},
   "source": [
    "### Need to check that numcols == numcols no\n",
    "\n",
    "### Need to check that len(dssp_string) == number of rows in profile"
   ]
  },
  {
   "cell_type": "code",
   "execution_count": 152,
   "metadata": {},
   "outputs": [],
   "source": [
    "#!/anaconda3/bin/python\n",
    "import sys\n",
    "import os\n",
    "import glob\n",
    "import pandas as pd\n",
    "import numpy as np\n",
    "import argparse \n",
    "\n",
    "'''For the first try: Make function: Takes fasta and dssp sequence as parameters as input.'''\n",
    "# d1g2ya_.dssp\n",
    "# d1g2ya_.fasta from training files.\n",
    "\n",
    "win_size = 3 # has to be an odd number pass through argparse later\n",
    "\n",
    "def make_zero_array(window_size):\n",
    "    '''\n",
    "    Takes window size and the name of the array as arguments.\n",
    "    Makes an array that has as many lines as the win_size and \n",
    "    the number of columns is defined by the number of naturally \n",
    "    occurring aa in eukaryotes. Returns the array.\n",
    "    '''\n",
    "    array = np.zeros((window_size,20)) #, dtype= 'float64' is allready default - not necessary to specify!!!\n",
    "    return array\n",
    "    \n",
    "R_H = make_zero_array(win_size)           # generating arrays holding the counts of residue in conformation X --> R_X\n",
    "R_E = make_zero_array(win_size)\n",
    "R_C = make_zero_array(win_size)\n",
    "R_count = make_zero_array(win_size)       # generating array holding the total residue count\n",
    "SS_count = make_zero_array(win_size)      # generating array holding the total secondary structure count\n",
    "\n",
    "def make_frequency_df(zeroarray):\n",
    "    '''\n",
    "    Makes dataframe from zero array to better vizualize whats going on.\n",
    "    That enables us to index columns by residue name.\n",
    "    '''\n",
    "    header_col = ['A', 'R', 'N', 'D', 'C', 'Q', 'E', 'G', 'H', 'I', 'L', 'K', 'M', 'F', 'P', 'S', 'T', 'W', 'Y', 'V']\n",
    "    # row_names = ['R_0'] #['#R,H', '#R,E', '#R,C', '#R'] # want to implement using -1 0 1 according to window....\n",
    "#     freq_array = make_zero_array(win_size)\n",
    "    freq_df = pd.DataFrame(data = zeroarray,  columns=header_col) # index=row_names\n",
    "    return freq_df\n",
    "\n",
    "''' generating dataframes holding the counts of residue in conformation X --> R_X'''\n",
    "df_R_H = make_frequency_df(R_H)           \n",
    "df_R_E = make_frequency_df(R_E)\n",
    "df_R_C = make_frequency_df(R_C)\n",
    "df_R_count=make_frequency_df(R_count)\n",
    "# df_SS_count = make_frequency_df(SS_count)     \n",
    "\n",
    "''' generating smaller datafram holding the total counts conformations'''\n",
    "ss_array = np.zeros((1,3)) # making array holding total n of R in H, E or C\n",
    "df_all_SS = pd.DataFrame(data=ss_array, columns=['H', 'E', 'C'], index= ['#S'])\n",
    "# print(\"HEC df\")\n",
    "# print(df_all_SS)\n",
    "\n",
    "def read_clean_lines(infile1):\n",
    "    ''' Reads all lines from a file. Returns string of second line. The '\\n' is stripped.'''\n",
    "    with open(infile1, 'r') as rfile:\n",
    "        newline_list = rfile.readlines()\n",
    "        cleanstring = newline_list[1].rstrip()\n",
    "        return cleanstring\n",
    "\n",
    "def read_profile_into_array(infile2):\n",
    "    '''\n",
    "    Takes a seq profile file as input. Reads it into an np.array.\n",
    "    'NaN' column (index 20) is excluded. Returns the array\n",
    "    '''\n",
    "    profile_array = np.loadtxt(infile2, usecols=range(0,20), dtype=np.float64) # need to indicate range to get rid of last col containing 'nan'\n",
    "    return profile_array\n",
    "\n",
    "def dict_from_2_lists(list1, list2):\n",
    "    '''\n",
    "    Makes dictionary from 20 numbers list and all header of profile.\n",
    "    keys: [0, 1, 2, 3, 4, 5, 6, 7, 8, 9, 10, 11, 12, 13, 14, 15, 16, 17, 18, 19] \n",
    "    values: ['A', 'R', 'N', 'D', 'C', 'Q', 'E', 'G', 'H', 'I', 'L', 'K', 'M', 'F', 'P', 'S', 'T', 'W', 'Y', 'V']\n",
    "    used to access correct column in GOR arrays.\n",
    "    '''\n",
    "    keys = list1\n",
    "    values = list2\n",
    "    index_dict = dict(zip(keys, values))\n",
    "    return index_dict\n",
    "\n",
    "indexes = dict_from_2_lists([0, 1, 2, 3, 4, 5, 6, 7, 8, 9, 10, 11, 12, 13, 14, 15, 16, 17, 18, 19], ['A', 'R', 'N', 'D', 'C', 'Q', 'E', 'G', 'H', 'I', 'L', 'K', 'M', 'F', 'P', 'S', 'T', 'W', 'Y', 'V'])\n",
    "\n",
    "def train_gor(profile, ssfile, RH, RE, RC, total_R, total_SS):\n",
    "    '''\n",
    "    Takes as input: (1) np.array of seq profile (2) ss from dssp file (3) dataframes comprising the gor model \n",
    "    (RH, RE, RC, total_R and total_SS). Increments corresponding positions according to R in given conformation \n",
    "    in each field. Returns the trained GOR model.\n",
    "    '''\n",
    "    # aa_string = read_clean_lines(profile)\n",
    "    profile_arr = read_profile_into_array(profile)          # np.array\n",
    "    print(profile_arr)\n",
    "\n",
    "    ss_string = read_clean_lines(ssfile)\n",
    "    print(ss_string)                                        \n",
    "\n",
    "    rows, cols = profile_arr.shape                          # len(ss_string) must be == number of rows \n",
    "\n",
    "    if len(ss_string) != rows:\n",
    "        print('Error: ', ssfile, 'length not the same as in profile! ')\n",
    "        return RH, RE, RC, total_R, total_SS\n",
    "\n",
    "    for i in range(rows):\n",
    "        ss = ss_string[i]                   # type of structure at index i\n",
    "        profile_row = profile_arr[i]              # Profile row at index i\n",
    "        total_R += profile_row                    # Incrementing each df by adding one row of the profile\n",
    "        \n",
    "        if ss == 'H':\n",
    "            RH += profile_row\n",
    "            total_SS[ss] += 1\n",
    "\n",
    "        elif ss == 'E':\n",
    "            RE += profile_row\n",
    "            total_SS[ss] += 1\n",
    "\n",
    "        else:                               \n",
    "            RC += profile_row\n",
    "            total_SS['C'] += 1                # If not H or E --> its assigned to 'C' compatible with training and blind files.\n",
    "    return RH, RE, RC, total_R, total_SS"
   ]
  },
  {
   "cell_type": "code",
   "execution_count": 153,
   "metadata": {},
   "outputs": [
    {
     "name": "stdout",
     "output_type": "stream",
     "text": [
      "{0: 'A', 1: 'R', 2: 'N', 3: 'D', 4: 'C', 5: 'Q', 6: 'E', 7: 'G', 8: 'H', 9: 'I', 10: 'L', 11: 'K', 12: 'M', 13: 'F', 14: 'P', 15: 'S', 16: 'T', 17: 'W', 18: 'Y', 19: 'V'}\n"
     ]
    }
   ],
   "source": [
    "df_R_H\n",
    "print(indexes)"
   ]
  },
  {
   "cell_type": "code",
   "execution_count": 158,
   "metadata": {},
   "outputs": [
    {
     "name": "stdout",
     "output_type": "stream",
     "text": [
      "[[0.55 0.45 0.   0.   0.   0.   0.   0.   0.   0.   0.   0.   0.   0.\n",
      "  0.   0.   0.   0.   0.   0.  ]\n",
      " [0.   0.   0.45 0.   0.   0.   0.55 0.   0.   0.   0.   0.   0.   0.\n",
      "  0.   0.   0.   0.   0.   0.  ]\n",
      " [0.   0.   0.   0.   0.   0.   0.   0.   0.   0.55 0.   0.   0.   0.\n",
      "  0.   0.   0.   0.   0.   0.45]\n",
      " [0.55 0.   0.   0.   0.   0.   0.   0.   0.   0.   0.   0.   0.   0.\n",
      "  0.   0.   0.   0.   0.   0.45]\n",
      " [0.   0.   0.   0.   0.   0.   0.   0.   0.   0.   0.   0.   0.   0.\n",
      "  0.   0.   0.45 0.   0.   0.55]\n",
      " [1.   0.   0.   0.   0.   0.   0.   0.   0.   0.   0.   0.   0.   0.\n",
      "  0.   0.   0.   0.   0.   0.  ]\n",
      " [0.   0.   0.45 0.   0.   0.   0.   0.   0.55 0.   0.   0.   0.   0.\n",
      "  0.   0.   0.   0.   0.   0.  ]\n",
      " [0.55 0.   0.   0.   0.   0.   0.   0.   0.   0.   0.   0.45 0.   0.\n",
      "  0.   0.   0.   0.   0.   0.  ]\n",
      " [0.45 0.   0.   0.   0.   0.   0.   0.   0.55 0.   0.   0.   0.   0.\n",
      "  0.   0.   0.   0.   0.   0.  ]]\n",
      "CEEEEECCC\n"
     ]
    },
    {
     "data": {
      "text/html": [
       "<div>\n",
       "<style scoped>\n",
       "    .dataframe tbody tr th:only-of-type {\n",
       "        vertical-align: middle;\n",
       "    }\n",
       "\n",
       "    .dataframe tbody tr th {\n",
       "        vertical-align: top;\n",
       "    }\n",
       "\n",
       "    .dataframe thead th {\n",
       "        text-align: right;\n",
       "    }\n",
       "</style>\n",
       "<table border=\"1\" class=\"dataframe\">\n",
       "  <thead>\n",
       "    <tr style=\"text-align: right;\">\n",
       "      <th></th>\n",
       "      <th>A</th>\n",
       "      <th>R</th>\n",
       "      <th>N</th>\n",
       "      <th>D</th>\n",
       "      <th>C</th>\n",
       "      <th>Q</th>\n",
       "      <th>E</th>\n",
       "      <th>G</th>\n",
       "      <th>H</th>\n",
       "      <th>I</th>\n",
       "      <th>L</th>\n",
       "      <th>K</th>\n",
       "      <th>M</th>\n",
       "      <th>F</th>\n",
       "      <th>P</th>\n",
       "      <th>S</th>\n",
       "      <th>T</th>\n",
       "      <th>W</th>\n",
       "      <th>Y</th>\n",
       "      <th>V</th>\n",
       "    </tr>\n",
       "  </thead>\n",
       "  <tbody>\n",
       "    <tr>\n",
       "      <th>0</th>\n",
       "      <td>0.0</td>\n",
       "      <td>0.0</td>\n",
       "      <td>0.0</td>\n",
       "      <td>0.0</td>\n",
       "      <td>0.0</td>\n",
       "      <td>0.0</td>\n",
       "      <td>0.0</td>\n",
       "      <td>0.0</td>\n",
       "      <td>0.0</td>\n",
       "      <td>0.0</td>\n",
       "      <td>0.0</td>\n",
       "      <td>0.0</td>\n",
       "      <td>0.0</td>\n",
       "      <td>0.0</td>\n",
       "      <td>0.0</td>\n",
       "      <td>0.0</td>\n",
       "      <td>0.0</td>\n",
       "      <td>0.0</td>\n",
       "      <td>0.0</td>\n",
       "      <td>0.0</td>\n",
       "    </tr>\n",
       "    <tr>\n",
       "      <th>1</th>\n",
       "      <td>0.0</td>\n",
       "      <td>0.0</td>\n",
       "      <td>0.0</td>\n",
       "      <td>0.0</td>\n",
       "      <td>0.0</td>\n",
       "      <td>0.0</td>\n",
       "      <td>0.0</td>\n",
       "      <td>0.0</td>\n",
       "      <td>0.0</td>\n",
       "      <td>0.0</td>\n",
       "      <td>0.0</td>\n",
       "      <td>0.0</td>\n",
       "      <td>0.0</td>\n",
       "      <td>0.0</td>\n",
       "      <td>0.0</td>\n",
       "      <td>0.0</td>\n",
       "      <td>0.0</td>\n",
       "      <td>0.0</td>\n",
       "      <td>0.0</td>\n",
       "      <td>0.0</td>\n",
       "    </tr>\n",
       "    <tr>\n",
       "      <th>2</th>\n",
       "      <td>0.0</td>\n",
       "      <td>0.0</td>\n",
       "      <td>0.0</td>\n",
       "      <td>0.0</td>\n",
       "      <td>0.0</td>\n",
       "      <td>0.0</td>\n",
       "      <td>0.0</td>\n",
       "      <td>0.0</td>\n",
       "      <td>0.0</td>\n",
       "      <td>0.0</td>\n",
       "      <td>0.0</td>\n",
       "      <td>0.0</td>\n",
       "      <td>0.0</td>\n",
       "      <td>0.0</td>\n",
       "      <td>0.0</td>\n",
       "      <td>0.0</td>\n",
       "      <td>0.0</td>\n",
       "      <td>0.0</td>\n",
       "      <td>0.0</td>\n",
       "      <td>0.0</td>\n",
       "    </tr>\n",
       "  </tbody>\n",
       "</table>\n",
       "</div>"
      ],
      "text/plain": [
       "     A    R    N    D    C    Q    E    G    H    I    L    K    M    F    P  \\\n",
       "0  0.0  0.0  0.0  0.0  0.0  0.0  0.0  0.0  0.0  0.0  0.0  0.0  0.0  0.0  0.0   \n",
       "1  0.0  0.0  0.0  0.0  0.0  0.0  0.0  0.0  0.0  0.0  0.0  0.0  0.0  0.0  0.0   \n",
       "2  0.0  0.0  0.0  0.0  0.0  0.0  0.0  0.0  0.0  0.0  0.0  0.0  0.0  0.0  0.0   \n",
       "\n",
       "     S    T    W    Y    V  \n",
       "0  0.0  0.0  0.0  0.0  0.0  \n",
       "1  0.0  0.0  0.0  0.0  0.0  \n",
       "2  0.0  0.0  0.0  0.0  0.0  "
      ]
     },
     "execution_count": 158,
     "metadata": {},
     "output_type": "execute_result"
    }
   ],
   "source": [
    "RH, RE, RC, total_R, total_SS = train_gor(\"/Users/ila/01-Unibo/02_Lab2/files_lab2_project/all_data/test_data/profiles/test_profile\", \"/Users/ila/01-Unibo/02_Lab2/files_lab2_project/all_data/test_data/dssp/test_ss.dssp\", df_R_H, df_R_E, df_R_C, df_R_count, df_all_SS)\n",
    "# make_frequency_df(RH)\n",
    "df_R_H = make_frequency_df(RH)           \n",
    "df_R_E = make_frequency_df(RE)\n",
    "df_R_C = make_frequency_df(RC)\n",
    "df_R_H"
   ]
  },
  {
   "cell_type": "code",
   "execution_count": 151,
   "metadata": {},
   "outputs": [
    {
     "data": {
      "text/html": [
       "<div>\n",
       "<style scoped>\n",
       "    .dataframe tbody tr th:only-of-type {\n",
       "        vertical-align: middle;\n",
       "    }\n",
       "\n",
       "    .dataframe tbody tr th {\n",
       "        vertical-align: top;\n",
       "    }\n",
       "\n",
       "    .dataframe thead th {\n",
       "        text-align: right;\n",
       "    }\n",
       "</style>\n",
       "<table border=\"1\" class=\"dataframe\">\n",
       "  <thead>\n",
       "    <tr style=\"text-align: right;\">\n",
       "      <th></th>\n",
       "      <th>A</th>\n",
       "      <th>R</th>\n",
       "      <th>N</th>\n",
       "      <th>D</th>\n",
       "      <th>C</th>\n",
       "      <th>Q</th>\n",
       "      <th>E</th>\n",
       "      <th>G</th>\n",
       "      <th>H</th>\n",
       "      <th>I</th>\n",
       "      <th>L</th>\n",
       "      <th>K</th>\n",
       "      <th>M</th>\n",
       "      <th>F</th>\n",
       "      <th>P</th>\n",
       "      <th>S</th>\n",
       "      <th>T</th>\n",
       "      <th>W</th>\n",
       "      <th>Y</th>\n",
       "      <th>V</th>\n",
       "    </tr>\n",
       "  </thead>\n",
       "  <tbody>\n",
       "    <tr>\n",
       "      <th>0</th>\n",
       "      <td>0.55</td>\n",
       "      <td>0.45</td>\n",
       "      <td>0.0</td>\n",
       "      <td>0.0</td>\n",
       "      <td>0.0</td>\n",
       "      <td>0.0</td>\n",
       "      <td>0.0</td>\n",
       "      <td>0.0</td>\n",
       "      <td>0.0</td>\n",
       "      <td>0.0</td>\n",
       "      <td>0.0</td>\n",
       "      <td>0.0</td>\n",
       "      <td>0.0</td>\n",
       "      <td>0.0</td>\n",
       "      <td>0.0</td>\n",
       "      <td>0.0</td>\n",
       "      <td>0.0</td>\n",
       "      <td>0.0</td>\n",
       "      <td>0.0</td>\n",
       "      <td>0.0</td>\n",
       "    </tr>\n",
       "  </tbody>\n",
       "</table>\n",
       "</div>"
      ],
      "text/plain": [
       "      A     R    N    D    C    Q    E    G    H    I    L    K    M    F  \\\n",
       "0  0.55  0.45  0.0  0.0  0.0  0.0  0.0  0.0  0.0  0.0  0.0  0.0  0.0  0.0   \n",
       "\n",
       "     P    S    T    W    Y    V  \n",
       "0  0.0  0.0  0.0  0.0  0.0  0.0  "
      ]
     },
     "execution_count": 151,
     "metadata": {},
     "output_type": "execute_result"
    }
   ],
   "source": [
    "df_R_E.loc[[0]]+profile_arr[0]"
   ]
  },
  {
   "cell_type": "markdown",
   "metadata": {},
   "source": [
    "### About the axis in np.arrays\n",
    "\n",
    "Found [here](https://www.sharpsightlabs.com/blog/numpy-axes-explained/) exerzizes [here](https://machinelearningmastery.com/numpy-axis-for-rows-and-columns/)"
   ]
  },
  {
   "cell_type": "markdown",
   "metadata": {},
   "source": [
    "When ever we need to do \n",
    "* Column wise **or**\n",
    "* Row wise\n",
    "\n",
    "operations we cant use the intuiteve row and column indexing but we have to use \n",
    "\n",
    "    axis \n",
    "    \n",
    "instead!    \n",
    "\n",
    "Operations such as the sum can be performed \n",
    "* Column wise using\n",
    "    * ```axis=0```\n",
    "* Row wise using\n",
    "    * ```axis=1```\n",
    "* Apply operation to the entire array\n",
    "    * ```axis=None```\n",
    "    \n",
    "Example:    "
   ]
  },
  {
   "cell_type": "code",
   "execution_count": 160,
   "metadata": {},
   "outputs": [],
   "source": [
    "import numpy as np"
   ]
  },
  {
   "cell_type": "code",
   "execution_count": 161,
   "metadata": {},
   "outputs": [],
   "source": [
    "#Defining data as a list of lists\n",
    "data = [[1,2,3], [4,5,6]]"
   ]
  },
  {
   "cell_type": "code",
   "execution_count": 167,
   "metadata": {},
   "outputs": [
    {
     "name": "stdout",
     "output_type": "stream",
     "text": [
      "[[1 2 3]\n",
      " [4 5 6]]\n"
     ]
    }
   ],
   "source": [
    "# Converting to np array\n",
    "data = np.asarray(data)\n",
    "print(data)"
   ]
  },
  {
   "cell_type": "code",
   "execution_count": 262,
   "metadata": {},
   "outputs": [
    {
     "name": "stdout",
     "output_type": "stream",
     "text": [
      "(2, 3)\n"
     ]
    }
   ],
   "source": [
    "# Get shape of the array = tuple\n",
    "axis = data.shape\n",
    "print(data.shape)"
   ]
  },
  {
   "cell_type": "code",
   "execution_count": 266,
   "metadata": {},
   "outputs": [
    {
     "data": {
      "text/plain": [
       "array([1, 2, 3])"
      ]
     },
     "execution_count": 266,
     "metadata": {},
     "output_type": "execute_result"
    }
   ],
   "source": []
  },
  {
   "cell_type": "code",
   "execution_count": 263,
   "metadata": {},
   "outputs": [
    {
     "data": {
      "text/plain": [
       "3"
      ]
     },
     "execution_count": 263,
     "metadata": {},
     "output_type": "execute_result"
    }
   ],
   "source": [
    "axis[1]"
   ]
  },
  {
   "cell_type": "markdown",
   "metadata": {},
   "source": [
    "With shape we can visualize that\n",
    "* x=0 (2) is the number of lines \n",
    "* while x=1 (3) is the number of columns"
   ]
  },
  {
   "cell_type": "code",
   "execution_count": 169,
   "metadata": {},
   "outputs": [
    {
     "data": {
      "text/plain": [
       "2"
      ]
     },
     "execution_count": 169,
     "metadata": {},
     "output_type": "execute_result"
    }
   ],
   "source": [
    "data.shape[0]"
   ]
  },
  {
   "cell_type": "code",
   "execution_count": 170,
   "metadata": {},
   "outputs": [
    {
     "data": {
      "text/plain": [
       "3"
      ]
     },
     "execution_count": 170,
     "metadata": {},
     "output_type": "execute_result"
    }
   ],
   "source": [
    "data.shape[1]"
   ]
  },
  {
   "cell_type": "markdown",
   "metadata": {},
   "source": [
    "Acessing first row and first colum:"
   ]
  },
  {
   "cell_type": "code",
   "execution_count": 174,
   "metadata": {},
   "outputs": [
    {
     "data": {
      "text/plain": [
       "1"
      ]
     },
     "execution_count": 174,
     "metadata": {},
     "output_type": "execute_result"
    }
   ],
   "source": [
    "data[0,0]"
   ]
  },
  {
   "cell_type": "markdown",
   "metadata": {},
   "source": [
    "Accessing first row and **all** columns"
   ]
  },
  {
   "cell_type": "code",
   "execution_count": 177,
   "metadata": {},
   "outputs": [
    {
     "data": {
      "text/plain": [
       "array([1, 2, 3])"
      ]
     },
     "execution_count": 177,
     "metadata": {},
     "output_type": "execute_result"
    }
   ],
   "source": [
    "data[0,:]"
   ]
  },
  {
   "cell_type": "markdown",
   "metadata": {},
   "source": [
    "### Sum of entire array:"
   ]
  },
  {
   "cell_type": "code",
   "execution_count": 179,
   "metadata": {},
   "outputs": [
    {
     "name": "stdout",
     "output_type": "stream",
     "text": [
      "[[1 2 3]\n",
      " [4 5 6]]\n"
     ]
    }
   ],
   "source": [
    "print(data)"
   ]
  },
  {
   "cell_type": "code",
   "execution_count": 181,
   "metadata": {},
   "outputs": [
    {
     "name": "stdout",
     "output_type": "stream",
     "text": [
      "21\n"
     ]
    }
   ],
   "source": [
    "result = data.sum(axis=None)\n",
    "print(result)"
   ]
  },
  {
   "cell_type": "markdown",
   "metadata": {},
   "source": [
    "### Summing data by column"
   ]
  },
  {
   "cell_type": "code",
   "execution_count": 187,
   "metadata": {},
   "outputs": [
    {
     "name": "stdout",
     "output_type": "stream",
     "text": [
      "[5 7 9]\n"
     ]
    }
   ],
   "source": [
    "col_sum = data.sum(axis=0)\n",
    "print(col_sum)"
   ]
  },
  {
   "cell_type": "code",
   "execution_count": 186,
   "metadata": {},
   "outputs": [
    {
     "name": "stdout",
     "output_type": "stream",
     "text": [
      "[5 7 9]\n"
     ]
    }
   ],
   "source": []
  },
  {
   "cell_type": "markdown",
   "metadata": {},
   "source": [
    "## Note that this doenst work"
   ]
  },
  {
   "cell_type": "code",
   "execution_count": 217,
   "metadata": {},
   "outputs": [
    {
     "name": "stdout",
     "output_type": "stream",
     "text": [
      "Shape:  (3,)\n"
     ]
    },
    {
     "ename": "ValueError",
     "evalue": "all the input arrays must have same number of dimensions",
     "output_type": "error",
     "traceback": [
      "\u001b[0;31m---------------------------------------------------------------------------\u001b[0m",
      "\u001b[0;31mValueError\u001b[0m                                Traceback (most recent call last)",
      "\u001b[0;32m<ipython-input-217-b6785eaac190>\u001b[0m in \u001b[0;36m<module>\u001b[0;34m\u001b[0m\n\u001b[1;32m      4\u001b[0m \u001b[0mprint\u001b[0m\u001b[0;34m(\u001b[0m\u001b[0;34m\"Shape: \"\u001b[0m\u001b[0;34m,\u001b[0m \u001b[0mnp\u001b[0m\u001b[0;34m.\u001b[0m\u001b[0mshape\u001b[0m\u001b[0;34m(\u001b[0m\u001b[0mtop\u001b[0m\u001b[0;34m)\u001b[0m\u001b[0;34m)\u001b[0m\u001b[0;34m\u001b[0m\u001b[0;34m\u001b[0m\u001b[0m\n\u001b[1;32m      5\u001b[0m \u001b[0;34m\u001b[0m\u001b[0m\n\u001b[0;32m----> 6\u001b[0;31m \u001b[0moverhang\u001b[0m \u001b[0;34m=\u001b[0m \u001b[0mnp\u001b[0m\u001b[0;34m.\u001b[0m\u001b[0mconcatenate\u001b[0m\u001b[0;34m(\u001b[0m\u001b[0;34m(\u001b[0m\u001b[0mtop\u001b[0m\u001b[0;34m,\u001b[0m \u001b[0mdata\u001b[0m\u001b[0;34m,\u001b[0m \u001b[0mbottom\u001b[0m\u001b[0;34m)\u001b[0m\u001b[0;34m,\u001b[0m \u001b[0maxis\u001b[0m\u001b[0;34m=\u001b[0m\u001b[0;36m0\u001b[0m\u001b[0;34m)\u001b[0m\u001b[0;34m\u001b[0m\u001b[0;34m\u001b[0m\u001b[0m\n\u001b[0m\u001b[1;32m      7\u001b[0m \u001b[0mprint\u001b[0m\u001b[0;34m(\u001b[0m\u001b[0moverhang\u001b[0m\u001b[0;34m)\u001b[0m\u001b[0;34m\u001b[0m\u001b[0;34m\u001b[0m\u001b[0m\n",
      "\u001b[0;31mValueError\u001b[0m: all the input arrays must have same number of dimensions"
     ]
    }
   ],
   "source": [
    "top = np.asarray([-1,-1,-1])\n",
    "bottom = np.asarray([1,1,1])\n",
    "\n",
    "print(\"Shape: \", np.shape(top))\n",
    "\n",
    "overhang = np.concatenate((top, data, bottom), axis=0)\n",
    "print(overhang)"
   ]
  },
  {
   "cell_type": "markdown",
   "metadata": {},
   "source": [
    "### But this works:"
   ]
  },
  {
   "cell_type": "code",
   "execution_count": 216,
   "metadata": {},
   "outputs": [
    {
     "name": "stdout",
     "output_type": "stream",
     "text": [
      "Shape:  (1, 3)\n",
      "[[-1 -1 -1]\n",
      " [ 1  2  3]\n",
      " [ 4  5  6]\n",
      " [ 1  1  1]]\n"
     ]
    }
   ],
   "source": [
    "top = np.asarray([[-1,-1,-1]])\n",
    "bottom = np.asarray([[1,1,1]])\n",
    "\n",
    "print(\"Shape: \", np.shape(top))\n",
    "\n",
    "overhang = np.concatenate((top, data, bottom), axis=0)\n",
    "print(overhang)\n"
   ]
  },
  {
   "cell_type": "markdown",
   "metadata": {},
   "source": [
    "## Add over rows"
   ]
  },
  {
   "cell_type": "code",
   "execution_count": 218,
   "metadata": {},
   "outputs": [
    {
     "data": {
      "text/plain": [
       "array([[0, 0, 0, 1, 2, 3, 1, 1, 1],\n",
       "       [0, 0, 0, 4, 5, 6, 1, 1, 1]])"
      ]
     },
     "execution_count": 218,
     "metadata": {},
     "output_type": "execute_result"
    }
   ],
   "source": [
    "single1 = np.asarray([[0,0,0], [0,0,0]])\n",
    "single2 = np.asarray([[1,1,1], [1,1,1]])\n",
    "middle = np.asarray([[2,2,2], [3,3,3], [4,4,4]])\n",
    "test1 = np.concatenate((single1,data,single2), axis=1) \n",
    "test1"
   ]
  },
  {
   "cell_type": "code",
   "execution_count": 219,
   "metadata": {},
   "outputs": [
    {
     "data": {
      "text/plain": [
       "3"
      ]
     },
     "execution_count": 219,
     "metadata": {},
     "output_type": "execute_result"
    }
   ],
   "source": [
    "7//2"
   ]
  },
  {
   "cell_type": "code",
   "execution_count": 269,
   "metadata": {},
   "outputs": [
    {
     "data": {
      "text/plain": [
       "array([['H', 38, 0],\n",
       "       ['E', 148, 0],\n",
       "       ['-', 0, 0],\n",
       "       ['TOT', 186, 0]], dtype=object)"
      ]
     },
     "execution_count": 269,
     "metadata": {},
     "output_type": "execute_result"
    }
   ],
   "source": [
    "ss_count_matrix \n"
   ]
  },
  {
   "cell_type": "code",
   "execution_count": 274,
   "metadata": {},
   "outputs": [
    {
     "data": {
      "text/plain": [
       "array([['E', 148, 0],\n",
       "       ['-', 0, 0]], dtype=object)"
      ]
     },
     "execution_count": 274,
     "metadata": {},
     "output_type": "execute_result"
    }
   ],
   "source": [
    "ss_count_matrix[1:3]"
   ]
  },
  {
   "cell_type": "code",
   "execution_count": 253,
   "metadata": {},
   "outputs": [],
   "source": [
    "def test_matrices(dssp_file,profile_file, H_matrix, E_matrix, C_matrix, aa_freq_matrix, ss_count_matrix):\n",
    "    \n",
    "\n",
    "    #open the current dssp file and obtain the ss sequence\n",
    "    dssp_opened = open(dssp_file, \"r\")\n",
    "    for line in dssp_opened:\n",
    "        if line[0] == \">\":\n",
    "            continue\n",
    "        else:\n",
    "            dssp_seq = line.rstrip()\n",
    "\n",
    "\n",
    "    #load the current sequence profile and initiate the window matrix with padding before and after the profile\n",
    "    pad = (int(w)//2)\n",
    "    padding_matrix = np.zeros((pad, 20))\n",
    "    profile_matrix = np.loadtxt(profile_file, dtype= 'float64')\n",
    "    padded_profile = np.concatenate((padding_matrix,profile_matrix,padding_matrix), axis = 0 )\n",
    "    \n",
    "#iterate over the dssp sequence and add the current window matrix to the corresponding matrices \n",
    "#     c = -1\n",
    "    \n",
    "    for i in range(len(dssp_seq)):    # len dssp_seq == number of lines in profile_file!!!\n",
    "#         c += 1            # do I need to take his indexing? No better way to do this?\n",
    "        \n",
    "#         why does he divide by 100 at every step\n",
    "        window_matrix = np.divide(padded_profile[i:(i+(window)],100)\n",
    "        \n",
    "        ss = dssp_seq[i]           \n",
    "                   \n",
    "        if ss == \"H\":\n",
    "            np.add(H_matrix, window_matrix, out = H_matrix)\n",
    "            np.add(aa_freq_matrix, window_matrix, out = aa_freq_matrix)\n",
    "            ss_count_matrix[0][1] += 1\n",
    "            ss_count_matrix[3][1] += 1\n",
    "            \n",
    "        elif ss == \"E\":\n",
    "            np.add(E_matrix, window_matrix, out = E_matrix)\n",
    "            np.add(aa_freq_matrix, window_matrix, out = aa_freq_matrix)\n",
    "            ss_count_matrix[1][1] += 1\n",
    "            ss_count_matrix[3][1] += 1\n",
    "\n",
    "        elif ss == \"-\":\n",
    "            np.add(C_matrix, window_matrix, out = C_matrix)\n",
    "            np.add(aa_freq_matrix, window_matrix, out = aa_freq_matrix)\n",
    "            ss_count_matrix[2][1] += 1\n",
    "            ss_count_matrix[3][1] += 1\n",
    "            \n",
    "        print(\"**\")\n",
    "        print(\"Here C\", c, \"Here window matrix\", window_matrix)\n",
    "\n",
    "    return()"
   ]
  },
  {
   "cell_type": "code",
   "execution_count": 228,
   "metadata": {},
   "outputs": [
    {
     "data": {
      "text/plain": [
       "'/Users/ila/01-Unibo/02_Lab2/files_lab2_project/documentation_notebooks/GOR'"
      ]
     },
     "execution_count": 228,
     "metadata": {},
     "output_type": "execute_result"
    }
   ],
   "source": [
    "pwd"
   ]
  },
  {
   "cell_type": "code",
   "execution_count": 255,
   "metadata": {},
   "outputs": [
    {
     "data": {
      "text/plain": [
       "array([0, 1, 2, 3, 4])"
      ]
     },
     "execution_count": 255,
     "metadata": {},
     "output_type": "execute_result"
    }
   ],
   "source": [
    "x = np.arange(5)\n",
    "\n",
    "x"
   ]
  },
  {
   "cell_type": "code",
   "execution_count": 256,
   "metadata": {},
   "outputs": [
    {
     "data": {
      "text/plain": [
       "array([0.  , 0.25, 0.5 , 0.75, 1.  ])"
      ]
     },
     "execution_count": 256,
     "metadata": {},
     "output_type": "execute_result"
    }
   ],
   "source": [
    "np.true_divide(x, 4)\n"
   ]
  },
  {
   "cell_type": "code",
   "execution_count": 278,
   "metadata": {},
   "outputs": [
    {
     "name": "stdout",
     "output_type": "stream",
     "text": [
      "C\n",
      "E\n",
      "E\n",
      "E\n",
      "C\n",
      "H\n",
      "H\n",
      "H\n",
      "H\n"
     ]
    }
   ],
   "source": [
    "st='CEEECHHHH'\n",
    "for i in st:\n",
    "    print(i)"
   ]
  },
  {
   "cell_type": "code",
   "execution_count": 282,
   "metadata": {},
   "outputs": [
    {
     "data": {
      "text/plain": [
       "list"
      ]
     },
     "execution_count": 282,
     "metadata": {},
     "output_type": "execute_result"
    }
   ],
   "source": [
    "li = list(st)\n",
    "type(li)"
   ]
  },
  {
   "cell_type": "code",
   "execution_count": 279,
   "metadata": {},
   "outputs": [
    {
     "data": {
      "text/plain": [
       "0"
      ]
     },
     "execution_count": 279,
     "metadata": {},
     "output_type": "execute_result"
    }
   ],
   "source": [
    "'C'.count(st)"
   ]
  },
  {
   "cell_type": "code",
   "execution_count": 285,
   "metadata": {},
   "outputs": [],
   "source": [
    "from collections import Counter\n",
    "cnt = Counter(li)"
   ]
  },
  {
   "cell_type": "code",
   "execution_count": 286,
   "metadata": {},
   "outputs": [],
   "source": [
    "common = cnt.most_common()"
   ]
  },
  {
   "cell_type": "code",
   "execution_count": 287,
   "metadata": {},
   "outputs": [
    {
     "data": {
      "text/plain": [
       "[('H', 4), ('E', 3), ('C', 2)]"
      ]
     },
     "execution_count": 287,
     "metadata": {},
     "output_type": "execute_result"
    }
   ],
   "source": [
    "common"
   ]
  },
  {
   "cell_type": "code",
   "execution_count": 288,
   "metadata": {},
   "outputs": [
    {
     "data": {
      "text/plain": [
       "array([[0, 1, 1],\n",
       "       [1, 2, 2],\n",
       "       [2, 3, 3]])"
      ]
     },
     "execution_count": 288,
     "metadata": {},
     "output_type": "execute_result"
    }
   ],
   "source": [
    "my_arr = np.asarray([[0,1,1],[1,2,2],[2,3,3]])\n",
    "my_arr"
   ]
  },
  {
   "cell_type": "code",
   "execution_count": 289,
   "metadata": {},
   "outputs": [
    {
     "name": "stdout",
     "output_type": "stream",
     "text": [
      "[3 6 6]\n"
     ]
    }
   ],
   "source": [
    "print(np.sum(my_arr, axis=0))"
   ]
  },
  {
   "cell_type": "code",
   "execution_count": 290,
   "metadata": {},
   "outputs": [
    {
     "name": "stdout",
     "output_type": "stream",
     "text": [
      "[2 5 8]\n"
     ]
    }
   ],
   "source": [
    "print(np.sum(my_arr, axis=1))"
   ]
  },
  {
   "cell_type": "code",
   "execution_count": 296,
   "metadata": {},
   "outputs": [
    {
     "name": "stdout",
     "output_type": "stream",
     "text": [
      "[1.   1.   1.   1.   1.   1.   1.   1.   1.   1.   1.   1.   1.   1.\n",
      " 1.   1.   1.   1.   1.   1.   1.   1.   1.   1.   0.99 1.   1.   1.\n",
      " 1.   1.   1.   1.   1.   1.   1.   1.   1.   1.   1.   1.   1.   1.\n",
      " 1.01 1.   1.   1.   1.   1.   1.   1.   1.   1.   1.   1.   1.   1.\n",
      " 1.   1.   1.   1.   1.   1.   1.   1.   1.   1.   1.   1.   1.   1.\n",
      " 1.   1.   1.   1.   1.   1.   1.   1.   1.   1.   1.   1.   1.   1.\n",
      " 1.   1.   1.   1.   1.   1.   1.   1.   1.   1.   1.   1.   1.   1.\n",
      " 1.   1.   1.   1.   1.   1.   1.   1.   1.   1.   1.  ]\n"
     ]
    }
   ],
   "source": [
    "# with open(\"/Users/ila/01-Unibo/02_Lab2/files_lab2_project/all_data/blindset/seqprofile_blind/4ywn.profile\") as profile:\n",
    "profile1 = np.loadtxt('/Users/ila/01-Unibo/02_Lab2/files_lab2_project/all_data/trainingset/seqprofile_training/d1dcea2.profile', dtype=np.float64)    \n",
    "print(np.sum(profile1, axis=1))"
   ]
  },
  {
   "cell_type": "code",
   "execution_count": 305,
   "metadata": {},
   "outputs": [
    {
     "data": {
      "text/html": [
       "<div>\n",
       "<style scoped>\n",
       "    .dataframe tbody tr th:only-of-type {\n",
       "        vertical-align: middle;\n",
       "    }\n",
       "\n",
       "    .dataframe tbody tr th {\n",
       "        vertical-align: top;\n",
       "    }\n",
       "\n",
       "    .dataframe thead th {\n",
       "        text-align: right;\n",
       "    }\n",
       "</style>\n",
       "<table border=\"1\" class=\"dataframe\">\n",
       "  <thead>\n",
       "    <tr style=\"text-align: right;\">\n",
       "      <th></th>\n",
       "      <th>0</th>\n",
       "      <th>1</th>\n",
       "      <th>2</th>\n",
       "      <th>3</th>\n",
       "      <th>4</th>\n",
       "      <th>5</th>\n",
       "      <th>6</th>\n",
       "      <th>7</th>\n",
       "      <th>8</th>\n",
       "      <th>9</th>\n",
       "      <th>10</th>\n",
       "      <th>11</th>\n",
       "      <th>12</th>\n",
       "      <th>13</th>\n",
       "      <th>14</th>\n",
       "      <th>15</th>\n",
       "      <th>16</th>\n",
       "      <th>17</th>\n",
       "      <th>18</th>\n",
       "      <th>19</th>\n",
       "    </tr>\n",
       "  </thead>\n",
       "  <tbody>\n",
       "    <tr>\n",
       "      <th>0</th>\n",
       "      <td>0.0</td>\n",
       "      <td>0.0</td>\n",
       "      <td>0.0</td>\n",
       "      <td>0.0</td>\n",
       "      <td>0.0</td>\n",
       "      <td>0.0</td>\n",
       "      <td>0.0</td>\n",
       "      <td>0.0</td>\n",
       "      <td>0.0</td>\n",
       "      <td>0.0</td>\n",
       "      <td>0.0</td>\n",
       "      <td>0.0</td>\n",
       "      <td>0.0</td>\n",
       "      <td>0.0</td>\n",
       "      <td>0.0</td>\n",
       "      <td>0.0</td>\n",
       "      <td>0.0</td>\n",
       "      <td>0.0</td>\n",
       "      <td>0.0</td>\n",
       "      <td>0.0</td>\n",
       "    </tr>\n",
       "    <tr>\n",
       "      <th>1</th>\n",
       "      <td>0.0</td>\n",
       "      <td>0.0</td>\n",
       "      <td>0.0</td>\n",
       "      <td>0.0</td>\n",
       "      <td>0.0</td>\n",
       "      <td>0.0</td>\n",
       "      <td>0.0</td>\n",
       "      <td>0.0</td>\n",
       "      <td>0.0</td>\n",
       "      <td>0.0</td>\n",
       "      <td>0.0</td>\n",
       "      <td>0.0</td>\n",
       "      <td>0.0</td>\n",
       "      <td>0.0</td>\n",
       "      <td>0.0</td>\n",
       "      <td>0.0</td>\n",
       "      <td>0.0</td>\n",
       "      <td>0.0</td>\n",
       "      <td>0.0</td>\n",
       "      <td>0.0</td>\n",
       "    </tr>\n",
       "    <tr>\n",
       "      <th>2</th>\n",
       "      <td>0.0</td>\n",
       "      <td>0.0</td>\n",
       "      <td>0.0</td>\n",
       "      <td>0.0</td>\n",
       "      <td>0.0</td>\n",
       "      <td>0.0</td>\n",
       "      <td>0.0</td>\n",
       "      <td>0.0</td>\n",
       "      <td>0.0</td>\n",
       "      <td>0.0</td>\n",
       "      <td>0.0</td>\n",
       "      <td>0.0</td>\n",
       "      <td>0.0</td>\n",
       "      <td>0.0</td>\n",
       "      <td>0.0</td>\n",
       "      <td>0.0</td>\n",
       "      <td>0.0</td>\n",
       "      <td>0.0</td>\n",
       "      <td>0.0</td>\n",
       "      <td>0.0</td>\n",
       "    </tr>\n",
       "  </tbody>\n",
       "</table>\n",
       "</div>"
      ],
      "text/plain": [
       "     0    1    2    3    4    5    6    7    8    9   10   11   12   13   14  \\\n",
       "0  0.0  0.0  0.0  0.0  0.0  0.0  0.0  0.0  0.0  0.0  0.0  0.0  0.0  0.0  0.0   \n",
       "1  0.0  0.0  0.0  0.0  0.0  0.0  0.0  0.0  0.0  0.0  0.0  0.0  0.0  0.0  0.0   \n",
       "2  0.0  0.0  0.0  0.0  0.0  0.0  0.0  0.0  0.0  0.0  0.0  0.0  0.0  0.0  0.0   \n",
       "\n",
       "    15   16   17   18   19  \n",
       "0  0.0  0.0  0.0  0.0  0.0  \n",
       "1  0.0  0.0  0.0  0.0  0.0  \n",
       "2  0.0  0.0  0.0  0.0  0.0  "
      ]
     },
     "execution_count": 305,
     "metadata": {},
     "output_type": "execute_result"
    }
   ],
   "source": [
    "import pandas as pd\n",
    "\n",
    "\n",
    "total_R = np.zeros((3, 20))\n",
    "total_Rdf = pd.DataFrame(data = total_R) # index=row_names\n",
    "total_Rdf"
   ]
  },
  {
   "cell_type": "code",
   "execution_count": null,
   "metadata": {},
   "outputs": [],
   "source": [
    "cur_window_arr = np.ones((3,20))\n",
    "cur_window_arr"
   ]
  },
  {
   "cell_type": "code",
   "execution_count": 303,
   "metadata": {},
   "outputs": [
    {
     "data": {
      "text/plain": [
       "(3, 20)"
      ]
     },
     "execution_count": 303,
     "metadata": {},
     "output_type": "execute_result"
    }
   ],
   "source": [
    "total_R.shape"
   ]
  },
  {
   "cell_type": "code",
   "execution_count": 309,
   "metadata": {},
   "outputs": [
    {
     "data": {
      "text/html": [
       "<div>\n",
       "<style scoped>\n",
       "    .dataframe tbody tr th:only-of-type {\n",
       "        vertical-align: middle;\n",
       "    }\n",
       "\n",
       "    .dataframe tbody tr th {\n",
       "        vertical-align: top;\n",
       "    }\n",
       "\n",
       "    .dataframe thead th {\n",
       "        text-align: right;\n",
       "    }\n",
       "</style>\n",
       "<table border=\"1\" class=\"dataframe\">\n",
       "  <thead>\n",
       "    <tr style=\"text-align: right;\">\n",
       "      <th></th>\n",
       "      <th>0</th>\n",
       "      <th>1</th>\n",
       "      <th>2</th>\n",
       "      <th>3</th>\n",
       "      <th>4</th>\n",
       "      <th>5</th>\n",
       "      <th>6</th>\n",
       "      <th>7</th>\n",
       "      <th>8</th>\n",
       "      <th>9</th>\n",
       "      <th>10</th>\n",
       "      <th>11</th>\n",
       "      <th>12</th>\n",
       "      <th>13</th>\n",
       "      <th>14</th>\n",
       "      <th>15</th>\n",
       "      <th>16</th>\n",
       "      <th>17</th>\n",
       "      <th>18</th>\n",
       "      <th>19</th>\n",
       "    </tr>\n",
       "  </thead>\n",
       "  <tbody>\n",
       "    <tr>\n",
       "      <th>0</th>\n",
       "      <td>4.0</td>\n",
       "      <td>4.0</td>\n",
       "      <td>4.0</td>\n",
       "      <td>4.0</td>\n",
       "      <td>4.0</td>\n",
       "      <td>4.0</td>\n",
       "      <td>4.0</td>\n",
       "      <td>4.0</td>\n",
       "      <td>4.0</td>\n",
       "      <td>4.0</td>\n",
       "      <td>4.0</td>\n",
       "      <td>4.0</td>\n",
       "      <td>4.0</td>\n",
       "      <td>4.0</td>\n",
       "      <td>4.0</td>\n",
       "      <td>4.0</td>\n",
       "      <td>4.0</td>\n",
       "      <td>4.0</td>\n",
       "      <td>4.0</td>\n",
       "      <td>4.0</td>\n",
       "    </tr>\n",
       "    <tr>\n",
       "      <th>1</th>\n",
       "      <td>4.0</td>\n",
       "      <td>4.0</td>\n",
       "      <td>4.0</td>\n",
       "      <td>4.0</td>\n",
       "      <td>4.0</td>\n",
       "      <td>4.0</td>\n",
       "      <td>4.0</td>\n",
       "      <td>4.0</td>\n",
       "      <td>4.0</td>\n",
       "      <td>4.0</td>\n",
       "      <td>4.0</td>\n",
       "      <td>4.0</td>\n",
       "      <td>4.0</td>\n",
       "      <td>4.0</td>\n",
       "      <td>4.0</td>\n",
       "      <td>4.0</td>\n",
       "      <td>4.0</td>\n",
       "      <td>4.0</td>\n",
       "      <td>4.0</td>\n",
       "      <td>4.0</td>\n",
       "    </tr>\n",
       "    <tr>\n",
       "      <th>2</th>\n",
       "      <td>4.0</td>\n",
       "      <td>4.0</td>\n",
       "      <td>4.0</td>\n",
       "      <td>4.0</td>\n",
       "      <td>4.0</td>\n",
       "      <td>4.0</td>\n",
       "      <td>4.0</td>\n",
       "      <td>4.0</td>\n",
       "      <td>4.0</td>\n",
       "      <td>4.0</td>\n",
       "      <td>4.0</td>\n",
       "      <td>4.0</td>\n",
       "      <td>4.0</td>\n",
       "      <td>4.0</td>\n",
       "      <td>4.0</td>\n",
       "      <td>4.0</td>\n",
       "      <td>4.0</td>\n",
       "      <td>4.0</td>\n",
       "      <td>4.0</td>\n",
       "      <td>4.0</td>\n",
       "    </tr>\n",
       "  </tbody>\n",
       "</table>\n",
       "</div>"
      ],
      "text/plain": [
       "     0    1    2    3    4    5    6    7    8    9   10   11   12   13   14  \\\n",
       "0  4.0  4.0  4.0  4.0  4.0  4.0  4.0  4.0  4.0  4.0  4.0  4.0  4.0  4.0  4.0   \n",
       "1  4.0  4.0  4.0  4.0  4.0  4.0  4.0  4.0  4.0  4.0  4.0  4.0  4.0  4.0  4.0   \n",
       "2  4.0  4.0  4.0  4.0  4.0  4.0  4.0  4.0  4.0  4.0  4.0  4.0  4.0  4.0  4.0   \n",
       "\n",
       "    15   16   17   18   19  \n",
       "0  4.0  4.0  4.0  4.0  4.0  \n",
       "1  4.0  4.0  4.0  4.0  4.0  \n",
       "2  4.0  4.0  4.0  4.0  4.0  "
      ]
     },
     "execution_count": 309,
     "metadata": {},
     "output_type": "execute_result"
    }
   ],
   "source": [
    "total_Rdf += cur_window_arr \n",
    "total_Rdf"
   ]
  },
  {
   "cell_type": "markdown",
   "metadata": {},
   "source": [
    "### Running on test set"
   ]
  },
  {
   "cell_type": "code",
   "execution_count": 323,
   "metadata": {},
   "outputs": [
    {
     "name": "stdout",
     "output_type": "stream",
     "text": [
      "\n",
      "\n",
      "R_H\n",
      "           A         R         N         D         C         Q         E         G         H         I         L         K         M         F         P         S         T         W         Y         V\n",
      "0   0.039188  0.015568  0.018886  0.021369  0.004664  0.012274  0.027703  0.031624  0.007053  0.024153  0.037517  0.017981  0.007355  0.013387  0.019722  0.026195  0.022761  0.001810  0.012575  0.027030\n",
      "1   0.039258  0.016148  0.018144  0.023968  0.003503  0.013573  0.030534  0.033782  0.008747  0.020812  0.037425  0.021044  0.006450  0.010951  0.019490  0.026079  0.022274  0.001879  0.012413  0.024501\n",
      "2   0.040371  0.015429  0.018028  0.023480  0.003689  0.014362  0.031137  0.029582  0.009234  0.020162  0.039466  0.021601  0.007053  0.012042  0.017216  0.025476  0.023852  0.002088  0.014988  0.023968\n",
      "3   0.039095  0.016729  0.018770  0.024107  0.003364  0.014617  0.030580  0.026729  0.009350  0.022761  0.040325  0.020603  0.008283  0.014292  0.015406  0.025824  0.025592  0.002135  0.013457  0.023689\n",
      "4   0.041114  0.017773  0.018260  0.023225  0.003457  0.015568  0.031763  0.024037  0.009072  0.022668  0.038863  0.021253  0.008028  0.013759  0.016265  0.026752  0.026613  0.002019  0.012019  0.023109\n",
      "5   0.040255  0.018469  0.017193  0.021508  0.002923  0.015731  0.033805  0.019072  0.009977  0.024269  0.039374  0.023202  0.008469  0.014803  0.016937  0.024756  0.023573  0.002854  0.013318  0.025035\n",
      "6   0.043805  0.020232  0.015104  0.018167  0.002970  0.016148  0.032947  0.018794  0.010232  0.025545  0.044246  0.022599  0.009536  0.015476  0.016056  0.022970  0.020534  0.003132  0.011601  0.025197\n",
      "7   0.047610  0.023155  0.012947  0.019211  0.003318  0.016172  0.035220  0.013875  0.009930  0.023573  0.041903  0.024339  0.008863  0.016311  0.015151  0.023666  0.020742  0.003225  0.011253  0.024896\n",
      "8   0.050905  0.023875  0.012529  0.015128  0.003550  0.016427  0.034478  0.013016  0.010719  0.024130  0.044362  0.025870  0.009745  0.016613  0.014640  0.019884  0.019907  0.002993  0.011230  0.025568\n",
      "9   0.051230  0.024153  0.013179  0.016102  0.003805  0.015916  0.035661  0.017796  0.010070  0.024060  0.045592  0.026752  0.010858  0.014130  0.010673  0.019559  0.018121  0.002251  0.010116  0.025336\n",
      "10  0.049490  0.023039  0.014640  0.014780  0.004014  0.015800  0.031044  0.026357  0.010093  0.024339  0.043944  0.026775  0.010928  0.013852  0.009954  0.019536  0.018469  0.002459  0.010232  0.025592\n",
      "11  0.048237  0.021879  0.016357  0.017169  0.004501  0.014548  0.025708  0.025383  0.010464  0.026937  0.045197  0.026473  0.010696  0.016102  0.011369  0.017703  0.016334  0.002483  0.010418  0.027378\n",
      "12  0.044640  0.021555  0.015267  0.020905  0.004107  0.014501  0.026984  0.029049  0.010255  0.026937  0.043341  0.026937  0.009652  0.016984  0.013527  0.017332  0.013921  0.002599  0.009838  0.027146\n",
      "13  0.046914  0.019513  0.014339  0.021160  0.004339  0.014362  0.029536  0.034408  0.009466  0.025081  0.041346  0.027146  0.008190  0.015916  0.015731  0.016821  0.013016  0.002529  0.009049  0.026752\n",
      "14  0.043944  0.017680  0.013527  0.019884  0.004385  0.011995  0.027239  0.033968  0.009350  0.030046  0.043828  0.024478  0.008910  0.016381  0.016566  0.016705  0.014130  0.002343  0.009768  0.030371\n",
      "15  0.044942  0.017262  0.012807  0.019211  0.005012  0.011578  0.027796  0.034176  0.007007  0.029188  0.040418  0.026682  0.008353  0.016241  0.015940  0.018353  0.014200  0.001995  0.009745  0.032343\n",
      "16  0.045081  0.018910  0.012483  0.019954  0.004780  0.011439  0.026520  0.030046  0.006566  0.027541  0.039861  0.026195  0.007749  0.014107  0.015592  0.019142  0.015058  0.002807  0.010835  0.036172\n",
      "\n",
      "\n",
      "R_E\n",
      "           A         R         N         D         C         Q         E         G         H         I         L         K         M         F         P         S         T         W         Y         V\n",
      "0   0.029559  0.011206  0.005638  0.014014  0.005568  0.008399  0.016543  0.015035  0.006914  0.015244  0.022227  0.009397  0.005336  0.007285  0.009977  0.014617  0.018677  0.002575  0.004965  0.022158\n",
      "1   0.031462  0.011090  0.005429  0.013341  0.005383  0.007587  0.014617  0.018886  0.006589  0.013063  0.023132  0.008492  0.004849  0.009977  0.013666  0.014640  0.015893  0.002135  0.004548  0.020371\n",
      "2   0.029768  0.011415  0.007309  0.012436  0.006195  0.006659  0.015429  0.021949  0.006265  0.011995  0.022413  0.008515  0.005592  0.010882  0.010742  0.014803  0.016636  0.000882  0.004060  0.021276\n",
      "3   0.030789  0.009211  0.008515  0.015058  0.005870  0.005916  0.014107  0.027657  0.006543  0.012158  0.020557  0.007378  0.003364  0.008631  0.014965  0.014965  0.014872  0.001439  0.003735  0.021810\n",
      "4   0.026497  0.008306  0.009722  0.014872  0.005661  0.005731  0.012483  0.032575  0.006427  0.014385  0.021160  0.006961  0.003666  0.009188  0.015731  0.012715  0.012413  0.001555  0.003643  0.026172\n",
      "5   0.025847  0.007007  0.009884  0.014548  0.006520  0.004246  0.009768  0.032320  0.005916  0.018701  0.020696  0.005452  0.003875  0.008979  0.015638  0.011972  0.014432  0.001717  0.003643  0.033503\n",
      "6   0.026148  0.006218  0.008005  0.011508  0.006845  0.004455  0.007749  0.026891  0.005452  0.021833  0.025754  0.004153  0.004501  0.009118  0.016566  0.013271  0.017819  0.002622  0.004269  0.036009\n",
      "7   0.024316  0.006589  0.007146  0.010928  0.006705  0.005476  0.008701  0.021392  0.005661  0.022367  0.027030  0.007053  0.004223  0.009884  0.015476  0.014269  0.016311  0.002993  0.007796  0.039698\n",
      "8   0.026845  0.005754  0.007610  0.007657  0.007077  0.005360  0.009234  0.020070  0.005360  0.025522  0.028445  0.005568  0.004571  0.010766  0.007865  0.016032  0.016125  0.003086  0.008399  0.042552\n",
      "9   0.026241  0.006265  0.008840  0.011949  0.007680  0.005661  0.010626  0.017123  0.003828  0.023619  0.028005  0.006705  0.004455  0.007517  0.008492  0.018422  0.017703  0.002251  0.008074  0.040371\n",
      "10  0.026195  0.007726  0.008817  0.013712  0.006775  0.006079  0.013318  0.022390  0.003828  0.018167  0.024594  0.006775  0.004014  0.008585  0.010023  0.019304  0.018005  0.001601  0.007285  0.034501\n",
      "11  0.026311  0.009977  0.009374  0.017123  0.006566  0.006172  0.014849  0.024826  0.005800  0.012947  0.017587  0.006868  0.002900  0.006357  0.012251  0.021160  0.022135  0.001323  0.005104  0.029930\n",
      "12  0.026821  0.010278  0.009629  0.017865  0.006265  0.006566  0.013735  0.024803  0.005522  0.009629  0.016311  0.007517  0.002947  0.005893  0.018213  0.019814  0.023944  0.001624  0.005406  0.024455\n",
      "13  0.026566  0.010209  0.010348  0.017865  0.003596  0.006566  0.013109  0.023457  0.006032  0.009559  0.019791  0.004826  0.003318  0.006334  0.017193  0.020905  0.025847  0.001624  0.006914  0.020719\n",
      "14  0.026868  0.008399  0.011578  0.015986  0.003132  0.006659  0.013295  0.021090  0.006798  0.009768  0.018097  0.005128  0.004084  0.007773  0.016636  0.020998  0.023411  0.002227  0.007819  0.022715\n",
      "15  0.023434  0.010278  0.011717  0.015615  0.002854  0.007100  0.013109  0.019513  0.007285  0.009698  0.020023  0.007123  0.005429  0.009513  0.013921  0.020000  0.020626  0.002459  0.008585  0.022111\n",
      "16  0.022042  0.010255  0.008608  0.015151  0.003016  0.006705  0.014084  0.019466  0.007610  0.010650  0.023735  0.006195  0.005731  0.010603  0.017703  0.017401  0.016404  0.002622  0.008770  0.021021\n",
      "\n",
      "\n",
      "R_C\n",
      "           A         R         N         D         C         Q         E         G         H         I         L         K         M         F         P         S         T         W         Y         V\n",
      "0   0.034640  0.014988  0.010882  0.013619  0.004153  0.007703  0.014037  0.029791  0.006497  0.020232  0.034478  0.014803  0.006798  0.014849  0.020673  0.016589  0.017355  0.002181  0.008840  0.032877\n",
      "1   0.032993  0.015174  0.012111  0.011763  0.005499  0.007564  0.014153  0.023828  0.005174  0.025963  0.034060  0.013063  0.008260  0.014594  0.017216  0.016868  0.020998  0.002552  0.009443  0.037401\n",
      "2   0.033875  0.015615  0.010487  0.013271  0.004501  0.007749  0.013852  0.025012  0.005128  0.027981  0.032784  0.012923  0.006914  0.012599  0.022459  0.017378  0.018677  0.003596  0.007355  0.038886\n",
      "3   0.034872  0.016589  0.008585  0.010255  0.005151  0.008422  0.016450  0.022158  0.004803  0.025220  0.034826  0.015197  0.007981  0.012599  0.020046  0.017100  0.018863  0.002993  0.009327  0.039420\n",
      "4   0.037773  0.016520  0.008121  0.011856  0.005336  0.007703  0.017262  0.021392  0.005244  0.023086  0.035684  0.015452  0.007935  0.012575  0.018561  0.018956  0.020302  0.002993  0.010858  0.035638\n",
      "5   0.039606  0.017123  0.009026  0.013898  0.005012  0.009026  0.017935  0.026705  0.004849  0.017981  0.037517  0.015012  0.007309  0.011995  0.017981  0.021694  0.021439  0.001995  0.009698  0.027378\n",
      "6   0.036102  0.016148  0.012993  0.020278  0.004640  0.008770  0.020905  0.032413  0.005360  0.013968  0.029374  0.017053  0.005615  0.011183  0.017935  0.022390  0.021763  0.000998  0.010789  0.024849\n",
      "7   0.034756  0.012854  0.016009  0.019814  0.004432  0.007842  0.017680  0.042831  0.005452  0.015615  0.030858  0.013852  0.006566  0.009582  0.020186  0.020696  0.023063  0.000534  0.007958  0.022668\n",
      "8   0.028933  0.012970  0.016241  0.029072  0.003828  0.007703  0.020371  0.045012  0.004965  0.011903  0.026984  0.013805  0.005336  0.008399  0.028306  0.022715  0.024084  0.000673  0.007378  0.019142\n",
      "9   0.029211  0.012181  0.014362  0.023805  0.002970  0.007912  0.017796  0.043179  0.007146  0.013295  0.025847  0.011787  0.004339  0.014130  0.029327  0.020650  0.024292  0.002251  0.008817  0.020186\n",
      "10  0.030858  0.011833  0.012923  0.022019  0.003666  0.007564  0.019490  0.027494  0.007123  0.018422  0.030905  0.011485  0.004710  0.013341  0.028283  0.019606  0.023295  0.002691  0.009490  0.025754\n",
      "11  0.031439  0.010557  0.010650  0.016218  0.003387  0.008561  0.023295  0.025963  0.004780  0.020278  0.035940  0.011253  0.006056  0.013318  0.024014  0.019350  0.021299  0.002947  0.011485  0.027703\n",
      "12  0.034153  0.010418  0.011485  0.011671  0.004084  0.007773  0.022970  0.022297  0.005267  0.022715  0.038422  0.010023  0.006775  0.012645  0.015893  0.020835  0.021508  0.002483  0.011462  0.033225\n",
      "13  0.031323  0.012483  0.011624  0.010905  0.006404  0.007889  0.020673  0.018213  0.005429  0.024617  0.036937  0.012506  0.007865  0.013271  0.014316  0.019930  0.019420  0.002483  0.010742  0.036659\n",
      "14  0.032065  0.016125  0.011206  0.014060  0.006821  0.010162  0.022784  0.021021  0.004710  0.019420  0.035522  0.014872  0.006381  0.010093  0.013712  0.019954  0.020742  0.002065  0.008886  0.030882\n",
      "15  0.034478  0.012993  0.011740  0.015035  0.006404  0.010116  0.022042  0.022390  0.006566  0.019977  0.035893  0.010580  0.005220  0.008469  0.017053  0.019281  0.023248  0.002181  0.008144  0.029350\n",
      "16  0.035545  0.011276  0.014988  0.014107  0.006473  0.010209  0.022042  0.026497  0.006682  0.020000  0.032529  0.011717  0.005476  0.009466  0.013527  0.020974  0.026520  0.001206  0.006868  0.025476\n",
      "\n",
      "\n",
      "Marginal probablilities of residues\n",
      "           A         R         N         D         C         Q         E         G         H         I         L         K         M         F         P         S         T         W         Y         V\n",
      "0   0.103387  0.041763  0.035406  0.049002  0.014385  0.028376  0.058283  0.076450  0.020464  0.059629  0.094223  0.042181  0.019490  0.035522  0.050371  0.057401  0.058794  0.006566  0.026381  0.082065\n",
      "1   0.103712  0.042413  0.035684  0.049072  0.014385  0.028724  0.059304  0.076497  0.020510  0.059838  0.094617  0.042599  0.019559  0.035522  0.050371  0.057587  0.059165  0.006566  0.026404  0.082274\n",
      "2   0.104014  0.042459  0.035824  0.049188  0.014385  0.028770  0.060418  0.076543  0.020626  0.060139  0.094664  0.043039  0.019559  0.035522  0.050418  0.057657  0.059165  0.006566  0.026404  0.084130\n",
      "3   0.104756  0.042529  0.035870  0.049420  0.014385  0.028956  0.061137  0.076543  0.020696  0.060139  0.095708  0.043179  0.019629  0.035522  0.050418  0.057889  0.059327  0.006566  0.026520  0.084919\n",
      "4   0.105383  0.042599  0.036102  0.049954  0.014455  0.029002  0.061508  0.078005  0.020742  0.060139  0.095708  0.043666  0.019629  0.035522  0.050557  0.058422  0.059327  0.006566  0.026520  0.084919\n",
      "5   0.105708  0.042599  0.036102  0.049954  0.014455  0.029002  0.061508  0.078097  0.020742  0.060951  0.097587  0.043666  0.019652  0.035777  0.050557  0.058422  0.059443  0.006566  0.026659  0.085916\n",
      "6   0.106056  0.042599  0.036102  0.049954  0.014455  0.029374  0.061601  0.078097  0.021044  0.061346  0.099374  0.043805  0.019652  0.035777  0.050557  0.058631  0.060116  0.006752  0.026659  0.086056\n",
      "7   0.106682  0.042599  0.036102  0.049954  0.014455  0.029490  0.061601  0.078097  0.021044  0.061555  0.099791  0.045244  0.019652  0.035777  0.050812  0.058631  0.060116  0.006752  0.027007  0.087262\n",
      "8   0.106682  0.042599  0.036381  0.051856  0.014455  0.029490  0.064084  0.078097  0.021044  0.061555  0.099791  0.045244  0.019652  0.035777  0.050812  0.058631  0.060116  0.006752  0.027007  0.087262\n",
      "9   0.106682  0.042599  0.036381  0.051856  0.014455  0.029490  0.064084  0.078097  0.021044  0.060974  0.099443  0.045244  0.019652  0.035777  0.048492  0.058631  0.060116  0.006752  0.027007  0.085893\n",
      "10  0.106543  0.042599  0.036381  0.050510  0.014455  0.029443  0.063852  0.076241  0.021044  0.060928  0.099443  0.045035  0.019652  0.035777  0.048260  0.058445  0.059768  0.006752  0.027007  0.085847\n",
      "11  0.105986  0.042413  0.036381  0.050510  0.014455  0.029281  0.063852  0.076172  0.021044  0.060162  0.098724  0.044594  0.019652  0.035777  0.047633  0.058213  0.059768  0.006752  0.027007  0.085012\n",
      "12  0.105615  0.042251  0.036381  0.050441  0.014455  0.028840  0.063689  0.076148  0.021044  0.059281  0.098074  0.044478  0.019374  0.035522  0.047633  0.057981  0.059374  0.006705  0.026705  0.084826\n",
      "13  0.104803  0.042204  0.036311  0.049930  0.014339  0.028817  0.063318  0.076079  0.020928  0.059258  0.098074  0.044478  0.019374  0.035522  0.047239  0.057657  0.058283  0.006636  0.026705  0.084130\n",
      "14  0.102877  0.042204  0.036311  0.049930  0.014339  0.028817  0.063318  0.076079  0.020858  0.059234  0.097448  0.044478  0.019374  0.034246  0.046914  0.057657  0.058283  0.006636  0.026473  0.083968\n",
      "15  0.102854  0.040534  0.036265  0.049861  0.014269  0.028794  0.062947  0.076079  0.020858  0.058863  0.096334  0.044385  0.019002  0.034223  0.046914  0.057633  0.058074  0.006636  0.026473  0.083805\n",
      "16  0.102668  0.040441  0.036079  0.049211  0.014269  0.028353  0.062645  0.076009  0.020858  0.058190  0.096125  0.044107  0.018956  0.034176  0.046821  0.057517  0.057981  0.006636  0.026473  0.082668\n",
      "\n",
      "\n",
      "Marginal probability of conformations\n",
      "           H         E         C  tot\n",
      "#S  0.396752  0.264501  0.338747  1.0\n",
      "\n",
      "\n"
     ]
    }
   ],
   "source": [
    "\n",
    "!/Users/ila/01-Unibo/02_Lab2/files_lab2_project/scripts/gor_training.py -p=\"/Users/ila/01-Unibo/02_Lab2/files_lab2_project/all_data/test_data/profiles\" -s\"/Users/ila/01-Unibo/02_Lab2/files_lab2_project/all_data/test_data/dssp\" -w=17\n"
   ]
  },
  {
   "cell_type": "markdown",
   "metadata": {},
   "source": [
    "# Running on *Training Set*"
   ]
  },
  {
   "cell_type": "code",
   "execution_count": null,
   "metadata": {},
   "outputs": [],
   "source": [
    "\n",
    "!/Users/ila/01-Unibo/02_Lab2/files_lab2_project/scripts/gor_training.py -p=\"/Users/ila/01-Unibo/02_Lab2/files_lab2_project/all_data/trainingset//profiles\" -s\"/Users/ila/01-Unibo/02_Lab2/files_lab2_project/all_data/test_data/dssp\" -w=17\n"
   ]
  }
 ],
 "metadata": {
  "kernelspec": {
   "display_name": "Python 3",
   "language": "python",
   "name": "python3"
  },
  "language_info": {
   "codemirror_mode": {
    "name": "ipython",
    "version": 3
   },
   "file_extension": ".py",
   "mimetype": "text/x-python",
   "name": "python",
   "nbconvert_exporter": "python",
   "pygments_lexer": "ipython3",
   "version": "3.7.2"
  }
 },
 "nbformat": 4,
 "nbformat_minor": 4
}
