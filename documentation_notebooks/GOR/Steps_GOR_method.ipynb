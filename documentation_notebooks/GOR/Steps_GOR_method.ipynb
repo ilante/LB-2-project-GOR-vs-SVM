{
 "cells": [
  {
   "cell_type": "markdown",
   "metadata": {},
   "source": [
    "%%markdown\n",
    "# [1. Implementation of the GOR Method](#Implementation-of-GOR)\n",
    "\n",
    "## [2. GOR Training](#GOR-training)\n",
    "\n",
    "Training set:\n",
    "* Set of proteins with known structure\n",
    "* For each id we have:\n",
    "    * One file containing the primary sequence\n",
    "    * One file containing the secondary structure\n",
    "  \n",
    "![](imgs/1.png)\n",
    "\n",
    "Need to count:\n",
    "* Number of times we observe residue R in conformation S divided by N, the total number of residues &rarr; P(R,S) ~ f(R,S) = (# R,S)/N \n",
    "* Number of times we observe residue R divided by the total N of residues &rarr; marginal probability of residue R\n",
    "* Number of occurrence of the conformation S divided by the total N of residues. &rarr; marginal probability of observing S\n",
    "\n",
    "Observed frequencies in the training set (TS) are used for **estimating**/approximating these probabilities.\n",
    "\n",
    "Example &rarr; training set containing just 2 sequences (for simplicity). \n",
    "\n",
    "![](imgs/2.png)\n",
    "\n",
    "Defining a table to store counts\n",
    "* Rows: counts corresponding to joint frequency of R and given SS:\n",
    "    * \\#R, H\n",
    "    * \\#R, E\n",
    "    * \\#R, C\n",
    "* \\# R &rarr; overall frequency of residue type R\t\t\n",
    "\n",
    "![](imgs/3.png)\n",
    "\n",
    "Defining a small table that stores the frequencies of helix (H), strand (E) and coil (C).\n",
    "![](imgs/4.png)\n",
    "\n",
    "* Each matrix is initialized with zeroes\n",
    "* Scanning each position &rarr; starting from index 0:\n",
    "    * reading R and S &rarr; updating the field Pij according to the values.\n",
    "    \n",
    "In our example the window size is just 1!\n",
    "![](imgs/5.png)\n",
    "\n",
    "* We scan each sequence updating the values in the column\n",
    "    * updating the counts of \n",
    "        * \\#R, H\n",
    "        * \\#R, E\n",
    "        * \\#R, C\n",
    "        \n",
    "and the counts of total H, E and C in the smaller table.\n",
    "\n",
    "* For transforming the above **frequencies** into **probabilities**\n",
    "    * **Devide** each number (counts) by the total lenght of all sequences used in the training\n",
    "    \n",
    "&rarr; in our case we divide by 78:"
   ]
  },
  {
   "cell_type": "code",
   "execution_count": 26,
   "metadata": {},
   "outputs": [
    {
     "data": {
      "text/plain": [
       "78"
      ]
     },
     "execution_count": 26,
     "metadata": {},
     "output_type": "execute_result"
    }
   ],
   "source": [
    "sequence_1 = 'EYFTLQIRGRERFEMFRELNEALELKDAQAG'\n",
    "ss_1 = 'CCCCCCCCCHHHHHHHHHHHHHHHHHHHHCC'\n",
    "\n",
    "sequence_2 = 'KTCENLADTFRGPCFTDGSCDDHCKNKEHLIKGRCRDDFRCWCTRNC'\n",
    "ss_2 = 'CEEEEECCCCCCCCCCHHHHHHHHHHCCCCCEEEECCCCCEEEEEEC'\n",
    "\n",
    "len(sequence_1+sequence_2)"
   ]
  },
  {
   "cell_type": "markdown",
   "metadata": {},
   "source": [
    "![](imgs/6.png)\n",
    "\n",
    "## [3. GOR Prediction](#GOR-prediction)\n",
    "\n",
    "* GOR model is used for predicting SS on unseen protein sequences\n",
    "* Each residue positon of a query sequence is analyzed\n",
    "* The highest value of \n",
    "    * The function $S^* = argmax_S I(S;R)$ finds the highest scoring predicted conformation \"$S^*$\" of the residue R\n",
    "        * The conformation $S^*$ which maximizes log ratio of the information function $I$ is our predicted conformation\n",
    "        \n",
    "![](imgs/7.png)       \n",
    "\n",
    "\n",
    "Given any sequence:\n",
    "\n",
    "* >NewSequence\n",
    "* GLKRR\n",
    "\n",
    "* Each residue R is located in the table\n",
    "    * the probabilities for\n",
    "        * \\#R, H\n",
    "        * \\#R, E\n",
    "        * \\#R, C\n",
    "* Are extracted and used in the function $I$\n",
    "* The conformation with the highest value is our predicted conformation $S^*$\n",
    "\n",
    "* Here an example of residue NewSequence[0] = G:\n",
    "\n",
    "\n",
    "\n",
    "![](imgs/8.png)\n",
    "\n",
    "![](imgs/9.png)\n",
    "\n",
    "The maximum is C thus it is predicted that residue G has the conformation C.\n",
    "\n",
    "## [4. Using Windows of Flanking Residues](#Windows) \n",
    "\n",
    "* We extend the information function over a 'window' of residues\n",
    "* Symmetric windows are centered at a given residue position\n",
    "* Central residue is indexed as $R_0$ which is assigend the conformation $S^*$\n",
    "    * Residues to the left of $R_0$ hold negative indeces up to $-d$\n",
    "    * Residues to the right of $R_0$ hold positive indeces up to $d$\n",
    "    \n",
    "* The information function is updated as follows:\n",
    "![](imgs/10.png)\n",
    "\n",
    "[p1 45:00]\n",
    "\n",
    "* The fromula requires us to solve terms involving w residues:\n",
    "    * Exponential number of possible configurations &rarr; computationally to expensive \n",
    "        * we have 20^w possibilities!!!\n",
    "    * Need for very large DB to estimate reliable distributions\n",
    "* Simplification;\n",
    "    * **Assumption of statistical independence**: Makes assumption about the contribution of the sequence context to the central residue conformation.\n",
    "    * Residues $R_-d, ... , R_d$ are treated to be statistically independent\n",
    "    \n",
    "![](imgs/11.png)\n",
    "\n",
    "## [5. Windows Based GOR](#sliding-window) \n",
    "\n",
    "* That way we can factorize the joint probability of the full context into the product of marginal probability of residues in the context.\n",
    "* Joint probability == all the marginal probabilities\n",
    "\n",
    "&rarr; Keep in mind that residues are NOT independent along the sequence. \n",
    "\n",
    "* By using the \n",
    "    * chainrule\n",
    "    * independence assumption \n",
    "    * and making the log of products which is the sum of the logs\n",
    "\n",
    "*$I$ can be rewritten as: \n",
    "\n",
    "![](imgs/12.png)\n",
    "\n",
    "* As shown in the last line above the joint probability can be writen as a sum of individual information funcitons\n",
    "* Taking the different residues in the window into consideration\n",
    "    * Resulting in individual contributions of each residue in the window to the calculation of the joint $I$ function\n",
    "    \n",
    "\n",
    "* What to do with the window falling out of the seuqence in the beginning and the end:\n",
    "    * Initialize scanning postion at an index for which the window is full e.g. window size 17 setting first $R_0$ on index 8 of the string of the sequence\n",
    "    * Adding zeros to undifined regions of **partial windows**\n",
    "        * First $R_0$ is on index 0\n",
    "        * You don't have any contribution from partial windows\n",
    "        \n",
    "* GOR is a linear model\n",
    "* The sliding window approach influences the accuracy of the prediction in a negative way\n",
    "    * The first few residues are affected more than residues in the middle of the sequence\n",
    "   \n",
    " \n",
    "### Now our Parameters are:\n",
    "* $P(R,S)$ the probability of observingg a conformation S"
   ]
  },
  {
   "cell_type": "markdown",
   "metadata": {},
   "source": [
    "### gor_train.py\n",
    "Training GRO model from user-defined training set and stores all trained parameters (=the GOR model) into an output file"
   ]
  },
  {
   "cell_type": "markdown",
   "metadata": {},
   "source": [
    "# 1. I need to make several matrices --> np.arrays\n",
    "\n",
    "\n",
    "first field f[0,0] \n",
    "should contain the index of the fileds\n",
    "\n",
    "1. First test on one sequence.\n",
    "1. Then testing on a simplified profile as input\n",
    "     * profile should have 5 sequences ---> lines\n",
    "     \n",
    "3. Remember that for coil:\n",
    "    * Training files contain '-' \n",
    "    * Blindset contains 'C'  \n",
    "        * Make an if.\n"
   ]
  },
  {
   "cell_type": "code",
   "execution_count": 142,
   "metadata": {},
   "outputs": [
    {
     "data": {
      "text/plain": [
       "array([[0., 0., 0., 0., 0., 0., 0., 0., 0., 0., 0., 0., 0., 0., 0., 0.,\n",
       "        0., 0., 0., 0.],\n",
       "       [0., 0., 0., 0., 0., 0., 0., 0., 0., 0., 0., 0., 0., 0., 0., 0.,\n",
       "        0., 0., 0., 0.],\n",
       "       [0., 0., 0., 0., 0., 0., 0., 0., 0., 0., 0., 0., 0., 0., 0., 0.,\n",
       "        0., 0., 0., 0.]])"
      ]
     },
     "execution_count": 142,
     "metadata": {},
     "output_type": "execute_result"
    }
   ],
   "source": [
    "import sys\n",
    "import os\n",
    "import pandas as pd\n",
    "import numpy as np\n",
    "import argparse\n",
    "\n",
    "win_size = 3 # has to be an odd number pass through argparse later\n",
    "num_rows = win_size*4 #adapts to desired window size\n",
    "\n",
    "# R_tot\n",
    "# SS_tot\n",
    "\n",
    "def make_frequency_array(win_size):\n",
    "    '''\n",
    "    Takes window size and the name of the array as arguments.\n",
    "    Makes an array that has as many lines as the win_size and \n",
    "    the number of columns is defined by the number of naturally \n",
    "    occurring aa in eukaryotes. Returns the array.\n",
    "    '''\n",
    "    array = np.zeros((win_size, 20) )#, dtype= 'float64')\n",
    "    return array\n",
    "\n",
    "# for el in ['R_C', 'R_E', 'R_C']:\n",
    "#     el = make_frequency_array(win_size)\n",
    "    \n",
    "R_H = make_frequency_array(win_size)           # generating arrays holding the counts of residue in conformation X --> R_X\n",
    "R_E = make_frequency_array(win_size)\n",
    "R_C = make_frequency_array(win_size)\n",
    "R_count = make_frequency_array(win_size)       # generating array holding the total residue count\n",
    "SS_count = make_frequency_array(win_size)      # generating array holding the total secondary structure count\n",
    "\n",
    "\n",
    "# ---> at some point: transform 'counts'   into **probabilities** by dividing by total number of residues\n",
    "# Which is the number of lines of the sequ pro_file.\n",
    "# profile_matrix = np.loadtxt(\"/Users/ila/Downloads/test.txt\")\n",
    "# print(profile_matrix)\n",
    "R_H"
   ]
  },
  {
   "cell_type": "code",
   "execution_count": 139,
   "metadata": {},
   "outputs": [
    {
     "name": "stdout",
     "output_type": "stream",
     "text": [
      "     A    R    N    D    C    Q    E    G    H    I    L    K    M    F    P  \\\n",
      "0  0.0  0.0  0.0  0.0  0.0  0.0  0.0  0.0  0.0  0.0  0.0  0.0  0.0  0.0  0.0   \n",
      "1  0.0  0.0  0.0  0.0  0.0  0.0  0.0  0.0  0.0  0.0  0.0  0.0  0.0  0.0  0.0   \n",
      "2  0.0  0.0  0.0  0.0  0.0  0.0  0.0  0.0  0.0  0.0  0.0  0.0  0.0  0.0  0.0   \n",
      "\n",
      "     S    T    W    Y    V  \n",
      "0  0.0  0.0  0.0  0.0  0.0  \n",
      "1  0.0  0.0  0.0  0.0  0.0  \n",
      "2  0.0  0.0  0.0  0.0  0.0  \n"
     ]
    }
   ],
   "source": [
    "# ss_array = np.zeros((2,4)) # maybe change it to 1, 3\n",
    "def make_frequecy_df(zeroarray):\n",
    "    header_col = ['A', 'R', 'N', 'D', 'C', 'Q', 'E', 'G', 'H', 'I', 'L', 'K', 'M', 'F', 'P', 'S', 'T', 'W', 'Y', 'V']\n",
    "#     row_names = ['#R,H', '#R,E', '#R,C', '#R']\n",
    "#     freq_array = make_frequency_array(win_size)\n",
    "    freq_df = pd.DataFrame(data = zeroarray,  columns=header_col)\n",
    "    return freq_df\n",
    "    \n",
    "print(make_frequecy_df(R_H))"
   ]
  },
  {
   "cell_type": "code",
   "execution_count": 138,
   "metadata": {},
   "outputs": [
    {
     "ename": "SyntaxError",
     "evalue": "invalid syntax (<ipython-input-138-c23753ee0d8f>, line 14)",
     "output_type": "error",
     "traceback": [
      "\u001b[0;36m  File \u001b[0;32m\"<ipython-input-138-c23753ee0d8f>\"\u001b[0;36m, line \u001b[0;32m14\u001b[0m\n\u001b[0;31m    for i in range([-4:4]):\u001b[0m\n\u001b[0m                      ^\u001b[0m\n\u001b[0;31mSyntaxError\u001b[0m\u001b[0;31m:\u001b[0m invalid syntax\n"
     ]
    }
   ],
   "source": [
    "# row_names = ['#R,H', '#R,E', '#R,C', '#R']\n",
    "# # new = -1 0 1\n",
    "\n",
    "# win_adapted_row_names = []\n",
    "# for i in range(3):\n",
    "#     win_adapted_row_names += row_names[i]+str(i)\n",
    "    \n",
    "\n",
    "# print(win_adapted_row_names)\n",
    "\n",
    "negwin = (9//2)*-1\n",
    "poswin = 9//2\n",
    "indexes = []\n",
    "for i in range([-4:4]):\n",
    "    indexes += i\n",
    "\n",
    "print(indexes)    \n",
    "# print(negwin)\n",
    "# print(poswin)"
   ]
  },
  {
   "cell_type": "code",
   "execution_count": null,
   "metadata": {},
   "outputs": [],
   "source": [
    "r"
   ]
  },
  {
   "cell_type": "code",
   "execution_count": null,
   "metadata": {},
   "outputs": [],
   "source": [
    "0.0 0.0 0.0 0.0 0.0 0.0 0.0 0.0 0.0 0.0 0.0 1.0 0.0 0.0 0.0 0.0 0.0 0.0 0.0 0.0 \n",
    "0.0 0.0 0.0 0.0 0.0 0.0 0.0 0.0 0.21 0.0 0.0 0.0 0.0 0.24 0.0 0.0 0.0 0.0 0.55 0.0 \n",
    "0.0 0.0 0.78 0.22 0.0 0.0 0.0 0.0 0.0 0.0 0.0 0.0 0.0 0.0 0.0 0.0 0.0 0.0 0.0 0.0 \n",
    "0.0 0.0 0.0 0.0 0.0 0.0 0.0 0.0 0.0 0.21 0.22 0.0 0.0 0.0 0.0 0.0 0.0 0.0 0.0 0.57 \n",
    "0.0 0.56 0.0 0.0 0.0 0.0 0.0 0.0 0.22 0.0 0.0 0.22 0.0 0.0 0.0 0.0 0.0 0.0 0.0 0.0\n"
   ]
  }
 ],
 "metadata": {
  "kernelspec": {
   "display_name": "Python 3",
   "language": "python",
   "name": "python3"
  },
  "language_info": {
   "codemirror_mode": {
    "name": "ipython",
    "version": 3
   },
   "file_extension": ".py",
   "mimetype": "text/x-python",
   "name": "python",
   "nbconvert_exporter": "python",
   "pygments_lexer": "ipython3",
   "version": "3.7.2"
  }
 },
 "nbformat": 4,
 "nbformat_minor": 4
}
